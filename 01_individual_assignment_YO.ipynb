{
 "cells": [
  {
   "cell_type": "markdown",
   "id": "795860f2-eabf-40d1-954c-843dcf672a7d",
   "metadata": {},
   "source": [
    "# MGT-499 Statistics and Data Science - Individual Assignment"
   ]
  },
  {
   "cell_type": "code",
   "execution_count": 112,
   "id": "6a58faf4-db28-41c1-9e6d-ead96d328eab",
   "metadata": {},
   "outputs": [],
   "source": [
    "# Import here what you need\n",
    "import pandas as pd \n",
    "import matplotlib.pyplot as plt \n",
    "import plotly.express as px\n",
    "import numpy as np\n",
    "import seaborn as sns\n",
    "import os "
   ]
  },
  {
   "cell_type": "markdown",
   "id": "76e5761d-3238-4e69-951f-6fea4557ef41",
   "metadata": {},
   "source": [
    "This notebook contains the individual assignment for the class MGT-499 Statistics and Data Science. Important information:\n",
    "- **Content**: the assignment is divided in two main parts, namely data cleaning (2 datasets) and Exploratory Data Analysis, for a total of 13 main questions (see table of contents). Some of these main questions are divided in sub questions. In the first part, the questions are very specific, while in the second part they are more open.\n",
    "- **Deadline**: Tuesday 8th of November at 23:59. \n",
    "- **Final Output**: a Jupyter notebook, which we (teachers) can run. \n",
    "- **Answering the Questions**: you will find the questions in markdown cells below. Under each of these cells, you will find a cell / cells for answers. Type there your answer. For the answer to be correct, the cell with the answer must run without error (unless specified). You can use markdown cells for the answers that require text.\n",
    "- **Submission**: submit the assignment on Moodle, under [Individual Assignment](https://moodle.epfl.ch/mod/assign/view.php?id=1222846)"
   ]
  },
  {
   "cell_type": "markdown",
   "id": "91e43ccf-9ed6-44ea-8dd3-184cb9e7c499",
   "metadata": {
    "tags": []
   },
   "source": [
    "## Content\n",
    "- [Polity5 Dataset](#polity5)  \n",
    "    - [Question 1: Import the data and get a first glance](#question1)\n",
    "    - [Question 2: Select some variables](#question2)\n",
    "    - [Question 3: Missing Values](#question3)\n",
    "    - [Question 4: Check Polity2](#question4)\n",
    "- [Quality of Government (QOG) Environmental Indicators Dataset](#qog)  \n",
    "    - [Question 5: Import the data and do few fixes](#question5)\n",
    "    - [Question 6: Merge QOG and Polity5 ... first attempt](#question6)\n",
    "    - [Question 7: Merge QOG and Polity5 ... second attempt](#question7)\n",
    "    - [Question 8: Clean the merged dataframe](#question8)\n",
    "- [Exploratory Data Analysis](#eda)\n",
    "    - [Question 9: Selecting the ingredients for the recipe (how I select the variables)](#question9)  \n",
    "    - [Question 10: Picking the right quantity of each ingredient (how I select my sample)](#question10)\n",
    "    - [Question 11: Tasting and preparing the ingredients (univariate analysis)](#question11)\n",
    "    - [Question 12: Cooking the ingredients together (bivariate analysis)](#question12)\n",
    "    - [Question 13: Tasting the new recipe (conclusion)](#question13)"
   ]
  },
  {
   "cell_type": "markdown",
   "id": "4142f738-6239-4e12-9c65-fd27b4db73ca",
   "metadata": {
    "tags": []
   },
   "source": [
    "## Polity5 data <a class=\"anchor\" id=\"polity5\"></a>\n",
    "\n",
    "Polity5 is a widely used democracy scale. The raw data as well as the codebook are available [here](http://www.systemicpeace.org/inscrdata.html). For this assignment, we have modified a bit the original version, for example we have added the iso3 code for countries to make you save time. You can find the modified version [here](https://raw.githubusercontent.com/edoardochiarotti/class_datascience/main/Notebooks/Assignment/individual_assignment/data/polity2_iso3.csv)."
   ]
  },
  {
   "cell_type": "markdown",
   "id": "e903da7f-480e-4777-a4ef-9ab94b09e473",
   "metadata": {},
   "source": [
    "### Question 1: import the data and get a first glance <a class=\"anchor\" id=\"question1\"></a>"
   ]
  },
  {
   "cell_type": "markdown",
   "id": "187f6829-6c8f-451a-9670-4d1c7a103c12",
   "metadata": {},
   "source": [
    "1a) Import the csv 'polity2_iso3.csv' (file provided in the link [here](https://raw.githubusercontent.com/edoardochiarotti/class_datascience/main/Notebooks/Assignment/individual_assignment/data/polity2_iso3.csv)) as a panda dataframe (ignore the warning message) **(1 point)**"
   ]
  },
  {
   "cell_type": "code",
   "execution_count": 2,
   "id": "ee7e4014-e55c-4994-a633-61a8fdf1e855",
   "metadata": {},
   "outputs": [
    {
     "name": "stderr",
     "output_type": "stream",
     "text": [
      "/var/folders/cc/czpkhzl97cs9wqllnm6rjkrh0000gn/T/ipykernel_2661/1416980099.py:6: DtypeWarning: Columns (13,23,24,25,26,27,28,29,30,31,32,33,34,35,36,37) have mixed types. Specify dtype option on import or set low_memory=False.\n",
      "  df = pd.read_csv(url)\n"
     ]
    }
   ],
   "source": [
    "# Answer 1a\n",
    "\n",
    "\n",
    "url = \"https://raw.githubusercontent.com/edoardochiarotti/class_datascience/main/Notebooks/Assignment/individual_assignment/data/polity2_iso3.csv\"\n",
    "\n",
    "df = pd.read_csv(url)"
   ]
  },
  {
   "cell_type": "markdown",
   "id": "fd738c61-10ca-4439-8bcf-20e6987e3e5f",
   "metadata": {},
   "source": [
    "1b) Display the first 10 rows **(1 point)**"
   ]
  },
  {
   "cell_type": "code",
   "execution_count": 3,
   "id": "10544e0c-33b5-4b90-ad68-4cfe8d6c40b9",
   "metadata": {},
   "outputs": [
    {
     "data": {
      "text/html": [
       "<div>\n",
       "<style scoped>\n",
       "    .dataframe tbody tr th:only-of-type {\n",
       "        vertical-align: middle;\n",
       "    }\n",
       "\n",
       "    .dataframe tbody tr th {\n",
       "        vertical-align: top;\n",
       "    }\n",
       "\n",
       "    .dataframe thead th {\n",
       "        text-align: right;\n",
       "    }\n",
       "</style>\n",
       "<table border=\"1\" class=\"dataframe\">\n",
       "  <thead>\n",
       "    <tr style=\"text-align: right;\">\n",
       "      <th></th>\n",
       "      <th>iso3</th>\n",
       "      <th>year</th>\n",
       "      <th>p5</th>\n",
       "      <th>cyear</th>\n",
       "      <th>ccode</th>\n",
       "      <th>scode</th>\n",
       "      <th>country</th>\n",
       "      <th>flag</th>\n",
       "      <th>fragment</th>\n",
       "      <th>democ</th>\n",
       "      <th>...</th>\n",
       "      <th>interim</th>\n",
       "      <th>bmonth</th>\n",
       "      <th>bday</th>\n",
       "      <th>byear</th>\n",
       "      <th>bprec</th>\n",
       "      <th>post</th>\n",
       "      <th>change</th>\n",
       "      <th>d5</th>\n",
       "      <th>sf</th>\n",
       "      <th>regtrans</th>\n",
       "    </tr>\n",
       "  </thead>\n",
       "  <tbody>\n",
       "    <tr>\n",
       "      <th>0</th>\n",
       "      <td>NaN</td>\n",
       "      <td>1800</td>\n",
       "      <td>0</td>\n",
       "      <td>2711800</td>\n",
       "      <td>271</td>\n",
       "      <td>WRT</td>\n",
       "      <td>Wuerttemburg</td>\n",
       "      <td>0</td>\n",
       "      <td>NaN</td>\n",
       "      <td>0</td>\n",
       "      <td>...</td>\n",
       "      <td>NaN</td>\n",
       "      <td>1.0</td>\n",
       "      <td>1.0</td>\n",
       "      <td>1800.0</td>\n",
       "      <td>1.0</td>\n",
       "      <td>-7.0</td>\n",
       "      <td>88.0</td>\n",
       "      <td>1.0</td>\n",
       "      <td>NaN</td>\n",
       "      <td>NaN</td>\n",
       "    </tr>\n",
       "    <tr>\n",
       "      <th>1</th>\n",
       "      <td>NaN</td>\n",
       "      <td>1800</td>\n",
       "      <td>0</td>\n",
       "      <td>7301800</td>\n",
       "      <td>730</td>\n",
       "      <td>KOR</td>\n",
       "      <td>Korea</td>\n",
       "      <td>0</td>\n",
       "      <td>NaN</td>\n",
       "      <td>5</td>\n",
       "      <td>...</td>\n",
       "      <td>NaN</td>\n",
       "      <td>1.0</td>\n",
       "      <td>1.0</td>\n",
       "      <td>1800.0</td>\n",
       "      <td>1.0</td>\n",
       "      <td>1.0</td>\n",
       "      <td>88.0</td>\n",
       "      <td>1.0</td>\n",
       "      <td>NaN</td>\n",
       "      <td>NaN</td>\n",
       "    </tr>\n",
       "    <tr>\n",
       "      <th>2</th>\n",
       "      <td>NaN</td>\n",
       "      <td>1800</td>\n",
       "      <td>0</td>\n",
       "      <td>2451800</td>\n",
       "      <td>245</td>\n",
       "      <td>BAV</td>\n",
       "      <td>Bavaria</td>\n",
       "      <td>0</td>\n",
       "      <td>NaN</td>\n",
       "      <td>0</td>\n",
       "      <td>...</td>\n",
       "      <td>NaN</td>\n",
       "      <td>1.0</td>\n",
       "      <td>1.0</td>\n",
       "      <td>1800.0</td>\n",
       "      <td>1.0</td>\n",
       "      <td>-10.0</td>\n",
       "      <td>88.0</td>\n",
       "      <td>1.0</td>\n",
       "      <td>NaN</td>\n",
       "      <td>NaN</td>\n",
       "    </tr>\n",
       "    <tr>\n",
       "      <th>3</th>\n",
       "      <td>NaN</td>\n",
       "      <td>1801</td>\n",
       "      <td>0</td>\n",
       "      <td>7301801</td>\n",
       "      <td>730</td>\n",
       "      <td>KOR</td>\n",
       "      <td>Korea</td>\n",
       "      <td>0</td>\n",
       "      <td>NaN</td>\n",
       "      <td>5</td>\n",
       "      <td>...</td>\n",
       "      <td>NaN</td>\n",
       "      <td>NaN</td>\n",
       "      <td>NaN</td>\n",
       "      <td>NaN</td>\n",
       "      <td>NaN</td>\n",
       "      <td>NaN</td>\n",
       "      <td>NaN</td>\n",
       "      <td>NaN</td>\n",
       "      <td>NaN</td>\n",
       "      <td>NaN</td>\n",
       "    </tr>\n",
       "    <tr>\n",
       "      <th>4</th>\n",
       "      <td>NaN</td>\n",
       "      <td>1801</td>\n",
       "      <td>0</td>\n",
       "      <td>2711801</td>\n",
       "      <td>271</td>\n",
       "      <td>WRT</td>\n",
       "      <td>Wuerttemburg</td>\n",
       "      <td>0</td>\n",
       "      <td>NaN</td>\n",
       "      <td>0</td>\n",
       "      <td>...</td>\n",
       "      <td>NaN</td>\n",
       "      <td>NaN</td>\n",
       "      <td>NaN</td>\n",
       "      <td>NaN</td>\n",
       "      <td>NaN</td>\n",
       "      <td>NaN</td>\n",
       "      <td>NaN</td>\n",
       "      <td>NaN</td>\n",
       "      <td>NaN</td>\n",
       "      <td>NaN</td>\n",
       "    </tr>\n",
       "    <tr>\n",
       "      <th>5</th>\n",
       "      <td>NaN</td>\n",
       "      <td>1801</td>\n",
       "      <td>0</td>\n",
       "      <td>2451801</td>\n",
       "      <td>245</td>\n",
       "      <td>BAV</td>\n",
       "      <td>Bavaria</td>\n",
       "      <td>0</td>\n",
       "      <td>NaN</td>\n",
       "      <td>0</td>\n",
       "      <td>...</td>\n",
       "      <td>NaN</td>\n",
       "      <td>NaN</td>\n",
       "      <td>NaN</td>\n",
       "      <td>NaN</td>\n",
       "      <td>NaN</td>\n",
       "      <td>NaN</td>\n",
       "      <td>NaN</td>\n",
       "      <td>NaN</td>\n",
       "      <td>NaN</td>\n",
       "      <td>NaN</td>\n",
       "    </tr>\n",
       "    <tr>\n",
       "      <th>6</th>\n",
       "      <td>NaN</td>\n",
       "      <td>1802</td>\n",
       "      <td>0</td>\n",
       "      <td>7301802</td>\n",
       "      <td>730</td>\n",
       "      <td>KOR</td>\n",
       "      <td>Korea</td>\n",
       "      <td>0</td>\n",
       "      <td>NaN</td>\n",
       "      <td>5</td>\n",
       "      <td>...</td>\n",
       "      <td>NaN</td>\n",
       "      <td>NaN</td>\n",
       "      <td>NaN</td>\n",
       "      <td>NaN</td>\n",
       "      <td>NaN</td>\n",
       "      <td>NaN</td>\n",
       "      <td>NaN</td>\n",
       "      <td>NaN</td>\n",
       "      <td>NaN</td>\n",
       "      <td>NaN</td>\n",
       "    </tr>\n",
       "    <tr>\n",
       "      <th>7</th>\n",
       "      <td>NaN</td>\n",
       "      <td>1802</td>\n",
       "      <td>0</td>\n",
       "      <td>2711802</td>\n",
       "      <td>271</td>\n",
       "      <td>WRT</td>\n",
       "      <td>Wuerttemburg</td>\n",
       "      <td>0</td>\n",
       "      <td>NaN</td>\n",
       "      <td>0</td>\n",
       "      <td>...</td>\n",
       "      <td>NaN</td>\n",
       "      <td>NaN</td>\n",
       "      <td>NaN</td>\n",
       "      <td>NaN</td>\n",
       "      <td>NaN</td>\n",
       "      <td>NaN</td>\n",
       "      <td>NaN</td>\n",
       "      <td>NaN</td>\n",
       "      <td>NaN</td>\n",
       "      <td>NaN</td>\n",
       "    </tr>\n",
       "    <tr>\n",
       "      <th>8</th>\n",
       "      <td>NaN</td>\n",
       "      <td>1802</td>\n",
       "      <td>0</td>\n",
       "      <td>2451802</td>\n",
       "      <td>245</td>\n",
       "      <td>BAV</td>\n",
       "      <td>Bavaria</td>\n",
       "      <td>0</td>\n",
       "      <td>NaN</td>\n",
       "      <td>0</td>\n",
       "      <td>...</td>\n",
       "      <td>NaN</td>\n",
       "      <td>NaN</td>\n",
       "      <td>NaN</td>\n",
       "      <td>NaN</td>\n",
       "      <td>NaN</td>\n",
       "      <td>NaN</td>\n",
       "      <td>NaN</td>\n",
       "      <td>NaN</td>\n",
       "      <td>NaN</td>\n",
       "      <td>NaN</td>\n",
       "    </tr>\n",
       "    <tr>\n",
       "      <th>9</th>\n",
       "      <td>NaN</td>\n",
       "      <td>1803</td>\n",
       "      <td>0</td>\n",
       "      <td>7301803</td>\n",
       "      <td>730</td>\n",
       "      <td>KOR</td>\n",
       "      <td>Korea</td>\n",
       "      <td>0</td>\n",
       "      <td>NaN</td>\n",
       "      <td>5</td>\n",
       "      <td>...</td>\n",
       "      <td>NaN</td>\n",
       "      <td>NaN</td>\n",
       "      <td>NaN</td>\n",
       "      <td>NaN</td>\n",
       "      <td>NaN</td>\n",
       "      <td>NaN</td>\n",
       "      <td>NaN</td>\n",
       "      <td>NaN</td>\n",
       "      <td>NaN</td>\n",
       "      <td>NaN</td>\n",
       "    </tr>\n",
       "  </tbody>\n",
       "</table>\n",
       "<p>10 rows × 38 columns</p>\n",
       "</div>"
      ],
      "text/plain": [
       "  iso3  year  p5    cyear  ccode scode       country  flag  fragment  democ  \\\n",
       "0  NaN  1800   0  2711800    271   WRT  Wuerttemburg     0       NaN      0   \n",
       "1  NaN  1800   0  7301800    730   KOR         Korea     0       NaN      5   \n",
       "2  NaN  1800   0  2451800    245   BAV       Bavaria     0       NaN      0   \n",
       "3  NaN  1801   0  7301801    730   KOR         Korea     0       NaN      5   \n",
       "4  NaN  1801   0  2711801    271   WRT  Wuerttemburg     0       NaN      0   \n",
       "5  NaN  1801   0  2451801    245   BAV       Bavaria     0       NaN      0   \n",
       "6  NaN  1802   0  7301802    730   KOR         Korea     0       NaN      5   \n",
       "7  NaN  1802   0  2711802    271   WRT  Wuerttemburg     0       NaN      0   \n",
       "8  NaN  1802   0  2451802    245   BAV       Bavaria     0       NaN      0   \n",
       "9  NaN  1803   0  7301803    730   KOR         Korea     0       NaN      5   \n",
       "\n",
       "   ...  interim  bmonth  bday   byear  bprec  post  change   d5   sf  regtrans  \n",
       "0  ...      NaN     1.0   1.0  1800.0    1.0  -7.0    88.0  1.0  NaN       NaN  \n",
       "1  ...      NaN     1.0   1.0  1800.0    1.0   1.0    88.0  1.0  NaN       NaN  \n",
       "2  ...      NaN     1.0   1.0  1800.0    1.0 -10.0    88.0  1.0  NaN       NaN  \n",
       "3  ...      NaN     NaN   NaN     NaN    NaN   NaN     NaN  NaN  NaN       NaN  \n",
       "4  ...      NaN     NaN   NaN     NaN    NaN   NaN     NaN  NaN  NaN       NaN  \n",
       "5  ...      NaN     NaN   NaN     NaN    NaN   NaN     NaN  NaN  NaN       NaN  \n",
       "6  ...      NaN     NaN   NaN     NaN    NaN   NaN     NaN  NaN  NaN       NaN  \n",
       "7  ...      NaN     NaN   NaN     NaN    NaN   NaN     NaN  NaN  NaN       NaN  \n",
       "8  ...      NaN     NaN   NaN     NaN    NaN   NaN     NaN  NaN  NaN       NaN  \n",
       "9  ...      NaN     NaN   NaN     NaN    NaN   NaN     NaN  NaN  NaN       NaN  \n",
       "\n",
       "[10 rows x 38 columns]"
      ]
     },
     "execution_count": 3,
     "metadata": {},
     "output_type": "execute_result"
    }
   ],
   "source": [
    "# Answer 1b\n",
    "df.loc[0:9]"
   ]
  },
  {
   "cell_type": "markdown",
   "id": "a6decfca-afb8-4c77-881c-8fb78d96e68d",
   "metadata": {},
   "source": [
    "1c) Display the data types of all the variables included in the data **(1 point)**"
   ]
  },
  {
   "cell_type": "code",
   "execution_count": 4,
   "id": "aa768541-03f9-424a-a690-d6132298f36a",
   "metadata": {},
   "outputs": [
    {
     "data": {
      "text/plain": [
       "iso3         object\n",
       "year          int64\n",
       "p5            int64\n",
       "cyear         int64\n",
       "ccode         int64\n",
       "scode        object\n",
       "country      object\n",
       "flag          int64\n",
       "fragment    float64\n",
       "democ         int64\n",
       "autoc         int64\n",
       "polity        int64\n",
       "polity2     float64\n",
       "durable      object\n",
       "xrreg         int64\n",
       "xrcomp        int64\n",
       "xropen        int64\n",
       "xconst        int64\n",
       "parreg        int64\n",
       "parcomp       int64\n",
       "exrec       float64\n",
       "exconst       int64\n",
       "polcomp     float64\n",
       "prior        object\n",
       "emonth       object\n",
       "eday         object\n",
       "eyear        object\n",
       "eprec        object\n",
       "interim      object\n",
       "bmonth       object\n",
       "bday         object\n",
       "byear        object\n",
       "bprec        object\n",
       "post         object\n",
       "change       object\n",
       "d5           object\n",
       "sf           object\n",
       "regtrans     object\n",
       "dtype: object"
      ]
     },
     "execution_count": 4,
     "metadata": {},
     "output_type": "execute_result"
    }
   ],
   "source": [
    "# Answer 1c\n",
    "df.dtypes"
   ]
  },
  {
   "cell_type": "markdown",
   "id": "312ee31a-7cc9-44d2-b7f8-242f6ee5ebfc",
   "metadata": {},
   "source": [
    "1d) By looking at your answer in 1c, what is the difference between the different types of variables? Why the type of some variables is defined as object? **(1 point)**"
   ]
  },
  {
   "cell_type": "markdown",
   "id": "9a8f32cb",
   "metadata": {},
   "source": [
    "Some variables are strings and thus defined as object.\n",
    "\n"
   ]
  },
  {
   "cell_type": "markdown",
   "id": "5bfba84f-b897-4fcb-880d-9d8995045239",
   "metadata": {},
   "source": [
    "### Question 2. Select some variables <a class=\"anchor\" id=\"question2\"></a>"
   ]
  },
  {
   "cell_type": "markdown",
   "id": "09a9776a-26ed-4154-af73-0e2b337e9e74",
   "metadata": {},
   "source": [
    "2a) Create a subset dataframe that contains the variables 'iso3', 'country', 'year', 'polity2' and display it **(1 point)**"
   ]
  },
  {
   "cell_type": "code",
   "execution_count": 5,
   "id": "b3bd0a39-386d-4397-93eb-8eb7e0415a7b",
   "metadata": {},
   "outputs": [
    {
     "data": {
      "text/html": [
       "<div>\n",
       "<style scoped>\n",
       "    .dataframe tbody tr th:only-of-type {\n",
       "        vertical-align: middle;\n",
       "    }\n",
       "\n",
       "    .dataframe tbody tr th {\n",
       "        vertical-align: top;\n",
       "    }\n",
       "\n",
       "    .dataframe thead th {\n",
       "        text-align: right;\n",
       "    }\n",
       "</style>\n",
       "<table border=\"1\" class=\"dataframe\">\n",
       "  <thead>\n",
       "    <tr style=\"text-align: right;\">\n",
       "      <th></th>\n",
       "      <th>iso3</th>\n",
       "      <th>country</th>\n",
       "      <th>year</th>\n",
       "      <th>polity2</th>\n",
       "    </tr>\n",
       "  </thead>\n",
       "  <tbody>\n",
       "    <tr>\n",
       "      <th>0</th>\n",
       "      <td>NaN</td>\n",
       "      <td>Wuerttemburg</td>\n",
       "      <td>1800</td>\n",
       "      <td>-7.0</td>\n",
       "    </tr>\n",
       "    <tr>\n",
       "      <th>1</th>\n",
       "      <td>NaN</td>\n",
       "      <td>Korea</td>\n",
       "      <td>1800</td>\n",
       "      <td>1.0</td>\n",
       "    </tr>\n",
       "    <tr>\n",
       "      <th>2</th>\n",
       "      <td>NaN</td>\n",
       "      <td>Bavaria</td>\n",
       "      <td>1800</td>\n",
       "      <td>-10.0</td>\n",
       "    </tr>\n",
       "    <tr>\n",
       "      <th>3</th>\n",
       "      <td>NaN</td>\n",
       "      <td>Korea</td>\n",
       "      <td>1801</td>\n",
       "      <td>1.0</td>\n",
       "    </tr>\n",
       "    <tr>\n",
       "      <th>4</th>\n",
       "      <td>NaN</td>\n",
       "      <td>Wuerttemburg</td>\n",
       "      <td>1801</td>\n",
       "      <td>-7.0</td>\n",
       "    </tr>\n",
       "    <tr>\n",
       "      <th>...</th>\n",
       "      <td>...</td>\n",
       "      <td>...</td>\n",
       "      <td>...</td>\n",
       "      <td>...</td>\n",
       "    </tr>\n",
       "    <tr>\n",
       "      <th>17569</th>\n",
       "      <td>ZWE</td>\n",
       "      <td>Zimbabwe</td>\n",
       "      <td>2014</td>\n",
       "      <td>4.0</td>\n",
       "    </tr>\n",
       "    <tr>\n",
       "      <th>17570</th>\n",
       "      <td>ZWE</td>\n",
       "      <td>Zimbabwe</td>\n",
       "      <td>2015</td>\n",
       "      <td>4.0</td>\n",
       "    </tr>\n",
       "    <tr>\n",
       "      <th>17571</th>\n",
       "      <td>ZWE</td>\n",
       "      <td>Zimbabwe</td>\n",
       "      <td>2016</td>\n",
       "      <td>4.0</td>\n",
       "    </tr>\n",
       "    <tr>\n",
       "      <th>17572</th>\n",
       "      <td>ZWE</td>\n",
       "      <td>Zimbabwe</td>\n",
       "      <td>2017</td>\n",
       "      <td>4.0</td>\n",
       "    </tr>\n",
       "    <tr>\n",
       "      <th>17573</th>\n",
       "      <td>ZWE</td>\n",
       "      <td>Zimbabwe</td>\n",
       "      <td>2018</td>\n",
       "      <td>4.0</td>\n",
       "    </tr>\n",
       "  </tbody>\n",
       "</table>\n",
       "<p>17574 rows × 4 columns</p>\n",
       "</div>"
      ],
      "text/plain": [
       "      iso3       country  year  polity2\n",
       "0      NaN  Wuerttemburg  1800     -7.0\n",
       "1      NaN         Korea  1800      1.0\n",
       "2      NaN       Bavaria  1800    -10.0\n",
       "3      NaN         Korea  1801      1.0\n",
       "4      NaN  Wuerttemburg  1801     -7.0\n",
       "...    ...           ...   ...      ...\n",
       "17569  ZWE      Zimbabwe  2014      4.0\n",
       "17570  ZWE      Zimbabwe  2015      4.0\n",
       "17571  ZWE      Zimbabwe  2016      4.0\n",
       "17572  ZWE      Zimbabwe  2017      4.0\n",
       "17573  ZWE      Zimbabwe  2018      4.0\n",
       "\n",
       "[17574 rows x 4 columns]"
      ]
     },
     "metadata": {},
     "output_type": "display_data"
    }
   ],
   "source": [
    "# Answer 2a\n",
    "subdf = df.loc[0:,('iso3','country','year','polity2')]\n",
    "display(subdf)"
   ]
  },
  {
   "cell_type": "markdown",
   "id": "8bd4883d-8f9e-4b1f-9ce4-c62267090287",
   "metadata": {},
   "source": [
    "2b) Display the type of the variable \"year\" **(1 point)**"
   ]
  },
  {
   "cell_type": "code",
   "execution_count": 6,
   "id": "d0dc6b73-70d9-42c0-9cd1-716033325a43",
   "metadata": {},
   "outputs": [
    {
     "data": {
      "text/plain": [
       "dtype('int64')"
      ]
     },
     "execution_count": 6,
     "metadata": {},
     "output_type": "execute_result"
    }
   ],
   "source": [
    "# Answer 2b\n",
    "subdf.year.dtype\n"
   ]
  },
  {
   "cell_type": "markdown",
   "id": "c639b2d3-b5e6-40f3-93c9-6547bcdcb814",
   "metadata": {},
   "source": [
    "2c) Convert the variable \"year\" to string **(1 point)**\n",
    "<br>\n",
    "Hint: if you get a warning message of the type \"SettingWithCopyWarning\", it is because you did not subset the data in the right way. Go back to your class notes and check the different ways to subset a dataframe, and try again. If you do it correctly, you will not get the warning message."
   ]
  },
  {
   "cell_type": "code",
   "execution_count": 7,
   "id": "914d8f60-9875-40be-9f78-0c7c2837a104",
   "metadata": {},
   "outputs": [
    {
     "data": {
      "text/plain": [
       "iso3        object\n",
       "country     object\n",
       "year        object\n",
       "polity2    float64\n",
       "dtype: object"
      ]
     },
     "execution_count": 7,
     "metadata": {},
     "output_type": "execute_result"
    }
   ],
   "source": [
    "# Answer 2c\n",
    "subdf['year'] = subdf['year'].apply(str)\n",
    "subdf.dtypes"
   ]
  },
  {
   "cell_type": "markdown",
   "id": "1e0babf3-0e33-4e13-9289-523ecef5e004",
   "metadata": {},
   "source": [
    "### Question 3: Missing Values <a class=\"anchor\" id=\"question3\"></a>"
   ]
  },
  {
   "cell_type": "markdown",
   "id": "9bb19a0f-bd7c-4d9c-bdfa-05e55e4eb26f",
   "metadata": {},
   "source": [
    "3a) Subset the rows that have iso3 missing and display **(1 point)**"
   ]
  },
  {
   "cell_type": "code",
   "execution_count": 8,
   "id": "7eb48bb3-a92a-4565-8a5c-f22f642f2661",
   "metadata": {},
   "outputs": [
    {
     "data": {
      "text/html": [
       "<div>\n",
       "<style scoped>\n",
       "    .dataframe tbody tr th:only-of-type {\n",
       "        vertical-align: middle;\n",
       "    }\n",
       "\n",
       "    .dataframe tbody tr th {\n",
       "        vertical-align: top;\n",
       "    }\n",
       "\n",
       "    .dataframe thead th {\n",
       "        text-align: right;\n",
       "    }\n",
       "</style>\n",
       "<table border=\"1\" class=\"dataframe\">\n",
       "  <thead>\n",
       "    <tr style=\"text-align: right;\">\n",
       "      <th></th>\n",
       "      <th>iso3</th>\n",
       "      <th>country</th>\n",
       "      <th>year</th>\n",
       "      <th>polity2</th>\n",
       "    </tr>\n",
       "  </thead>\n",
       "  <tbody>\n",
       "    <tr>\n",
       "      <th>0</th>\n",
       "      <td>NaN</td>\n",
       "      <td>Wuerttemburg</td>\n",
       "      <td>1800</td>\n",
       "      <td>-7.0</td>\n",
       "    </tr>\n",
       "    <tr>\n",
       "      <th>1</th>\n",
       "      <td>NaN</td>\n",
       "      <td>Korea</td>\n",
       "      <td>1800</td>\n",
       "      <td>1.0</td>\n",
       "    </tr>\n",
       "    <tr>\n",
       "      <th>2</th>\n",
       "      <td>NaN</td>\n",
       "      <td>Bavaria</td>\n",
       "      <td>1800</td>\n",
       "      <td>-10.0</td>\n",
       "    </tr>\n",
       "    <tr>\n",
       "      <th>3</th>\n",
       "      <td>NaN</td>\n",
       "      <td>Korea</td>\n",
       "      <td>1801</td>\n",
       "      <td>1.0</td>\n",
       "    </tr>\n",
       "    <tr>\n",
       "      <th>4</th>\n",
       "      <td>NaN</td>\n",
       "      <td>Wuerttemburg</td>\n",
       "      <td>1801</td>\n",
       "      <td>-7.0</td>\n",
       "    </tr>\n",
       "    <tr>\n",
       "      <th>...</th>\n",
       "      <td>...</td>\n",
       "      <td>...</td>\n",
       "      <td>...</td>\n",
       "      <td>...</td>\n",
       "    </tr>\n",
       "    <tr>\n",
       "      <th>1272</th>\n",
       "      <td>NaN</td>\n",
       "      <td>Montenegro</td>\n",
       "      <td>2018</td>\n",
       "      <td>9.0</td>\n",
       "    </tr>\n",
       "    <tr>\n",
       "      <th>1273</th>\n",
       "      <td>NaN</td>\n",
       "      <td>Sudan-North</td>\n",
       "      <td>2018</td>\n",
       "      <td>-4.0</td>\n",
       "    </tr>\n",
       "    <tr>\n",
       "      <th>1274</th>\n",
       "      <td>NaN</td>\n",
       "      <td>Vietnam</td>\n",
       "      <td>2018</td>\n",
       "      <td>-7.0</td>\n",
       "    </tr>\n",
       "    <tr>\n",
       "      <th>1275</th>\n",
       "      <td>NaN</td>\n",
       "      <td>Ethiopia</td>\n",
       "      <td>2018</td>\n",
       "      <td>1.0</td>\n",
       "    </tr>\n",
       "    <tr>\n",
       "      <th>1276</th>\n",
       "      <td>NaN</td>\n",
       "      <td>Serbia</td>\n",
       "      <td>2018</td>\n",
       "      <td>8.0</td>\n",
       "    </tr>\n",
       "  </tbody>\n",
       "</table>\n",
       "<p>1270 rows × 4 columns</p>\n",
       "</div>"
      ],
      "text/plain": [
       "     iso3       country  year  polity2\n",
       "0     NaN  Wuerttemburg  1800     -7.0\n",
       "1     NaN         Korea  1800      1.0\n",
       "2     NaN       Bavaria  1800    -10.0\n",
       "3     NaN         Korea  1801      1.0\n",
       "4     NaN  Wuerttemburg  1801     -7.0\n",
       "...   ...           ...   ...      ...\n",
       "1272  NaN    Montenegro  2018      9.0\n",
       "1273  NaN   Sudan-North  2018     -4.0\n",
       "1274  NaN       Vietnam  2018     -7.0\n",
       "1275  NaN      Ethiopia  2018      1.0\n",
       "1276  NaN        Serbia  2018      8.0\n",
       "\n",
       "[1270 rows x 4 columns]"
      ]
     },
     "execution_count": 8,
     "metadata": {},
     "output_type": "execute_result"
    }
   ],
   "source": [
    "# Answer 3a\n",
    "\n",
    "df_missing = subdf[subdf['iso3'].isna() == True]\n",
    "\n",
    "df_missing"
   ]
  },
  {
   "cell_type": "markdown",
   "id": "8f4b352b-c860-4b2c-bca3-5437c2bbaf23",
   "metadata": {},
   "source": [
    "3b) Display the countries that have missing iso3. What can you tell by looking at them? Any similarities? **(1 point)**"
   ]
  },
  {
   "cell_type": "code",
   "execution_count": 9,
   "id": "b7e9760a-a4a6-4826-b377-49ff300662f0",
   "metadata": {},
   "outputs": [
    {
     "data": {
      "text/plain": [
       "array(['Wuerttemburg', 'Korea', 'Bavaria', 'Saxony', 'Parma', 'Tuscany',\n",
       "       'Sardinia', 'Modena', 'Two Sicilies', 'Baden', 'Gran Colombia',\n",
       "       'United Province CA', 'Serbia', 'Orange Free State', 'Yemen North',\n",
       "       'Czechoslovakia', 'USSR', 'Germany West', 'Germany East',\n",
       "       'Pakistan', 'South Vietnam', 'Yemen South', 'Vietnam',\n",
       "       'Yugoslavia', 'Ethiopia', 'Serbia and Montenegro', 'Montenegro',\n",
       "       'Sudan-North'], dtype=object)"
      ]
     },
     "execution_count": 9,
     "metadata": {},
     "output_type": "execute_result"
    }
   ],
   "source": [
    "# Answer 3b We can say that the majority of these \"countries\" are no more countries nowadays. \n",
    "# Some of them separated into 2 different countries (Serbia and Montenegro) and others reunited (Germany)\n",
    "\n",
    "df_missing['country'].unique()\n"
   ]
  },
  {
   "cell_type": "markdown",
   "id": "4a41b9a2-2c70-41c6-b891-95e01f2a74a5",
   "metadata": {},
   "source": [
    "3c) Display the countries with missing iso3 from 2011. **(1 point)**"
   ]
  },
  {
   "cell_type": "code",
   "execution_count": 10,
   "id": "b408fff2-6493-4dff-9294-ef1c564315fb",
   "metadata": {},
   "outputs": [
    {
     "data": {
      "text/plain": [
       "array(['Montenegro', 'Serbia', 'Ethiopia', 'Sudan-North', 'Vietnam'],\n",
       "      dtype=object)"
      ]
     },
     "execution_count": 10,
     "metadata": {},
     "output_type": "execute_result"
    }
   ],
   "source": [
    "# Answer 3c\n",
    "\n",
    "df_missing.loc[(df_missing['year'] > '2010')]['country'].unique()\n"
   ]
  },
  {
   "cell_type": "markdown",
   "id": "0fd9a6b6-2151-4c5e-8a8a-ea9810905642",
   "metadata": {},
   "source": [
    "3d) Display the rows for which the column \"country\" contains the word \"Serbia\". By looking at the result, can you tell what happened to Serbia in 2006? **(1 point)**\n",
    "<br>\n",
    "Hint: the most general way of doing this is to use a combination of re.search and list comprehension. To display the full subset, you can use print(df.to_string())."
   ]
  },
  {
   "cell_type": "code",
   "execution_count": 11,
   "id": "a953ca64-d67b-4c94-8df6-5077efa68814",
   "metadata": {},
   "outputs": [
    {
     "name": "stdout",
     "output_type": "stream",
     "text": [
      "     iso3                country  year  polity2\n",
      "224   NaN                 Serbia  1830     -7.0\n",
      "230   NaN                 Serbia  1831     -7.0\n",
      "252   NaN                 Serbia  1832     -7.0\n",
      "261   NaN                 Serbia  1833     -7.0\n",
      "272   NaN                 Serbia  1834     -7.0\n",
      "286   NaN                 Serbia  1835     -7.0\n",
      "295   NaN                 Serbia  1836     -7.0\n",
      "301   NaN                 Serbia  1837     -7.0\n",
      "318   NaN                 Serbia  1838      2.0\n",
      "333   NaN                 Serbia  1839      2.0\n",
      "344   NaN                 Serbia  1840      2.0\n",
      "357   NaN                 Serbia  1841      2.0\n",
      "363   NaN                 Serbia  1842      2.0\n",
      "369   NaN                 Serbia  1843      2.0\n",
      "387   NaN                 Serbia  1844      2.0\n",
      "394   NaN                 Serbia  1845      2.0\n",
      "410   NaN                 Serbia  1846      2.0\n",
      "420   NaN                 Serbia  1847      2.0\n",
      "429   NaN                 Serbia  1848      2.0\n",
      "439   NaN                 Serbia  1849      2.0\n",
      "450   NaN                 Serbia  1850      2.0\n",
      "467   NaN                 Serbia  1851      2.0\n",
      "475   NaN                 Serbia  1852      2.0\n",
      "482   NaN                 Serbia  1853      2.0\n",
      "492   NaN                 Serbia  1854      2.0\n",
      "502   NaN                 Serbia  1855      2.0\n",
      "523   NaN                 Serbia  1856      2.0\n",
      "533   NaN                 Serbia  1857      2.0\n",
      "542   NaN                 Serbia  1858     -9.0\n",
      "553   NaN                 Serbia  1859     -9.0\n",
      "572   NaN                 Serbia  1860     -4.0\n",
      "575   NaN                 Serbia  1861      0.0\n",
      "583   NaN                 Serbia  1862      0.0\n",
      "593   NaN                 Serbia  1863      0.0\n",
      "601   NaN                 Serbia  1864      0.0\n",
      "608   NaN                 Serbia  1865      0.0\n",
      "611   NaN                 Serbia  1866      0.0\n",
      "623   NaN                 Serbia  1867      0.0\n",
      "628   NaN                 Serbia  1868     -3.0\n",
      "637   NaN                 Serbia  1869     -5.0\n",
      "642   NaN                 Serbia  1870     -5.0\n",
      "651   NaN                 Serbia  1871     -5.0\n",
      "652   NaN                 Serbia  1872     -5.0\n",
      "657   NaN                 Serbia  1873     -5.0\n",
      "660   NaN                 Serbia  1874     -5.0\n",
      "663   NaN                 Serbia  1875     -5.0\n",
      "665   NaN                 Serbia  1876     -5.0\n",
      "669   NaN                 Serbia  1877     -5.0\n",
      "671   NaN                 Serbia  1878     -5.0\n",
      "673   NaN                 Serbia  1879     -5.0\n",
      "676   NaN                 Serbia  1880     -5.0\n",
      "680   NaN                 Serbia  1881     -5.0\n",
      "684   NaN                 Serbia  1882     -5.0\n",
      "686   NaN                 Serbia  1883     -5.0\n",
      "690   NaN                 Serbia  1884     -5.0\n",
      "693   NaN                 Serbia  1885     -5.0\n",
      "694   NaN                 Serbia  1886     -5.0\n",
      "697   NaN                 Serbia  1887     -5.0\n",
      "700   NaN                 Serbia  1888     -5.0\n",
      "704   NaN                 Serbia  1889     -5.0\n",
      "708   NaN                 Serbia  1890     -5.0\n",
      "709   NaN                 Serbia  1891     -5.0\n",
      "714   NaN                 Serbia  1892     -5.0\n",
      "715   NaN                 Serbia  1893     -5.0\n",
      "718   NaN                 Serbia  1894     -5.0\n",
      "722   NaN                 Serbia  1895     -5.0\n",
      "724   NaN                 Serbia  1896     -5.0\n",
      "729   NaN                 Serbia  1897     -5.0\n",
      "730   NaN                 Serbia  1898     -5.0\n",
      "733   NaN                 Serbia  1899     -5.0\n",
      "737   NaN                 Serbia  1900     -5.0\n",
      "739   NaN                 Serbia  1901     -5.0\n",
      "743   NaN                 Serbia  1902     -5.0\n",
      "745   NaN                 Serbia  1903      4.0\n",
      "748   NaN                 Serbia  1904      4.0\n",
      "749   NaN                 Serbia  1905      4.0\n",
      "751   NaN                 Serbia  1906      4.0\n",
      "753   NaN                 Serbia  1907      4.0\n",
      "755   NaN                 Serbia  1908      4.0\n",
      "758   NaN                 Serbia  1909      4.0\n",
      "759   NaN                 Serbia  1910      4.0\n",
      "761   NaN                 Serbia  1911      4.0\n",
      "762   NaN                 Serbia  1912      4.0\n",
      "763   NaN                 Serbia  1913      4.0\n",
      "764   NaN                 Serbia  1914      4.0\n",
      "765   NaN                 Serbia  1915      NaN\n",
      "766   NaN                 Serbia  1916      NaN\n",
      "767   NaN                 Serbia  1917      4.0\n",
      "769   NaN                 Serbia  1918      5.0\n",
      "773   NaN                 Serbia  1919      6.0\n",
      "774   NaN                 Serbia  1920      7.0\n",
      "1201  NaN  Serbia and Montenegro  2003      6.0\n",
      "1205  NaN  Serbia and Montenegro  2004      6.0\n",
      "1207  NaN  Serbia and Montenegro  2005      6.0\n",
      "1212  NaN  Serbia and Montenegro  2006      6.0\n",
      "1213  NaN                 Serbia  2006      8.0\n",
      "1217  NaN                 Serbia  2007      8.0\n",
      "1218  NaN                 Serbia  2008      8.0\n",
      "1224  NaN                 Serbia  2009      8.0\n",
      "1228  NaN                 Serbia  2010      8.0\n",
      "1231  NaN                 Serbia  2011      8.0\n",
      "1238  NaN                 Serbia  2012      8.0\n",
      "1247  NaN                 Serbia  2013      8.0\n",
      "1248  NaN                 Serbia  2014      8.0\n",
      "1254  NaN                 Serbia  2015      8.0\n",
      "1263  NaN                 Serbia  2016      8.0\n",
      "1269  NaN                 Serbia  2017      8.0\n",
      "1276  NaN                 Serbia  2018      8.0\n"
     ]
    }
   ],
   "source": [
    "# Answer 3d : In 2006 took place the referendum on the independence of Montenegro and thus its separation with Serbia\n",
    "\n",
    "df_Serbia = subdf.loc[subdf['country'].str.contains('Serbia', regex=False)]\n",
    "print(df_Serbia.to_string())\n",
    "\n",
    "\n",
    "\n",
    "\n"
   ]
  },
  {
   "cell_type": "markdown",
   "id": "850dd97b-0aaa-4bca-affb-22f3c0ca387c",
   "metadata": {},
   "source": [
    "3e) Write a function that does the operation in 3d and use it to display the subset that has the word \"sudan\" (all lower cap) in country. Then do the same for the word \"vietnam\" (all lower cap). **(1 point)**\n",
    "<br>\n",
    "Hint: options of functions can be very useful."
   ]
  },
  {
   "cell_type": "code",
   "execution_count": 12,
   "id": "3217b330-72ef-4d38-8a66-1849d12f7dc2",
   "metadata": {},
   "outputs": [
    {
     "name": "stdout",
     "output_type": "stream",
     "text": [
      "      iso3      country  year  polity2\n",
      "1232   SSD  South Sudan  2011      0.0\n",
      "1234   NaN  Sudan-North  2011     -4.0\n",
      "1237   SSD  South Sudan  2012      0.0\n",
      "1241   NaN  Sudan-North  2012     -4.0\n",
      "1244   NaN  Sudan-North  2013     -4.0\n",
      "1246   SSD  South Sudan  2013      0.0\n",
      "1250   SSD  South Sudan  2014      0.0\n",
      "1252   NaN  Sudan-North  2014     -4.0\n",
      "1256   NaN  Sudan-North  2015     -4.0\n",
      "1257   SSD  South Sudan  2015      0.0\n",
      "1261   SSD  South Sudan  2016      0.0\n",
      "1262   NaN  Sudan-North  2016     -4.0\n",
      "1267   SSD  South Sudan  2017      0.0\n",
      "1270   NaN  Sudan-North  2017     -4.0\n",
      "1273   NaN  Sudan-North  2018     -4.0\n",
      "1277   SSD  South Sudan  2018      0.0\n",
      "14631  SDN        Sudan  1956      7.0\n",
      "14632  SDN        Sudan  1957      7.0\n",
      "14633  SDN        Sudan  1958     -7.0\n",
      "14634  SDN        Sudan  1959     -7.0\n",
      "14635  SDN        Sudan  1960     -7.0\n",
      "14636  SDN        Sudan  1961     -7.0\n",
      "14637  SDN        Sudan  1962     -7.0\n",
      "14638  SDN        Sudan  1963     -4.0\n",
      "14639  SDN        Sudan  1964      1.0\n",
      "14640  SDN        Sudan  1965      6.0\n",
      "14641  SDN        Sudan  1966      6.0\n",
      "14642  SDN        Sudan  1967      6.0\n",
      "14643  SDN        Sudan  1968      6.0\n",
      "14644  SDN        Sudan  1969     -6.0\n",
      "14645  SDN        Sudan  1970     -6.0\n",
      "14646  SDN        Sudan  1971     -7.0\n",
      "14647  SDN        Sudan  1972     -7.0\n",
      "14648  SDN        Sudan  1973     -6.0\n",
      "14649  SDN        Sudan  1974     -6.0\n",
      "14650  SDN        Sudan  1975     -6.0\n",
      "14651  SDN        Sudan  1976     -6.0\n",
      "14652  SDN        Sudan  1977     -6.0\n",
      "14653  SDN        Sudan  1978     -6.0\n",
      "14654  SDN        Sudan  1979     -6.0\n",
      "14655  SDN        Sudan  1980     -6.0\n",
      "14656  SDN        Sudan  1981     -6.0\n",
      "14657  SDN        Sudan  1982     -6.0\n",
      "14658  SDN        Sudan  1983     -6.0\n",
      "14659  SDN        Sudan  1984     -6.0\n",
      "14660  SDN        Sudan  1985     -3.0\n",
      "14661  SDN        Sudan  1986      7.0\n",
      "14662  SDN        Sudan  1987      7.0\n",
      "14663  SDN        Sudan  1988      7.0\n",
      "14664  SDN        Sudan  1989     -7.0\n",
      "14665  SDN        Sudan  1990     -7.0\n",
      "14666  SDN        Sudan  1991     -7.0\n",
      "14667  SDN        Sudan  1992     -7.0\n",
      "14668  SDN        Sudan  1993     -7.0\n",
      "14669  SDN        Sudan  1994     -7.0\n",
      "14670  SDN        Sudan  1995     -7.0\n",
      "14671  SDN        Sudan  1996     -7.0\n",
      "14672  SDN        Sudan  1997     -7.0\n",
      "14673  SDN        Sudan  1998     -7.0\n",
      "14674  SDN        Sudan  1999     -6.0\n",
      "14675  SDN        Sudan  2000     -6.0\n",
      "14676  SDN        Sudan  2001     -6.0\n",
      "14677  SDN        Sudan  2002     -6.0\n",
      "14678  SDN        Sudan  2003     -6.0\n",
      "14679  SDN        Sudan  2004     -6.0\n",
      "14680  SDN        Sudan  2005     -3.0\n",
      "14681  SDN        Sudan  2006     -3.0\n",
      "14682  SDN        Sudan  2007     -3.0\n",
      "14683  SDN        Sudan  2008     -3.0\n",
      "14684  SDN        Sudan  2009     -3.0\n",
      "14685  SDN        Sudan  2010     -2.0\n",
      "14686  SDN        Sudan  2011     -2.0\n",
      "      iso3        country  year  polity2\n",
      "912    NaN  South Vietnam  1955     -3.0\n",
      "917    NaN  South Vietnam  1956     -3.0\n",
      "921    NaN  South Vietnam  1957     -3.0\n",
      "928    NaN  South Vietnam  1958     -3.0\n",
      "936    NaN  South Vietnam  1959     -3.0\n",
      "945    NaN  South Vietnam  1960     -3.0\n",
      "949    NaN  South Vietnam  1961     -3.0\n",
      "955    NaN  South Vietnam  1962     -3.0\n",
      "964    NaN  South Vietnam  1963     -3.0\n",
      "974    NaN  South Vietnam  1964     -3.0\n",
      "976    NaN  South Vietnam  1965      NaN\n",
      "986    NaN  South Vietnam  1966      NaN\n",
      "992    NaN  South Vietnam  1967      NaN\n",
      "1000   NaN  South Vietnam  1968      NaN\n",
      "1011   NaN  South Vietnam  1969      NaN\n",
      "1021   NaN  South Vietnam  1970      NaN\n",
      "1023   NaN  South Vietnam  1971      NaN\n",
      "1031   NaN  South Vietnam  1972      NaN\n",
      "1039   NaN  South Vietnam  1973      0.0\n",
      "1046   NaN  South Vietnam  1974      0.0\n",
      "1053   NaN  South Vietnam  1975      0.0\n",
      "1058   NaN        Vietnam  1976     -7.0\n",
      "1071   NaN        Vietnam  1977     -7.0\n",
      "1075   NaN        Vietnam  1978     -7.0\n",
      "1081   NaN        Vietnam  1979     -7.0\n",
      "1092   NaN        Vietnam  1980     -7.0\n",
      "1096   NaN        Vietnam  1981     -7.0\n",
      "1105   NaN        Vietnam  1982     -7.0\n",
      "1113   NaN        Vietnam  1983     -7.0\n",
      "1115   NaN        Vietnam  1984     -7.0\n",
      "1125   NaN        Vietnam  1985     -7.0\n",
      "1130   NaN        Vietnam  1986     -7.0\n",
      "1137   NaN        Vietnam  1987     -7.0\n",
      "1145   NaN        Vietnam  1988     -7.0\n",
      "1151   NaN        Vietnam  1989     -7.0\n",
      "1162   NaN        Vietnam  1990     -7.0\n",
      "1164   NaN        Vietnam  1991     -7.0\n",
      "1167   NaN        Vietnam  1992     -7.0\n",
      "1171   NaN        Vietnam  1993     -7.0\n",
      "1175   NaN        Vietnam  1994     -7.0\n",
      "1176   NaN        Vietnam  1995     -7.0\n",
      "1180   NaN        Vietnam  1996     -7.0\n",
      "1182   NaN        Vietnam  1997     -7.0\n",
      "1185   NaN        Vietnam  1998     -7.0\n",
      "1190   NaN        Vietnam  1999     -7.0\n",
      "1191   NaN        Vietnam  2000     -7.0\n",
      "1194   NaN        Vietnam  2001     -7.0\n",
      "1198   NaN        Vietnam  2002     -7.0\n",
      "1202   NaN        Vietnam  2003     -7.0\n",
      "1203   NaN        Vietnam  2004     -7.0\n",
      "1206   NaN        Vietnam  2005     -7.0\n",
      "1210   NaN        Vietnam  2006     -7.0\n",
      "1215   NaN        Vietnam  2007     -7.0\n",
      "1219   NaN        Vietnam  2008     -7.0\n",
      "1222   NaN        Vietnam  2009     -7.0\n",
      "1226   NaN        Vietnam  2010     -7.0\n",
      "1235   NaN        Vietnam  2011     -7.0\n",
      "1240   NaN        Vietnam  2012     -7.0\n",
      "1242   NaN        Vietnam  2013     -7.0\n",
      "1253   NaN        Vietnam  2014     -7.0\n",
      "1258   NaN        Vietnam  2015     -7.0\n",
      "1264   NaN        Vietnam  2016     -7.0\n",
      "1266   NaN        Vietnam  2017     -7.0\n",
      "1274   NaN        Vietnam  2018     -7.0\n",
      "17319  VNM  Vietnam North  1954     -9.0\n",
      "17320  VNM  Vietnam North  1955     -9.0\n",
      "17321  VNM  Vietnam North  1956     -9.0\n",
      "17322  VNM  Vietnam North  1957     -9.0\n",
      "17323  VNM  Vietnam North  1958     -9.0\n",
      "17324  VNM  Vietnam North  1959     -9.0\n",
      "17325  VNM  Vietnam North  1960     -8.0\n",
      "17326  VNM  Vietnam North  1961     -8.0\n",
      "17327  VNM  Vietnam North  1962     -8.0\n",
      "17328  VNM  Vietnam North  1963     -8.0\n",
      "17329  VNM  Vietnam North  1964     -8.0\n",
      "17330  VNM  Vietnam North  1965     -8.0\n",
      "17331  VNM  Vietnam North  1966     -8.0\n",
      "17332  VNM  Vietnam North  1967     -8.0\n",
      "17333  VNM  Vietnam North  1968     -8.0\n",
      "17334  VNM  Vietnam North  1969     -7.0\n",
      "17335  VNM  Vietnam North  1970     -7.0\n",
      "17336  VNM  Vietnam North  1971     -7.0\n",
      "17337  VNM  Vietnam North  1972     -7.0\n",
      "17338  VNM  Vietnam North  1973     -7.0\n",
      "17339  VNM  Vietnam North  1974     -7.0\n",
      "17340  VNM  Vietnam North  1975     -7.0\n",
      "17341  VNM  Vietnam North  1976     -7.0\n"
     ]
    }
   ],
   "source": [
    "# Answer 3e\n",
    "\n",
    "def disp_country(name,df) : \n",
    "    df_country = df[df['country'].str.lower().str.contains(name, regex=False)]\n",
    "    return(df_country.to_string())\n",
    "    \n",
    "print(disp_country('sudan',subdf))\n",
    "print(disp_country('vietnam',subdf))"
   ]
  },
  {
   "cell_type": "markdown",
   "id": "348a0adc-6104-4dff-baa4-cbc8259183b4",
   "metadata": {},
   "source": [
    "3f) Replace nan values in iso3 with correct iso3 for the 5 countries found in 3c from 2011 onwards, and display the subset with the fixed values to check that everything worked. **(1 point)**\n",
    "<br>\n",
    "Hint: the correct iso3 for these 5 countries are \"ETH\",\"MNE\",\"SRB\",\"SDN\",\"VNM\"."
   ]
  },
  {
   "cell_type": "code",
   "execution_count": 13,
   "id": "72ab9532-5a03-46fe-9db7-170e8b087957",
   "metadata": {},
   "outputs": [],
   "source": [
    "# Answer 3f\n",
    "\n",
    "\n",
    "subdf.loc[(subdf['iso3'].isna() == True) \n",
    "          & (subdf['year'] > '2010') \n",
    "          & (subdf['country'].str.contains('Serbia', regex=False)),'iso3'] = 'SRB'\n",
    "\n",
    "subdf.loc[(subdf['iso3'].isna() == True) \n",
    "          & (subdf['year'] > '2010') \n",
    "          & (subdf['country'].str.contains('Ethiopia', regex=False)),'iso3'] = 'ETH'\n",
    "\n",
    "subdf.loc[(subdf['iso3'].isna() == True) \n",
    "          & (subdf['year'] > '2010') \n",
    "          & (subdf['country'].str.contains('Sudan', regex=False)),'iso3'] = 'SDN'\n",
    "\n",
    "subdf.loc[(subdf['iso3'].isna() == True) \n",
    "          & (subdf['year'] > '2010') \n",
    "          & (subdf['country'].str.contains('Vietnam', regex=False)),'iso3'] = 'VNM'\n",
    "\n",
    "subdf.loc[(subdf['iso3'].isna() == True) \n",
    "          & (subdf['year'] > '2010') \n",
    "          & (subdf['country'].str.contains('Montenegro', regex=False)),'iso3'] = 'MNE'\n",
    "\n"
   ]
  },
  {
   "cell_type": "code",
   "execution_count": 14,
   "id": "e4fa898c",
   "metadata": {},
   "outputs": [
    {
     "name": "stdout",
     "output_type": "stream",
     "text": [
      "      iso3                country  year  polity2\n",
      "224    NaN                 Serbia  1830     -7.0\n",
      "230    NaN                 Serbia  1831     -7.0\n",
      "252    NaN                 Serbia  1832     -7.0\n",
      "261    NaN                 Serbia  1833     -7.0\n",
      "272    NaN                 Serbia  1834     -7.0\n",
      "286    NaN                 Serbia  1835     -7.0\n",
      "295    NaN                 Serbia  1836     -7.0\n",
      "301    NaN                 Serbia  1837     -7.0\n",
      "318    NaN                 Serbia  1838      2.0\n",
      "333    NaN                 Serbia  1839      2.0\n",
      "344    NaN                 Serbia  1840      2.0\n",
      "357    NaN                 Serbia  1841      2.0\n",
      "363    NaN                 Serbia  1842      2.0\n",
      "369    NaN                 Serbia  1843      2.0\n",
      "387    NaN                 Serbia  1844      2.0\n",
      "394    NaN                 Serbia  1845      2.0\n",
      "410    NaN                 Serbia  1846      2.0\n",
      "420    NaN                 Serbia  1847      2.0\n",
      "429    NaN                 Serbia  1848      2.0\n",
      "439    NaN                 Serbia  1849      2.0\n",
      "450    NaN                 Serbia  1850      2.0\n",
      "467    NaN                 Serbia  1851      2.0\n",
      "475    NaN                 Serbia  1852      2.0\n",
      "482    NaN                 Serbia  1853      2.0\n",
      "492    NaN                 Serbia  1854      2.0\n",
      "502    NaN                 Serbia  1855      2.0\n",
      "523    NaN                 Serbia  1856      2.0\n",
      "533    NaN                 Serbia  1857      2.0\n",
      "542    NaN                 Serbia  1858     -9.0\n",
      "553    NaN                 Serbia  1859     -9.0\n",
      "572    NaN                 Serbia  1860     -4.0\n",
      "575    NaN                 Serbia  1861      0.0\n",
      "583    NaN                 Serbia  1862      0.0\n",
      "593    NaN                 Serbia  1863      0.0\n",
      "601    NaN                 Serbia  1864      0.0\n",
      "608    NaN                 Serbia  1865      0.0\n",
      "611    NaN                 Serbia  1866      0.0\n",
      "623    NaN                 Serbia  1867      0.0\n",
      "628    NaN                 Serbia  1868     -3.0\n",
      "637    NaN                 Serbia  1869     -5.0\n",
      "642    NaN                 Serbia  1870     -5.0\n",
      "651    NaN                 Serbia  1871     -5.0\n",
      "652    NaN                 Serbia  1872     -5.0\n",
      "657    NaN                 Serbia  1873     -5.0\n",
      "660    NaN                 Serbia  1874     -5.0\n",
      "663    NaN                 Serbia  1875     -5.0\n",
      "665    NaN                 Serbia  1876     -5.0\n",
      "669    NaN                 Serbia  1877     -5.0\n",
      "671    NaN                 Serbia  1878     -5.0\n",
      "673    NaN                 Serbia  1879     -5.0\n",
      "676    NaN                 Serbia  1880     -5.0\n",
      "680    NaN                 Serbia  1881     -5.0\n",
      "684    NaN                 Serbia  1882     -5.0\n",
      "686    NaN                 Serbia  1883     -5.0\n",
      "690    NaN                 Serbia  1884     -5.0\n",
      "693    NaN                 Serbia  1885     -5.0\n",
      "694    NaN                 Serbia  1886     -5.0\n",
      "697    NaN                 Serbia  1887     -5.0\n",
      "700    NaN                 Serbia  1888     -5.0\n",
      "704    NaN                 Serbia  1889     -5.0\n",
      "708    NaN                 Serbia  1890     -5.0\n",
      "709    NaN                 Serbia  1891     -5.0\n",
      "714    NaN                 Serbia  1892     -5.0\n",
      "715    NaN                 Serbia  1893     -5.0\n",
      "718    NaN                 Serbia  1894     -5.0\n",
      "722    NaN                 Serbia  1895     -5.0\n",
      "724    NaN                 Serbia  1896     -5.0\n",
      "729    NaN                 Serbia  1897     -5.0\n",
      "730    NaN                 Serbia  1898     -5.0\n",
      "733    NaN                 Serbia  1899     -5.0\n",
      "737    NaN                 Serbia  1900     -5.0\n",
      "739    NaN                 Serbia  1901     -5.0\n",
      "743    NaN                 Serbia  1902     -5.0\n",
      "745    NaN                 Serbia  1903      4.0\n",
      "748    NaN                 Serbia  1904      4.0\n",
      "749    NaN                 Serbia  1905      4.0\n",
      "751    NaN                 Serbia  1906      4.0\n",
      "753    NaN                 Serbia  1907      4.0\n",
      "755    NaN                 Serbia  1908      4.0\n",
      "758    NaN                 Serbia  1909      4.0\n",
      "759    NaN                 Serbia  1910      4.0\n",
      "761    NaN                 Serbia  1911      4.0\n",
      "762    NaN                 Serbia  1912      4.0\n",
      "763    NaN                 Serbia  1913      4.0\n",
      "764    NaN                 Serbia  1914      4.0\n",
      "765    NaN                 Serbia  1915      NaN\n",
      "766    NaN                 Serbia  1916      NaN\n",
      "767    NaN                 Serbia  1917      4.0\n",
      "769    NaN                 Serbia  1918      5.0\n",
      "773    NaN                 Serbia  1919      6.0\n",
      "774    NaN                 Serbia  1920      7.0\n",
      "912    NaN          South Vietnam  1955     -3.0\n",
      "917    NaN          South Vietnam  1956     -3.0\n",
      "921    NaN          South Vietnam  1957     -3.0\n",
      "928    NaN          South Vietnam  1958     -3.0\n",
      "936    NaN          South Vietnam  1959     -3.0\n",
      "945    NaN          South Vietnam  1960     -3.0\n",
      "949    NaN          South Vietnam  1961     -3.0\n",
      "955    NaN          South Vietnam  1962     -3.0\n",
      "964    NaN          South Vietnam  1963     -3.0\n",
      "974    NaN          South Vietnam  1964     -3.0\n",
      "976    NaN          South Vietnam  1965      NaN\n",
      "986    NaN          South Vietnam  1966      NaN\n",
      "992    NaN          South Vietnam  1967      NaN\n",
      "1000   NaN          South Vietnam  1968      NaN\n",
      "1011   NaN          South Vietnam  1969      NaN\n",
      "1021   NaN          South Vietnam  1970      NaN\n",
      "1023   NaN          South Vietnam  1971      NaN\n",
      "1031   NaN          South Vietnam  1972      NaN\n",
      "1039   NaN          South Vietnam  1973      0.0\n",
      "1046   NaN          South Vietnam  1974      0.0\n",
      "1053   NaN          South Vietnam  1975      0.0\n",
      "1058   NaN                Vietnam  1976     -7.0\n",
      "1071   NaN                Vietnam  1977     -7.0\n",
      "1075   NaN                Vietnam  1978     -7.0\n",
      "1081   NaN                Vietnam  1979     -7.0\n",
      "1092   NaN                Vietnam  1980     -7.0\n",
      "1096   NaN                Vietnam  1981     -7.0\n",
      "1105   NaN                Vietnam  1982     -7.0\n",
      "1113   NaN                Vietnam  1983     -7.0\n",
      "1115   NaN                Vietnam  1984     -7.0\n",
      "1125   NaN                Vietnam  1985     -7.0\n",
      "1130   NaN                Vietnam  1986     -7.0\n",
      "1137   NaN                Vietnam  1987     -7.0\n",
      "1145   NaN                Vietnam  1988     -7.0\n",
      "1151   NaN                Vietnam  1989     -7.0\n",
      "1162   NaN                Vietnam  1990     -7.0\n",
      "1164   NaN                Vietnam  1991     -7.0\n",
      "1167   NaN                Vietnam  1992     -7.0\n",
      "1170   NaN               Ethiopia  1993      1.0\n",
      "1171   NaN                Vietnam  1993     -7.0\n",
      "1174   NaN               Ethiopia  1994      1.0\n",
      "1175   NaN                Vietnam  1994     -7.0\n",
      "1176   NaN                Vietnam  1995     -7.0\n",
      "1177   NaN               Ethiopia  1995      1.0\n",
      "1179   NaN               Ethiopia  1996      1.0\n",
      "1180   NaN                Vietnam  1996     -7.0\n",
      "1182   NaN                Vietnam  1997     -7.0\n",
      "1184   NaN               Ethiopia  1997      1.0\n",
      "1185   NaN                Vietnam  1998     -7.0\n",
      "1186   NaN               Ethiopia  1998      1.0\n",
      "1189   NaN               Ethiopia  1999      1.0\n",
      "1190   NaN                Vietnam  1999     -7.0\n",
      "1191   NaN                Vietnam  2000     -7.0\n",
      "1192   NaN               Ethiopia  2000      1.0\n",
      "1194   NaN                Vietnam  2001     -7.0\n",
      "1195   NaN               Ethiopia  2001      1.0\n",
      "1198   NaN                Vietnam  2002     -7.0\n",
      "1199   NaN               Ethiopia  2002      1.0\n",
      "1200   NaN               Ethiopia  2003      1.0\n",
      "1201   NaN  Serbia and Montenegro  2003      6.0\n",
      "1202   NaN                Vietnam  2003     -7.0\n",
      "1203   NaN                Vietnam  2004     -7.0\n",
      "1204   NaN               Ethiopia  2004      1.0\n",
      "1205   NaN  Serbia and Montenegro  2004      6.0\n",
      "1206   NaN                Vietnam  2005     -7.0\n",
      "1207   NaN  Serbia and Montenegro  2005      6.0\n",
      "1208   NaN               Ethiopia  2005     -3.0\n",
      "1209   NaN             Montenegro  2006      9.0\n",
      "1210   NaN                Vietnam  2006     -7.0\n",
      "1211   NaN               Ethiopia  2006     -3.0\n",
      "1212   NaN  Serbia and Montenegro  2006      6.0\n",
      "1213   NaN                 Serbia  2006      8.0\n",
      "1214   NaN               Ethiopia  2007     -3.0\n",
      "1215   NaN                Vietnam  2007     -7.0\n",
      "1216   NaN             Montenegro  2007      9.0\n",
      "1217   NaN                 Serbia  2007      8.0\n",
      "1218   NaN                 Serbia  2008      8.0\n",
      "1219   NaN                Vietnam  2008     -7.0\n",
      "1220   NaN             Montenegro  2008      9.0\n",
      "1221   NaN               Ethiopia  2008     -3.0\n",
      "1222   NaN                Vietnam  2009     -7.0\n",
      "1223   NaN             Montenegro  2009      9.0\n",
      "1224   NaN                 Serbia  2009      8.0\n",
      "1225   NaN               Ethiopia  2009     -3.0\n",
      "1226   NaN                Vietnam  2010     -7.0\n",
      "1227   NaN             Montenegro  2010      9.0\n",
      "1228   NaN                 Serbia  2010      8.0\n",
      "1229   NaN               Ethiopia  2010     -3.0\n",
      "1230   MNE             Montenegro  2011      9.0\n",
      "1231   SRB                 Serbia  2011      8.0\n",
      "1232   SSD            South Sudan  2011      0.0\n",
      "1233   ETH               Ethiopia  2011     -3.0\n",
      "1234   SDN            Sudan-North  2011     -4.0\n",
      "1235   VNM                Vietnam  2011     -7.0\n",
      "1236   MNE             Montenegro  2012      9.0\n",
      "1237   SSD            South Sudan  2012      0.0\n",
      "1238   SRB                 Serbia  2012      8.0\n",
      "1239   ETH               Ethiopia  2012     -3.0\n",
      "1240   VNM                Vietnam  2012     -7.0\n",
      "1241   SDN            Sudan-North  2012     -4.0\n",
      "1242   VNM                Vietnam  2013     -7.0\n",
      "1243   MNE             Montenegro  2013      9.0\n",
      "1244   SDN            Sudan-North  2013     -4.0\n",
      "1245   ETH               Ethiopia  2013     -3.0\n",
      "1246   SSD            South Sudan  2013      0.0\n",
      "1247   SRB                 Serbia  2013      8.0\n",
      "1248   SRB                 Serbia  2014      8.0\n",
      "1249   ETH               Ethiopia  2014     -3.0\n",
      "1250   SSD            South Sudan  2014      0.0\n",
      "1251   MNE             Montenegro  2014      9.0\n",
      "1252   SDN            Sudan-North  2014     -4.0\n",
      "1253   VNM                Vietnam  2014     -7.0\n",
      "1254   SRB                 Serbia  2015      8.0\n",
      "1255   ETH               Ethiopia  2015     -3.0\n",
      "1256   SDN            Sudan-North  2015     -4.0\n",
      "1257   SSD            South Sudan  2015      0.0\n",
      "1258   VNM                Vietnam  2015     -7.0\n",
      "1259   MNE             Montenegro  2015      9.0\n",
      "1260   MNE             Montenegro  2016      9.0\n",
      "1261   SSD            South Sudan  2016      0.0\n",
      "1262   SDN            Sudan-North  2016     -4.0\n",
      "1263   SRB                 Serbia  2016      8.0\n",
      "1264   VNM                Vietnam  2016     -7.0\n",
      "1265   ETH               Ethiopia  2016     -3.0\n",
      "1266   VNM                Vietnam  2017     -7.0\n",
      "1267   SSD            South Sudan  2017      0.0\n",
      "1268   ETH               Ethiopia  2017     -3.0\n",
      "1269   SRB                 Serbia  2017      8.0\n",
      "1270   SDN            Sudan-North  2017     -4.0\n",
      "1271   MNE             Montenegro  2017      9.0\n",
      "1272   MNE             Montenegro  2018      9.0\n",
      "1273   SDN            Sudan-North  2018     -4.0\n",
      "1274   VNM                Vietnam  2018     -7.0\n",
      "1275   ETH               Ethiopia  2018      1.0\n",
      "1276   SRB                 Serbia  2018      8.0\n",
      "1277   SSD            South Sudan  2018      0.0\n",
      "6431   ETH               Ethiopia  1855      4.0\n",
      "6432   ETH               Ethiopia  1856      4.0\n",
      "6433   ETH               Ethiopia  1857      4.0\n",
      "6434   ETH               Ethiopia  1858      4.0\n",
      "6435   ETH               Ethiopia  1859      4.0\n",
      "6436   ETH               Ethiopia  1860      4.0\n",
      "6437   ETH               Ethiopia  1861      4.0\n",
      "6438   ETH               Ethiopia  1862      4.0\n",
      "6439   ETH               Ethiopia  1863      4.0\n",
      "6440   ETH               Ethiopia  1864      4.0\n",
      "6441   ETH               Ethiopia  1865      4.0\n",
      "6442   ETH               Ethiopia  1866      4.0\n",
      "6443   ETH               Ethiopia  1867      4.0\n",
      "6444   ETH               Ethiopia  1868      4.0\n",
      "6445   ETH               Ethiopia  1869      4.0\n",
      "6446   ETH               Ethiopia  1870      4.0\n",
      "6447   ETH               Ethiopia  1871      4.0\n",
      "6448   ETH               Ethiopia  1872      4.0\n",
      "6449   ETH               Ethiopia  1873      4.0\n",
      "6450   ETH               Ethiopia  1874      4.0\n",
      "6451   ETH               Ethiopia  1875      4.0\n",
      "6452   ETH               Ethiopia  1876      4.0\n",
      "6453   ETH               Ethiopia  1877      4.0\n",
      "6454   ETH               Ethiopia  1878      4.0\n",
      "6455   ETH               Ethiopia  1879      4.0\n",
      "6456   ETH               Ethiopia  1880      4.0\n",
      "6457   ETH               Ethiopia  1881      4.0\n",
      "6458   ETH               Ethiopia  1882      4.0\n",
      "6459   ETH               Ethiopia  1883      4.0\n",
      "6460   ETH               Ethiopia  1884      4.0\n",
      "6461   ETH               Ethiopia  1885      4.0\n",
      "6462   ETH               Ethiopia  1886      4.0\n",
      "6463   ETH               Ethiopia  1887      4.0\n",
      "6464   ETH               Ethiopia  1888      4.0\n",
      "6465   ETH               Ethiopia  1889      4.0\n",
      "6466   ETH               Ethiopia  1890      4.0\n",
      "6467   ETH               Ethiopia  1891      4.0\n",
      "6468   ETH               Ethiopia  1892      4.0\n",
      "6469   ETH               Ethiopia  1893      4.0\n",
      "6470   ETH               Ethiopia  1894      4.0\n",
      "6471   ETH               Ethiopia  1895      4.0\n",
      "6472   ETH               Ethiopia  1896      4.0\n",
      "6473   ETH               Ethiopia  1897      4.0\n",
      "6474   ETH               Ethiopia  1898      4.0\n",
      "6475   ETH               Ethiopia  1899      4.0\n",
      "6476   ETH               Ethiopia  1900      4.0\n",
      "6477   ETH               Ethiopia  1901      4.0\n",
      "6478   ETH               Ethiopia  1902      4.0\n",
      "6479   ETH               Ethiopia  1903      4.0\n",
      "6480   ETH               Ethiopia  1904      4.0\n",
      "6481   ETH               Ethiopia  1905      4.0\n",
      "6482   ETH               Ethiopia  1906      4.0\n",
      "6483   ETH               Ethiopia  1907      4.0\n",
      "6484   ETH               Ethiopia  1908      4.0\n",
      "6485   ETH               Ethiopia  1909      4.0\n",
      "6486   ETH               Ethiopia  1910      4.0\n",
      "6487   ETH               Ethiopia  1911      4.0\n",
      "6488   ETH               Ethiopia  1912      4.0\n",
      "6489   ETH               Ethiopia  1913      4.0\n",
      "6490   ETH               Ethiopia  1914      4.0\n",
      "6491   ETH               Ethiopia  1915      4.0\n",
      "6492   ETH               Ethiopia  1916      4.0\n",
      "6493   ETH               Ethiopia  1917      4.0\n",
      "6494   ETH               Ethiopia  1918      4.0\n",
      "6495   ETH               Ethiopia  1919      4.0\n",
      "6496   ETH               Ethiopia  1920      4.0\n",
      "6497   ETH               Ethiopia  1921      4.0\n",
      "6498   ETH               Ethiopia  1922      4.0\n",
      "6499   ETH               Ethiopia  1923      4.0\n",
      "6500   ETH               Ethiopia  1924      4.0\n",
      "6501   ETH               Ethiopia  1925      4.0\n",
      "6502   ETH               Ethiopia  1926      4.0\n",
      "6503   ETH               Ethiopia  1927      4.0\n",
      "6504   ETH               Ethiopia  1928      4.0\n",
      "6505   ETH               Ethiopia  1929      4.0\n",
      "6506   ETH               Ethiopia  1930     -5.0\n",
      "6507   ETH               Ethiopia  1931     -5.0\n",
      "6508   ETH               Ethiopia  1932     -5.0\n",
      "6509   ETH               Ethiopia  1933     -5.0\n",
      "6510   ETH               Ethiopia  1934     -5.0\n",
      "6511   ETH               Ethiopia  1935     -5.0\n",
      "6512   ETH               Ethiopia  1936      NaN\n",
      "6513   ETH               Ethiopia  1937      NaN\n",
      "6514   ETH               Ethiopia  1938      NaN\n",
      "6515   ETH               Ethiopia  1939      NaN\n",
      "6516   ETH               Ethiopia  1940      NaN\n",
      "6517   ETH               Ethiopia  1941      NaN\n",
      "6518   ETH               Ethiopia  1942     -5.0\n",
      "6519   ETH               Ethiopia  1943     -5.0\n",
      "6520   ETH               Ethiopia  1944     -5.0\n",
      "6521   ETH               Ethiopia  1945     -5.0\n",
      "6522   ETH               Ethiopia  1946     -9.0\n",
      "6523   ETH               Ethiopia  1947     -9.0\n",
      "6524   ETH               Ethiopia  1948     -9.0\n",
      "6525   ETH               Ethiopia  1949     -9.0\n",
      "6526   ETH               Ethiopia  1950     -9.0\n",
      "6527   ETH               Ethiopia  1951     -9.0\n",
      "6528   ETH               Ethiopia  1952     -9.0\n",
      "6529   ETH               Ethiopia  1953     -9.0\n",
      "6530   ETH               Ethiopia  1954     -9.0\n",
      "6531   ETH               Ethiopia  1955     -9.0\n",
      "6532   ETH               Ethiopia  1956     -9.0\n",
      "6533   ETH               Ethiopia  1957     -9.0\n",
      "6534   ETH               Ethiopia  1958     -9.0\n",
      "6535   ETH               Ethiopia  1959     -9.0\n",
      "6536   ETH               Ethiopia  1960     -9.0\n",
      "6537   ETH               Ethiopia  1961     -9.0\n",
      "6538   ETH               Ethiopia  1962     -9.0\n",
      "6539   ETH               Ethiopia  1963     -9.0\n",
      "6540   ETH               Ethiopia  1964     -9.0\n",
      "6541   ETH               Ethiopia  1965     -9.0\n",
      "6542   ETH               Ethiopia  1966     -9.0\n",
      "6543   ETH               Ethiopia  1967     -9.0\n",
      "6544   ETH               Ethiopia  1968     -9.0\n",
      "6545   ETH               Ethiopia  1969     -9.0\n",
      "6546   ETH               Ethiopia  1970     -9.0\n",
      "6547   ETH               Ethiopia  1971     -9.0\n",
      "6548   ETH               Ethiopia  1972     -9.0\n",
      "6549   ETH               Ethiopia  1973     -9.0\n",
      "6550   ETH               Ethiopia  1974      0.0\n",
      "6551   ETH               Ethiopia  1975     -7.0\n",
      "6552   ETH               Ethiopia  1976     -7.0\n",
      "6553   ETH               Ethiopia  1977     -7.0\n",
      "6554   ETH               Ethiopia  1978     -7.0\n",
      "6555   ETH               Ethiopia  1979     -7.0\n",
      "6556   ETH               Ethiopia  1980     -7.0\n",
      "6557   ETH               Ethiopia  1981     -7.0\n",
      "6558   ETH               Ethiopia  1982     -7.0\n",
      "6559   ETH               Ethiopia  1983     -7.0\n",
      "6560   ETH               Ethiopia  1984     -8.0\n",
      "6561   ETH               Ethiopia  1985     -8.0\n",
      "6562   ETH               Ethiopia  1986     -8.0\n",
      "6563   ETH               Ethiopia  1987     -8.0\n",
      "6564   ETH               Ethiopia  1988     -8.0\n",
      "6565   ETH               Ethiopia  1989     -8.0\n",
      "6566   ETH               Ethiopia  1990     -8.0\n",
      "6567   ETH               Ethiopia  1991      0.0\n",
      "6568   ETH               Ethiopia  1992      0.0\n",
      "6569   ETH               Ethiopia  1993      0.0\n",
      "14631  SDN                  Sudan  1956      7.0\n",
      "14632  SDN                  Sudan  1957      7.0\n",
      "14633  SDN                  Sudan  1958     -7.0\n",
      "14634  SDN                  Sudan  1959     -7.0\n",
      "14635  SDN                  Sudan  1960     -7.0\n",
      "14636  SDN                  Sudan  1961     -7.0\n",
      "14637  SDN                  Sudan  1962     -7.0\n",
      "14638  SDN                  Sudan  1963     -4.0\n",
      "14639  SDN                  Sudan  1964      1.0\n",
      "14640  SDN                  Sudan  1965      6.0\n",
      "14641  SDN                  Sudan  1966      6.0\n",
      "14642  SDN                  Sudan  1967      6.0\n",
      "14643  SDN                  Sudan  1968      6.0\n",
      "14644  SDN                  Sudan  1969     -6.0\n",
      "14645  SDN                  Sudan  1970     -6.0\n",
      "14646  SDN                  Sudan  1971     -7.0\n",
      "14647  SDN                  Sudan  1972     -7.0\n",
      "14648  SDN                  Sudan  1973     -6.0\n",
      "14649  SDN                  Sudan  1974     -6.0\n",
      "14650  SDN                  Sudan  1975     -6.0\n",
      "14651  SDN                  Sudan  1976     -6.0\n",
      "14652  SDN                  Sudan  1977     -6.0\n",
      "14653  SDN                  Sudan  1978     -6.0\n",
      "14654  SDN                  Sudan  1979     -6.0\n",
      "14655  SDN                  Sudan  1980     -6.0\n",
      "14656  SDN                  Sudan  1981     -6.0\n",
      "14657  SDN                  Sudan  1982     -6.0\n",
      "14658  SDN                  Sudan  1983     -6.0\n",
      "14659  SDN                  Sudan  1984     -6.0\n",
      "14660  SDN                  Sudan  1985     -3.0\n",
      "14661  SDN                  Sudan  1986      7.0\n",
      "14662  SDN                  Sudan  1987      7.0\n",
      "14663  SDN                  Sudan  1988      7.0\n",
      "14664  SDN                  Sudan  1989     -7.0\n",
      "14665  SDN                  Sudan  1990     -7.0\n",
      "14666  SDN                  Sudan  1991     -7.0\n",
      "14667  SDN                  Sudan  1992     -7.0\n",
      "14668  SDN                  Sudan  1993     -7.0\n",
      "14669  SDN                  Sudan  1994     -7.0\n",
      "14670  SDN                  Sudan  1995     -7.0\n",
      "14671  SDN                  Sudan  1996     -7.0\n",
      "14672  SDN                  Sudan  1997     -7.0\n",
      "14673  SDN                  Sudan  1998     -7.0\n",
      "14674  SDN                  Sudan  1999     -6.0\n",
      "14675  SDN                  Sudan  2000     -6.0\n",
      "14676  SDN                  Sudan  2001     -6.0\n",
      "14677  SDN                  Sudan  2002     -6.0\n",
      "14678  SDN                  Sudan  2003     -6.0\n",
      "14679  SDN                  Sudan  2004     -6.0\n",
      "14680  SDN                  Sudan  2005     -3.0\n",
      "14681  SDN                  Sudan  2006     -3.0\n",
      "14682  SDN                  Sudan  2007     -3.0\n",
      "14683  SDN                  Sudan  2008     -3.0\n",
      "14684  SDN                  Sudan  2009     -3.0\n",
      "14685  SDN                  Sudan  2010     -2.0\n",
      "14686  SDN                  Sudan  2011     -2.0\n",
      "17319  VNM          Vietnam North  1954     -9.0\n",
      "17320  VNM          Vietnam North  1955     -9.0\n",
      "17321  VNM          Vietnam North  1956     -9.0\n",
      "17322  VNM          Vietnam North  1957     -9.0\n",
      "17323  VNM          Vietnam North  1958     -9.0\n",
      "17324  VNM          Vietnam North  1959     -9.0\n",
      "17325  VNM          Vietnam North  1960     -8.0\n",
      "17326  VNM          Vietnam North  1961     -8.0\n",
      "17327  VNM          Vietnam North  1962     -8.0\n",
      "17328  VNM          Vietnam North  1963     -8.0\n",
      "17329  VNM          Vietnam North  1964     -8.0\n",
      "17330  VNM          Vietnam North  1965     -8.0\n",
      "17331  VNM          Vietnam North  1966     -8.0\n",
      "17332  VNM          Vietnam North  1967     -8.0\n",
      "17333  VNM          Vietnam North  1968     -8.0\n",
      "17334  VNM          Vietnam North  1969     -7.0\n",
      "17335  VNM          Vietnam North  1970     -7.0\n",
      "17336  VNM          Vietnam North  1971     -7.0\n",
      "17337  VNM          Vietnam North  1972     -7.0\n",
      "17338  VNM          Vietnam North  1973     -7.0\n",
      "17339  VNM          Vietnam North  1974     -7.0\n",
      "17340  VNM          Vietnam North  1975     -7.0\n",
      "17341  VNM          Vietnam North  1976     -7.0\n"
     ]
    }
   ],
   "source": [
    "# We can see that NaN are replaced starting 2011 for iso3.\n",
    "\n",
    "print(subdf.loc[subdf['country'].str.contains('Sudan', regex=False) |\n",
    "                subdf['country'].str.contains('Serbia', regex=False) |\n",
    "                subdf['country'].str.contains('Ethiopia', regex=False) |\n",
    "                subdf['country'].str.contains('Montenegro', regex=False) |\n",
    "                (subdf['country'].str.contains('Vietnam', regex=False))].to_string())"
   ]
  },
  {
   "cell_type": "markdown",
   "id": "c6fa210c-b46f-46ff-a8da-d72d95bff196",
   "metadata": {},
   "source": [
    "3g) Drop the remaining rows which have nan in \"iso3\" and display the new number of rows of the dataframe (how many are they?) **(1 point)**"
   ]
  },
  {
   "cell_type": "code",
   "execution_count": 15,
   "id": "2c2cea78-0af1-405f-aeed-41dfc8fee4e4",
   "metadata": {},
   "outputs": [
    {
     "data": {
      "text/html": [
       "<div>\n",
       "<style scoped>\n",
       "    .dataframe tbody tr th:only-of-type {\n",
       "        vertical-align: middle;\n",
       "    }\n",
       "\n",
       "    .dataframe tbody tr th {\n",
       "        vertical-align: top;\n",
       "    }\n",
       "\n",
       "    .dataframe thead th {\n",
       "        text-align: right;\n",
       "    }\n",
       "</style>\n",
       "<table border=\"1\" class=\"dataframe\">\n",
       "  <thead>\n",
       "    <tr style=\"text-align: right;\">\n",
       "      <th></th>\n",
       "      <th>iso3</th>\n",
       "      <th>country</th>\n",
       "      <th>year</th>\n",
       "      <th>polity2</th>\n",
       "    </tr>\n",
       "  </thead>\n",
       "  <tbody>\n",
       "    <tr>\n",
       "      <th>1230</th>\n",
       "      <td>MNE</td>\n",
       "      <td>Montenegro</td>\n",
       "      <td>2011</td>\n",
       "      <td>9.0</td>\n",
       "    </tr>\n",
       "    <tr>\n",
       "      <th>1231</th>\n",
       "      <td>SRB</td>\n",
       "      <td>Serbia</td>\n",
       "      <td>2011</td>\n",
       "      <td>8.0</td>\n",
       "    </tr>\n",
       "    <tr>\n",
       "      <th>1232</th>\n",
       "      <td>SSD</td>\n",
       "      <td>South Sudan</td>\n",
       "      <td>2011</td>\n",
       "      <td>0.0</td>\n",
       "    </tr>\n",
       "    <tr>\n",
       "      <th>1233</th>\n",
       "      <td>ETH</td>\n",
       "      <td>Ethiopia</td>\n",
       "      <td>2011</td>\n",
       "      <td>-3.0</td>\n",
       "    </tr>\n",
       "    <tr>\n",
       "      <th>1234</th>\n",
       "      <td>SDN</td>\n",
       "      <td>Sudan-North</td>\n",
       "      <td>2011</td>\n",
       "      <td>-4.0</td>\n",
       "    </tr>\n",
       "    <tr>\n",
       "      <th>...</th>\n",
       "      <td>...</td>\n",
       "      <td>...</td>\n",
       "      <td>...</td>\n",
       "      <td>...</td>\n",
       "    </tr>\n",
       "    <tr>\n",
       "      <th>17569</th>\n",
       "      <td>ZWE</td>\n",
       "      <td>Zimbabwe</td>\n",
       "      <td>2014</td>\n",
       "      <td>4.0</td>\n",
       "    </tr>\n",
       "    <tr>\n",
       "      <th>17570</th>\n",
       "      <td>ZWE</td>\n",
       "      <td>Zimbabwe</td>\n",
       "      <td>2015</td>\n",
       "      <td>4.0</td>\n",
       "    </tr>\n",
       "    <tr>\n",
       "      <th>17571</th>\n",
       "      <td>ZWE</td>\n",
       "      <td>Zimbabwe</td>\n",
       "      <td>2016</td>\n",
       "      <td>4.0</td>\n",
       "    </tr>\n",
       "    <tr>\n",
       "      <th>17572</th>\n",
       "      <td>ZWE</td>\n",
       "      <td>Zimbabwe</td>\n",
       "      <td>2017</td>\n",
       "      <td>4.0</td>\n",
       "    </tr>\n",
       "    <tr>\n",
       "      <th>17573</th>\n",
       "      <td>ZWE</td>\n",
       "      <td>Zimbabwe</td>\n",
       "      <td>2018</td>\n",
       "      <td>4.0</td>\n",
       "    </tr>\n",
       "  </tbody>\n",
       "</table>\n",
       "<p>16344 rows × 4 columns</p>\n",
       "</div>"
      ],
      "text/plain": [
       "      iso3      country  year  polity2\n",
       "1230   MNE   Montenegro  2011      9.0\n",
       "1231   SRB       Serbia  2011      8.0\n",
       "1232   SSD  South Sudan  2011      0.0\n",
       "1233   ETH     Ethiopia  2011     -3.0\n",
       "1234   SDN  Sudan-North  2011     -4.0\n",
       "...    ...          ...   ...      ...\n",
       "17569  ZWE     Zimbabwe  2014      4.0\n",
       "17570  ZWE     Zimbabwe  2015      4.0\n",
       "17571  ZWE     Zimbabwe  2016      4.0\n",
       "17572  ZWE     Zimbabwe  2017      4.0\n",
       "17573  ZWE     Zimbabwe  2018      4.0\n",
       "\n",
       "[16344 rows x 4 columns]"
      ]
     },
     "execution_count": 15,
     "metadata": {},
     "output_type": "execute_result"
    }
   ],
   "source": [
    "# Answer 3g\n",
    "df_clean = subdf.dropna(subset='iso3')\n",
    "df_clean\n"
   ]
  },
  {
   "cell_type": "code",
   "execution_count": 16,
   "id": "a50356ae",
   "metadata": {},
   "outputs": [
    {
     "name": "stdout",
     "output_type": "stream",
     "text": [
      "The number of rows is  16344\n"
     ]
    }
   ],
   "source": [
    "print('The number of rows is ', len(df_clean))"
   ]
  },
  {
   "cell_type": "markdown",
   "id": "313dc318-2264-4e42-8ca3-f1cf5b85fac5",
   "metadata": {},
   "source": [
    "### Question 4: Check Polity2 <a class=\"anchor\" id=\"question4\"></a>"
   ]
  },
  {
   "cell_type": "markdown",
   "id": "cb41d643-6867-4c1c-93f9-c3c38fb9d454",
   "metadata": {},
   "source": [
    "4a) Display the first and last year included in the dataset **(1 point)**"
   ]
  },
  {
   "cell_type": "code",
   "execution_count": 17,
   "id": "57202c70-fe45-4f45-a29b-6a4761421972",
   "metadata": {},
   "outputs": [
    {
     "data": {
      "text/html": [
       "<div>\n",
       "<style scoped>\n",
       "    .dataframe tbody tr th:only-of-type {\n",
       "        vertical-align: middle;\n",
       "    }\n",
       "\n",
       "    .dataframe tbody tr th {\n",
       "        vertical-align: top;\n",
       "    }\n",
       "\n",
       "    .dataframe thead th {\n",
       "        text-align: right;\n",
       "    }\n",
       "</style>\n",
       "<table border=\"1\" class=\"dataframe\">\n",
       "  <thead>\n",
       "    <tr style=\"text-align: right;\">\n",
       "      <th></th>\n",
       "      <th>iso3</th>\n",
       "      <th>country</th>\n",
       "      <th>year</th>\n",
       "      <th>polity2</th>\n",
       "    </tr>\n",
       "  </thead>\n",
       "  <tbody>\n",
       "    <tr>\n",
       "      <th>16801</th>\n",
       "      <td>USA</td>\n",
       "      <td>United States</td>\n",
       "      <td>1776</td>\n",
       "      <td>0.0</td>\n",
       "    </tr>\n",
       "  </tbody>\n",
       "</table>\n",
       "</div>"
      ],
      "text/plain": [
       "      iso3                           country  year  polity2\n",
       "16801  USA  United States                     1776      0.0"
      ]
     },
     "metadata": {},
     "output_type": "display_data"
    },
    {
     "name": "stdout",
     "output_type": "stream",
     "text": [
      "The first year is  1776\n"
     ]
    },
    {
     "data": {
      "text/html": [
       "<div>\n",
       "<style scoped>\n",
       "    .dataframe tbody tr th:only-of-type {\n",
       "        vertical-align: middle;\n",
       "    }\n",
       "\n",
       "    .dataframe tbody tr th {\n",
       "        vertical-align: top;\n",
       "    }\n",
       "\n",
       "    .dataframe thead th {\n",
       "        text-align: right;\n",
       "    }\n",
       "</style>\n",
       "<table border=\"1\" class=\"dataframe\">\n",
       "  <thead>\n",
       "    <tr style=\"text-align: right;\">\n",
       "      <th></th>\n",
       "      <th>iso3</th>\n",
       "      <th>country</th>\n",
       "      <th>year</th>\n",
       "      <th>polity2</th>\n",
       "    </tr>\n",
       "  </thead>\n",
       "  <tbody>\n",
       "    <tr>\n",
       "      <th>17045</th>\n",
       "      <td>USA</td>\n",
       "      <td>United States</td>\n",
       "      <td>2020</td>\n",
       "      <td>5.0</td>\n",
       "    </tr>\n",
       "  </tbody>\n",
       "</table>\n",
       "</div>"
      ],
      "text/plain": [
       "      iso3                           country  year  polity2\n",
       "17045  USA  United States                     2020      5.0"
      ]
     },
     "metadata": {},
     "output_type": "display_data"
    },
    {
     "name": "stdout",
     "output_type": "stream",
     "text": [
      "The last year is  2020\n"
     ]
    }
   ],
   "source": [
    "# Answer 4a\n",
    "first_year = df_clean['year'].min()\n",
    "display(subdf[subdf['year'] == first_year])\n",
    "print('The first year is ', first_year)\n",
    "\n",
    "last_year = df_clean['year'].max()\n",
    "display(subdf[subdf['year'] == last_year])\n",
    "print('The last year is ', last_year)\n"
   ]
  },
  {
   "cell_type": "markdown",
   "id": "b4593d98-be9b-45b3-86df-82e613ee851b",
   "metadata": {},
   "source": [
    "4b) What do the values in \"polity2\" represent? **(1 point)**"
   ]
  },
  {
   "cell_type": "markdown",
   "id": "fddd6209",
   "metadata": {},
   "source": [
    "Answer 4b: A faire\n",
    "The POLITY score is computed by subtracting the AUTOC score from the DEMOC score; the resulting unified polity scale ranges from +10 (strongly democratic) to -10 (strongly autocratic).\n",
    "This variable is a modified version of the POLITY variable added in order to facilitate the use of the POLITY regime measure in time-series analyses. It modifies the combined annual POLITY score by applying a simple treatment, or ““fix,” to convert instances of “standardized authority scores” (i.e., -66, -77, and -88) to conventional polity scores (i.e., within the range, -10 to +10)."
   ]
  },
  {
   "cell_type": "markdown",
   "id": "523a9072-8271-4336-9219-3c64a3f16e07",
   "metadata": {},
   "source": [
    "4c) Do we have weird values for polity2? If yes, why? What should we do about them? Transform the data accordingly. **(1 point)**"
   ]
  },
  {
   "cell_type": "markdown",
   "id": "5e710121-c355-4f34-8f81-187ccee789b7",
   "metadata": {},
   "source": [
    "Answer 4c:"
   ]
  },
  {
   "cell_type": "code",
   "execution_count": 120,
   "id": "6ed912f8",
   "metadata": {},
   "outputs": [
    {
     "data": {
      "text/plain": [
       "array([  9.,   8.,   0.,  -3.,  -4.,  -7.,   1.,  -6.,  -8., -10.,  nan,\n",
       "        -1.,  -2.,  -9.,  -5.,   3.,   5.,   7.,   2.,   6.,  10.,   4.,\n",
       "       -88., -66.])"
      ]
     },
     "execution_count": 120,
     "metadata": {},
     "output_type": "execute_result"
    }
   ],
   "source": [
    "# Answer 4c\n",
    "df_clean.polity2.unique()\n",
    "\n",
    "# polity2 should be between -10 and 10 so we have extreme values : -88 and -66. These values are \"normal\" \n",
    "# since it represents particular cases (foreign “interruption”, “interregnum,” or anarchy and \"transition\""
   ]
  },
  {
   "cell_type": "code",
   "execution_count": 19,
   "id": "28b98c5d",
   "metadata": {},
   "outputs": [
    {
     "data": {
      "text/plain": [
       "array([  9.,   8.,   0.,  -3.,  -4.,  -7.,   1.,  -6.,  -8., -10.,  -1.,\n",
       "        -2.,  -9.,  -5.,   3.,   5.,   7.,   2.,   6.,  10.,   4., -88.,\n",
       "       -66.])"
      ]
     },
     "execution_count": 19,
     "metadata": {},
     "output_type": "execute_result"
    }
   ],
   "source": [
    "# Answer 4c Here, we drop rows with Nans in polity2\n",
    "\n",
    "df_clean2 = df_clean.dropna(subset='polity2')\n",
    "df_clean2.polity2.unique()"
   ]
  },
  {
   "cell_type": "code",
   "execution_count": 20,
   "id": "ef40f8d3-e7bd-49b9-9faa-a76931d0f5f1",
   "metadata": {},
   "outputs": [
    {
     "data": {
      "text/plain": [
       "array([  9.,   8.,   0.,  -3.,  -4.,  -7.,   1.,  -6.,  -8., -10.,  -1.,\n",
       "        -2.,  -9.,  -5.,   3.,   5.,   7.,   2.,   6.,  10.,   4.])"
      ]
     },
     "execution_count": 20,
     "metadata": {},
     "output_type": "execute_result"
    }
   ],
   "source": [
    "# Answer 4c Here, we drop rows with values -88 and -66 in polity2\n",
    "\n",
    "df_clean3 = df_clean2[(df_clean2['polity2'] != -88) & (df_clean2['polity2'] != -66)]\n",
    "\n",
    "df_clean3.polity2.unique()\n",
    "\n",
    "\n"
   ]
  },
  {
   "cell_type": "markdown",
   "id": "1a1b6f3a-11d9-477f-9fab-f7e644176c67",
   "metadata": {},
   "source": [
    "4d) Make a map that shows the number of observations of polity2 by country **(1 point)**"
   ]
  },
  {
   "cell_type": "code",
   "execution_count": 21,
   "id": "23388e28",
   "metadata": {},
   "outputs": [
    {
     "data": {
      "text/html": [
       "<div>\n",
       "<style scoped>\n",
       "    .dataframe tbody tr th:only-of-type {\n",
       "        vertical-align: middle;\n",
       "    }\n",
       "\n",
       "    .dataframe tbody tr th {\n",
       "        vertical-align: top;\n",
       "    }\n",
       "\n",
       "    .dataframe thead th {\n",
       "        text-align: right;\n",
       "    }\n",
       "</style>\n",
       "<table border=\"1\" class=\"dataframe\">\n",
       "  <thead>\n",
       "    <tr style=\"text-align: right;\">\n",
       "      <th></th>\n",
       "      <th>country</th>\n",
       "      <th>number</th>\n",
       "    </tr>\n",
       "  </thead>\n",
       "  <tbody>\n",
       "    <tr>\n",
       "      <th>0</th>\n",
       "      <td>Afghanistan</td>\n",
       "      <td>196</td>\n",
       "    </tr>\n",
       "    <tr>\n",
       "      <th>1</th>\n",
       "      <td>Albania</td>\n",
       "      <td>105</td>\n",
       "    </tr>\n",
       "    <tr>\n",
       "      <th>2</th>\n",
       "      <td>Algeria</td>\n",
       "      <td>57</td>\n",
       "    </tr>\n",
       "    <tr>\n",
       "      <th>3</th>\n",
       "      <td>Angola</td>\n",
       "      <td>44</td>\n",
       "    </tr>\n",
       "    <tr>\n",
       "      <th>4</th>\n",
       "      <td>Argentina</td>\n",
       "      <td>194</td>\n",
       "    </tr>\n",
       "    <tr>\n",
       "      <th>...</th>\n",
       "      <td>...</td>\n",
       "      <td>...</td>\n",
       "    </tr>\n",
       "    <tr>\n",
       "      <th>169</th>\n",
       "      <td>Vietnam North</td>\n",
       "      <td>23</td>\n",
       "    </tr>\n",
       "    <tr>\n",
       "      <th>170</th>\n",
       "      <td>Yemen</td>\n",
       "      <td>29</td>\n",
       "    </tr>\n",
       "    <tr>\n",
       "      <th>171</th>\n",
       "      <td>Yugoslavia</td>\n",
       "      <td>71</td>\n",
       "    </tr>\n",
       "    <tr>\n",
       "      <th>172</th>\n",
       "      <td>Zambia</td>\n",
       "      <td>55</td>\n",
       "    </tr>\n",
       "    <tr>\n",
       "      <th>173</th>\n",
       "      <td>Zimbabwe</td>\n",
       "      <td>39</td>\n",
       "    </tr>\n",
       "  </tbody>\n",
       "</table>\n",
       "<p>174 rows × 2 columns</p>\n",
       "</div>"
      ],
      "text/plain": [
       "           country  number\n",
       "0      Afghanistan     196\n",
       "1          Albania     105\n",
       "2          Algeria      57\n",
       "3           Angola      44\n",
       "4        Argentina     194\n",
       "..             ...     ...\n",
       "169  Vietnam North      23\n",
       "170          Yemen      29\n",
       "171     Yugoslavia      71\n",
       "172         Zambia      55\n",
       "173       Zimbabwe      39\n",
       "\n",
       "[174 rows x 2 columns]"
      ]
     },
     "execution_count": 21,
     "metadata": {},
     "output_type": "execute_result"
    }
   ],
   "source": [
    "#We create a dataframe with a column that represents the number of observations we have for polity2 by country\n",
    "\n",
    "df_number = df_clean2.groupby('country').size().reset_index(name='number')\n",
    "df_number\n"
   ]
  },
  {
   "cell_type": "code",
   "execution_count": 1,
   "id": "53846332-57ef-4909-8367-5ffd2d737eee",
   "metadata": {},
   "outputs": [
    {
     "ename": "NameError",
     "evalue": "name 'px' is not defined",
     "output_type": "error",
     "traceback": [
      "\u001b[0;31m---------------------------------------------------------------------------\u001b[0m",
      "\u001b[0;31mNameError\u001b[0m                                 Traceback (most recent call last)",
      "Input \u001b[0;32mIn [1]\u001b[0m, in \u001b[0;36m<cell line: 3>\u001b[0;34m()\u001b[0m\n\u001b[1;32m      1\u001b[0m \u001b[38;5;66;03m# Answer 4d\u001b[39;00m\n\u001b[0;32m----> 3\u001b[0m map_poly \u001b[38;5;241m=\u001b[39m \u001b[43mpx\u001b[49m\u001b[38;5;241m.\u001b[39mchoropleth(\n\u001b[1;32m      4\u001b[0m     df_number,                                 \u001b[38;5;66;03m# dataframe as argument\u001b[39;00m\n\u001b[1;32m      5\u001b[0m     locations\u001b[38;5;241m=\u001b[39m\u001b[38;5;124m\"\u001b[39m\u001b[38;5;124mcountry\u001b[39m\u001b[38;5;124m\"\u001b[39m,                       \u001b[38;5;66;03m# column name with location\u001b[39;00m\n\u001b[1;32m      6\u001b[0m     locationmode\u001b[38;5;241m=\u001b[39m\u001b[38;5;124m\"\u001b[39m\u001b[38;5;124mcountry names\u001b[39m\u001b[38;5;124m\"\u001b[39m,                   \u001b[38;5;66;03m# location method\u001b[39;00m\n\u001b[1;32m      7\u001b[0m     color\u001b[38;5;241m=\u001b[39m\u001b[38;5;124m\"\u001b[39m\u001b[38;5;124mnumber\u001b[39m\u001b[38;5;124m\"\u001b[39m,                       \u001b[38;5;66;03m# color countries with altruism value\u001b[39;00m\n\u001b[1;32m      8\u001b[0m     color_continuous_scale\u001b[38;5;241m=\u001b[39mpx\u001b[38;5;241m.\u001b[39mcolors\u001b[38;5;241m.\u001b[39msequential\u001b[38;5;241m.\u001b[39mPlasma,   \u001b[38;5;66;03m# choice of colors\u001b[39;00m\n\u001b[1;32m      9\u001b[0m )\n\u001b[1;32m     10\u001b[0m map_poly\u001b[38;5;241m.\u001b[39mupdate_layout( \n\u001b[1;32m     11\u001b[0m     title\u001b[38;5;241m=\u001b[39m{                                \u001b[38;5;66;03m# Add a title, centered on top\u001b[39;00m\n\u001b[1;32m     12\u001b[0m         \u001b[38;5;124m'\u001b[39m\u001b[38;5;124mtext\u001b[39m\u001b[38;5;124m'\u001b[39m: \u001b[38;5;124m\"\u001b[39m\u001b[38;5;124mObservations of polity2 by country\u001b[39m\u001b[38;5;124m\"\u001b[39m,\n\u001b[0;32m   (...)\u001b[0m\n\u001b[1;32m     15\u001b[0m         \u001b[38;5;124m'\u001b[39m\u001b[38;5;124mxanchor\u001b[39m\u001b[38;5;124m'\u001b[39m: \u001b[38;5;124m'\u001b[39m\u001b[38;5;124mcenter\u001b[39m\u001b[38;5;124m'\u001b[39m,\n\u001b[1;32m     16\u001b[0m         \u001b[38;5;124m'\u001b[39m\u001b[38;5;124myanchor\u001b[39m\u001b[38;5;124m'\u001b[39m: \u001b[38;5;124m'\u001b[39m\u001b[38;5;124mtop\u001b[39m\u001b[38;5;124m'\u001b[39m})\n\u001b[1;32m     17\u001b[0m map_poly\u001b[38;5;241m.\u001b[39mshow()\n",
      "\u001b[0;31mNameError\u001b[0m: name 'px' is not defined"
     ]
    }
   ],
   "source": [
    "# Answer 4d\n",
    "\n",
    "map_poly = px.choropleth(\n",
    "    df_number,                                 # dataframe as argument\n",
    "    locations=\"country\",                       # column name with location\n",
    "    locationmode=\"country names\",                   # location method\n",
    "    color=\"number\",                       # color countries with altruism value\n",
    "    color_continuous_scale=px.colors.sequential.Plasma,   # choice of colors\n",
    ")\n",
    "map_poly.update_layout( \n",
    "    title={                                # Add a title, centered on top\n",
    "        'text': \"Observations of polity2 by country\",\n",
    "        'y':0.9,\n",
    "        'x':0.5,\n",
    "        'xanchor': 'center',\n",
    "        'yanchor': 'top'})\n",
    "map_poly.show()\n",
    "\n",
    "\n",
    "\n"
   ]
  },
  {
   "cell_type": "markdown",
   "id": "bba5258b-9ef6-4e9d-bf52-29a0d7ebc9b7",
   "metadata": {},
   "source": [
    "4e) Store the final dataframe (the one you obtained after 4d) in an object called df_pol **(1 point)**"
   ]
  },
  {
   "cell_type": "code",
   "execution_count": 23,
   "id": "7bb74cbc-5356-4e4b-b5b4-a5174c9ced76",
   "metadata": {},
   "outputs": [
    {
     "data": {
      "text/html": [
       "<div>\n",
       "<style scoped>\n",
       "    .dataframe tbody tr th:only-of-type {\n",
       "        vertical-align: middle;\n",
       "    }\n",
       "\n",
       "    .dataframe tbody tr th {\n",
       "        vertical-align: top;\n",
       "    }\n",
       "\n",
       "    .dataframe thead th {\n",
       "        text-align: right;\n",
       "    }\n",
       "</style>\n",
       "<table border=\"1\" class=\"dataframe\">\n",
       "  <thead>\n",
       "    <tr style=\"text-align: right;\">\n",
       "      <th></th>\n",
       "      <th>iso3</th>\n",
       "      <th>country</th>\n",
       "      <th>year</th>\n",
       "      <th>polity2</th>\n",
       "    </tr>\n",
       "  </thead>\n",
       "  <tbody>\n",
       "    <tr>\n",
       "      <th>0</th>\n",
       "      <td>MNE</td>\n",
       "      <td>Montenegro</td>\n",
       "      <td>2011</td>\n",
       "      <td>9.0</td>\n",
       "    </tr>\n",
       "    <tr>\n",
       "      <th>1</th>\n",
       "      <td>SRB</td>\n",
       "      <td>Serbia</td>\n",
       "      <td>2011</td>\n",
       "      <td>8.0</td>\n",
       "    </tr>\n",
       "    <tr>\n",
       "      <th>2</th>\n",
       "      <td>SSD</td>\n",
       "      <td>South Sudan</td>\n",
       "      <td>2011</td>\n",
       "      <td>0.0</td>\n",
       "    </tr>\n",
       "    <tr>\n",
       "      <th>3</th>\n",
       "      <td>ETH</td>\n",
       "      <td>Ethiopia</td>\n",
       "      <td>2011</td>\n",
       "      <td>-3.0</td>\n",
       "    </tr>\n",
       "    <tr>\n",
       "      <th>4</th>\n",
       "      <td>SDN</td>\n",
       "      <td>Sudan-North</td>\n",
       "      <td>2011</td>\n",
       "      <td>-4.0</td>\n",
       "    </tr>\n",
       "    <tr>\n",
       "      <th>...</th>\n",
       "      <td>...</td>\n",
       "      <td>...</td>\n",
       "      <td>...</td>\n",
       "      <td>...</td>\n",
       "    </tr>\n",
       "    <tr>\n",
       "      <th>16101</th>\n",
       "      <td>ZWE</td>\n",
       "      <td>Zimbabwe</td>\n",
       "      <td>2014</td>\n",
       "      <td>4.0</td>\n",
       "    </tr>\n",
       "    <tr>\n",
       "      <th>16102</th>\n",
       "      <td>ZWE</td>\n",
       "      <td>Zimbabwe</td>\n",
       "      <td>2015</td>\n",
       "      <td>4.0</td>\n",
       "    </tr>\n",
       "    <tr>\n",
       "      <th>16103</th>\n",
       "      <td>ZWE</td>\n",
       "      <td>Zimbabwe</td>\n",
       "      <td>2016</td>\n",
       "      <td>4.0</td>\n",
       "    </tr>\n",
       "    <tr>\n",
       "      <th>16104</th>\n",
       "      <td>ZWE</td>\n",
       "      <td>Zimbabwe</td>\n",
       "      <td>2017</td>\n",
       "      <td>4.0</td>\n",
       "    </tr>\n",
       "    <tr>\n",
       "      <th>16105</th>\n",
       "      <td>ZWE</td>\n",
       "      <td>Zimbabwe</td>\n",
       "      <td>2018</td>\n",
       "      <td>4.0</td>\n",
       "    </tr>\n",
       "  </tbody>\n",
       "</table>\n",
       "<p>16106 rows × 4 columns</p>\n",
       "</div>"
      ],
      "text/plain": [
       "      iso3      country  year  polity2\n",
       "0      MNE   Montenegro  2011      9.0\n",
       "1      SRB       Serbia  2011      8.0\n",
       "2      SSD  South Sudan  2011      0.0\n",
       "3      ETH     Ethiopia  2011     -3.0\n",
       "4      SDN  Sudan-North  2011     -4.0\n",
       "...    ...          ...   ...      ...\n",
       "16101  ZWE     Zimbabwe  2014      4.0\n",
       "16102  ZWE     Zimbabwe  2015      4.0\n",
       "16103  ZWE     Zimbabwe  2016      4.0\n",
       "16104  ZWE     Zimbabwe  2017      4.0\n",
       "16105  ZWE     Zimbabwe  2018      4.0\n",
       "\n",
       "[16106 rows x 4 columns]"
      ]
     },
     "execution_count": 23,
     "metadata": {},
     "output_type": "execute_result"
    }
   ],
   "source": [
    "# Answer 4e\n",
    "df_pol = df_clean3.reset_index(drop = True)\n",
    "df_pol"
   ]
  },
  {
   "cell_type": "markdown",
   "id": "ac1b6cd3-101d-4343-b76d-d97583fe33ca",
   "metadata": {
    "tags": []
   },
   "source": [
    "## Quality of Government Environmental Indicators <a class=\"anchor\" id=\"qog\"></a>"
   ]
  },
  {
   "cell_type": "markdown",
   "id": "af58204e-f401-4b6e-b64a-c9d098faa0f2",
   "metadata": {},
   "source": [
    "The QoG Environmental Indicators dataset (QoG-EI) (Povitkina, Marina, Natalia Alvarado Pachon & Cem Mert Dalli. 2021). The Quality of Government Environmental Indicators Dataset, version Sep21. University of Gothenburg: The Quality of Government Institute, https://www.gu.se/en/quality-government), is a compilation of indicators measuring countries' environmental performance over time, including the presence and stringency of environmental policies, environmental outcomes (emissions, deforestation, etc.), and public opinion on the environment. Codebook and data are available [here](https://www.gu.se/en/quality-government/qog-data/data-downloads/environmental-indicators-dataset)."
   ]
  },
  {
   "cell_type": "markdown",
   "id": "c0dc77f2-25d1-41ce-930a-c25a05ac9cdc",
   "metadata": {},
   "source": [
    "### Question 5: Import the data and do few fixes <a class=\"anchor\" id=\"question5\"></a>"
   ]
  },
  {
   "cell_type": "markdown",
   "id": "9959796a-3340-4231-838c-a4e2cba4262c",
   "metadata": {},
   "source": [
    "5a) Import data from the Quality of Government Environmental Indicators Dataset and display the variables types and the number of rows **(1 point)**\n",
    "<br>\n",
    "Hint: When you go on the webpage of the Environmental Indicators Dataset, you can directly import from a URL by copying the link address of the dataset! "
   ]
  },
  {
   "cell_type": "code",
   "execution_count": 24,
   "id": "501ef767-dca9-426e-9e34-1335038b3b6f",
   "metadata": {},
   "outputs": [
    {
     "data": {
      "text/plain": [
       "Unnamed: 0      int64\n",
       "cname          object\n",
       "ccode         float64\n",
       "year            int64\n",
       "cname_qog      object\n",
       "               ...   \n",
       "wvs_epmip     float64\n",
       "wvs_epmpp     float64\n",
       "wvs_imeop     float64\n",
       "wvs_pedp      float64\n",
       "wvs_ploem     float64\n",
       "Length: 415, dtype: object"
      ]
     },
     "execution_count": 24,
     "metadata": {},
     "output_type": "execute_result"
    }
   ],
   "source": [
    "# Answer 5a\n",
    "url = 'https://www.qogdata.pol.gu.se/data/qog_ei_sept21.csv'\n",
    "df1 = pd.read_csv(url, encoding = 'latin-1')\n",
    "df1.dtypes"
   ]
  },
  {
   "cell_type": "code",
   "execution_count": 25,
   "id": "b9258957",
   "metadata": {},
   "outputs": [
    {
     "name": "stdout",
     "output_type": "stream",
     "text": [
      "The number of rows is 15225\n"
     ]
    }
   ],
   "source": [
    "rows = df1.shape[0]\n",
    "print('The number of rows is' , rows)\n"
   ]
  },
  {
   "cell_type": "markdown",
   "id": "130a8293-d098-4a79-a803-50d52f6b63b3",
   "metadata": {},
   "source": [
    "5b) Rename the variable \"ccodealp\" to \"iso3\" **(1 point)**"
   ]
  },
  {
   "cell_type": "code",
   "execution_count": 26,
   "id": "fc0e78d3-06b3-418c-81b8-05bbef009ced",
   "metadata": {},
   "outputs": [],
   "source": [
    "# Answer 5b\n",
    "df1.rename(columns={\"ccodealp\": \"iso3\"}, inplace = True)\n"
   ]
  },
  {
   "cell_type": "markdown",
   "id": "1b3b34e8-0daa-4481-9b1b-61e7d318c571",
   "metadata": {},
   "source": [
    "5c) Check the type of the variables \"year\" and \"iso3\" are string, if not convert them to string **(1 point)**"
   ]
  },
  {
   "cell_type": "code",
   "execution_count": 27,
   "id": "c1993423-8edf-4bb0-8ea0-69034fce5a2c",
   "metadata": {},
   "outputs": [
    {
     "name": "stdout",
     "output_type": "stream",
     "text": [
      "int64\n",
      "object\n"
     ]
    }
   ],
   "source": [
    "# Answer 5c\n",
    "\n",
    "print(df1.year.dtype)\n",
    "print(df1.iso3.dtype)\n"
   ]
  },
  {
   "cell_type": "code",
   "execution_count": 28,
   "id": "baf8b65d",
   "metadata": {},
   "outputs": [
    {
     "name": "stdout",
     "output_type": "stream",
     "text": [
      "object\n"
     ]
    }
   ],
   "source": [
    "df1['year'] = df1['year'].apply(str)\n",
    "print(df1.year.dtype)"
   ]
  },
  {
   "cell_type": "markdown",
   "id": "222b61d4-55aa-439b-823f-67aad3f6fc16",
   "metadata": {},
   "source": [
    "### Question 6: Merge QOG and Polity5 ... issues with QOG? <a class=\"anchor\" id=\"question6\"></a>"
   ]
  },
  {
   "cell_type": "markdown",
   "id": "f6f8af7f-3b38-4834-90b4-e1cbbb7b7359",
   "metadata": {},
   "source": [
    "6a) Get a subset of the dataframe that includes the variables \"cname\", \"iso3\", \"year\" and \"cckp_temp\", and display the number of rows. **(1 point)**"
   ]
  },
  {
   "cell_type": "code",
   "execution_count": 29,
   "id": "8736cd36-ed4e-4dbd-96a9-c3d51bd343be",
   "metadata": {},
   "outputs": [
    {
     "data": {
      "text/html": [
       "<div>\n",
       "<style scoped>\n",
       "    .dataframe tbody tr th:only-of-type {\n",
       "        vertical-align: middle;\n",
       "    }\n",
       "\n",
       "    .dataframe tbody tr th {\n",
       "        vertical-align: top;\n",
       "    }\n",
       "\n",
       "    .dataframe thead th {\n",
       "        text-align: right;\n",
       "    }\n",
       "</style>\n",
       "<table border=\"1\" class=\"dataframe\">\n",
       "  <thead>\n",
       "    <tr style=\"text-align: right;\">\n",
       "      <th></th>\n",
       "      <th>cname</th>\n",
       "      <th>iso3</th>\n",
       "      <th>year</th>\n",
       "      <th>cckp_temp</th>\n",
       "    </tr>\n",
       "  </thead>\n",
       "  <tbody>\n",
       "    <tr>\n",
       "      <th>0</th>\n",
       "      <td>Afghanistan</td>\n",
       "      <td>AFG</td>\n",
       "      <td>1946</td>\n",
       "      <td>13.158333</td>\n",
       "    </tr>\n",
       "    <tr>\n",
       "      <th>1</th>\n",
       "      <td>Afghanistan</td>\n",
       "      <td>AFG</td>\n",
       "      <td>1947</td>\n",
       "      <td>13.658333</td>\n",
       "    </tr>\n",
       "    <tr>\n",
       "      <th>2</th>\n",
       "      <td>Afghanistan</td>\n",
       "      <td>AFG</td>\n",
       "      <td>1948</td>\n",
       "      <td>12.925000</td>\n",
       "    </tr>\n",
       "    <tr>\n",
       "      <th>3</th>\n",
       "      <td>Afghanistan</td>\n",
       "      <td>AFG</td>\n",
       "      <td>1949</td>\n",
       "      <td>12.041667</td>\n",
       "    </tr>\n",
       "    <tr>\n",
       "      <th>4</th>\n",
       "      <td>Afghanistan</td>\n",
       "      <td>AFG</td>\n",
       "      <td>1950</td>\n",
       "      <td>11.583333</td>\n",
       "    </tr>\n",
       "    <tr>\n",
       "      <th>...</th>\n",
       "      <td>...</td>\n",
       "      <td>...</td>\n",
       "      <td>...</td>\n",
       "      <td>...</td>\n",
       "    </tr>\n",
       "    <tr>\n",
       "      <th>15220</th>\n",
       "      <td>South Vietnam</td>\n",
       "      <td>VDR</td>\n",
       "      <td>2016</td>\n",
       "      <td>NaN</td>\n",
       "    </tr>\n",
       "    <tr>\n",
       "      <th>15221</th>\n",
       "      <td>South Vietnam</td>\n",
       "      <td>VDR</td>\n",
       "      <td>2017</td>\n",
       "      <td>NaN</td>\n",
       "    </tr>\n",
       "    <tr>\n",
       "      <th>15222</th>\n",
       "      <td>South Vietnam</td>\n",
       "      <td>VDR</td>\n",
       "      <td>2018</td>\n",
       "      <td>NaN</td>\n",
       "    </tr>\n",
       "    <tr>\n",
       "      <th>15223</th>\n",
       "      <td>South Vietnam</td>\n",
       "      <td>VDR</td>\n",
       "      <td>2019</td>\n",
       "      <td>NaN</td>\n",
       "    </tr>\n",
       "    <tr>\n",
       "      <th>15224</th>\n",
       "      <td>South Vietnam</td>\n",
       "      <td>VDR</td>\n",
       "      <td>2020</td>\n",
       "      <td>NaN</td>\n",
       "    </tr>\n",
       "  </tbody>\n",
       "</table>\n",
       "<p>15225 rows × 4 columns</p>\n",
       "</div>"
      ],
      "text/plain": [
       "               cname iso3  year  cckp_temp\n",
       "0        Afghanistan  AFG  1946  13.158333\n",
       "1        Afghanistan  AFG  1947  13.658333\n",
       "2        Afghanistan  AFG  1948  12.925000\n",
       "3        Afghanistan  AFG  1949  12.041667\n",
       "4        Afghanistan  AFG  1950  11.583333\n",
       "...              ...  ...   ...        ...\n",
       "15220  South Vietnam  VDR  2016        NaN\n",
       "15221  South Vietnam  VDR  2017        NaN\n",
       "15222  South Vietnam  VDR  2018        NaN\n",
       "15223  South Vietnam  VDR  2019        NaN\n",
       "15224  South Vietnam  VDR  2020        NaN\n",
       "\n",
       "[15225 rows x 4 columns]"
      ]
     },
     "execution_count": 29,
     "metadata": {},
     "output_type": "execute_result"
    }
   ],
   "source": [
    "# Answer 6a - sub-dataframe\n",
    "\n",
    "subdf1 = df1.loc[:,('cname','iso3','year','cckp_temp')]\n",
    "subdf1\n",
    "\n"
   ]
  },
  {
   "cell_type": "code",
   "execution_count": 30,
   "id": "e9816c1b",
   "metadata": {},
   "outputs": [
    {
     "name": "stdout",
     "output_type": "stream",
     "text": [
      "The number of rows is 15225\n"
     ]
    }
   ],
   "source": [
    "# Answer 6a - number of rows\n",
    "rows = subdf1.shape[0]\n",
    "print('The number of rows is' , rows)"
   ]
  },
  {
   "cell_type": "markdown",
   "id": "195a0373-fab5-4346-bed7-3500ed9aced0",
   "metadata": {},
   "source": [
    "6b) Merge this subset (left) and the clean version of the polity data (right), using the argument how=\"left\". Was the merge succesfull? If yes, how many rows has the merged dataframe? Is it the same number of rows of the subset in 6a? **(1 point)**"
   ]
  },
  {
   "cell_type": "code",
   "execution_count": 121,
   "id": "2bb2b0ba-fdd7-474a-9241-6d96e6eca6f0",
   "metadata": {},
   "outputs": [
    {
     "data": {
      "text/html": [
       "<div>\n",
       "<style scoped>\n",
       "    .dataframe tbody tr th:only-of-type {\n",
       "        vertical-align: middle;\n",
       "    }\n",
       "\n",
       "    .dataframe tbody tr th {\n",
       "        vertical-align: top;\n",
       "    }\n",
       "\n",
       "    .dataframe thead th {\n",
       "        text-align: right;\n",
       "    }\n",
       "</style>\n",
       "<table border=\"1\" class=\"dataframe\">\n",
       "  <thead>\n",
       "    <tr style=\"text-align: right;\">\n",
       "      <th></th>\n",
       "      <th>cname</th>\n",
       "      <th>iso3</th>\n",
       "      <th>year</th>\n",
       "      <th>cckp_temp</th>\n",
       "      <th>country</th>\n",
       "      <th>polity2</th>\n",
       "    </tr>\n",
       "  </thead>\n",
       "  <tbody>\n",
       "    <tr>\n",
       "      <th>0</th>\n",
       "      <td>Afghanistan</td>\n",
       "      <td>AFG</td>\n",
       "      <td>1946</td>\n",
       "      <td>13.158333</td>\n",
       "      <td>Afghanistan</td>\n",
       "      <td>-10.0</td>\n",
       "    </tr>\n",
       "    <tr>\n",
       "      <th>1</th>\n",
       "      <td>Afghanistan</td>\n",
       "      <td>AFG</td>\n",
       "      <td>1947</td>\n",
       "      <td>13.658333</td>\n",
       "      <td>Afghanistan</td>\n",
       "      <td>-10.0</td>\n",
       "    </tr>\n",
       "    <tr>\n",
       "      <th>2</th>\n",
       "      <td>Afghanistan</td>\n",
       "      <td>AFG</td>\n",
       "      <td>1948</td>\n",
       "      <td>12.925000</td>\n",
       "      <td>Afghanistan</td>\n",
       "      <td>-10.0</td>\n",
       "    </tr>\n",
       "    <tr>\n",
       "      <th>3</th>\n",
       "      <td>Afghanistan</td>\n",
       "      <td>AFG</td>\n",
       "      <td>1949</td>\n",
       "      <td>12.041667</td>\n",
       "      <td>Afghanistan</td>\n",
       "      <td>-10.0</td>\n",
       "    </tr>\n",
       "    <tr>\n",
       "      <th>4</th>\n",
       "      <td>Afghanistan</td>\n",
       "      <td>AFG</td>\n",
       "      <td>1950</td>\n",
       "      <td>11.583333</td>\n",
       "      <td>Afghanistan</td>\n",
       "      <td>-10.0</td>\n",
       "    </tr>\n",
       "    <tr>\n",
       "      <th>...</th>\n",
       "      <td>...</td>\n",
       "      <td>...</td>\n",
       "      <td>...</td>\n",
       "      <td>...</td>\n",
       "      <td>...</td>\n",
       "      <td>...</td>\n",
       "    </tr>\n",
       "    <tr>\n",
       "      <th>15145</th>\n",
       "      <td>South Vietnam</td>\n",
       "      <td>VDR</td>\n",
       "      <td>2016</td>\n",
       "      <td>NaN</td>\n",
       "      <td>NaN</td>\n",
       "      <td>NaN</td>\n",
       "    </tr>\n",
       "    <tr>\n",
       "      <th>15146</th>\n",
       "      <td>South Vietnam</td>\n",
       "      <td>VDR</td>\n",
       "      <td>2017</td>\n",
       "      <td>NaN</td>\n",
       "      <td>NaN</td>\n",
       "      <td>NaN</td>\n",
       "    </tr>\n",
       "    <tr>\n",
       "      <th>15147</th>\n",
       "      <td>South Vietnam</td>\n",
       "      <td>VDR</td>\n",
       "      <td>2018</td>\n",
       "      <td>NaN</td>\n",
       "      <td>NaN</td>\n",
       "      <td>NaN</td>\n",
       "    </tr>\n",
       "    <tr>\n",
       "      <th>15148</th>\n",
       "      <td>South Vietnam</td>\n",
       "      <td>VDR</td>\n",
       "      <td>2019</td>\n",
       "      <td>NaN</td>\n",
       "      <td>NaN</td>\n",
       "      <td>NaN</td>\n",
       "    </tr>\n",
       "    <tr>\n",
       "      <th>15149</th>\n",
       "      <td>South Vietnam</td>\n",
       "      <td>VDR</td>\n",
       "      <td>2020</td>\n",
       "      <td>NaN</td>\n",
       "      <td>NaN</td>\n",
       "      <td>NaN</td>\n",
       "    </tr>\n",
       "  </tbody>\n",
       "</table>\n",
       "<p>15150 rows × 6 columns</p>\n",
       "</div>"
      ],
      "text/plain": [
       "               cname iso3  year  cckp_temp      country  polity2\n",
       "0        Afghanistan  AFG  1946  13.158333  Afghanistan    -10.0\n",
       "1        Afghanistan  AFG  1947  13.658333  Afghanistan    -10.0\n",
       "2        Afghanistan  AFG  1948  12.925000  Afghanistan    -10.0\n",
       "3        Afghanistan  AFG  1949  12.041667  Afghanistan    -10.0\n",
       "4        Afghanistan  AFG  1950  11.583333  Afghanistan    -10.0\n",
       "...              ...  ...   ...        ...          ...      ...\n",
       "15145  South Vietnam  VDR  2016        NaN          NaN      NaN\n",
       "15146  South Vietnam  VDR  2017        NaN          NaN      NaN\n",
       "15147  South Vietnam  VDR  2018        NaN          NaN      NaN\n",
       "15148  South Vietnam  VDR  2019        NaN          NaN      NaN\n",
       "15149  South Vietnam  VDR  2020        NaN          NaN      NaN\n",
       "\n",
       "[15150 rows x 6 columns]"
      ]
     },
     "execution_count": 121,
     "metadata": {},
     "output_type": "execute_result"
    }
   ],
   "source": [
    "# Answer 6b\n",
    "df_merged = pd.merge(subdf1,df_pol, how = 'left')\n",
    "df_merged\n",
    "\n",
    "#We have more rows now, probably because we have duplicate observations in this new dataframe, i.e several iso3\n",
    "# and year observations for the same country "
   ]
  },
  {
   "cell_type": "markdown",
   "id": "652e5a50-5bda-4331-82a9-9cfe09a365cb",
   "metadata": {},
   "source": [
    "6c) Do the same by adding the argument validate=\"one-to-one\". Can you make some hypotheses on why you get an error? **(1 point)**"
   ]
  },
  {
   "cell_type": "code",
   "execution_count": 32,
   "id": "fee8e0a9-75e7-4c37-80ad-3f5ddef8d602",
   "metadata": {},
   "outputs": [
    {
     "ename": "ValueError",
     "evalue": "Not a valid argument for validate",
     "output_type": "error",
     "traceback": [
      "\u001b[0;31m---------------------------------------------------------------------------\u001b[0m",
      "\u001b[0;31mValueError\u001b[0m                                Traceback (most recent call last)",
      "Input \u001b[0;32mIn [32]\u001b[0m, in \u001b[0;36m<cell line: 3>\u001b[0;34m()\u001b[0m\n\u001b[1;32m      1\u001b[0m \u001b[38;5;66;03m# Answer 6c\u001b[39;00m\n\u001b[0;32m----> 3\u001b[0m df_merged1 \u001b[38;5;241m=\u001b[39m \u001b[43mpd\u001b[49m\u001b[38;5;241;43m.\u001b[39;49m\u001b[43mmerge\u001b[49m\u001b[43m(\u001b[49m\u001b[43msubdf1\u001b[49m\u001b[43m,\u001b[49m\u001b[43mdf_clean2\u001b[49m\u001b[43m,\u001b[49m\u001b[43m \u001b[49m\u001b[43mhow\u001b[49m\u001b[43m \u001b[49m\u001b[38;5;241;43m=\u001b[39;49m\u001b[43m \u001b[49m\u001b[38;5;124;43m'\u001b[39;49m\u001b[38;5;124;43mleft\u001b[39;49m\u001b[38;5;124;43m'\u001b[39;49m\u001b[43m,\u001b[49m\u001b[43m \u001b[49m\u001b[43mvalidate\u001b[49m\u001b[38;5;241;43m=\u001b[39;49m\u001b[38;5;124;43m'\u001b[39;49m\u001b[38;5;124;43mone-to-one\u001b[39;49m\u001b[38;5;124;43m'\u001b[39;49m\u001b[43m)\u001b[49m\n",
      "File \u001b[0;32m~/opt/anaconda3/lib/python3.9/site-packages/pandas/core/reshape/merge.py:107\u001b[0m, in \u001b[0;36mmerge\u001b[0;34m(left, right, how, on, left_on, right_on, left_index, right_index, sort, suffixes, copy, indicator, validate)\u001b[0m\n\u001b[1;32m     90\u001b[0m \u001b[38;5;129m@Substitution\u001b[39m(\u001b[38;5;124m\"\u001b[39m\u001b[38;5;130;01m\\n\u001b[39;00m\u001b[38;5;124mleft : DataFrame or named Series\u001b[39m\u001b[38;5;124m\"\u001b[39m)\n\u001b[1;32m     91\u001b[0m \u001b[38;5;129m@Appender\u001b[39m(_merge_doc, indents\u001b[38;5;241m=\u001b[39m\u001b[38;5;241m0\u001b[39m)\n\u001b[1;32m     92\u001b[0m \u001b[38;5;28;01mdef\u001b[39;00m \u001b[38;5;21mmerge\u001b[39m(\n\u001b[0;32m   (...)\u001b[0m\n\u001b[1;32m    105\u001b[0m     validate: \u001b[38;5;28mstr\u001b[39m \u001b[38;5;241m|\u001b[39m \u001b[38;5;28;01mNone\u001b[39;00m \u001b[38;5;241m=\u001b[39m \u001b[38;5;28;01mNone\u001b[39;00m,\n\u001b[1;32m    106\u001b[0m ) \u001b[38;5;241m-\u001b[39m\u001b[38;5;241m>\u001b[39m DataFrame:\n\u001b[0;32m--> 107\u001b[0m     op \u001b[38;5;241m=\u001b[39m \u001b[43m_MergeOperation\u001b[49m\u001b[43m(\u001b[49m\n\u001b[1;32m    108\u001b[0m \u001b[43m        \u001b[49m\u001b[43mleft\u001b[49m\u001b[43m,\u001b[49m\n\u001b[1;32m    109\u001b[0m \u001b[43m        \u001b[49m\u001b[43mright\u001b[49m\u001b[43m,\u001b[49m\n\u001b[1;32m    110\u001b[0m \u001b[43m        \u001b[49m\u001b[43mhow\u001b[49m\u001b[38;5;241;43m=\u001b[39;49m\u001b[43mhow\u001b[49m\u001b[43m,\u001b[49m\n\u001b[1;32m    111\u001b[0m \u001b[43m        \u001b[49m\u001b[43mon\u001b[49m\u001b[38;5;241;43m=\u001b[39;49m\u001b[43mon\u001b[49m\u001b[43m,\u001b[49m\n\u001b[1;32m    112\u001b[0m \u001b[43m        \u001b[49m\u001b[43mleft_on\u001b[49m\u001b[38;5;241;43m=\u001b[39;49m\u001b[43mleft_on\u001b[49m\u001b[43m,\u001b[49m\n\u001b[1;32m    113\u001b[0m \u001b[43m        \u001b[49m\u001b[43mright_on\u001b[49m\u001b[38;5;241;43m=\u001b[39;49m\u001b[43mright_on\u001b[49m\u001b[43m,\u001b[49m\n\u001b[1;32m    114\u001b[0m \u001b[43m        \u001b[49m\u001b[43mleft_index\u001b[49m\u001b[38;5;241;43m=\u001b[39;49m\u001b[43mleft_index\u001b[49m\u001b[43m,\u001b[49m\n\u001b[1;32m    115\u001b[0m \u001b[43m        \u001b[49m\u001b[43mright_index\u001b[49m\u001b[38;5;241;43m=\u001b[39;49m\u001b[43mright_index\u001b[49m\u001b[43m,\u001b[49m\n\u001b[1;32m    116\u001b[0m \u001b[43m        \u001b[49m\u001b[43msort\u001b[49m\u001b[38;5;241;43m=\u001b[39;49m\u001b[43msort\u001b[49m\u001b[43m,\u001b[49m\n\u001b[1;32m    117\u001b[0m \u001b[43m        \u001b[49m\u001b[43msuffixes\u001b[49m\u001b[38;5;241;43m=\u001b[39;49m\u001b[43msuffixes\u001b[49m\u001b[43m,\u001b[49m\n\u001b[1;32m    118\u001b[0m \u001b[43m        \u001b[49m\u001b[43mcopy\u001b[49m\u001b[38;5;241;43m=\u001b[39;49m\u001b[43mcopy\u001b[49m\u001b[43m,\u001b[49m\n\u001b[1;32m    119\u001b[0m \u001b[43m        \u001b[49m\u001b[43mindicator\u001b[49m\u001b[38;5;241;43m=\u001b[39;49m\u001b[43mindicator\u001b[49m\u001b[43m,\u001b[49m\n\u001b[1;32m    120\u001b[0m \u001b[43m        \u001b[49m\u001b[43mvalidate\u001b[49m\u001b[38;5;241;43m=\u001b[39;49m\u001b[43mvalidate\u001b[49m\u001b[43m,\u001b[49m\n\u001b[1;32m    121\u001b[0m \u001b[43m    \u001b[49m\u001b[43m)\u001b[49m\n\u001b[1;32m    122\u001b[0m     \u001b[38;5;28;01mreturn\u001b[39;00m op\u001b[38;5;241m.\u001b[39mget_result()\n",
      "File \u001b[0;32m~/opt/anaconda3/lib/python3.9/site-packages/pandas/core/reshape/merge.py:710\u001b[0m, in \u001b[0;36m_MergeOperation.__init__\u001b[0;34m(self, left, right, how, on, left_on, right_on, axis, left_index, right_index, sort, suffixes, copy, indicator, validate)\u001b[0m\n\u001b[1;32m    706\u001b[0m \u001b[38;5;66;03m# If argument passed to validate,\u001b[39;00m\n\u001b[1;32m    707\u001b[0m \u001b[38;5;66;03m# check if columns specified as unique\u001b[39;00m\n\u001b[1;32m    708\u001b[0m \u001b[38;5;66;03m# are in fact unique.\u001b[39;00m\n\u001b[1;32m    709\u001b[0m \u001b[38;5;28;01mif\u001b[39;00m validate \u001b[38;5;129;01mis\u001b[39;00m \u001b[38;5;129;01mnot\u001b[39;00m \u001b[38;5;28;01mNone\u001b[39;00m:\n\u001b[0;32m--> 710\u001b[0m     \u001b[38;5;28;43mself\u001b[39;49m\u001b[38;5;241;43m.\u001b[39;49m\u001b[43m_validate\u001b[49m\u001b[43m(\u001b[49m\u001b[43mvalidate\u001b[49m\u001b[43m)\u001b[49m\n",
      "File \u001b[0;32m~/opt/anaconda3/lib/python3.9/site-packages/pandas/core/reshape/merge.py:1453\u001b[0m, in \u001b[0;36m_MergeOperation._validate\u001b[0;34m(self, validate)\u001b[0m\n\u001b[1;32m   1450\u001b[0m     \u001b[38;5;28;01mpass\u001b[39;00m\n\u001b[1;32m   1452\u001b[0m \u001b[38;5;28;01melse\u001b[39;00m:\n\u001b[0;32m-> 1453\u001b[0m     \u001b[38;5;28;01mraise\u001b[39;00m \u001b[38;5;167;01mValueError\u001b[39;00m(\u001b[38;5;124m\"\u001b[39m\u001b[38;5;124mNot a valid argument for validate\u001b[39m\u001b[38;5;124m\"\u001b[39m)\n",
      "\u001b[0;31mValueError\u001b[0m: Not a valid argument for validate"
     ]
    }
   ],
   "source": [
    "# Answer 6c\n",
    "\n",
    "df_merged1 = pd.merge(subdf1,df_clean2, how = 'left', validate='one-to-one')\n",
    "\n",
    "# 1:1 check if merge keys are unique in both left and right datasets which is not the case here.\n"
   ]
  },
  {
   "cell_type": "markdown",
   "id": "1f8da9ac-de08-460e-b364-40aaf5a9aa34",
   "metadata": {},
   "source": [
    "6d) Consider the subset of the QOG you obtained in 6a and write a code to (i) count the number of observations for the variable \"cckp_temp\" for each combination of iso3 and year, (ii) store the results in a dataframe. For example, the combination \"USA-2012\" should have 1 observation for \"cckp_temp\", so the result of your code should be 1. The code should do this for all iso3-year combinations of your subset dataframe, and store the results in a dataframe. **(1 point)**\n",
    "<br>\n",
    "Hint: it should not take you more than 2 lines of code."
   ]
  },
  {
   "cell_type": "code",
   "execution_count": 33,
   "id": "593a4be8-0760-454d-8f55-e5e0bd18af49",
   "metadata": {},
   "outputs": [
    {
     "data": {
      "text/html": [
       "<div>\n",
       "<style scoped>\n",
       "    .dataframe tbody tr th:only-of-type {\n",
       "        vertical-align: middle;\n",
       "    }\n",
       "\n",
       "    .dataframe tbody tr th {\n",
       "        vertical-align: top;\n",
       "    }\n",
       "\n",
       "    .dataframe thead th {\n",
       "        text-align: right;\n",
       "    }\n",
       "</style>\n",
       "<table border=\"1\" class=\"dataframe\">\n",
       "  <thead>\n",
       "    <tr style=\"text-align: right;\">\n",
       "      <th></th>\n",
       "      <th>iso3</th>\n",
       "      <th>year</th>\n",
       "      <th>counts</th>\n",
       "    </tr>\n",
       "  </thead>\n",
       "  <tbody>\n",
       "    <tr>\n",
       "      <th>0</th>\n",
       "      <td>AFG</td>\n",
       "      <td>1946</td>\n",
       "      <td>1</td>\n",
       "    </tr>\n",
       "    <tr>\n",
       "      <th>1</th>\n",
       "      <td>AFG</td>\n",
       "      <td>1947</td>\n",
       "      <td>1</td>\n",
       "    </tr>\n",
       "    <tr>\n",
       "      <th>2</th>\n",
       "      <td>AFG</td>\n",
       "      <td>1948</td>\n",
       "      <td>1</td>\n",
       "    </tr>\n",
       "    <tr>\n",
       "      <th>3</th>\n",
       "      <td>AFG</td>\n",
       "      <td>1949</td>\n",
       "      <td>1</td>\n",
       "    </tr>\n",
       "    <tr>\n",
       "      <th>4</th>\n",
       "      <td>AFG</td>\n",
       "      <td>1950</td>\n",
       "      <td>1</td>\n",
       "    </tr>\n",
       "    <tr>\n",
       "      <th>...</th>\n",
       "      <td>...</td>\n",
       "      <td>...</td>\n",
       "      <td>...</td>\n",
       "    </tr>\n",
       "    <tr>\n",
       "      <th>15145</th>\n",
       "      <td>ZWE</td>\n",
       "      <td>2016</td>\n",
       "      <td>1</td>\n",
       "    </tr>\n",
       "    <tr>\n",
       "      <th>15146</th>\n",
       "      <td>ZWE</td>\n",
       "      <td>2017</td>\n",
       "      <td>1</td>\n",
       "    </tr>\n",
       "    <tr>\n",
       "      <th>15147</th>\n",
       "      <td>ZWE</td>\n",
       "      <td>2018</td>\n",
       "      <td>1</td>\n",
       "    </tr>\n",
       "    <tr>\n",
       "      <th>15148</th>\n",
       "      <td>ZWE</td>\n",
       "      <td>2019</td>\n",
       "      <td>1</td>\n",
       "    </tr>\n",
       "    <tr>\n",
       "      <th>15149</th>\n",
       "      <td>ZWE</td>\n",
       "      <td>2020</td>\n",
       "      <td>1</td>\n",
       "    </tr>\n",
       "  </tbody>\n",
       "</table>\n",
       "<p>15150 rows × 3 columns</p>\n",
       "</div>"
      ],
      "text/plain": [
       "      iso3  year  counts\n",
       "0      AFG  1946       1\n",
       "1      AFG  1947       1\n",
       "2      AFG  1948       1\n",
       "3      AFG  1949       1\n",
       "4      AFG  1950       1\n",
       "...    ...   ...     ...\n",
       "15145  ZWE  2016       1\n",
       "15146  ZWE  2017       1\n",
       "15147  ZWE  2018       1\n",
       "15148  ZWE  2019       1\n",
       "15149  ZWE  2020       1\n",
       "\n",
       "[15150 rows x 3 columns]"
      ]
     },
     "execution_count": 33,
     "metadata": {},
     "output_type": "execute_result"
    }
   ],
   "source": [
    "# Answer 6d\n",
    "\n",
    "df_obs = subdf1.groupby(['iso3','year']).size().reset_index(name ='counts')\n",
    "df_obs\n"
   ]
  },
  {
   "cell_type": "code",
   "execution_count": 34,
   "id": "d3350000",
   "metadata": {},
   "outputs": [
    {
     "data": {
      "text/html": [
       "<div>\n",
       "<style scoped>\n",
       "    .dataframe tbody tr th:only-of-type {\n",
       "        vertical-align: middle;\n",
       "    }\n",
       "\n",
       "    .dataframe tbody tr th {\n",
       "        vertical-align: top;\n",
       "    }\n",
       "\n",
       "    .dataframe thead th {\n",
       "        text-align: right;\n",
       "    }\n",
       "</style>\n",
       "<table border=\"1\" class=\"dataframe\">\n",
       "  <thead>\n",
       "    <tr style=\"text-align: right;\">\n",
       "      <th></th>\n",
       "      <th>iso3</th>\n",
       "      <th>year</th>\n",
       "      <th>counts</th>\n",
       "    </tr>\n",
       "  </thead>\n",
       "  <tbody>\n",
       "    <tr>\n",
       "      <th>14091</th>\n",
       "      <td>USA</td>\n",
       "      <td>2012</td>\n",
       "      <td>1</td>\n",
       "    </tr>\n",
       "  </tbody>\n",
       "</table>\n",
       "</div>"
      ],
      "text/plain": [
       "      iso3  year  counts\n",
       "14091  USA  2012       1"
      ]
     },
     "execution_count": 34,
     "metadata": {},
     "output_type": "execute_result"
    }
   ],
   "source": [
    "df_obs[(df_obs['iso3'] == 'USA') & (df_obs['year'] == '2012') ]"
   ]
  },
  {
   "cell_type": "markdown",
   "id": "d3e92628-2085-4edf-aed4-8e6db647d9c6",
   "metadata": {},
   "source": [
    "6e) Use the code in 6d to write a function that displays all rows of the dataframe obtained in 6a that have more than one observation of \"\n",
    "\" for each iso3-year combination, and check if it works. **(1 point)**"
   ]
  },
  {
   "cell_type": "code",
   "execution_count": 35,
   "id": "e953896a-28a5-4d38-8ad3-93027c5c4698",
   "metadata": {},
   "outputs": [
    {
     "data": {
      "text/html": [
       "<div>\n",
       "<style scoped>\n",
       "    .dataframe tbody tr th:only-of-type {\n",
       "        vertical-align: middle;\n",
       "    }\n",
       "\n",
       "    .dataframe tbody tr th {\n",
       "        vertical-align: top;\n",
       "    }\n",
       "\n",
       "    .dataframe thead th {\n",
       "        text-align: right;\n",
       "    }\n",
       "</style>\n",
       "<table border=\"1\" class=\"dataframe\">\n",
       "  <thead>\n",
       "    <tr style=\"text-align: right;\">\n",
       "      <th></th>\n",
       "      <th>cname</th>\n",
       "      <th>iso3</th>\n",
       "      <th>year</th>\n",
       "      <th>cckp_temp</th>\n",
       "    </tr>\n",
       "  </thead>\n",
       "  <tbody>\n",
       "    <tr>\n",
       "      <th>11834</th>\n",
       "      <td>Viet Nam</td>\n",
       "      <td>VNM</td>\n",
       "      <td>1946</td>\n",
       "      <td>NaN</td>\n",
       "    </tr>\n",
       "    <tr>\n",
       "      <th>11835</th>\n",
       "      <td>Viet Nam</td>\n",
       "      <td>VNM</td>\n",
       "      <td>1947</td>\n",
       "      <td>NaN</td>\n",
       "    </tr>\n",
       "    <tr>\n",
       "      <th>11836</th>\n",
       "      <td>Viet Nam</td>\n",
       "      <td>VNM</td>\n",
       "      <td>1948</td>\n",
       "      <td>NaN</td>\n",
       "    </tr>\n",
       "    <tr>\n",
       "      <th>11837</th>\n",
       "      <td>Viet Nam</td>\n",
       "      <td>VNM</td>\n",
       "      <td>1949</td>\n",
       "      <td>NaN</td>\n",
       "    </tr>\n",
       "    <tr>\n",
       "      <th>11838</th>\n",
       "      <td>Viet Nam</td>\n",
       "      <td>VNM</td>\n",
       "      <td>1950</td>\n",
       "      <td>NaN</td>\n",
       "    </tr>\n",
       "    <tr>\n",
       "      <th>...</th>\n",
       "      <td>...</td>\n",
       "      <td>...</td>\n",
       "      <td>...</td>\n",
       "      <td>...</td>\n",
       "    </tr>\n",
       "    <tr>\n",
       "      <th>15145</th>\n",
       "      <td>North Vietnam</td>\n",
       "      <td>VNM</td>\n",
       "      <td>2016</td>\n",
       "      <td>NaN</td>\n",
       "    </tr>\n",
       "    <tr>\n",
       "      <th>15146</th>\n",
       "      <td>North Vietnam</td>\n",
       "      <td>VNM</td>\n",
       "      <td>2017</td>\n",
       "      <td>NaN</td>\n",
       "    </tr>\n",
       "    <tr>\n",
       "      <th>15147</th>\n",
       "      <td>North Vietnam</td>\n",
       "      <td>VNM</td>\n",
       "      <td>2018</td>\n",
       "      <td>NaN</td>\n",
       "    </tr>\n",
       "    <tr>\n",
       "      <th>15148</th>\n",
       "      <td>North Vietnam</td>\n",
       "      <td>VNM</td>\n",
       "      <td>2019</td>\n",
       "      <td>NaN</td>\n",
       "    </tr>\n",
       "    <tr>\n",
       "      <th>15149</th>\n",
       "      <td>North Vietnam</td>\n",
       "      <td>VNM</td>\n",
       "      <td>2020</td>\n",
       "      <td>NaN</td>\n",
       "    </tr>\n",
       "  </tbody>\n",
       "</table>\n",
       "<p>150 rows × 4 columns</p>\n",
       "</div>"
      ],
      "text/plain": [
       "               cname iso3  year  cckp_temp\n",
       "11834       Viet Nam  VNM  1946        NaN\n",
       "11835       Viet Nam  VNM  1947        NaN\n",
       "11836       Viet Nam  VNM  1948        NaN\n",
       "11837       Viet Nam  VNM  1949        NaN\n",
       "11838       Viet Nam  VNM  1950        NaN\n",
       "...              ...  ...   ...        ...\n",
       "15145  North Vietnam  VNM  2016        NaN\n",
       "15146  North Vietnam  VNM  2017        NaN\n",
       "15147  North Vietnam  VNM  2018        NaN\n",
       "15148  North Vietnam  VNM  2019        NaN\n",
       "15149  North Vietnam  VNM  2020        NaN\n",
       "\n",
       "[150 rows x 4 columns]"
      ]
     },
     "execution_count": 35,
     "metadata": {},
     "output_type": "execute_result"
    }
   ],
   "source": [
    "# Answer 6e\n",
    "\n",
    "def disp_rows(df):\n",
    "    df_obs = df.groupby(['iso3','year']).size().reset_index(name = 'counts')\n",
    "    return df[(df['iso3'].isin(df_obs[df_obs['counts'] > 1]['iso3']))]\n",
    "\n",
    "df_test = disp_rows(subdf1)\n",
    "df_test"
   ]
  },
  {
   "cell_type": "markdown",
   "id": "a190da03-b34c-4566-8aec-5a1a540ac660",
   "metadata": {},
   "source": [
    "6f) Which countries have more than one observation for each iso3-year combination? Deal with these countries in the subset dataframe created in 6a to make sure you no longer have double observations for iso3-year combinations, and check that after your fix this is actually the case. **(1 point)**\n",
    "<br>\n",
    "Hint: should we keep a country with all missing values?"
   ]
  },
  {
   "cell_type": "code",
   "execution_count": 36,
   "id": "6d960c4a-b755-448c-8952-aee2e6eee878",
   "metadata": {},
   "outputs": [
    {
     "data": {
      "text/plain": [
       "array(['Viet Nam', 'North Vietnam'], dtype=object)"
      ]
     },
     "execution_count": 36,
     "metadata": {},
     "output_type": "execute_result"
    }
   ],
   "source": [
    "# Answer 6f - Countries that have more than one observation\n",
    "\n",
    "df_test.cname.unique()"
   ]
  },
  {
   "cell_type": "code",
   "execution_count": 37,
   "id": "ea245b01",
   "metadata": {},
   "outputs": [
    {
     "name": "stdout",
     "output_type": "stream",
     "text": [
      "               cname iso3  year  cckp_temp\n",
      "11834       Viet Nam  VNM  1946        NaN\n",
      "11835       Viet Nam  VNM  1947        NaN\n",
      "11836       Viet Nam  VNM  1948        NaN\n",
      "11837       Viet Nam  VNM  1949        NaN\n",
      "11838       Viet Nam  VNM  1950        NaN\n",
      "11839       Viet Nam  VNM  1951        NaN\n",
      "11840       Viet Nam  VNM  1952        NaN\n",
      "11841       Viet Nam  VNM  1953        NaN\n",
      "11842       Viet Nam  VNM  1954        NaN\n",
      "11843       Viet Nam  VNM  1955        NaN\n",
      "11844       Viet Nam  VNM  1956        NaN\n",
      "11845       Viet Nam  VNM  1957        NaN\n",
      "11846       Viet Nam  VNM  1958        NaN\n",
      "11847       Viet Nam  VNM  1959        NaN\n",
      "11848       Viet Nam  VNM  1960        NaN\n",
      "11849       Viet Nam  VNM  1961        NaN\n",
      "11850       Viet Nam  VNM  1962        NaN\n",
      "11851       Viet Nam  VNM  1963        NaN\n",
      "11852       Viet Nam  VNM  1964        NaN\n",
      "11853       Viet Nam  VNM  1965        NaN\n",
      "11854       Viet Nam  VNM  1966        NaN\n",
      "11855       Viet Nam  VNM  1967        NaN\n",
      "11856       Viet Nam  VNM  1968        NaN\n",
      "11857       Viet Nam  VNM  1969        NaN\n",
      "11858       Viet Nam  VNM  1970        NaN\n",
      "11859       Viet Nam  VNM  1971        NaN\n",
      "11860       Viet Nam  VNM  1972        NaN\n",
      "11861       Viet Nam  VNM  1973        NaN\n",
      "11862       Viet Nam  VNM  1974        NaN\n",
      "11863       Viet Nam  VNM  1975        NaN\n",
      "11864       Viet Nam  VNM  1976        NaN\n",
      "11865       Viet Nam  VNM  1977  24.158333\n",
      "11866       Viet Nam  VNM  1978  24.250000\n",
      "11867       Viet Nam  VNM  1979  24.541667\n",
      "11868       Viet Nam  VNM  1980  24.516667\n",
      "11869       Viet Nam  VNM  1981  24.141667\n",
      "11870       Viet Nam  VNM  1982  24.091667\n",
      "11871       Viet Nam  VNM  1983  24.216667\n",
      "11872       Viet Nam  VNM  1984  23.916667\n",
      "11873       Viet Nam  VNM  1985  23.983333\n",
      "11874       Viet Nam  VNM  1986  24.108333\n",
      "11875       Viet Nam  VNM  1987  24.775000\n",
      "11876       Viet Nam  VNM  1988  24.391667\n",
      "11877       Viet Nam  VNM  1989  24.400000\n",
      "11878       Viet Nam  VNM  1990  24.691667\n",
      "11879       Viet Nam  VNM  1991  24.733333\n",
      "11880       Viet Nam  VNM  1992  24.341667\n",
      "11881       Viet Nam  VNM  1993  24.416667\n",
      "11882       Viet Nam  VNM  1994  24.633333\n",
      "11883       Viet Nam  VNM  1995  24.375000\n",
      "11884       Viet Nam  VNM  1996  24.158333\n",
      "11885       Viet Nam  VNM  1997  24.583333\n",
      "11886       Viet Nam  VNM  1998  25.266667\n",
      "11887       Viet Nam  VNM  1999  24.416667\n",
      "11888       Viet Nam  VNM  2000  24.325000\n",
      "11889       Viet Nam  VNM  2001  24.541667\n",
      "11890       Viet Nam  VNM  2002  24.666667\n",
      "11891       Viet Nam  VNM  2003  24.733333\n",
      "11892       Viet Nam  VNM  2004  24.441667\n",
      "11893       Viet Nam  VNM  2005  24.633333\n",
      "11894       Viet Nam  VNM  2006  24.758333\n",
      "11895       Viet Nam  VNM  2007  24.441667\n",
      "11896       Viet Nam  VNM  2008  23.991667\n",
      "11897       Viet Nam  VNM  2009  24.616667\n",
      "11898       Viet Nam  VNM  2010  24.900000\n",
      "11899       Viet Nam  VNM  2011  23.966667\n",
      "11900       Viet Nam  VNM  2012  24.750000\n",
      "11901       Viet Nam  VNM  2013  24.541667\n",
      "11902       Viet Nam  VNM  2014  24.741667\n",
      "11903       Viet Nam  VNM  2015  25.116667\n",
      "11904       Viet Nam  VNM  2016  25.025000\n",
      "11905       Viet Nam  VNM  2017  24.650000\n",
      "11906       Viet Nam  VNM  2018  24.633333\n",
      "11907       Viet Nam  VNM  2019  25.250000\n",
      "11908       Viet Nam  VNM  2020  25.050000\n",
      "15075  North Vietnam  VNM  1946        NaN\n",
      "15076  North Vietnam  VNM  1947        NaN\n",
      "15077  North Vietnam  VNM  1948        NaN\n",
      "15078  North Vietnam  VNM  1949        NaN\n",
      "15079  North Vietnam  VNM  1950        NaN\n",
      "15080  North Vietnam  VNM  1951        NaN\n",
      "15081  North Vietnam  VNM  1952        NaN\n",
      "15082  North Vietnam  VNM  1953        NaN\n",
      "15083  North Vietnam  VNM  1954        NaN\n",
      "15084  North Vietnam  VNM  1955        NaN\n",
      "15085  North Vietnam  VNM  1956        NaN\n",
      "15086  North Vietnam  VNM  1957        NaN\n",
      "15087  North Vietnam  VNM  1958        NaN\n",
      "15088  North Vietnam  VNM  1959        NaN\n",
      "15089  North Vietnam  VNM  1960        NaN\n",
      "15090  North Vietnam  VNM  1961        NaN\n",
      "15091  North Vietnam  VNM  1962        NaN\n",
      "15092  North Vietnam  VNM  1963        NaN\n",
      "15093  North Vietnam  VNM  1964        NaN\n",
      "15094  North Vietnam  VNM  1965        NaN\n",
      "15095  North Vietnam  VNM  1966        NaN\n",
      "15096  North Vietnam  VNM  1967        NaN\n",
      "15097  North Vietnam  VNM  1968        NaN\n",
      "15098  North Vietnam  VNM  1969        NaN\n",
      "15099  North Vietnam  VNM  1970        NaN\n",
      "15100  North Vietnam  VNM  1971        NaN\n",
      "15101  North Vietnam  VNM  1972        NaN\n",
      "15102  North Vietnam  VNM  1973        NaN\n",
      "15103  North Vietnam  VNM  1974        NaN\n",
      "15104  North Vietnam  VNM  1975        NaN\n",
      "15105  North Vietnam  VNM  1976        NaN\n",
      "15106  North Vietnam  VNM  1977        NaN\n",
      "15107  North Vietnam  VNM  1978        NaN\n",
      "15108  North Vietnam  VNM  1979        NaN\n",
      "15109  North Vietnam  VNM  1980        NaN\n",
      "15110  North Vietnam  VNM  1981        NaN\n",
      "15111  North Vietnam  VNM  1982        NaN\n",
      "15112  North Vietnam  VNM  1983        NaN\n",
      "15113  North Vietnam  VNM  1984        NaN\n",
      "15114  North Vietnam  VNM  1985        NaN\n",
      "15115  North Vietnam  VNM  1986        NaN\n",
      "15116  North Vietnam  VNM  1987        NaN\n",
      "15117  North Vietnam  VNM  1988        NaN\n",
      "15118  North Vietnam  VNM  1989        NaN\n",
      "15119  North Vietnam  VNM  1990        NaN\n",
      "15120  North Vietnam  VNM  1991        NaN\n",
      "15121  North Vietnam  VNM  1992        NaN\n",
      "15122  North Vietnam  VNM  1993        NaN\n",
      "15123  North Vietnam  VNM  1994        NaN\n",
      "15124  North Vietnam  VNM  1995        NaN\n",
      "15125  North Vietnam  VNM  1996        NaN\n",
      "15126  North Vietnam  VNM  1997        NaN\n",
      "15127  North Vietnam  VNM  1998        NaN\n",
      "15128  North Vietnam  VNM  1999        NaN\n",
      "15129  North Vietnam  VNM  2000        NaN\n",
      "15130  North Vietnam  VNM  2001        NaN\n",
      "15131  North Vietnam  VNM  2002        NaN\n",
      "15132  North Vietnam  VNM  2003        NaN\n",
      "15133  North Vietnam  VNM  2004        NaN\n",
      "15134  North Vietnam  VNM  2005        NaN\n",
      "15135  North Vietnam  VNM  2006        NaN\n",
      "15136  North Vietnam  VNM  2007        NaN\n",
      "15137  North Vietnam  VNM  2008        NaN\n",
      "15138  North Vietnam  VNM  2009        NaN\n",
      "15139  North Vietnam  VNM  2010        NaN\n",
      "15140  North Vietnam  VNM  2011        NaN\n",
      "15141  North Vietnam  VNM  2012        NaN\n",
      "15142  North Vietnam  VNM  2013        NaN\n",
      "15143  North Vietnam  VNM  2014        NaN\n",
      "15144  North Vietnam  VNM  2015        NaN\n",
      "15145  North Vietnam  VNM  2016        NaN\n",
      "15146  North Vietnam  VNM  2017        NaN\n",
      "15147  North Vietnam  VNM  2018        NaN\n",
      "15148  North Vietnam  VNM  2019        NaN\n",
      "15149  North Vietnam  VNM  2020        NaN\n"
     ]
    }
   ],
   "source": [
    "# Answer 6f - Here we can see that Vietnam (iso3 = VNM) is present twice in the dataframe, \n",
    "# once as \"Viet Nam\" and once as \"North Vietnam\" so we can drop rows such as cname = North Vietnam\n",
    "\n",
    "print(df_test.to_string())"
   ]
  },
  {
   "cell_type": "code",
   "execution_count": 38,
   "id": "fa8b92a8",
   "metadata": {},
   "outputs": [
    {
     "data": {
      "text/html": [
       "<div>\n",
       "<style scoped>\n",
       "    .dataframe tbody tr th:only-of-type {\n",
       "        vertical-align: middle;\n",
       "    }\n",
       "\n",
       "    .dataframe tbody tr th {\n",
       "        vertical-align: top;\n",
       "    }\n",
       "\n",
       "    .dataframe thead th {\n",
       "        text-align: right;\n",
       "    }\n",
       "</style>\n",
       "<table border=\"1\" class=\"dataframe\">\n",
       "  <thead>\n",
       "    <tr style=\"text-align: right;\">\n",
       "      <th></th>\n",
       "      <th>cname</th>\n",
       "      <th>iso3</th>\n",
       "      <th>year</th>\n",
       "      <th>cckp_temp</th>\n",
       "    </tr>\n",
       "  </thead>\n",
       "  <tbody>\n",
       "    <tr>\n",
       "      <th>0</th>\n",
       "      <td>Afghanistan</td>\n",
       "      <td>AFG</td>\n",
       "      <td>1946</td>\n",
       "      <td>13.158333</td>\n",
       "    </tr>\n",
       "    <tr>\n",
       "      <th>1</th>\n",
       "      <td>Afghanistan</td>\n",
       "      <td>AFG</td>\n",
       "      <td>1947</td>\n",
       "      <td>13.658333</td>\n",
       "    </tr>\n",
       "    <tr>\n",
       "      <th>2</th>\n",
       "      <td>Afghanistan</td>\n",
       "      <td>AFG</td>\n",
       "      <td>1948</td>\n",
       "      <td>12.925000</td>\n",
       "    </tr>\n",
       "    <tr>\n",
       "      <th>3</th>\n",
       "      <td>Afghanistan</td>\n",
       "      <td>AFG</td>\n",
       "      <td>1949</td>\n",
       "      <td>12.041667</td>\n",
       "    </tr>\n",
       "    <tr>\n",
       "      <th>4</th>\n",
       "      <td>Afghanistan</td>\n",
       "      <td>AFG</td>\n",
       "      <td>1950</td>\n",
       "      <td>11.583333</td>\n",
       "    </tr>\n",
       "    <tr>\n",
       "      <th>...</th>\n",
       "      <td>...</td>\n",
       "      <td>...</td>\n",
       "      <td>...</td>\n",
       "      <td>...</td>\n",
       "    </tr>\n",
       "    <tr>\n",
       "      <th>15220</th>\n",
       "      <td>South Vietnam</td>\n",
       "      <td>VDR</td>\n",
       "      <td>2016</td>\n",
       "      <td>NaN</td>\n",
       "    </tr>\n",
       "    <tr>\n",
       "      <th>15221</th>\n",
       "      <td>South Vietnam</td>\n",
       "      <td>VDR</td>\n",
       "      <td>2017</td>\n",
       "      <td>NaN</td>\n",
       "    </tr>\n",
       "    <tr>\n",
       "      <th>15222</th>\n",
       "      <td>South Vietnam</td>\n",
       "      <td>VDR</td>\n",
       "      <td>2018</td>\n",
       "      <td>NaN</td>\n",
       "    </tr>\n",
       "    <tr>\n",
       "      <th>15223</th>\n",
       "      <td>South Vietnam</td>\n",
       "      <td>VDR</td>\n",
       "      <td>2019</td>\n",
       "      <td>NaN</td>\n",
       "    </tr>\n",
       "    <tr>\n",
       "      <th>15224</th>\n",
       "      <td>South Vietnam</td>\n",
       "      <td>VDR</td>\n",
       "      <td>2020</td>\n",
       "      <td>NaN</td>\n",
       "    </tr>\n",
       "  </tbody>\n",
       "</table>\n",
       "<p>15150 rows × 4 columns</p>\n",
       "</div>"
      ],
      "text/plain": [
       "               cname iso3  year  cckp_temp\n",
       "0        Afghanistan  AFG  1946  13.158333\n",
       "1        Afghanistan  AFG  1947  13.658333\n",
       "2        Afghanistan  AFG  1948  12.925000\n",
       "3        Afghanistan  AFG  1949  12.041667\n",
       "4        Afghanistan  AFG  1950  11.583333\n",
       "...              ...  ...   ...        ...\n",
       "15220  South Vietnam  VDR  2016        NaN\n",
       "15221  South Vietnam  VDR  2017        NaN\n",
       "15222  South Vietnam  VDR  2018        NaN\n",
       "15223  South Vietnam  VDR  2019        NaN\n",
       "15224  South Vietnam  VDR  2020        NaN\n",
       "\n",
       "[15150 rows x 4 columns]"
      ]
     },
     "execution_count": 38,
     "metadata": {},
     "output_type": "execute_result"
    }
   ],
   "source": [
    "# Answer 6f - We drop the rows of the dataframe where cname = \"North Vietnam\" since there are only Nan for \"cckp_temp\"\n",
    "subdf1.drop(subdf1[subdf1.cname == \"North Vietnam\"].index, inplace = True)\n",
    "subdf1\n"
   ]
  },
  {
   "cell_type": "code",
   "execution_count": 39,
   "id": "b7efaa21",
   "metadata": {},
   "outputs": [
    {
     "data": {
      "text/html": [
       "<div>\n",
       "<style scoped>\n",
       "    .dataframe tbody tr th:only-of-type {\n",
       "        vertical-align: middle;\n",
       "    }\n",
       "\n",
       "    .dataframe tbody tr th {\n",
       "        vertical-align: top;\n",
       "    }\n",
       "\n",
       "    .dataframe thead th {\n",
       "        text-align: right;\n",
       "    }\n",
       "</style>\n",
       "<table border=\"1\" class=\"dataframe\">\n",
       "  <thead>\n",
       "    <tr style=\"text-align: right;\">\n",
       "      <th></th>\n",
       "      <th>cname</th>\n",
       "      <th>iso3</th>\n",
       "      <th>year</th>\n",
       "      <th>cckp_temp</th>\n",
       "    </tr>\n",
       "  </thead>\n",
       "  <tbody>\n",
       "  </tbody>\n",
       "</table>\n",
       "</div>"
      ],
      "text/plain": [
       "Empty DataFrame\n",
       "Columns: [cname, iso3, year, cckp_temp]\n",
       "Index: []"
      ]
     },
     "execution_count": 39,
     "metadata": {},
     "output_type": "execute_result"
    }
   ],
   "source": [
    "# Answer 6f - We check that there is no more rows that have more than two observations\n",
    "# for the variable \"cckp_temp\" for each combination of iso3 and year\n",
    "\n",
    "disp_rows(subdf1)\n"
   ]
  },
  {
   "cell_type": "markdown",
   "id": "9ae70541-6427-4f83-bd05-37ef68baf5cd",
   "metadata": {},
   "source": [
    "6g) If your check went well, now you can perform the same operation directly in the QOG dataframe (not in the substed dataframe created in 6a). How many rows does now the QOG dataframe has? **(1 point)**"
   ]
  },
  {
   "cell_type": "code",
   "execution_count": 40,
   "id": "6c9f20b2-04e4-46d0-94f6-e580913ddfc1",
   "metadata": {},
   "outputs": [
    {
     "data": {
      "text/html": [
       "<div>\n",
       "<style scoped>\n",
       "    .dataframe tbody tr th:only-of-type {\n",
       "        vertical-align: middle;\n",
       "    }\n",
       "\n",
       "    .dataframe tbody tr th {\n",
       "        vertical-align: top;\n",
       "    }\n",
       "\n",
       "    .dataframe thead th {\n",
       "        text-align: right;\n",
       "    }\n",
       "</style>\n",
       "<table border=\"1\" class=\"dataframe\">\n",
       "  <thead>\n",
       "    <tr style=\"text-align: right;\">\n",
       "      <th></th>\n",
       "      <th>Unnamed: 0</th>\n",
       "      <th>cname</th>\n",
       "      <th>ccode</th>\n",
       "      <th>year</th>\n",
       "      <th>cname_qog</th>\n",
       "      <th>ccode_qog</th>\n",
       "      <th>iso3</th>\n",
       "      <th>ccodealp_year</th>\n",
       "      <th>ccodecow</th>\n",
       "      <th>ccodevdem</th>\n",
       "      <th>...</th>\n",
       "      <th>wdi_precip</th>\n",
       "      <th>wdi_tpa</th>\n",
       "      <th>wvs_ameop</th>\n",
       "      <th>wvs_ceom</th>\n",
       "      <th>wvs_deop</th>\n",
       "      <th>wvs_epmip</th>\n",
       "      <th>wvs_epmpp</th>\n",
       "      <th>wvs_imeop</th>\n",
       "      <th>wvs_pedp</th>\n",
       "      <th>wvs_ploem</th>\n",
       "    </tr>\n",
       "  </thead>\n",
       "  <tbody>\n",
       "    <tr>\n",
       "      <th>0</th>\n",
       "      <td>1</td>\n",
       "      <td>Afghanistan</td>\n",
       "      <td>4.0</td>\n",
       "      <td>1946</td>\n",
       "      <td>Afghanistan</td>\n",
       "      <td>4</td>\n",
       "      <td>AFG</td>\n",
       "      <td>AFG46</td>\n",
       "      <td>700.0</td>\n",
       "      <td>36.0</td>\n",
       "      <td>...</td>\n",
       "      <td>NaN</td>\n",
       "      <td>NaN</td>\n",
       "      <td>NaN</td>\n",
       "      <td>NaN</td>\n",
       "      <td>NaN</td>\n",
       "      <td>NaN</td>\n",
       "      <td>NaN</td>\n",
       "      <td>NaN</td>\n",
       "      <td>NaN</td>\n",
       "      <td>NaN</td>\n",
       "    </tr>\n",
       "    <tr>\n",
       "      <th>1</th>\n",
       "      <td>2</td>\n",
       "      <td>Afghanistan</td>\n",
       "      <td>4.0</td>\n",
       "      <td>1947</td>\n",
       "      <td>Afghanistan</td>\n",
       "      <td>4</td>\n",
       "      <td>AFG</td>\n",
       "      <td>AFG47</td>\n",
       "      <td>700.0</td>\n",
       "      <td>36.0</td>\n",
       "      <td>...</td>\n",
       "      <td>NaN</td>\n",
       "      <td>NaN</td>\n",
       "      <td>NaN</td>\n",
       "      <td>NaN</td>\n",
       "      <td>NaN</td>\n",
       "      <td>NaN</td>\n",
       "      <td>NaN</td>\n",
       "      <td>NaN</td>\n",
       "      <td>NaN</td>\n",
       "      <td>NaN</td>\n",
       "    </tr>\n",
       "    <tr>\n",
       "      <th>2</th>\n",
       "      <td>3</td>\n",
       "      <td>Afghanistan</td>\n",
       "      <td>4.0</td>\n",
       "      <td>1948</td>\n",
       "      <td>Afghanistan</td>\n",
       "      <td>4</td>\n",
       "      <td>AFG</td>\n",
       "      <td>AFG48</td>\n",
       "      <td>700.0</td>\n",
       "      <td>36.0</td>\n",
       "      <td>...</td>\n",
       "      <td>NaN</td>\n",
       "      <td>NaN</td>\n",
       "      <td>NaN</td>\n",
       "      <td>NaN</td>\n",
       "      <td>NaN</td>\n",
       "      <td>NaN</td>\n",
       "      <td>NaN</td>\n",
       "      <td>NaN</td>\n",
       "      <td>NaN</td>\n",
       "      <td>NaN</td>\n",
       "    </tr>\n",
       "    <tr>\n",
       "      <th>3</th>\n",
       "      <td>4</td>\n",
       "      <td>Afghanistan</td>\n",
       "      <td>4.0</td>\n",
       "      <td>1949</td>\n",
       "      <td>Afghanistan</td>\n",
       "      <td>4</td>\n",
       "      <td>AFG</td>\n",
       "      <td>AFG49</td>\n",
       "      <td>700.0</td>\n",
       "      <td>36.0</td>\n",
       "      <td>...</td>\n",
       "      <td>NaN</td>\n",
       "      <td>NaN</td>\n",
       "      <td>NaN</td>\n",
       "      <td>NaN</td>\n",
       "      <td>NaN</td>\n",
       "      <td>NaN</td>\n",
       "      <td>NaN</td>\n",
       "      <td>NaN</td>\n",
       "      <td>NaN</td>\n",
       "      <td>NaN</td>\n",
       "    </tr>\n",
       "    <tr>\n",
       "      <th>4</th>\n",
       "      <td>5</td>\n",
       "      <td>Afghanistan</td>\n",
       "      <td>4.0</td>\n",
       "      <td>1950</td>\n",
       "      <td>Afghanistan</td>\n",
       "      <td>4</td>\n",
       "      <td>AFG</td>\n",
       "      <td>AFG50</td>\n",
       "      <td>700.0</td>\n",
       "      <td>36.0</td>\n",
       "      <td>...</td>\n",
       "      <td>NaN</td>\n",
       "      <td>NaN</td>\n",
       "      <td>NaN</td>\n",
       "      <td>NaN</td>\n",
       "      <td>NaN</td>\n",
       "      <td>NaN</td>\n",
       "      <td>NaN</td>\n",
       "      <td>NaN</td>\n",
       "      <td>NaN</td>\n",
       "      <td>NaN</td>\n",
       "    </tr>\n",
       "    <tr>\n",
       "      <th>...</th>\n",
       "      <td>...</td>\n",
       "      <td>...</td>\n",
       "      <td>...</td>\n",
       "      <td>...</td>\n",
       "      <td>...</td>\n",
       "      <td>...</td>\n",
       "      <td>...</td>\n",
       "      <td>...</td>\n",
       "      <td>...</td>\n",
       "      <td>...</td>\n",
       "      <td>...</td>\n",
       "      <td>...</td>\n",
       "      <td>...</td>\n",
       "      <td>...</td>\n",
       "      <td>...</td>\n",
       "      <td>...</td>\n",
       "      <td>...</td>\n",
       "      <td>...</td>\n",
       "      <td>...</td>\n",
       "      <td>...</td>\n",
       "      <td>...</td>\n",
       "    </tr>\n",
       "    <tr>\n",
       "      <th>15220</th>\n",
       "      <td>15821</td>\n",
       "      <td>South Vietnam</td>\n",
       "      <td>NaN</td>\n",
       "      <td>2016</td>\n",
       "      <td>Vietnam, South</td>\n",
       "      <td>999</td>\n",
       "      <td>VDR</td>\n",
       "      <td>VDR16</td>\n",
       "      <td>NaN</td>\n",
       "      <td>NaN</td>\n",
       "      <td>...</td>\n",
       "      <td>NaN</td>\n",
       "      <td>NaN</td>\n",
       "      <td>NaN</td>\n",
       "      <td>NaN</td>\n",
       "      <td>NaN</td>\n",
       "      <td>NaN</td>\n",
       "      <td>NaN</td>\n",
       "      <td>NaN</td>\n",
       "      <td>NaN</td>\n",
       "      <td>NaN</td>\n",
       "    </tr>\n",
       "    <tr>\n",
       "      <th>15221</th>\n",
       "      <td>15822</td>\n",
       "      <td>South Vietnam</td>\n",
       "      <td>NaN</td>\n",
       "      <td>2017</td>\n",
       "      <td>Vietnam, South</td>\n",
       "      <td>999</td>\n",
       "      <td>VDR</td>\n",
       "      <td>VDR17</td>\n",
       "      <td>NaN</td>\n",
       "      <td>NaN</td>\n",
       "      <td>...</td>\n",
       "      <td>NaN</td>\n",
       "      <td>NaN</td>\n",
       "      <td>NaN</td>\n",
       "      <td>NaN</td>\n",
       "      <td>NaN</td>\n",
       "      <td>NaN</td>\n",
       "      <td>NaN</td>\n",
       "      <td>NaN</td>\n",
       "      <td>NaN</td>\n",
       "      <td>NaN</td>\n",
       "    </tr>\n",
       "    <tr>\n",
       "      <th>15222</th>\n",
       "      <td>15823</td>\n",
       "      <td>South Vietnam</td>\n",
       "      <td>NaN</td>\n",
       "      <td>2018</td>\n",
       "      <td>Vietnam, South</td>\n",
       "      <td>999</td>\n",
       "      <td>VDR</td>\n",
       "      <td>VDR18</td>\n",
       "      <td>NaN</td>\n",
       "      <td>NaN</td>\n",
       "      <td>...</td>\n",
       "      <td>NaN</td>\n",
       "      <td>NaN</td>\n",
       "      <td>NaN</td>\n",
       "      <td>NaN</td>\n",
       "      <td>NaN</td>\n",
       "      <td>NaN</td>\n",
       "      <td>NaN</td>\n",
       "      <td>NaN</td>\n",
       "      <td>NaN</td>\n",
       "      <td>NaN</td>\n",
       "    </tr>\n",
       "    <tr>\n",
       "      <th>15223</th>\n",
       "      <td>15824</td>\n",
       "      <td>South Vietnam</td>\n",
       "      <td>NaN</td>\n",
       "      <td>2019</td>\n",
       "      <td>Vietnam, South</td>\n",
       "      <td>999</td>\n",
       "      <td>VDR</td>\n",
       "      <td>VDR19</td>\n",
       "      <td>NaN</td>\n",
       "      <td>NaN</td>\n",
       "      <td>...</td>\n",
       "      <td>NaN</td>\n",
       "      <td>NaN</td>\n",
       "      <td>NaN</td>\n",
       "      <td>NaN</td>\n",
       "      <td>NaN</td>\n",
       "      <td>NaN</td>\n",
       "      <td>NaN</td>\n",
       "      <td>NaN</td>\n",
       "      <td>NaN</td>\n",
       "      <td>NaN</td>\n",
       "    </tr>\n",
       "    <tr>\n",
       "      <th>15224</th>\n",
       "      <td>15825</td>\n",
       "      <td>South Vietnam</td>\n",
       "      <td>NaN</td>\n",
       "      <td>2020</td>\n",
       "      <td>Vietnam, South</td>\n",
       "      <td>999</td>\n",
       "      <td>VDR</td>\n",
       "      <td>VDR20</td>\n",
       "      <td>NaN</td>\n",
       "      <td>NaN</td>\n",
       "      <td>...</td>\n",
       "      <td>NaN</td>\n",
       "      <td>NaN</td>\n",
       "      <td>NaN</td>\n",
       "      <td>NaN</td>\n",
       "      <td>NaN</td>\n",
       "      <td>NaN</td>\n",
       "      <td>NaN</td>\n",
       "      <td>NaN</td>\n",
       "      <td>NaN</td>\n",
       "      <td>NaN</td>\n",
       "    </tr>\n",
       "  </tbody>\n",
       "</table>\n",
       "<p>15150 rows × 415 columns</p>\n",
       "</div>"
      ],
      "text/plain": [
       "       Unnamed: 0          cname  ccode  year       cname_qog  ccode_qog iso3  \\\n",
       "0               1    Afghanistan    4.0  1946     Afghanistan          4  AFG   \n",
       "1               2    Afghanistan    4.0  1947     Afghanistan          4  AFG   \n",
       "2               3    Afghanistan    4.0  1948     Afghanistan          4  AFG   \n",
       "3               4    Afghanistan    4.0  1949     Afghanistan          4  AFG   \n",
       "4               5    Afghanistan    4.0  1950     Afghanistan          4  AFG   \n",
       "...           ...            ...    ...   ...             ...        ...  ...   \n",
       "15220       15821  South Vietnam    NaN  2016  Vietnam, South        999  VDR   \n",
       "15221       15822  South Vietnam    NaN  2017  Vietnam, South        999  VDR   \n",
       "15222       15823  South Vietnam    NaN  2018  Vietnam, South        999  VDR   \n",
       "15223       15824  South Vietnam    NaN  2019  Vietnam, South        999  VDR   \n",
       "15224       15825  South Vietnam    NaN  2020  Vietnam, South        999  VDR   \n",
       "\n",
       "      ccodealp_year  ccodecow  ccodevdem  ... wdi_precip wdi_tpa  wvs_ameop  \\\n",
       "0             AFG46     700.0       36.0  ...        NaN     NaN        NaN   \n",
       "1             AFG47     700.0       36.0  ...        NaN     NaN        NaN   \n",
       "2             AFG48     700.0       36.0  ...        NaN     NaN        NaN   \n",
       "3             AFG49     700.0       36.0  ...        NaN     NaN        NaN   \n",
       "4             AFG50     700.0       36.0  ...        NaN     NaN        NaN   \n",
       "...             ...       ...        ...  ...        ...     ...        ...   \n",
       "15220         VDR16       NaN        NaN  ...        NaN     NaN        NaN   \n",
       "15221         VDR17       NaN        NaN  ...        NaN     NaN        NaN   \n",
       "15222         VDR18       NaN        NaN  ...        NaN     NaN        NaN   \n",
       "15223         VDR19       NaN        NaN  ...        NaN     NaN        NaN   \n",
       "15224         VDR20       NaN        NaN  ...        NaN     NaN        NaN   \n",
       "\n",
       "       wvs_ceom  wvs_deop  wvs_epmip  wvs_epmpp  wvs_imeop  wvs_pedp  \\\n",
       "0           NaN       NaN        NaN        NaN        NaN       NaN   \n",
       "1           NaN       NaN        NaN        NaN        NaN       NaN   \n",
       "2           NaN       NaN        NaN        NaN        NaN       NaN   \n",
       "3           NaN       NaN        NaN        NaN        NaN       NaN   \n",
       "4           NaN       NaN        NaN        NaN        NaN       NaN   \n",
       "...         ...       ...        ...        ...        ...       ...   \n",
       "15220       NaN       NaN        NaN        NaN        NaN       NaN   \n",
       "15221       NaN       NaN        NaN        NaN        NaN       NaN   \n",
       "15222       NaN       NaN        NaN        NaN        NaN       NaN   \n",
       "15223       NaN       NaN        NaN        NaN        NaN       NaN   \n",
       "15224       NaN       NaN        NaN        NaN        NaN       NaN   \n",
       "\n",
       "       wvs_ploem  \n",
       "0            NaN  \n",
       "1            NaN  \n",
       "2            NaN  \n",
       "3            NaN  \n",
       "4            NaN  \n",
       "...          ...  \n",
       "15220        NaN  \n",
       "15221        NaN  \n",
       "15222        NaN  \n",
       "15223        NaN  \n",
       "15224        NaN  \n",
       "\n",
       "[15150 rows x 415 columns]"
      ]
     },
     "execution_count": 40,
     "metadata": {},
     "output_type": "execute_result"
    }
   ],
   "source": [
    "# Answer 6g\n",
    "df1.drop(df1[df1.cname == \"North Vietnam\"].index, inplace = True)\n",
    "df1\n",
    "\n"
   ]
  },
  {
   "cell_type": "code",
   "execution_count": 41,
   "id": "b51f8401",
   "metadata": {},
   "outputs": [
    {
     "name": "stdout",
     "output_type": "stream",
     "text": [
      "the new dataframe has 15150 rows\n"
     ]
    }
   ],
   "source": [
    "# Answer 6g\n",
    "\n",
    "rows = len(df1)\n",
    "print('the new dataframe has', rows, 'rows')"
   ]
  },
  {
   "cell_type": "markdown",
   "id": "82fd12e1-799e-4e4c-8d13-db496fb5bab4",
   "metadata": {},
   "source": [
    "### Question 7: Merge QOG and Polity5 ... issues with Polity5? <a class=\"anchor\" id=\"question7\"></a>"
   ]
  },
  {
   "cell_type": "markdown",
   "id": "72692a86-a9ab-44bb-bb56-b3c22e0829c4",
   "metadata": {},
   "source": [
    "7a) Merge the cleaned QOG dataframe (left) and the Polity dataframe (right) using the options how=\"left\" and validate=\"one_to_one\". Does it work? Why? **(1 point)**"
   ]
  },
  {
   "cell_type": "code",
   "execution_count": 42,
   "id": "82261ca5-c3ec-49f6-8de8-be1b14943cb0",
   "metadata": {},
   "outputs": [
    {
     "ename": "ValueError",
     "evalue": "You are trying to merge on object and int64 columns. If you wish to proceed you should use pd.concat",
     "output_type": "error",
     "traceback": [
      "\u001b[0;31m---------------------------------------------------------------------------\u001b[0m",
      "\u001b[0;31mValueError\u001b[0m                                Traceback (most recent call last)",
      "Input \u001b[0;32mIn [42]\u001b[0m, in \u001b[0;36m<cell line: 4>\u001b[0;34m()\u001b[0m\n\u001b[1;32m      1\u001b[0m \u001b[38;5;66;03m# Answer 7a It does not work because we have duplicates in the polity dataframe\u001b[39;00m\n\u001b[1;32m      2\u001b[0m \u001b[38;5;66;03m# expliquer les 2 cles (year et iso3)\u001b[39;00m\n\u001b[0;32m----> 4\u001b[0m df_q_p \u001b[38;5;241m=\u001b[39m \u001b[43mpd\u001b[49m\u001b[38;5;241;43m.\u001b[39;49m\u001b[43mmerge\u001b[49m\u001b[43m(\u001b[49m\u001b[43mdf1\u001b[49m\u001b[43m,\u001b[49m\u001b[43mdf\u001b[49m\u001b[43m,\u001b[49m\u001b[43m \u001b[49m\u001b[43mhow\u001b[49m\u001b[43m \u001b[49m\u001b[38;5;241;43m=\u001b[39;49m\u001b[43m \u001b[49m\u001b[38;5;124;43m'\u001b[39;49m\u001b[38;5;124;43mleft\u001b[39;49m\u001b[38;5;124;43m'\u001b[39;49m\u001b[43m,\u001b[49m\u001b[43m \u001b[49m\u001b[43mvalidate\u001b[49m\u001b[43m \u001b[49m\u001b[38;5;241;43m=\u001b[39;49m\u001b[43m \u001b[49m\u001b[38;5;124;43m\"\u001b[39;49m\u001b[38;5;124;43mone_to_one\u001b[39;49m\u001b[38;5;124;43m\"\u001b[39;49m\u001b[43m)\u001b[49m\n\u001b[1;32m      5\u001b[0m df_q_p\n",
      "File \u001b[0;32m~/opt/anaconda3/lib/python3.9/site-packages/pandas/core/reshape/merge.py:107\u001b[0m, in \u001b[0;36mmerge\u001b[0;34m(left, right, how, on, left_on, right_on, left_index, right_index, sort, suffixes, copy, indicator, validate)\u001b[0m\n\u001b[1;32m     90\u001b[0m \u001b[38;5;129m@Substitution\u001b[39m(\u001b[38;5;124m\"\u001b[39m\u001b[38;5;130;01m\\n\u001b[39;00m\u001b[38;5;124mleft : DataFrame or named Series\u001b[39m\u001b[38;5;124m\"\u001b[39m)\n\u001b[1;32m     91\u001b[0m \u001b[38;5;129m@Appender\u001b[39m(_merge_doc, indents\u001b[38;5;241m=\u001b[39m\u001b[38;5;241m0\u001b[39m)\n\u001b[1;32m     92\u001b[0m \u001b[38;5;28;01mdef\u001b[39;00m \u001b[38;5;21mmerge\u001b[39m(\n\u001b[0;32m   (...)\u001b[0m\n\u001b[1;32m    105\u001b[0m     validate: \u001b[38;5;28mstr\u001b[39m \u001b[38;5;241m|\u001b[39m \u001b[38;5;28;01mNone\u001b[39;00m \u001b[38;5;241m=\u001b[39m \u001b[38;5;28;01mNone\u001b[39;00m,\n\u001b[1;32m    106\u001b[0m ) \u001b[38;5;241m-\u001b[39m\u001b[38;5;241m>\u001b[39m DataFrame:\n\u001b[0;32m--> 107\u001b[0m     op \u001b[38;5;241m=\u001b[39m \u001b[43m_MergeOperation\u001b[49m\u001b[43m(\u001b[49m\n\u001b[1;32m    108\u001b[0m \u001b[43m        \u001b[49m\u001b[43mleft\u001b[49m\u001b[43m,\u001b[49m\n\u001b[1;32m    109\u001b[0m \u001b[43m        \u001b[49m\u001b[43mright\u001b[49m\u001b[43m,\u001b[49m\n\u001b[1;32m    110\u001b[0m \u001b[43m        \u001b[49m\u001b[43mhow\u001b[49m\u001b[38;5;241;43m=\u001b[39;49m\u001b[43mhow\u001b[49m\u001b[43m,\u001b[49m\n\u001b[1;32m    111\u001b[0m \u001b[43m        \u001b[49m\u001b[43mon\u001b[49m\u001b[38;5;241;43m=\u001b[39;49m\u001b[43mon\u001b[49m\u001b[43m,\u001b[49m\n\u001b[1;32m    112\u001b[0m \u001b[43m        \u001b[49m\u001b[43mleft_on\u001b[49m\u001b[38;5;241;43m=\u001b[39;49m\u001b[43mleft_on\u001b[49m\u001b[43m,\u001b[49m\n\u001b[1;32m    113\u001b[0m \u001b[43m        \u001b[49m\u001b[43mright_on\u001b[49m\u001b[38;5;241;43m=\u001b[39;49m\u001b[43mright_on\u001b[49m\u001b[43m,\u001b[49m\n\u001b[1;32m    114\u001b[0m \u001b[43m        \u001b[49m\u001b[43mleft_index\u001b[49m\u001b[38;5;241;43m=\u001b[39;49m\u001b[43mleft_index\u001b[49m\u001b[43m,\u001b[49m\n\u001b[1;32m    115\u001b[0m \u001b[43m        \u001b[49m\u001b[43mright_index\u001b[49m\u001b[38;5;241;43m=\u001b[39;49m\u001b[43mright_index\u001b[49m\u001b[43m,\u001b[49m\n\u001b[1;32m    116\u001b[0m \u001b[43m        \u001b[49m\u001b[43msort\u001b[49m\u001b[38;5;241;43m=\u001b[39;49m\u001b[43msort\u001b[49m\u001b[43m,\u001b[49m\n\u001b[1;32m    117\u001b[0m \u001b[43m        \u001b[49m\u001b[43msuffixes\u001b[49m\u001b[38;5;241;43m=\u001b[39;49m\u001b[43msuffixes\u001b[49m\u001b[43m,\u001b[49m\n\u001b[1;32m    118\u001b[0m \u001b[43m        \u001b[49m\u001b[43mcopy\u001b[49m\u001b[38;5;241;43m=\u001b[39;49m\u001b[43mcopy\u001b[49m\u001b[43m,\u001b[49m\n\u001b[1;32m    119\u001b[0m \u001b[43m        \u001b[49m\u001b[43mindicator\u001b[49m\u001b[38;5;241;43m=\u001b[39;49m\u001b[43mindicator\u001b[49m\u001b[43m,\u001b[49m\n\u001b[1;32m    120\u001b[0m \u001b[43m        \u001b[49m\u001b[43mvalidate\u001b[49m\u001b[38;5;241;43m=\u001b[39;49m\u001b[43mvalidate\u001b[49m\u001b[43m,\u001b[49m\n\u001b[1;32m    121\u001b[0m \u001b[43m    \u001b[49m\u001b[43m)\u001b[49m\n\u001b[1;32m    122\u001b[0m     \u001b[38;5;28;01mreturn\u001b[39;00m op\u001b[38;5;241m.\u001b[39mget_result()\n",
      "File \u001b[0;32m~/opt/anaconda3/lib/python3.9/site-packages/pandas/core/reshape/merge.py:704\u001b[0m, in \u001b[0;36m_MergeOperation.__init__\u001b[0;34m(self, left, right, how, on, left_on, right_on, axis, left_index, right_index, sort, suffixes, copy, indicator, validate)\u001b[0m\n\u001b[1;32m    696\u001b[0m (\n\u001b[1;32m    697\u001b[0m     \u001b[38;5;28mself\u001b[39m\u001b[38;5;241m.\u001b[39mleft_join_keys,\n\u001b[1;32m    698\u001b[0m     \u001b[38;5;28mself\u001b[39m\u001b[38;5;241m.\u001b[39mright_join_keys,\n\u001b[1;32m    699\u001b[0m     \u001b[38;5;28mself\u001b[39m\u001b[38;5;241m.\u001b[39mjoin_names,\n\u001b[1;32m    700\u001b[0m ) \u001b[38;5;241m=\u001b[39m \u001b[38;5;28mself\u001b[39m\u001b[38;5;241m.\u001b[39m_get_merge_keys()\n\u001b[1;32m    702\u001b[0m \u001b[38;5;66;03m# validate the merge keys dtypes. We may need to coerce\u001b[39;00m\n\u001b[1;32m    703\u001b[0m \u001b[38;5;66;03m# to avoid incompatible dtypes\u001b[39;00m\n\u001b[0;32m--> 704\u001b[0m \u001b[38;5;28;43mself\u001b[39;49m\u001b[38;5;241;43m.\u001b[39;49m\u001b[43m_maybe_coerce_merge_keys\u001b[49m\u001b[43m(\u001b[49m\u001b[43m)\u001b[49m\n\u001b[1;32m    706\u001b[0m \u001b[38;5;66;03m# If argument passed to validate,\u001b[39;00m\n\u001b[1;32m    707\u001b[0m \u001b[38;5;66;03m# check if columns specified as unique\u001b[39;00m\n\u001b[1;32m    708\u001b[0m \u001b[38;5;66;03m# are in fact unique.\u001b[39;00m\n\u001b[1;32m    709\u001b[0m \u001b[38;5;28;01mif\u001b[39;00m validate \u001b[38;5;129;01mis\u001b[39;00m \u001b[38;5;129;01mnot\u001b[39;00m \u001b[38;5;28;01mNone\u001b[39;00m:\n",
      "File \u001b[0;32m~/opt/anaconda3/lib/python3.9/site-packages/pandas/core/reshape/merge.py:1257\u001b[0m, in \u001b[0;36m_MergeOperation._maybe_coerce_merge_keys\u001b[0;34m(self)\u001b[0m\n\u001b[1;32m   1251\u001b[0m     \u001b[38;5;66;03m# unless we are merging non-string-like with string-like\u001b[39;00m\n\u001b[1;32m   1252\u001b[0m     \u001b[38;5;28;01melif\u001b[39;00m (\n\u001b[1;32m   1253\u001b[0m         inferred_left \u001b[38;5;129;01min\u001b[39;00m string_types \u001b[38;5;129;01mand\u001b[39;00m inferred_right \u001b[38;5;129;01mnot\u001b[39;00m \u001b[38;5;129;01min\u001b[39;00m string_types\n\u001b[1;32m   1254\u001b[0m     ) \u001b[38;5;129;01mor\u001b[39;00m (\n\u001b[1;32m   1255\u001b[0m         inferred_right \u001b[38;5;129;01min\u001b[39;00m string_types \u001b[38;5;129;01mand\u001b[39;00m inferred_left \u001b[38;5;129;01mnot\u001b[39;00m \u001b[38;5;129;01min\u001b[39;00m string_types\n\u001b[1;32m   1256\u001b[0m     ):\n\u001b[0;32m-> 1257\u001b[0m         \u001b[38;5;28;01mraise\u001b[39;00m \u001b[38;5;167;01mValueError\u001b[39;00m(msg)\n\u001b[1;32m   1259\u001b[0m \u001b[38;5;66;03m# datetimelikes must match exactly\u001b[39;00m\n\u001b[1;32m   1260\u001b[0m \u001b[38;5;28;01melif\u001b[39;00m needs_i8_conversion(lk\u001b[38;5;241m.\u001b[39mdtype) \u001b[38;5;129;01mand\u001b[39;00m \u001b[38;5;129;01mnot\u001b[39;00m needs_i8_conversion(rk\u001b[38;5;241m.\u001b[39mdtype):\n",
      "\u001b[0;31mValueError\u001b[0m: You are trying to merge on object and int64 columns. If you wish to proceed you should use pd.concat"
     ]
    }
   ],
   "source": [
    "# Answer 7a It does not work because we have duplicates in the polity dataframe, we have more than one key representing the same observation\n",
    "\n",
    "\n",
    "df_q_p = pd.merge(df1,df, how = 'left', validate = \"one_to_one\")\n",
    "df_q_p\n"
   ]
  },
  {
   "cell_type": "markdown",
   "id": "95740ccf-88d7-46ee-82ab-f1a8b42d9722",
   "metadata": {},
   "source": [
    "7b) Use the function you wrote in 6e to check what's wrong in the \"clean\" version of Polity **(1 point)**"
   ]
  },
  {
   "cell_type": "code",
   "execution_count": 43,
   "id": "356409a0-73e8-41ac-af75-c2f6a462c519",
   "metadata": {},
   "outputs": [
    {
     "name": "stdout",
     "output_type": "stream",
     "text": [
      "      iso3  year  size\n",
      "9861   MNE  2011     2\n",
      "9862   MNE  2012     2\n",
      "9863   MNE  2013     2\n",
      "9864   MNE  2014     2\n",
      "9865   MNE  2015     2\n",
      "9866   MNE  2016     2\n",
      "9867   MNE  2017     2\n",
      "9868   MNE  2018     2\n",
      "13192  SDN  2011     2\n"
     ]
    }
   ],
   "source": [
    "# Answer 7b\n",
    "\n",
    "def disp_rows(df):\n",
    "    df_obs = df.groupby(['iso3','year'], as_index = False).size()\n",
    "    return df_obs[df_obs['size'] > 1]\n",
    "\n",
    "df_test1 = disp_rows(df_pol)\n",
    "\n",
    "print(df_test1.to_string())"
   ]
  },
  {
   "cell_type": "code",
   "execution_count": 44,
   "id": "49fc8ae0",
   "metadata": {},
   "outputs": [
    {
     "data": {
      "text/html": [
       "<div>\n",
       "<style scoped>\n",
       "    .dataframe tbody tr th:only-of-type {\n",
       "        vertical-align: middle;\n",
       "    }\n",
       "\n",
       "    .dataframe tbody tr th {\n",
       "        vertical-align: top;\n",
       "    }\n",
       "\n",
       "    .dataframe thead th {\n",
       "        text-align: right;\n",
       "    }\n",
       "</style>\n",
       "<table border=\"1\" class=\"dataframe\">\n",
       "  <thead>\n",
       "    <tr style=\"text-align: right;\">\n",
       "      <th></th>\n",
       "      <th>iso3</th>\n",
       "      <th>country</th>\n",
       "      <th>year</th>\n",
       "      <th>polity2</th>\n",
       "    </tr>\n",
       "  </thead>\n",
       "  <tbody>\n",
       "    <tr>\n",
       "      <th>0</th>\n",
       "      <td>MNE</td>\n",
       "      <td>Montenegro</td>\n",
       "      <td>2011</td>\n",
       "      <td>9.0</td>\n",
       "    </tr>\n",
       "    <tr>\n",
       "      <th>6</th>\n",
       "      <td>MNE</td>\n",
       "      <td>Montenegro</td>\n",
       "      <td>2012</td>\n",
       "      <td>9.0</td>\n",
       "    </tr>\n",
       "    <tr>\n",
       "      <th>13</th>\n",
       "      <td>MNE</td>\n",
       "      <td>Montenegro</td>\n",
       "      <td>2013</td>\n",
       "      <td>9.0</td>\n",
       "    </tr>\n",
       "    <tr>\n",
       "      <th>21</th>\n",
       "      <td>MNE</td>\n",
       "      <td>Montenegro</td>\n",
       "      <td>2014</td>\n",
       "      <td>9.0</td>\n",
       "    </tr>\n",
       "    <tr>\n",
       "      <th>29</th>\n",
       "      <td>MNE</td>\n",
       "      <td>Montenegro</td>\n",
       "      <td>2015</td>\n",
       "      <td>9.0</td>\n",
       "    </tr>\n",
       "    <tr>\n",
       "      <th>30</th>\n",
       "      <td>MNE</td>\n",
       "      <td>Montenegro</td>\n",
       "      <td>2016</td>\n",
       "      <td>9.0</td>\n",
       "    </tr>\n",
       "    <tr>\n",
       "      <th>41</th>\n",
       "      <td>MNE</td>\n",
       "      <td>Montenegro</td>\n",
       "      <td>2017</td>\n",
       "      <td>9.0</td>\n",
       "    </tr>\n",
       "    <tr>\n",
       "      <th>42</th>\n",
       "      <td>MNE</td>\n",
       "      <td>Montenegro</td>\n",
       "      <td>2018</td>\n",
       "      <td>9.0</td>\n",
       "    </tr>\n",
       "    <tr>\n",
       "      <th>9901</th>\n",
       "      <td>MNE</td>\n",
       "      <td>Kosovo</td>\n",
       "      <td>2011</td>\n",
       "      <td>8.0</td>\n",
       "    </tr>\n",
       "    <tr>\n",
       "      <th>9902</th>\n",
       "      <td>MNE</td>\n",
       "      <td>Kosovo</td>\n",
       "      <td>2012</td>\n",
       "      <td>8.0</td>\n",
       "    </tr>\n",
       "    <tr>\n",
       "      <th>9903</th>\n",
       "      <td>MNE</td>\n",
       "      <td>Kosovo</td>\n",
       "      <td>2013</td>\n",
       "      <td>8.0</td>\n",
       "    </tr>\n",
       "    <tr>\n",
       "      <th>9904</th>\n",
       "      <td>MNE</td>\n",
       "      <td>Kosovo</td>\n",
       "      <td>2014</td>\n",
       "      <td>8.0</td>\n",
       "    </tr>\n",
       "    <tr>\n",
       "      <th>9905</th>\n",
       "      <td>MNE</td>\n",
       "      <td>Kosovo</td>\n",
       "      <td>2015</td>\n",
       "      <td>8.0</td>\n",
       "    </tr>\n",
       "    <tr>\n",
       "      <th>9906</th>\n",
       "      <td>MNE</td>\n",
       "      <td>Kosovo</td>\n",
       "      <td>2016</td>\n",
       "      <td>8.0</td>\n",
       "    </tr>\n",
       "    <tr>\n",
       "      <th>9907</th>\n",
       "      <td>MNE</td>\n",
       "      <td>Kosovo</td>\n",
       "      <td>2017</td>\n",
       "      <td>8.0</td>\n",
       "    </tr>\n",
       "    <tr>\n",
       "      <th>9908</th>\n",
       "      <td>MNE</td>\n",
       "      <td>Kosovo</td>\n",
       "      <td>2018</td>\n",
       "      <td>8.0</td>\n",
       "    </tr>\n",
       "  </tbody>\n",
       "</table>\n",
       "</div>"
      ],
      "text/plain": [
       "     iso3     country  year  polity2\n",
       "0     MNE  Montenegro  2011      9.0\n",
       "6     MNE  Montenegro  2012      9.0\n",
       "13    MNE  Montenegro  2013      9.0\n",
       "21    MNE  Montenegro  2014      9.0\n",
       "29    MNE  Montenegro  2015      9.0\n",
       "30    MNE  Montenegro  2016      9.0\n",
       "41    MNE  Montenegro  2017      9.0\n",
       "42    MNE  Montenegro  2018      9.0\n",
       "9901  MNE      Kosovo  2011      8.0\n",
       "9902  MNE      Kosovo  2012      8.0\n",
       "9903  MNE      Kosovo  2013      8.0\n",
       "9904  MNE      Kosovo  2014      8.0\n",
       "9905  MNE      Kosovo  2015      8.0\n",
       "9906  MNE      Kosovo  2016      8.0\n",
       "9907  MNE      Kosovo  2017      8.0\n",
       "9908  MNE      Kosovo  2018      8.0"
      ]
     },
     "execution_count": 44,
     "metadata": {},
     "output_type": "execute_result"
    }
   ],
   "source": [
    "# We observe what's wrong with rows that have iso3 equal to MNE and year greater or equal to 2011\n",
    "\n",
    "df_pol[(df_pol['iso3'] == 'MNE') & (df_pol['year'] >= '2011') ]"
   ]
  },
  {
   "cell_type": "code",
   "execution_count": 45,
   "id": "bc4fb0af",
   "metadata": {},
   "outputs": [
    {
     "data": {
      "text/html": [
       "<div>\n",
       "<style scoped>\n",
       "    .dataframe tbody tr th:only-of-type {\n",
       "        vertical-align: middle;\n",
       "    }\n",
       "\n",
       "    .dataframe tbody tr th {\n",
       "        vertical-align: top;\n",
       "    }\n",
       "\n",
       "    .dataframe thead th {\n",
       "        text-align: right;\n",
       "    }\n",
       "</style>\n",
       "<table border=\"1\" class=\"dataframe\">\n",
       "  <thead>\n",
       "    <tr style=\"text-align: right;\">\n",
       "      <th></th>\n",
       "      <th>iso3</th>\n",
       "      <th>country</th>\n",
       "      <th>year</th>\n",
       "      <th>polity2</th>\n",
       "    </tr>\n",
       "  </thead>\n",
       "  <tbody>\n",
       "    <tr>\n",
       "      <th>4</th>\n",
       "      <td>SDN</td>\n",
       "      <td>Sudan-North</td>\n",
       "      <td>2011</td>\n",
       "      <td>-4.0</td>\n",
       "    </tr>\n",
       "    <tr>\n",
       "      <th>13232</th>\n",
       "      <td>SDN</td>\n",
       "      <td>Sudan</td>\n",
       "      <td>2011</td>\n",
       "      <td>-2.0</td>\n",
       "    </tr>\n",
       "  </tbody>\n",
       "</table>\n",
       "</div>"
      ],
      "text/plain": [
       "      iso3      country  year  polity2\n",
       "4      SDN  Sudan-North  2011     -4.0\n",
       "13232  SDN        Sudan  2011     -2.0"
      ]
     },
     "execution_count": 45,
     "metadata": {},
     "output_type": "execute_result"
    }
   ],
   "source": [
    "# We observe what's wrong with rows that have iso3 equal to SDN and year equal to 2011\n",
    "\n",
    "df_pol[(df_pol['iso3'] == 'SDN') & (df_pol['year'] == '2011')]\n",
    "#print(disp_country('sudan',df_pol))"
   ]
  },
  {
   "cell_type": "markdown",
   "id": "f23d8f5b-10f5-4540-b714-99b77f3e5203",
   "metadata": {},
   "source": [
    "7c) Drop or fix the countries that create troubles directly in the \"clean\" version of Polity and motivate your choices. **(1 point)**"
   ]
  },
  {
   "cell_type": "code",
   "execution_count": 46,
   "id": "8aeb945c-418a-4eee-bdd3-2dce12246196",
   "metadata": {},
   "outputs": [],
   "source": [
    "# Answer 7c We drop the rows corresponding to Kosovo since it is no more a country\n",
    "df_pol.drop(df_pol[df_pol.country == \"Kosovo\"].index, inplace = True)\n",
    "\n",
    "# We also drop the row corresponding to Sudan in 2011 since there were a separation and it becomes Sudan-North. \n",
    "\n",
    "df_pol.drop(df_pol[(df_pol.country == \"Sudan\") & (df_pol.year == \"2011\") ].index, inplace = True)\n",
    "\n"
   ]
  },
  {
   "cell_type": "code",
   "execution_count": 47,
   "id": "dea33a86",
   "metadata": {},
   "outputs": [
    {
     "name": "stdout",
     "output_type": "stream",
     "text": [
      "Empty DataFrame\n",
      "Columns: [iso3, country, year, polity2]\n",
      "Index: []\n"
     ]
    }
   ],
   "source": [
    "print(df_pol[df_pol['country'] == 'Kosovo'])\n"
   ]
  },
  {
   "cell_type": "code",
   "execution_count": 48,
   "id": "a668e2c6",
   "metadata": {},
   "outputs": [
    {
     "name": "stdout",
     "output_type": "stream",
     "text": [
      "  iso3      country  year  polity2\n",
      "4  SDN  Sudan-North  2011     -4.0\n"
     ]
    }
   ],
   "source": [
    "print(df_pol[(df_pol['iso3'] == 'SDN') & (df_pol['year'] == '2011')])"
   ]
  },
  {
   "cell_type": "markdown",
   "id": "88282d66-3aa1-4fa4-b7cc-b448c649052c",
   "metadata": {},
   "source": [
    "7d) Try now to merge the \"clean-clean\" versions of COG and Polity (the ones you obtained in 7g and 8c) always using the options how=\"left\" and validate=\"one_to_one\". Does it work, and why? How many rows has the resulting merged dataframe? **(1 point)**"
   ]
  },
  {
   "cell_type": "code",
   "execution_count": 76,
   "id": "12e52b0f-7484-4656-82bd-8de4cee284a6",
   "metadata": {},
   "outputs": [],
   "source": [
    "# Answer 7d It works now because we dropped the duplicates so the one_to_one merge can be made\n",
    "df_final = pd.merge(df1,df_pol, how = 'left', validate = \"one_to_one\")\n",
    "\n"
   ]
  },
  {
   "cell_type": "markdown",
   "id": "3be8479c-556a-4c9b-b89f-a8f714e888ad",
   "metadata": {},
   "source": [
    "### Question 8: Clean the merged dataframe <a class=\"anchor\" id=\"question8\"></a>"
   ]
  },
  {
   "cell_type": "markdown",
   "id": "a936854f-7882-47bc-a2c0-cb39b53128b0",
   "metadata": {},
   "source": [
    "8a) In the merged dataframe, order the columns so that you have the \"index\" variables first and the variables with actual values last. **(1 point)**\n",
    "<br>\n",
    "Hint: index variables are \"iso3\", \"year\" and other similar variables you can find, and the variables with actual values are \"polity2\", \"cckp_temp\" and other similar variables you can find."
   ]
  },
  {
   "cell_type": "code",
   "execution_count": 77,
   "id": "c7e92ad2-8007-4a4b-a47f-44c040ccfbde",
   "metadata": {},
   "outputs": [],
   "source": [
    "# Answer 8a Index variables --> celles qui sont de type object ?\n",
    "\n",
    "column = df_final.columns.to_list()     \n",
    "column_first = [\"cname\", \"iso3\", \"year\", \"country\"] \n",
    "column_last = [\"polity2\", \"cckp_temp\" ]             \n",
    "\n",
    "def get_columns(x, y, z): \n",
    "    \n",
    "    list = [] \n",
    "    \n",
    "    for column in x:\n",
    "        if column not in y: \n",
    "            if column not in z:\n",
    "                list += [column]\n",
    "            \n",
    "    return list\n",
    "\n",
    "out = get_columns(column, column_first, column_last)\n",
    " "
   ]
  },
  {
   "cell_type": "code",
   "execution_count": 78,
   "id": "bead4620",
   "metadata": {},
   "outputs": [
    {
     "data": {
      "text/html": [
       "<div>\n",
       "<style scoped>\n",
       "    .dataframe tbody tr th:only-of-type {\n",
       "        vertical-align: middle;\n",
       "    }\n",
       "\n",
       "    .dataframe tbody tr th {\n",
       "        vertical-align: top;\n",
       "    }\n",
       "\n",
       "    .dataframe thead th {\n",
       "        text-align: right;\n",
       "    }\n",
       "</style>\n",
       "<table border=\"1\" class=\"dataframe\">\n",
       "  <thead>\n",
       "    <tr style=\"text-align: right;\">\n",
       "      <th></th>\n",
       "      <th>cname</th>\n",
       "      <th>iso3</th>\n",
       "      <th>year</th>\n",
       "      <th>country</th>\n",
       "      <th>Unnamed: 0</th>\n",
       "      <th>ccode</th>\n",
       "      <th>cname_qog</th>\n",
       "      <th>ccode_qog</th>\n",
       "      <th>ccodealp_year</th>\n",
       "      <th>ccodecow</th>\n",
       "      <th>...</th>\n",
       "      <th>wvs_ameop</th>\n",
       "      <th>wvs_ceom</th>\n",
       "      <th>wvs_deop</th>\n",
       "      <th>wvs_epmip</th>\n",
       "      <th>wvs_epmpp</th>\n",
       "      <th>wvs_imeop</th>\n",
       "      <th>wvs_pedp</th>\n",
       "      <th>wvs_ploem</th>\n",
       "      <th>polity2</th>\n",
       "      <th>cckp_temp</th>\n",
       "    </tr>\n",
       "  </thead>\n",
       "  <tbody>\n",
       "    <tr>\n",
       "      <th>0</th>\n",
       "      <td>Afghanistan</td>\n",
       "      <td>AFG</td>\n",
       "      <td>1946</td>\n",
       "      <td>Afghanistan</td>\n",
       "      <td>1</td>\n",
       "      <td>4.0</td>\n",
       "      <td>Afghanistan</td>\n",
       "      <td>4</td>\n",
       "      <td>AFG46</td>\n",
       "      <td>700.0</td>\n",
       "      <td>...</td>\n",
       "      <td>NaN</td>\n",
       "      <td>NaN</td>\n",
       "      <td>NaN</td>\n",
       "      <td>NaN</td>\n",
       "      <td>NaN</td>\n",
       "      <td>NaN</td>\n",
       "      <td>NaN</td>\n",
       "      <td>NaN</td>\n",
       "      <td>-10.0</td>\n",
       "      <td>13.158333</td>\n",
       "    </tr>\n",
       "    <tr>\n",
       "      <th>1</th>\n",
       "      <td>Afghanistan</td>\n",
       "      <td>AFG</td>\n",
       "      <td>1947</td>\n",
       "      <td>Afghanistan</td>\n",
       "      <td>2</td>\n",
       "      <td>4.0</td>\n",
       "      <td>Afghanistan</td>\n",
       "      <td>4</td>\n",
       "      <td>AFG47</td>\n",
       "      <td>700.0</td>\n",
       "      <td>...</td>\n",
       "      <td>NaN</td>\n",
       "      <td>NaN</td>\n",
       "      <td>NaN</td>\n",
       "      <td>NaN</td>\n",
       "      <td>NaN</td>\n",
       "      <td>NaN</td>\n",
       "      <td>NaN</td>\n",
       "      <td>NaN</td>\n",
       "      <td>-10.0</td>\n",
       "      <td>13.658333</td>\n",
       "    </tr>\n",
       "    <tr>\n",
       "      <th>2</th>\n",
       "      <td>Afghanistan</td>\n",
       "      <td>AFG</td>\n",
       "      <td>1948</td>\n",
       "      <td>Afghanistan</td>\n",
       "      <td>3</td>\n",
       "      <td>4.0</td>\n",
       "      <td>Afghanistan</td>\n",
       "      <td>4</td>\n",
       "      <td>AFG48</td>\n",
       "      <td>700.0</td>\n",
       "      <td>...</td>\n",
       "      <td>NaN</td>\n",
       "      <td>NaN</td>\n",
       "      <td>NaN</td>\n",
       "      <td>NaN</td>\n",
       "      <td>NaN</td>\n",
       "      <td>NaN</td>\n",
       "      <td>NaN</td>\n",
       "      <td>NaN</td>\n",
       "      <td>-10.0</td>\n",
       "      <td>12.925000</td>\n",
       "    </tr>\n",
       "    <tr>\n",
       "      <th>3</th>\n",
       "      <td>Afghanistan</td>\n",
       "      <td>AFG</td>\n",
       "      <td>1949</td>\n",
       "      <td>Afghanistan</td>\n",
       "      <td>4</td>\n",
       "      <td>4.0</td>\n",
       "      <td>Afghanistan</td>\n",
       "      <td>4</td>\n",
       "      <td>AFG49</td>\n",
       "      <td>700.0</td>\n",
       "      <td>...</td>\n",
       "      <td>NaN</td>\n",
       "      <td>NaN</td>\n",
       "      <td>NaN</td>\n",
       "      <td>NaN</td>\n",
       "      <td>NaN</td>\n",
       "      <td>NaN</td>\n",
       "      <td>NaN</td>\n",
       "      <td>NaN</td>\n",
       "      <td>-10.0</td>\n",
       "      <td>12.041667</td>\n",
       "    </tr>\n",
       "    <tr>\n",
       "      <th>4</th>\n",
       "      <td>Afghanistan</td>\n",
       "      <td>AFG</td>\n",
       "      <td>1950</td>\n",
       "      <td>Afghanistan</td>\n",
       "      <td>5</td>\n",
       "      <td>4.0</td>\n",
       "      <td>Afghanistan</td>\n",
       "      <td>4</td>\n",
       "      <td>AFG50</td>\n",
       "      <td>700.0</td>\n",
       "      <td>...</td>\n",
       "      <td>NaN</td>\n",
       "      <td>NaN</td>\n",
       "      <td>NaN</td>\n",
       "      <td>NaN</td>\n",
       "      <td>NaN</td>\n",
       "      <td>NaN</td>\n",
       "      <td>NaN</td>\n",
       "      <td>NaN</td>\n",
       "      <td>-10.0</td>\n",
       "      <td>11.583333</td>\n",
       "    </tr>\n",
       "    <tr>\n",
       "      <th>...</th>\n",
       "      <td>...</td>\n",
       "      <td>...</td>\n",
       "      <td>...</td>\n",
       "      <td>...</td>\n",
       "      <td>...</td>\n",
       "      <td>...</td>\n",
       "      <td>...</td>\n",
       "      <td>...</td>\n",
       "      <td>...</td>\n",
       "      <td>...</td>\n",
       "      <td>...</td>\n",
       "      <td>...</td>\n",
       "      <td>...</td>\n",
       "      <td>...</td>\n",
       "      <td>...</td>\n",
       "      <td>...</td>\n",
       "      <td>...</td>\n",
       "      <td>...</td>\n",
       "      <td>...</td>\n",
       "      <td>...</td>\n",
       "      <td>...</td>\n",
       "    </tr>\n",
       "    <tr>\n",
       "      <th>15145</th>\n",
       "      <td>South Vietnam</td>\n",
       "      <td>VDR</td>\n",
       "      <td>2016</td>\n",
       "      <td>NaN</td>\n",
       "      <td>15821</td>\n",
       "      <td>NaN</td>\n",
       "      <td>Vietnam, South</td>\n",
       "      <td>999</td>\n",
       "      <td>VDR16</td>\n",
       "      <td>NaN</td>\n",
       "      <td>...</td>\n",
       "      <td>NaN</td>\n",
       "      <td>NaN</td>\n",
       "      <td>NaN</td>\n",
       "      <td>NaN</td>\n",
       "      <td>NaN</td>\n",
       "      <td>NaN</td>\n",
       "      <td>NaN</td>\n",
       "      <td>NaN</td>\n",
       "      <td>NaN</td>\n",
       "      <td>NaN</td>\n",
       "    </tr>\n",
       "    <tr>\n",
       "      <th>15146</th>\n",
       "      <td>South Vietnam</td>\n",
       "      <td>VDR</td>\n",
       "      <td>2017</td>\n",
       "      <td>NaN</td>\n",
       "      <td>15822</td>\n",
       "      <td>NaN</td>\n",
       "      <td>Vietnam, South</td>\n",
       "      <td>999</td>\n",
       "      <td>VDR17</td>\n",
       "      <td>NaN</td>\n",
       "      <td>...</td>\n",
       "      <td>NaN</td>\n",
       "      <td>NaN</td>\n",
       "      <td>NaN</td>\n",
       "      <td>NaN</td>\n",
       "      <td>NaN</td>\n",
       "      <td>NaN</td>\n",
       "      <td>NaN</td>\n",
       "      <td>NaN</td>\n",
       "      <td>NaN</td>\n",
       "      <td>NaN</td>\n",
       "    </tr>\n",
       "    <tr>\n",
       "      <th>15147</th>\n",
       "      <td>South Vietnam</td>\n",
       "      <td>VDR</td>\n",
       "      <td>2018</td>\n",
       "      <td>NaN</td>\n",
       "      <td>15823</td>\n",
       "      <td>NaN</td>\n",
       "      <td>Vietnam, South</td>\n",
       "      <td>999</td>\n",
       "      <td>VDR18</td>\n",
       "      <td>NaN</td>\n",
       "      <td>...</td>\n",
       "      <td>NaN</td>\n",
       "      <td>NaN</td>\n",
       "      <td>NaN</td>\n",
       "      <td>NaN</td>\n",
       "      <td>NaN</td>\n",
       "      <td>NaN</td>\n",
       "      <td>NaN</td>\n",
       "      <td>NaN</td>\n",
       "      <td>NaN</td>\n",
       "      <td>NaN</td>\n",
       "    </tr>\n",
       "    <tr>\n",
       "      <th>15148</th>\n",
       "      <td>South Vietnam</td>\n",
       "      <td>VDR</td>\n",
       "      <td>2019</td>\n",
       "      <td>NaN</td>\n",
       "      <td>15824</td>\n",
       "      <td>NaN</td>\n",
       "      <td>Vietnam, South</td>\n",
       "      <td>999</td>\n",
       "      <td>VDR19</td>\n",
       "      <td>NaN</td>\n",
       "      <td>...</td>\n",
       "      <td>NaN</td>\n",
       "      <td>NaN</td>\n",
       "      <td>NaN</td>\n",
       "      <td>NaN</td>\n",
       "      <td>NaN</td>\n",
       "      <td>NaN</td>\n",
       "      <td>NaN</td>\n",
       "      <td>NaN</td>\n",
       "      <td>NaN</td>\n",
       "      <td>NaN</td>\n",
       "    </tr>\n",
       "    <tr>\n",
       "      <th>15149</th>\n",
       "      <td>South Vietnam</td>\n",
       "      <td>VDR</td>\n",
       "      <td>2020</td>\n",
       "      <td>NaN</td>\n",
       "      <td>15825</td>\n",
       "      <td>NaN</td>\n",
       "      <td>Vietnam, South</td>\n",
       "      <td>999</td>\n",
       "      <td>VDR20</td>\n",
       "      <td>NaN</td>\n",
       "      <td>...</td>\n",
       "      <td>NaN</td>\n",
       "      <td>NaN</td>\n",
       "      <td>NaN</td>\n",
       "      <td>NaN</td>\n",
       "      <td>NaN</td>\n",
       "      <td>NaN</td>\n",
       "      <td>NaN</td>\n",
       "      <td>NaN</td>\n",
       "      <td>NaN</td>\n",
       "      <td>NaN</td>\n",
       "    </tr>\n",
       "  </tbody>\n",
       "</table>\n",
       "<p>15150 rows × 417 columns</p>\n",
       "</div>"
      ],
      "text/plain": [
       "               cname iso3  year      country  Unnamed: 0  ccode  \\\n",
       "0        Afghanistan  AFG  1946  Afghanistan           1    4.0   \n",
       "1        Afghanistan  AFG  1947  Afghanistan           2    4.0   \n",
       "2        Afghanistan  AFG  1948  Afghanistan           3    4.0   \n",
       "3        Afghanistan  AFG  1949  Afghanistan           4    4.0   \n",
       "4        Afghanistan  AFG  1950  Afghanistan           5    4.0   \n",
       "...              ...  ...   ...          ...         ...    ...   \n",
       "15145  South Vietnam  VDR  2016          NaN       15821    NaN   \n",
       "15146  South Vietnam  VDR  2017          NaN       15822    NaN   \n",
       "15147  South Vietnam  VDR  2018          NaN       15823    NaN   \n",
       "15148  South Vietnam  VDR  2019          NaN       15824    NaN   \n",
       "15149  South Vietnam  VDR  2020          NaN       15825    NaN   \n",
       "\n",
       "            cname_qog  ccode_qog ccodealp_year  ccodecow  ...  wvs_ameop  \\\n",
       "0         Afghanistan          4         AFG46     700.0  ...        NaN   \n",
       "1         Afghanistan          4         AFG47     700.0  ...        NaN   \n",
       "2         Afghanistan          4         AFG48     700.0  ...        NaN   \n",
       "3         Afghanistan          4         AFG49     700.0  ...        NaN   \n",
       "4         Afghanistan          4         AFG50     700.0  ...        NaN   \n",
       "...               ...        ...           ...       ...  ...        ...   \n",
       "15145  Vietnam, South        999         VDR16       NaN  ...        NaN   \n",
       "15146  Vietnam, South        999         VDR17       NaN  ...        NaN   \n",
       "15147  Vietnam, South        999         VDR18       NaN  ...        NaN   \n",
       "15148  Vietnam, South        999         VDR19       NaN  ...        NaN   \n",
       "15149  Vietnam, South        999         VDR20       NaN  ...        NaN   \n",
       "\n",
       "      wvs_ceom wvs_deop  wvs_epmip  wvs_epmpp  wvs_imeop  wvs_pedp  wvs_ploem  \\\n",
       "0          NaN      NaN        NaN        NaN        NaN       NaN        NaN   \n",
       "1          NaN      NaN        NaN        NaN        NaN       NaN        NaN   \n",
       "2          NaN      NaN        NaN        NaN        NaN       NaN        NaN   \n",
       "3          NaN      NaN        NaN        NaN        NaN       NaN        NaN   \n",
       "4          NaN      NaN        NaN        NaN        NaN       NaN        NaN   \n",
       "...        ...      ...        ...        ...        ...       ...        ...   \n",
       "15145      NaN      NaN        NaN        NaN        NaN       NaN        NaN   \n",
       "15146      NaN      NaN        NaN        NaN        NaN       NaN        NaN   \n",
       "15147      NaN      NaN        NaN        NaN        NaN       NaN        NaN   \n",
       "15148      NaN      NaN        NaN        NaN        NaN       NaN        NaN   \n",
       "15149      NaN      NaN        NaN        NaN        NaN       NaN        NaN   \n",
       "\n",
       "       polity2  cckp_temp  \n",
       "0        -10.0  13.158333  \n",
       "1        -10.0  13.658333  \n",
       "2        -10.0  12.925000  \n",
       "3        -10.0  12.041667  \n",
       "4        -10.0  11.583333  \n",
       "...        ...        ...  \n",
       "15145      NaN        NaN  \n",
       "15146      NaN        NaN  \n",
       "15147      NaN        NaN  \n",
       "15148      NaN        NaN  \n",
       "15149      NaN        NaN  \n",
       "\n",
       "[15150 rows x 417 columns]"
      ]
     },
     "execution_count": 78,
     "metadata": {},
     "output_type": "execute_result"
    }
   ],
   "source": [
    "df_final_col = df_final.loc[:, column_first + out + column_last] \n"
   ]
  },
  {
   "cell_type": "code",
   "execution_count": 80,
   "id": "6a310918",
   "metadata": {},
   "outputs": [
    {
     "data": {
      "text/html": [
       "<div>\n",
       "<style scoped>\n",
       "    .dataframe tbody tr th:only-of-type {\n",
       "        vertical-align: middle;\n",
       "    }\n",
       "\n",
       "    .dataframe tbody tr th {\n",
       "        vertical-align: top;\n",
       "    }\n",
       "\n",
       "    .dataframe thead th {\n",
       "        text-align: right;\n",
       "    }\n",
       "</style>\n",
       "<table border=\"1\" class=\"dataframe\">\n",
       "  <thead>\n",
       "    <tr style=\"text-align: right;\">\n",
       "      <th></th>\n",
       "      <th>cname</th>\n",
       "      <th>iso3</th>\n",
       "      <th>year</th>\n",
       "      <th>country</th>\n",
       "      <th>ccode</th>\n",
       "      <th>cname_qog</th>\n",
       "      <th>ccode_qog</th>\n",
       "      <th>ccodealp_year</th>\n",
       "      <th>ccodecow</th>\n",
       "      <th>ccodevdem</th>\n",
       "      <th>...</th>\n",
       "      <th>wvs_ameop</th>\n",
       "      <th>wvs_ceom</th>\n",
       "      <th>wvs_deop</th>\n",
       "      <th>wvs_epmip</th>\n",
       "      <th>wvs_epmpp</th>\n",
       "      <th>wvs_imeop</th>\n",
       "      <th>wvs_pedp</th>\n",
       "      <th>wvs_ploem</th>\n",
       "      <th>polity2</th>\n",
       "      <th>cckp_temp</th>\n",
       "    </tr>\n",
       "  </thead>\n",
       "  <tbody>\n",
       "    <tr>\n",
       "      <th>0</th>\n",
       "      <td>Afghanistan</td>\n",
       "      <td>AFG</td>\n",
       "      <td>1946</td>\n",
       "      <td>Afghanistan</td>\n",
       "      <td>4.0</td>\n",
       "      <td>Afghanistan</td>\n",
       "      <td>4</td>\n",
       "      <td>AFG46</td>\n",
       "      <td>700.0</td>\n",
       "      <td>36.0</td>\n",
       "      <td>...</td>\n",
       "      <td>NaN</td>\n",
       "      <td>NaN</td>\n",
       "      <td>NaN</td>\n",
       "      <td>NaN</td>\n",
       "      <td>NaN</td>\n",
       "      <td>NaN</td>\n",
       "      <td>NaN</td>\n",
       "      <td>NaN</td>\n",
       "      <td>-10.0</td>\n",
       "      <td>13.158333</td>\n",
       "    </tr>\n",
       "    <tr>\n",
       "      <th>1</th>\n",
       "      <td>Afghanistan</td>\n",
       "      <td>AFG</td>\n",
       "      <td>1947</td>\n",
       "      <td>Afghanistan</td>\n",
       "      <td>4.0</td>\n",
       "      <td>Afghanistan</td>\n",
       "      <td>4</td>\n",
       "      <td>AFG47</td>\n",
       "      <td>700.0</td>\n",
       "      <td>36.0</td>\n",
       "      <td>...</td>\n",
       "      <td>NaN</td>\n",
       "      <td>NaN</td>\n",
       "      <td>NaN</td>\n",
       "      <td>NaN</td>\n",
       "      <td>NaN</td>\n",
       "      <td>NaN</td>\n",
       "      <td>NaN</td>\n",
       "      <td>NaN</td>\n",
       "      <td>-10.0</td>\n",
       "      <td>13.658333</td>\n",
       "    </tr>\n",
       "    <tr>\n",
       "      <th>2</th>\n",
       "      <td>Afghanistan</td>\n",
       "      <td>AFG</td>\n",
       "      <td>1948</td>\n",
       "      <td>Afghanistan</td>\n",
       "      <td>4.0</td>\n",
       "      <td>Afghanistan</td>\n",
       "      <td>4</td>\n",
       "      <td>AFG48</td>\n",
       "      <td>700.0</td>\n",
       "      <td>36.0</td>\n",
       "      <td>...</td>\n",
       "      <td>NaN</td>\n",
       "      <td>NaN</td>\n",
       "      <td>NaN</td>\n",
       "      <td>NaN</td>\n",
       "      <td>NaN</td>\n",
       "      <td>NaN</td>\n",
       "      <td>NaN</td>\n",
       "      <td>NaN</td>\n",
       "      <td>-10.0</td>\n",
       "      <td>12.925000</td>\n",
       "    </tr>\n",
       "    <tr>\n",
       "      <th>3</th>\n",
       "      <td>Afghanistan</td>\n",
       "      <td>AFG</td>\n",
       "      <td>1949</td>\n",
       "      <td>Afghanistan</td>\n",
       "      <td>4.0</td>\n",
       "      <td>Afghanistan</td>\n",
       "      <td>4</td>\n",
       "      <td>AFG49</td>\n",
       "      <td>700.0</td>\n",
       "      <td>36.0</td>\n",
       "      <td>...</td>\n",
       "      <td>NaN</td>\n",
       "      <td>NaN</td>\n",
       "      <td>NaN</td>\n",
       "      <td>NaN</td>\n",
       "      <td>NaN</td>\n",
       "      <td>NaN</td>\n",
       "      <td>NaN</td>\n",
       "      <td>NaN</td>\n",
       "      <td>-10.0</td>\n",
       "      <td>12.041667</td>\n",
       "    </tr>\n",
       "    <tr>\n",
       "      <th>4</th>\n",
       "      <td>Afghanistan</td>\n",
       "      <td>AFG</td>\n",
       "      <td>1950</td>\n",
       "      <td>Afghanistan</td>\n",
       "      <td>4.0</td>\n",
       "      <td>Afghanistan</td>\n",
       "      <td>4</td>\n",
       "      <td>AFG50</td>\n",
       "      <td>700.0</td>\n",
       "      <td>36.0</td>\n",
       "      <td>...</td>\n",
       "      <td>NaN</td>\n",
       "      <td>NaN</td>\n",
       "      <td>NaN</td>\n",
       "      <td>NaN</td>\n",
       "      <td>NaN</td>\n",
       "      <td>NaN</td>\n",
       "      <td>NaN</td>\n",
       "      <td>NaN</td>\n",
       "      <td>-10.0</td>\n",
       "      <td>11.583333</td>\n",
       "    </tr>\n",
       "    <tr>\n",
       "      <th>...</th>\n",
       "      <td>...</td>\n",
       "      <td>...</td>\n",
       "      <td>...</td>\n",
       "      <td>...</td>\n",
       "      <td>...</td>\n",
       "      <td>...</td>\n",
       "      <td>...</td>\n",
       "      <td>...</td>\n",
       "      <td>...</td>\n",
       "      <td>...</td>\n",
       "      <td>...</td>\n",
       "      <td>...</td>\n",
       "      <td>...</td>\n",
       "      <td>...</td>\n",
       "      <td>...</td>\n",
       "      <td>...</td>\n",
       "      <td>...</td>\n",
       "      <td>...</td>\n",
       "      <td>...</td>\n",
       "      <td>...</td>\n",
       "      <td>...</td>\n",
       "    </tr>\n",
       "    <tr>\n",
       "      <th>15145</th>\n",
       "      <td>South Vietnam</td>\n",
       "      <td>VDR</td>\n",
       "      <td>2016</td>\n",
       "      <td>NaN</td>\n",
       "      <td>NaN</td>\n",
       "      <td>Vietnam, South</td>\n",
       "      <td>999</td>\n",
       "      <td>VDR16</td>\n",
       "      <td>NaN</td>\n",
       "      <td>NaN</td>\n",
       "      <td>...</td>\n",
       "      <td>NaN</td>\n",
       "      <td>NaN</td>\n",
       "      <td>NaN</td>\n",
       "      <td>NaN</td>\n",
       "      <td>NaN</td>\n",
       "      <td>NaN</td>\n",
       "      <td>NaN</td>\n",
       "      <td>NaN</td>\n",
       "      <td>NaN</td>\n",
       "      <td>NaN</td>\n",
       "    </tr>\n",
       "    <tr>\n",
       "      <th>15146</th>\n",
       "      <td>South Vietnam</td>\n",
       "      <td>VDR</td>\n",
       "      <td>2017</td>\n",
       "      <td>NaN</td>\n",
       "      <td>NaN</td>\n",
       "      <td>Vietnam, South</td>\n",
       "      <td>999</td>\n",
       "      <td>VDR17</td>\n",
       "      <td>NaN</td>\n",
       "      <td>NaN</td>\n",
       "      <td>...</td>\n",
       "      <td>NaN</td>\n",
       "      <td>NaN</td>\n",
       "      <td>NaN</td>\n",
       "      <td>NaN</td>\n",
       "      <td>NaN</td>\n",
       "      <td>NaN</td>\n",
       "      <td>NaN</td>\n",
       "      <td>NaN</td>\n",
       "      <td>NaN</td>\n",
       "      <td>NaN</td>\n",
       "    </tr>\n",
       "    <tr>\n",
       "      <th>15147</th>\n",
       "      <td>South Vietnam</td>\n",
       "      <td>VDR</td>\n",
       "      <td>2018</td>\n",
       "      <td>NaN</td>\n",
       "      <td>NaN</td>\n",
       "      <td>Vietnam, South</td>\n",
       "      <td>999</td>\n",
       "      <td>VDR18</td>\n",
       "      <td>NaN</td>\n",
       "      <td>NaN</td>\n",
       "      <td>...</td>\n",
       "      <td>NaN</td>\n",
       "      <td>NaN</td>\n",
       "      <td>NaN</td>\n",
       "      <td>NaN</td>\n",
       "      <td>NaN</td>\n",
       "      <td>NaN</td>\n",
       "      <td>NaN</td>\n",
       "      <td>NaN</td>\n",
       "      <td>NaN</td>\n",
       "      <td>NaN</td>\n",
       "    </tr>\n",
       "    <tr>\n",
       "      <th>15148</th>\n",
       "      <td>South Vietnam</td>\n",
       "      <td>VDR</td>\n",
       "      <td>2019</td>\n",
       "      <td>NaN</td>\n",
       "      <td>NaN</td>\n",
       "      <td>Vietnam, South</td>\n",
       "      <td>999</td>\n",
       "      <td>VDR19</td>\n",
       "      <td>NaN</td>\n",
       "      <td>NaN</td>\n",
       "      <td>...</td>\n",
       "      <td>NaN</td>\n",
       "      <td>NaN</td>\n",
       "      <td>NaN</td>\n",
       "      <td>NaN</td>\n",
       "      <td>NaN</td>\n",
       "      <td>NaN</td>\n",
       "      <td>NaN</td>\n",
       "      <td>NaN</td>\n",
       "      <td>NaN</td>\n",
       "      <td>NaN</td>\n",
       "    </tr>\n",
       "    <tr>\n",
       "      <th>15149</th>\n",
       "      <td>South Vietnam</td>\n",
       "      <td>VDR</td>\n",
       "      <td>2020</td>\n",
       "      <td>NaN</td>\n",
       "      <td>NaN</td>\n",
       "      <td>Vietnam, South</td>\n",
       "      <td>999</td>\n",
       "      <td>VDR20</td>\n",
       "      <td>NaN</td>\n",
       "      <td>NaN</td>\n",
       "      <td>...</td>\n",
       "      <td>NaN</td>\n",
       "      <td>NaN</td>\n",
       "      <td>NaN</td>\n",
       "      <td>NaN</td>\n",
       "      <td>NaN</td>\n",
       "      <td>NaN</td>\n",
       "      <td>NaN</td>\n",
       "      <td>NaN</td>\n",
       "      <td>NaN</td>\n",
       "      <td>NaN</td>\n",
       "    </tr>\n",
       "  </tbody>\n",
       "</table>\n",
       "<p>15150 rows × 416 columns</p>\n",
       "</div>"
      ],
      "text/plain": [
       "               cname iso3  year      country  ccode       cname_qog  \\\n",
       "0        Afghanistan  AFG  1946  Afghanistan    4.0     Afghanistan   \n",
       "1        Afghanistan  AFG  1947  Afghanistan    4.0     Afghanistan   \n",
       "2        Afghanistan  AFG  1948  Afghanistan    4.0     Afghanistan   \n",
       "3        Afghanistan  AFG  1949  Afghanistan    4.0     Afghanistan   \n",
       "4        Afghanistan  AFG  1950  Afghanistan    4.0     Afghanistan   \n",
       "...              ...  ...   ...          ...    ...             ...   \n",
       "15145  South Vietnam  VDR  2016          NaN    NaN  Vietnam, South   \n",
       "15146  South Vietnam  VDR  2017          NaN    NaN  Vietnam, South   \n",
       "15147  South Vietnam  VDR  2018          NaN    NaN  Vietnam, South   \n",
       "15148  South Vietnam  VDR  2019          NaN    NaN  Vietnam, South   \n",
       "15149  South Vietnam  VDR  2020          NaN    NaN  Vietnam, South   \n",
       "\n",
       "       ccode_qog ccodealp_year  ccodecow  ccodevdem  ... wvs_ameop wvs_ceom  \\\n",
       "0              4         AFG46     700.0       36.0  ...       NaN      NaN   \n",
       "1              4         AFG47     700.0       36.0  ...       NaN      NaN   \n",
       "2              4         AFG48     700.0       36.0  ...       NaN      NaN   \n",
       "3              4         AFG49     700.0       36.0  ...       NaN      NaN   \n",
       "4              4         AFG50     700.0       36.0  ...       NaN      NaN   \n",
       "...          ...           ...       ...        ...  ...       ...      ...   \n",
       "15145        999         VDR16       NaN        NaN  ...       NaN      NaN   \n",
       "15146        999         VDR17       NaN        NaN  ...       NaN      NaN   \n",
       "15147        999         VDR18       NaN        NaN  ...       NaN      NaN   \n",
       "15148        999         VDR19       NaN        NaN  ...       NaN      NaN   \n",
       "15149        999         VDR20       NaN        NaN  ...       NaN      NaN   \n",
       "\n",
       "       wvs_deop  wvs_epmip  wvs_epmpp  wvs_imeop  wvs_pedp  wvs_ploem  \\\n",
       "0           NaN        NaN        NaN        NaN       NaN        NaN   \n",
       "1           NaN        NaN        NaN        NaN       NaN        NaN   \n",
       "2           NaN        NaN        NaN        NaN       NaN        NaN   \n",
       "3           NaN        NaN        NaN        NaN       NaN        NaN   \n",
       "4           NaN        NaN        NaN        NaN       NaN        NaN   \n",
       "...         ...        ...        ...        ...       ...        ...   \n",
       "15145       NaN        NaN        NaN        NaN       NaN        NaN   \n",
       "15146       NaN        NaN        NaN        NaN       NaN        NaN   \n",
       "15147       NaN        NaN        NaN        NaN       NaN        NaN   \n",
       "15148       NaN        NaN        NaN        NaN       NaN        NaN   \n",
       "15149       NaN        NaN        NaN        NaN       NaN        NaN   \n",
       "\n",
       "       polity2  cckp_temp  \n",
       "0        -10.0  13.158333  \n",
       "1        -10.0  13.658333  \n",
       "2        -10.0  12.925000  \n",
       "3        -10.0  12.041667  \n",
       "4        -10.0  11.583333  \n",
       "...        ...        ...  \n",
       "15145      NaN        NaN  \n",
       "15146      NaN        NaN  \n",
       "15147      NaN        NaN  \n",
       "15148      NaN        NaN  \n",
       "15149      NaN        NaN  \n",
       "\n",
       "[15150 rows x 416 columns]"
      ]
     },
     "execution_count": 80,
     "metadata": {},
     "output_type": "execute_result"
    }
   ],
   "source": [
    "df_final1 = df_final_col.drop(columns=['Unnamed: 0'])\n",
    "df_final1"
   ]
  },
  {
   "cell_type": "markdown",
   "id": "1b39c4e8-6f99-47c9-9d32-4196e4184537",
   "metadata": {},
   "source": [
    "8b) Rename \"cname\" as \"country\" and \"country\" as \"country_polity\". **(1 point)**"
   ]
  },
  {
   "cell_type": "code",
   "execution_count": 81,
   "id": "89e2cccd-473d-462e-9b2f-726aa6763d98",
   "metadata": {},
   "outputs": [
    {
     "data": {
      "text/html": [
       "<div>\n",
       "<style scoped>\n",
       "    .dataframe tbody tr th:only-of-type {\n",
       "        vertical-align: middle;\n",
       "    }\n",
       "\n",
       "    .dataframe tbody tr th {\n",
       "        vertical-align: top;\n",
       "    }\n",
       "\n",
       "    .dataframe thead th {\n",
       "        text-align: right;\n",
       "    }\n",
       "</style>\n",
       "<table border=\"1\" class=\"dataframe\">\n",
       "  <thead>\n",
       "    <tr style=\"text-align: right;\">\n",
       "      <th></th>\n",
       "      <th>country</th>\n",
       "      <th>iso3</th>\n",
       "      <th>year</th>\n",
       "      <th>country_polity</th>\n",
       "      <th>ccode</th>\n",
       "      <th>cname_qog</th>\n",
       "      <th>ccode_qog</th>\n",
       "      <th>ccodealp_year</th>\n",
       "      <th>ccodecow</th>\n",
       "      <th>ccodevdem</th>\n",
       "      <th>...</th>\n",
       "      <th>wvs_ameop</th>\n",
       "      <th>wvs_ceom</th>\n",
       "      <th>wvs_deop</th>\n",
       "      <th>wvs_epmip</th>\n",
       "      <th>wvs_epmpp</th>\n",
       "      <th>wvs_imeop</th>\n",
       "      <th>wvs_pedp</th>\n",
       "      <th>wvs_ploem</th>\n",
       "      <th>polity2</th>\n",
       "      <th>cckp_temp</th>\n",
       "    </tr>\n",
       "  </thead>\n",
       "  <tbody>\n",
       "    <tr>\n",
       "      <th>0</th>\n",
       "      <td>Afghanistan</td>\n",
       "      <td>AFG</td>\n",
       "      <td>1946</td>\n",
       "      <td>Afghanistan</td>\n",
       "      <td>4.0</td>\n",
       "      <td>Afghanistan</td>\n",
       "      <td>4</td>\n",
       "      <td>AFG46</td>\n",
       "      <td>700.0</td>\n",
       "      <td>36.0</td>\n",
       "      <td>...</td>\n",
       "      <td>NaN</td>\n",
       "      <td>NaN</td>\n",
       "      <td>NaN</td>\n",
       "      <td>NaN</td>\n",
       "      <td>NaN</td>\n",
       "      <td>NaN</td>\n",
       "      <td>NaN</td>\n",
       "      <td>NaN</td>\n",
       "      <td>-10.0</td>\n",
       "      <td>13.158333</td>\n",
       "    </tr>\n",
       "    <tr>\n",
       "      <th>1</th>\n",
       "      <td>Afghanistan</td>\n",
       "      <td>AFG</td>\n",
       "      <td>1947</td>\n",
       "      <td>Afghanistan</td>\n",
       "      <td>4.0</td>\n",
       "      <td>Afghanistan</td>\n",
       "      <td>4</td>\n",
       "      <td>AFG47</td>\n",
       "      <td>700.0</td>\n",
       "      <td>36.0</td>\n",
       "      <td>...</td>\n",
       "      <td>NaN</td>\n",
       "      <td>NaN</td>\n",
       "      <td>NaN</td>\n",
       "      <td>NaN</td>\n",
       "      <td>NaN</td>\n",
       "      <td>NaN</td>\n",
       "      <td>NaN</td>\n",
       "      <td>NaN</td>\n",
       "      <td>-10.0</td>\n",
       "      <td>13.658333</td>\n",
       "    </tr>\n",
       "    <tr>\n",
       "      <th>2</th>\n",
       "      <td>Afghanistan</td>\n",
       "      <td>AFG</td>\n",
       "      <td>1948</td>\n",
       "      <td>Afghanistan</td>\n",
       "      <td>4.0</td>\n",
       "      <td>Afghanistan</td>\n",
       "      <td>4</td>\n",
       "      <td>AFG48</td>\n",
       "      <td>700.0</td>\n",
       "      <td>36.0</td>\n",
       "      <td>...</td>\n",
       "      <td>NaN</td>\n",
       "      <td>NaN</td>\n",
       "      <td>NaN</td>\n",
       "      <td>NaN</td>\n",
       "      <td>NaN</td>\n",
       "      <td>NaN</td>\n",
       "      <td>NaN</td>\n",
       "      <td>NaN</td>\n",
       "      <td>-10.0</td>\n",
       "      <td>12.925000</td>\n",
       "    </tr>\n",
       "    <tr>\n",
       "      <th>3</th>\n",
       "      <td>Afghanistan</td>\n",
       "      <td>AFG</td>\n",
       "      <td>1949</td>\n",
       "      <td>Afghanistan</td>\n",
       "      <td>4.0</td>\n",
       "      <td>Afghanistan</td>\n",
       "      <td>4</td>\n",
       "      <td>AFG49</td>\n",
       "      <td>700.0</td>\n",
       "      <td>36.0</td>\n",
       "      <td>...</td>\n",
       "      <td>NaN</td>\n",
       "      <td>NaN</td>\n",
       "      <td>NaN</td>\n",
       "      <td>NaN</td>\n",
       "      <td>NaN</td>\n",
       "      <td>NaN</td>\n",
       "      <td>NaN</td>\n",
       "      <td>NaN</td>\n",
       "      <td>-10.0</td>\n",
       "      <td>12.041667</td>\n",
       "    </tr>\n",
       "    <tr>\n",
       "      <th>4</th>\n",
       "      <td>Afghanistan</td>\n",
       "      <td>AFG</td>\n",
       "      <td>1950</td>\n",
       "      <td>Afghanistan</td>\n",
       "      <td>4.0</td>\n",
       "      <td>Afghanistan</td>\n",
       "      <td>4</td>\n",
       "      <td>AFG50</td>\n",
       "      <td>700.0</td>\n",
       "      <td>36.0</td>\n",
       "      <td>...</td>\n",
       "      <td>NaN</td>\n",
       "      <td>NaN</td>\n",
       "      <td>NaN</td>\n",
       "      <td>NaN</td>\n",
       "      <td>NaN</td>\n",
       "      <td>NaN</td>\n",
       "      <td>NaN</td>\n",
       "      <td>NaN</td>\n",
       "      <td>-10.0</td>\n",
       "      <td>11.583333</td>\n",
       "    </tr>\n",
       "    <tr>\n",
       "      <th>...</th>\n",
       "      <td>...</td>\n",
       "      <td>...</td>\n",
       "      <td>...</td>\n",
       "      <td>...</td>\n",
       "      <td>...</td>\n",
       "      <td>...</td>\n",
       "      <td>...</td>\n",
       "      <td>...</td>\n",
       "      <td>...</td>\n",
       "      <td>...</td>\n",
       "      <td>...</td>\n",
       "      <td>...</td>\n",
       "      <td>...</td>\n",
       "      <td>...</td>\n",
       "      <td>...</td>\n",
       "      <td>...</td>\n",
       "      <td>...</td>\n",
       "      <td>...</td>\n",
       "      <td>...</td>\n",
       "      <td>...</td>\n",
       "      <td>...</td>\n",
       "    </tr>\n",
       "    <tr>\n",
       "      <th>15145</th>\n",
       "      <td>South Vietnam</td>\n",
       "      <td>VDR</td>\n",
       "      <td>2016</td>\n",
       "      <td>NaN</td>\n",
       "      <td>NaN</td>\n",
       "      <td>Vietnam, South</td>\n",
       "      <td>999</td>\n",
       "      <td>VDR16</td>\n",
       "      <td>NaN</td>\n",
       "      <td>NaN</td>\n",
       "      <td>...</td>\n",
       "      <td>NaN</td>\n",
       "      <td>NaN</td>\n",
       "      <td>NaN</td>\n",
       "      <td>NaN</td>\n",
       "      <td>NaN</td>\n",
       "      <td>NaN</td>\n",
       "      <td>NaN</td>\n",
       "      <td>NaN</td>\n",
       "      <td>NaN</td>\n",
       "      <td>NaN</td>\n",
       "    </tr>\n",
       "    <tr>\n",
       "      <th>15146</th>\n",
       "      <td>South Vietnam</td>\n",
       "      <td>VDR</td>\n",
       "      <td>2017</td>\n",
       "      <td>NaN</td>\n",
       "      <td>NaN</td>\n",
       "      <td>Vietnam, South</td>\n",
       "      <td>999</td>\n",
       "      <td>VDR17</td>\n",
       "      <td>NaN</td>\n",
       "      <td>NaN</td>\n",
       "      <td>...</td>\n",
       "      <td>NaN</td>\n",
       "      <td>NaN</td>\n",
       "      <td>NaN</td>\n",
       "      <td>NaN</td>\n",
       "      <td>NaN</td>\n",
       "      <td>NaN</td>\n",
       "      <td>NaN</td>\n",
       "      <td>NaN</td>\n",
       "      <td>NaN</td>\n",
       "      <td>NaN</td>\n",
       "    </tr>\n",
       "    <tr>\n",
       "      <th>15147</th>\n",
       "      <td>South Vietnam</td>\n",
       "      <td>VDR</td>\n",
       "      <td>2018</td>\n",
       "      <td>NaN</td>\n",
       "      <td>NaN</td>\n",
       "      <td>Vietnam, South</td>\n",
       "      <td>999</td>\n",
       "      <td>VDR18</td>\n",
       "      <td>NaN</td>\n",
       "      <td>NaN</td>\n",
       "      <td>...</td>\n",
       "      <td>NaN</td>\n",
       "      <td>NaN</td>\n",
       "      <td>NaN</td>\n",
       "      <td>NaN</td>\n",
       "      <td>NaN</td>\n",
       "      <td>NaN</td>\n",
       "      <td>NaN</td>\n",
       "      <td>NaN</td>\n",
       "      <td>NaN</td>\n",
       "      <td>NaN</td>\n",
       "    </tr>\n",
       "    <tr>\n",
       "      <th>15148</th>\n",
       "      <td>South Vietnam</td>\n",
       "      <td>VDR</td>\n",
       "      <td>2019</td>\n",
       "      <td>NaN</td>\n",
       "      <td>NaN</td>\n",
       "      <td>Vietnam, South</td>\n",
       "      <td>999</td>\n",
       "      <td>VDR19</td>\n",
       "      <td>NaN</td>\n",
       "      <td>NaN</td>\n",
       "      <td>...</td>\n",
       "      <td>NaN</td>\n",
       "      <td>NaN</td>\n",
       "      <td>NaN</td>\n",
       "      <td>NaN</td>\n",
       "      <td>NaN</td>\n",
       "      <td>NaN</td>\n",
       "      <td>NaN</td>\n",
       "      <td>NaN</td>\n",
       "      <td>NaN</td>\n",
       "      <td>NaN</td>\n",
       "    </tr>\n",
       "    <tr>\n",
       "      <th>15149</th>\n",
       "      <td>South Vietnam</td>\n",
       "      <td>VDR</td>\n",
       "      <td>2020</td>\n",
       "      <td>NaN</td>\n",
       "      <td>NaN</td>\n",
       "      <td>Vietnam, South</td>\n",
       "      <td>999</td>\n",
       "      <td>VDR20</td>\n",
       "      <td>NaN</td>\n",
       "      <td>NaN</td>\n",
       "      <td>...</td>\n",
       "      <td>NaN</td>\n",
       "      <td>NaN</td>\n",
       "      <td>NaN</td>\n",
       "      <td>NaN</td>\n",
       "      <td>NaN</td>\n",
       "      <td>NaN</td>\n",
       "      <td>NaN</td>\n",
       "      <td>NaN</td>\n",
       "      <td>NaN</td>\n",
       "      <td>NaN</td>\n",
       "    </tr>\n",
       "  </tbody>\n",
       "</table>\n",
       "<p>15150 rows × 416 columns</p>\n",
       "</div>"
      ],
      "text/plain": [
       "             country iso3  year country_polity  ccode       cname_qog  \\\n",
       "0        Afghanistan  AFG  1946    Afghanistan    4.0     Afghanistan   \n",
       "1        Afghanistan  AFG  1947    Afghanistan    4.0     Afghanistan   \n",
       "2        Afghanistan  AFG  1948    Afghanistan    4.0     Afghanistan   \n",
       "3        Afghanistan  AFG  1949    Afghanistan    4.0     Afghanistan   \n",
       "4        Afghanistan  AFG  1950    Afghanistan    4.0     Afghanistan   \n",
       "...              ...  ...   ...            ...    ...             ...   \n",
       "15145  South Vietnam  VDR  2016            NaN    NaN  Vietnam, South   \n",
       "15146  South Vietnam  VDR  2017            NaN    NaN  Vietnam, South   \n",
       "15147  South Vietnam  VDR  2018            NaN    NaN  Vietnam, South   \n",
       "15148  South Vietnam  VDR  2019            NaN    NaN  Vietnam, South   \n",
       "15149  South Vietnam  VDR  2020            NaN    NaN  Vietnam, South   \n",
       "\n",
       "       ccode_qog ccodealp_year  ccodecow  ccodevdem  ... wvs_ameop wvs_ceom  \\\n",
       "0              4         AFG46     700.0       36.0  ...       NaN      NaN   \n",
       "1              4         AFG47     700.0       36.0  ...       NaN      NaN   \n",
       "2              4         AFG48     700.0       36.0  ...       NaN      NaN   \n",
       "3              4         AFG49     700.0       36.0  ...       NaN      NaN   \n",
       "4              4         AFG50     700.0       36.0  ...       NaN      NaN   \n",
       "...          ...           ...       ...        ...  ...       ...      ...   \n",
       "15145        999         VDR16       NaN        NaN  ...       NaN      NaN   \n",
       "15146        999         VDR17       NaN        NaN  ...       NaN      NaN   \n",
       "15147        999         VDR18       NaN        NaN  ...       NaN      NaN   \n",
       "15148        999         VDR19       NaN        NaN  ...       NaN      NaN   \n",
       "15149        999         VDR20       NaN        NaN  ...       NaN      NaN   \n",
       "\n",
       "       wvs_deop  wvs_epmip  wvs_epmpp  wvs_imeop  wvs_pedp  wvs_ploem  \\\n",
       "0           NaN        NaN        NaN        NaN       NaN        NaN   \n",
       "1           NaN        NaN        NaN        NaN       NaN        NaN   \n",
       "2           NaN        NaN        NaN        NaN       NaN        NaN   \n",
       "3           NaN        NaN        NaN        NaN       NaN        NaN   \n",
       "4           NaN        NaN        NaN        NaN       NaN        NaN   \n",
       "...         ...        ...        ...        ...       ...        ...   \n",
       "15145       NaN        NaN        NaN        NaN       NaN        NaN   \n",
       "15146       NaN        NaN        NaN        NaN       NaN        NaN   \n",
       "15147       NaN        NaN        NaN        NaN       NaN        NaN   \n",
       "15148       NaN        NaN        NaN        NaN       NaN        NaN   \n",
       "15149       NaN        NaN        NaN        NaN       NaN        NaN   \n",
       "\n",
       "       polity2  cckp_temp  \n",
       "0        -10.0  13.158333  \n",
       "1        -10.0  13.658333  \n",
       "2        -10.0  12.925000  \n",
       "3        -10.0  12.041667  \n",
       "4        -10.0  11.583333  \n",
       "...        ...        ...  \n",
       "15145      NaN        NaN  \n",
       "15146      NaN        NaN  \n",
       "15147      NaN        NaN  \n",
       "15148      NaN        NaN  \n",
       "15149      NaN        NaN  \n",
       "\n",
       "[15150 rows x 416 columns]"
      ]
     },
     "execution_count": 81,
     "metadata": {},
     "output_type": "execute_result"
    }
   ],
   "source": [
    "# Answer 8b\n",
    "df_final1.rename(columns={\"country\": \"country_polity\"}, inplace = True)\n",
    "df_final1.rename(columns={\"cname\": \"country\"}, inplace = True)\n",
    "df_final1"
   ]
  },
  {
   "cell_type": "markdown",
   "id": "353db63e-08d7-41df-9bdf-e0aa20174569",
   "metadata": {},
   "source": [
    "8c) Save the clean merged dataframe as a csv in a subfolder called \"clean_data\" in your working directory **(1 point)**"
   ]
  },
  {
   "cell_type": "code",
   "execution_count": 113,
   "id": "8a684c82-6df7-480f-9374-a2d4e7ec069a",
   "metadata": {},
   "outputs": [],
   "source": [
    "# Answer 8c\n",
    "\n",
    "os.makedirs(\"clean_data\") \n",
    "\n",
    "df_final1.to_csv(\"./clean_data/final_dataset.csv\", index = False)\n",
    "\n",
    "\n",
    "\n"
   ]
  },
  {
   "cell_type": "markdown",
   "id": "354f2840-c690-4b3e-8e4c-0025101bdc62",
   "metadata": {},
   "source": [
    "## Exploratory Data Analysis <a class=\"anchor\" id=\"eda\"></a>"
   ]
  },
  {
   "cell_type": "markdown",
   "id": "baa01e2b-dc8a-49ae-a19b-8c42bd0f2e57",
   "metadata": {},
   "source": [
    "In this section you will define a research question and perform a preliminary Exploratory Data Analysis (EDA) to address - or better, start addressing - the question at hand. This exercise will be done along the lines of the analysis done by our own Quentin Gallea in \"*A recipe to empirically answer any question quickly*\" ([Towards Data Science, 2022](https://towardsdatascience.com/a-recipe-to-empirically-answer-any-question-quickly-22e48c867dd5)). In this article, Quentin shows the first steps of an EDA that aims to explore whether heat waves have pushed governments to implement regulations against climate change (causal link). The logic is that, as it gets hotter and hotter, governments become more aware of climate change, and the problems it can cause to society, and start addressing it. In Quentin's analysis, heat waves (proxied by temperature) is the \"main explanatory variable\", rainfall is the \"explanatory variable for heterogeneity\", and regulations against climate change (proxied by the Environmental Policy Stringency Index) is the \"outcome variable\". He finds that indeed countries with relatively high temperatures have implemented more regulations against climate change. This is true especially when rainfall levels are low, as when it does not rain the damage of extreme heat is more evident to legislators, who therefore apply stricter regulations against these phenomenons.\n",
    "<br>\n",
    "<br>\n",
    "In this exercise, you will be asked to do a similar analysis on a research question of your choice, using at least two of the variables of the dataset we have created in the former questions (QOG + Polity). For example, \"what is the average temperature in 2010?\" is not a valid research question (univariate), while \"what is the impact of high temperatures on the stringency of climate regulations?\" is a valid research question (at least bivariate). As before, we will ask you some (this time more general and open) questions, and you should report your answer in the cells below each question. Use a mix of markdown and code cells to answer (markdown for text and code for graphs and tables). We should be able to run all the graphs, i.e. screenshots of graphs are not accepted. Note that for now we have put only one markdown cell and one code cell for the answer, but feel free to add as many cells as you need.\n",
    "<br>\n",
    "Beyond the python code, we will grade the interpretations of the results and the coding decision you make.\n",
    "<br>\n",
    "<br>\n",
    "Let your creativity guide you and let's have some fun!"
   ]
  },
  {
   "cell_type": "markdown",
   "id": "d5f97f39-3b6d-4546-8871-b136d122854c",
   "metadata": {
    "tags": []
   },
   "source": [
    "### Question 9: Selecting the ingredients (how I select the variables) <a class=\"anchor\" id=\"question9\"></a>\n",
    "We have saved the clean merged data that resulted from the previous questions in \"clean_data_prepared_EDA\" (it should be the same of the one you saved in \"clean_data\"). Import the clean merged data from \"clean_data_prepared_EDA\" using this [link](https://raw.githubusercontent.com/edoardochiarotti/class_datascience/main/Notebooks/Assignment/individual_assignment/clean_data_prepared_EDA/df_qog_polity_merged.csv). Explore the variables in the newly obtained dataframe by checking the documentation of QOG and Polity. Then, define a research question that addresses a causal link between at least two of these variables. Describe the research question, why you are addressing it and the variables of interest (outcome variable, main explanatory variable and explanatory variable for heterogeneity). **(3 points)**"
   ]
  },
  {
   "cell_type": "markdown",
   "id": "0df577a5-f0f1-43e8-aeb1-0708fe53892b",
   "metadata": {},
   "source": [
    "Answer 9:"
   ]
  },
  {
   "cell_type": "code",
   "execution_count": 83,
   "id": "b575ca1f-de5a-4b03-a51a-7f0cc5fa18cc",
   "metadata": {},
   "outputs": [
    {
     "data": {
      "text/html": [
       "<div>\n",
       "<style scoped>\n",
       "    .dataframe tbody tr th:only-of-type {\n",
       "        vertical-align: middle;\n",
       "    }\n",
       "\n",
       "    .dataframe tbody tr th {\n",
       "        vertical-align: top;\n",
       "    }\n",
       "\n",
       "    .dataframe thead th {\n",
       "        text-align: right;\n",
       "    }\n",
       "</style>\n",
       "<table border=\"1\" class=\"dataframe\">\n",
       "  <thead>\n",
       "    <tr style=\"text-align: right;\">\n",
       "      <th></th>\n",
       "      <th>country</th>\n",
       "      <th>iso3</th>\n",
       "      <th>year</th>\n",
       "      <th>country_polity</th>\n",
       "      <th>ccode</th>\n",
       "      <th>cname_qog</th>\n",
       "      <th>ccode_qog</th>\n",
       "      <th>ccodealp_year</th>\n",
       "      <th>ccodecow</th>\n",
       "      <th>ccodevdem</th>\n",
       "      <th>...</th>\n",
       "      <th>wdi_tpa</th>\n",
       "      <th>wvs_ameop</th>\n",
       "      <th>wvs_ceom</th>\n",
       "      <th>wvs_deop</th>\n",
       "      <th>wvs_epmip</th>\n",
       "      <th>wvs_epmpp</th>\n",
       "      <th>wvs_imeop</th>\n",
       "      <th>wvs_pedp</th>\n",
       "      <th>wvs_ploem</th>\n",
       "      <th>polity2</th>\n",
       "    </tr>\n",
       "  </thead>\n",
       "  <tbody>\n",
       "    <tr>\n",
       "      <th>0</th>\n",
       "      <td>Afghanistan</td>\n",
       "      <td>AFG</td>\n",
       "      <td>1946</td>\n",
       "      <td>Afghanistan</td>\n",
       "      <td>4.0</td>\n",
       "      <td>Afghanistan</td>\n",
       "      <td>4</td>\n",
       "      <td>AFG46</td>\n",
       "      <td>700.0</td>\n",
       "      <td>36.0</td>\n",
       "      <td>...</td>\n",
       "      <td>NaN</td>\n",
       "      <td>NaN</td>\n",
       "      <td>NaN</td>\n",
       "      <td>NaN</td>\n",
       "      <td>NaN</td>\n",
       "      <td>NaN</td>\n",
       "      <td>NaN</td>\n",
       "      <td>NaN</td>\n",
       "      <td>NaN</td>\n",
       "      <td>-10.0</td>\n",
       "    </tr>\n",
       "    <tr>\n",
       "      <th>1</th>\n",
       "      <td>Afghanistan</td>\n",
       "      <td>AFG</td>\n",
       "      <td>1947</td>\n",
       "      <td>Afghanistan</td>\n",
       "      <td>4.0</td>\n",
       "      <td>Afghanistan</td>\n",
       "      <td>4</td>\n",
       "      <td>AFG47</td>\n",
       "      <td>700.0</td>\n",
       "      <td>36.0</td>\n",
       "      <td>...</td>\n",
       "      <td>NaN</td>\n",
       "      <td>NaN</td>\n",
       "      <td>NaN</td>\n",
       "      <td>NaN</td>\n",
       "      <td>NaN</td>\n",
       "      <td>NaN</td>\n",
       "      <td>NaN</td>\n",
       "      <td>NaN</td>\n",
       "      <td>NaN</td>\n",
       "      <td>-10.0</td>\n",
       "    </tr>\n",
       "    <tr>\n",
       "      <th>2</th>\n",
       "      <td>Afghanistan</td>\n",
       "      <td>AFG</td>\n",
       "      <td>1948</td>\n",
       "      <td>Afghanistan</td>\n",
       "      <td>4.0</td>\n",
       "      <td>Afghanistan</td>\n",
       "      <td>4</td>\n",
       "      <td>AFG48</td>\n",
       "      <td>700.0</td>\n",
       "      <td>36.0</td>\n",
       "      <td>...</td>\n",
       "      <td>NaN</td>\n",
       "      <td>NaN</td>\n",
       "      <td>NaN</td>\n",
       "      <td>NaN</td>\n",
       "      <td>NaN</td>\n",
       "      <td>NaN</td>\n",
       "      <td>NaN</td>\n",
       "      <td>NaN</td>\n",
       "      <td>NaN</td>\n",
       "      <td>-10.0</td>\n",
       "    </tr>\n",
       "    <tr>\n",
       "      <th>3</th>\n",
       "      <td>Afghanistan</td>\n",
       "      <td>AFG</td>\n",
       "      <td>1949</td>\n",
       "      <td>Afghanistan</td>\n",
       "      <td>4.0</td>\n",
       "      <td>Afghanistan</td>\n",
       "      <td>4</td>\n",
       "      <td>AFG49</td>\n",
       "      <td>700.0</td>\n",
       "      <td>36.0</td>\n",
       "      <td>...</td>\n",
       "      <td>NaN</td>\n",
       "      <td>NaN</td>\n",
       "      <td>NaN</td>\n",
       "      <td>NaN</td>\n",
       "      <td>NaN</td>\n",
       "      <td>NaN</td>\n",
       "      <td>NaN</td>\n",
       "      <td>NaN</td>\n",
       "      <td>NaN</td>\n",
       "      <td>-10.0</td>\n",
       "    </tr>\n",
       "    <tr>\n",
       "      <th>4</th>\n",
       "      <td>Afghanistan</td>\n",
       "      <td>AFG</td>\n",
       "      <td>1950</td>\n",
       "      <td>Afghanistan</td>\n",
       "      <td>4.0</td>\n",
       "      <td>Afghanistan</td>\n",
       "      <td>4</td>\n",
       "      <td>AFG50</td>\n",
       "      <td>700.0</td>\n",
       "      <td>36.0</td>\n",
       "      <td>...</td>\n",
       "      <td>NaN</td>\n",
       "      <td>NaN</td>\n",
       "      <td>NaN</td>\n",
       "      <td>NaN</td>\n",
       "      <td>NaN</td>\n",
       "      <td>NaN</td>\n",
       "      <td>NaN</td>\n",
       "      <td>NaN</td>\n",
       "      <td>NaN</td>\n",
       "      <td>-10.0</td>\n",
       "    </tr>\n",
       "    <tr>\n",
       "      <th>...</th>\n",
       "      <td>...</td>\n",
       "      <td>...</td>\n",
       "      <td>...</td>\n",
       "      <td>...</td>\n",
       "      <td>...</td>\n",
       "      <td>...</td>\n",
       "      <td>...</td>\n",
       "      <td>...</td>\n",
       "      <td>...</td>\n",
       "      <td>...</td>\n",
       "      <td>...</td>\n",
       "      <td>...</td>\n",
       "      <td>...</td>\n",
       "      <td>...</td>\n",
       "      <td>...</td>\n",
       "      <td>...</td>\n",
       "      <td>...</td>\n",
       "      <td>...</td>\n",
       "      <td>...</td>\n",
       "      <td>...</td>\n",
       "      <td>...</td>\n",
       "    </tr>\n",
       "    <tr>\n",
       "      <th>15145</th>\n",
       "      <td>South Vietnam</td>\n",
       "      <td>VDR</td>\n",
       "      <td>2016</td>\n",
       "      <td>NaN</td>\n",
       "      <td>NaN</td>\n",
       "      <td>Vietnam, South</td>\n",
       "      <td>999</td>\n",
       "      <td>VDR16</td>\n",
       "      <td>NaN</td>\n",
       "      <td>NaN</td>\n",
       "      <td>...</td>\n",
       "      <td>NaN</td>\n",
       "      <td>NaN</td>\n",
       "      <td>NaN</td>\n",
       "      <td>NaN</td>\n",
       "      <td>NaN</td>\n",
       "      <td>NaN</td>\n",
       "      <td>NaN</td>\n",
       "      <td>NaN</td>\n",
       "      <td>NaN</td>\n",
       "      <td>NaN</td>\n",
       "    </tr>\n",
       "    <tr>\n",
       "      <th>15146</th>\n",
       "      <td>South Vietnam</td>\n",
       "      <td>VDR</td>\n",
       "      <td>2017</td>\n",
       "      <td>NaN</td>\n",
       "      <td>NaN</td>\n",
       "      <td>Vietnam, South</td>\n",
       "      <td>999</td>\n",
       "      <td>VDR17</td>\n",
       "      <td>NaN</td>\n",
       "      <td>NaN</td>\n",
       "      <td>...</td>\n",
       "      <td>NaN</td>\n",
       "      <td>NaN</td>\n",
       "      <td>NaN</td>\n",
       "      <td>NaN</td>\n",
       "      <td>NaN</td>\n",
       "      <td>NaN</td>\n",
       "      <td>NaN</td>\n",
       "      <td>NaN</td>\n",
       "      <td>NaN</td>\n",
       "      <td>NaN</td>\n",
       "    </tr>\n",
       "    <tr>\n",
       "      <th>15147</th>\n",
       "      <td>South Vietnam</td>\n",
       "      <td>VDR</td>\n",
       "      <td>2018</td>\n",
       "      <td>NaN</td>\n",
       "      <td>NaN</td>\n",
       "      <td>Vietnam, South</td>\n",
       "      <td>999</td>\n",
       "      <td>VDR18</td>\n",
       "      <td>NaN</td>\n",
       "      <td>NaN</td>\n",
       "      <td>...</td>\n",
       "      <td>NaN</td>\n",
       "      <td>NaN</td>\n",
       "      <td>NaN</td>\n",
       "      <td>NaN</td>\n",
       "      <td>NaN</td>\n",
       "      <td>NaN</td>\n",
       "      <td>NaN</td>\n",
       "      <td>NaN</td>\n",
       "      <td>NaN</td>\n",
       "      <td>NaN</td>\n",
       "    </tr>\n",
       "    <tr>\n",
       "      <th>15148</th>\n",
       "      <td>South Vietnam</td>\n",
       "      <td>VDR</td>\n",
       "      <td>2019</td>\n",
       "      <td>NaN</td>\n",
       "      <td>NaN</td>\n",
       "      <td>Vietnam, South</td>\n",
       "      <td>999</td>\n",
       "      <td>VDR19</td>\n",
       "      <td>NaN</td>\n",
       "      <td>NaN</td>\n",
       "      <td>...</td>\n",
       "      <td>NaN</td>\n",
       "      <td>NaN</td>\n",
       "      <td>NaN</td>\n",
       "      <td>NaN</td>\n",
       "      <td>NaN</td>\n",
       "      <td>NaN</td>\n",
       "      <td>NaN</td>\n",
       "      <td>NaN</td>\n",
       "      <td>NaN</td>\n",
       "      <td>NaN</td>\n",
       "    </tr>\n",
       "    <tr>\n",
       "      <th>15149</th>\n",
       "      <td>South Vietnam</td>\n",
       "      <td>VDR</td>\n",
       "      <td>2020</td>\n",
       "      <td>NaN</td>\n",
       "      <td>NaN</td>\n",
       "      <td>Vietnam, South</td>\n",
       "      <td>999</td>\n",
       "      <td>VDR20</td>\n",
       "      <td>NaN</td>\n",
       "      <td>NaN</td>\n",
       "      <td>...</td>\n",
       "      <td>NaN</td>\n",
       "      <td>NaN</td>\n",
       "      <td>NaN</td>\n",
       "      <td>NaN</td>\n",
       "      <td>NaN</td>\n",
       "      <td>NaN</td>\n",
       "      <td>NaN</td>\n",
       "      <td>NaN</td>\n",
       "      <td>NaN</td>\n",
       "      <td>NaN</td>\n",
       "    </tr>\n",
       "  </tbody>\n",
       "</table>\n",
       "<p>15150 rows × 416 columns</p>\n",
       "</div>"
      ],
      "text/plain": [
       "             country iso3  year country_polity  ccode       cname_qog  \\\n",
       "0        Afghanistan  AFG  1946    Afghanistan    4.0     Afghanistan   \n",
       "1        Afghanistan  AFG  1947    Afghanistan    4.0     Afghanistan   \n",
       "2        Afghanistan  AFG  1948    Afghanistan    4.0     Afghanistan   \n",
       "3        Afghanistan  AFG  1949    Afghanistan    4.0     Afghanistan   \n",
       "4        Afghanistan  AFG  1950    Afghanistan    4.0     Afghanistan   \n",
       "...              ...  ...   ...            ...    ...             ...   \n",
       "15145  South Vietnam  VDR  2016            NaN    NaN  Vietnam, South   \n",
       "15146  South Vietnam  VDR  2017            NaN    NaN  Vietnam, South   \n",
       "15147  South Vietnam  VDR  2018            NaN    NaN  Vietnam, South   \n",
       "15148  South Vietnam  VDR  2019            NaN    NaN  Vietnam, South   \n",
       "15149  South Vietnam  VDR  2020            NaN    NaN  Vietnam, South   \n",
       "\n",
       "       ccode_qog ccodealp_year  ccodecow  ccodevdem  ... wdi_tpa wvs_ameop  \\\n",
       "0              4         AFG46     700.0       36.0  ...     NaN       NaN   \n",
       "1              4         AFG47     700.0       36.0  ...     NaN       NaN   \n",
       "2              4         AFG48     700.0       36.0  ...     NaN       NaN   \n",
       "3              4         AFG49     700.0       36.0  ...     NaN       NaN   \n",
       "4              4         AFG50     700.0       36.0  ...     NaN       NaN   \n",
       "...          ...           ...       ...        ...  ...     ...       ...   \n",
       "15145        999         VDR16       NaN        NaN  ...     NaN       NaN   \n",
       "15146        999         VDR17       NaN        NaN  ...     NaN       NaN   \n",
       "15147        999         VDR18       NaN        NaN  ...     NaN       NaN   \n",
       "15148        999         VDR19       NaN        NaN  ...     NaN       NaN   \n",
       "15149        999         VDR20       NaN        NaN  ...     NaN       NaN   \n",
       "\n",
       "       wvs_ceom  wvs_deop  wvs_epmip  wvs_epmpp  wvs_imeop  wvs_pedp  \\\n",
       "0           NaN       NaN        NaN        NaN        NaN       NaN   \n",
       "1           NaN       NaN        NaN        NaN        NaN       NaN   \n",
       "2           NaN       NaN        NaN        NaN        NaN       NaN   \n",
       "3           NaN       NaN        NaN        NaN        NaN       NaN   \n",
       "4           NaN       NaN        NaN        NaN        NaN       NaN   \n",
       "...         ...       ...        ...        ...        ...       ...   \n",
       "15145       NaN       NaN        NaN        NaN        NaN       NaN   \n",
       "15146       NaN       NaN        NaN        NaN        NaN       NaN   \n",
       "15147       NaN       NaN        NaN        NaN        NaN       NaN   \n",
       "15148       NaN       NaN        NaN        NaN        NaN       NaN   \n",
       "15149       NaN       NaN        NaN        NaN        NaN       NaN   \n",
       "\n",
       "       wvs_ploem  polity2  \n",
       "0            NaN    -10.0  \n",
       "1            NaN    -10.0  \n",
       "2            NaN    -10.0  \n",
       "3            NaN    -10.0  \n",
       "4            NaN    -10.0  \n",
       "...          ...      ...  \n",
       "15145        NaN      NaN  \n",
       "15146        NaN      NaN  \n",
       "15147        NaN      NaN  \n",
       "15148        NaN      NaN  \n",
       "15149        NaN      NaN  \n",
       "\n",
       "[15150 rows x 416 columns]"
      ]
     },
     "execution_count": 83,
     "metadata": {},
     "output_type": "execute_result"
    }
   ],
   "source": [
    "# Answer 9:\n",
    "url = 'https://raw.githubusercontent.com/edoardochiarotti/class_datascience/main/Notebooks/Assignment/individual_assignment/clean_data_prepared_EDA/df_qog_polity_merged.csv'\n",
    "clean_dataco = pd.read_csv(url)\n",
    "clean_dataco\n"
   ]
  },
  {
   "cell_type": "markdown",
   "id": "e8d93a9a",
   "metadata": {},
   "source": [
    "Here is a list of the variables I selected : (completer polity2)\n",
    "\n",
    "- iso3: indicatice of each country\n",
    "- country: Country name\n",
    "- year: Year\n",
    "- oecd_eps: Environmental Policy Stringency Index² \n",
    "- polity2: Indicator of policy \n",
    "- engo_nengo: National environmental non-governmental organizations (ENGOs) registered in a country."
   ]
  },
  {
   "cell_type": "code",
   "execution_count": 84,
   "id": "6a95f9dc",
   "metadata": {},
   "outputs": [],
   "source": [
    "cl = clean_dataco[['iso3','country','year','oecd_eps','polity2','engo_nengo']]"
   ]
  },
  {
   "cell_type": "markdown",
   "id": "3a77fd31",
   "metadata": {},
   "source": [
    "   \n",
    "   \n",
    "   I would like to know if democraties are more enforcing environmental policies (compared to autocraties). For me it should be obvious that democraties are considering more and more climate change in their policies, since the population in those countries is more aware about the situation and is rising its voice for a more sustainable policy. I want to check if this is also correlated with the number of NGOs present in a country.\n",
    "\n",
    "The variables i will need for this analysis are : \n",
    "\n",
    "outcome : Environmental policies (oecd_eps)\n",
    "\n",
    "explanatory variable : Indicator of policy (polity2)\n",
    "\n",
    "additional explanatory variable : Number of national ENGOs (engo_nengo)\n"
   ]
  },
  {
   "cell_type": "markdown",
   "id": "637b5531-0329-4817-a341-d1a1bb96ef2d",
   "metadata": {},
   "source": [
    "### Question 10: Picking the right quantity of each ingredient (how I select my sample) <a class=\"anchor\" id=\"question10\"></a>\n",
    "Explore the data availability of your variables of interest and select a clean sample for the analysis. Describe this sample with the help of summary-statistics tables and maps. **(3 points)**"
   ]
  },
  {
   "cell_type": "markdown",
   "id": "08ef40ba-ff3a-4983-99c7-151be2f9622e",
   "metadata": {},
   "source": [
    "Answer 10:"
   ]
  },
  {
   "cell_type": "code",
   "execution_count": 85,
   "id": "bb262470-32d1-4d2c-af1c-8616daed69e6",
   "metadata": {},
   "outputs": [
    {
     "data": {
      "text/html": [
       "<div>\n",
       "<style scoped>\n",
       "    .dataframe tbody tr th:only-of-type {\n",
       "        vertical-align: middle;\n",
       "    }\n",
       "\n",
       "    .dataframe tbody tr th {\n",
       "        vertical-align: top;\n",
       "    }\n",
       "\n",
       "    .dataframe thead th {\n",
       "        text-align: right;\n",
       "    }\n",
       "</style>\n",
       "<table border=\"1\" class=\"dataframe\">\n",
       "  <thead>\n",
       "    <tr style=\"text-align: right;\">\n",
       "      <th></th>\n",
       "      <th>year</th>\n",
       "      <th>oecd_eps</th>\n",
       "      <th>polity2</th>\n",
       "      <th>engo_nengo</th>\n",
       "    </tr>\n",
       "  </thead>\n",
       "  <tbody>\n",
       "    <tr>\n",
       "      <th>count</th>\n",
       "      <td>15150.000000</td>\n",
       "      <td>799.000000</td>\n",
       "      <td>9465.000000</td>\n",
       "      <td>3514.000000</td>\n",
       "    </tr>\n",
       "    <tr>\n",
       "      <th>mean</th>\n",
       "      <td>1983.000000</td>\n",
       "      <td>1.567856</td>\n",
       "      <td>0.971580</td>\n",
       "      <td>4.605293</td>\n",
       "    </tr>\n",
       "    <tr>\n",
       "      <th>std</th>\n",
       "      <td>21.649425</td>\n",
       "      <td>0.960634</td>\n",
       "      <td>7.374674</td>\n",
       "      <td>7.487223</td>\n",
       "    </tr>\n",
       "    <tr>\n",
       "      <th>min</th>\n",
       "      <td>1946.000000</td>\n",
       "      <td>0.208333</td>\n",
       "      <td>-10.000000</td>\n",
       "      <td>0.000000</td>\n",
       "    </tr>\n",
       "    <tr>\n",
       "      <th>25%</th>\n",
       "      <td>1964.000000</td>\n",
       "      <td>0.687500</td>\n",
       "      <td>-7.000000</td>\n",
       "      <td>1.000000</td>\n",
       "    </tr>\n",
       "    <tr>\n",
       "      <th>50%</th>\n",
       "      <td>1983.000000</td>\n",
       "      <td>1.354167</td>\n",
       "      <td>2.000000</td>\n",
       "      <td>2.000000</td>\n",
       "    </tr>\n",
       "    <tr>\n",
       "      <th>75%</th>\n",
       "      <td>2002.000000</td>\n",
       "      <td>2.262500</td>\n",
       "      <td>8.000000</td>\n",
       "      <td>5.000000</td>\n",
       "    </tr>\n",
       "    <tr>\n",
       "      <th>max</th>\n",
       "      <td>2020.000000</td>\n",
       "      <td>4.133333</td>\n",
       "      <td>10.000000</td>\n",
       "      <td>82.000000</td>\n",
       "    </tr>\n",
       "  </tbody>\n",
       "</table>\n",
       "</div>"
      ],
      "text/plain": [
       "               year    oecd_eps      polity2   engo_nengo\n",
       "count  15150.000000  799.000000  9465.000000  3514.000000\n",
       "mean    1983.000000    1.567856     0.971580     4.605293\n",
       "std       21.649425    0.960634     7.374674     7.487223\n",
       "min     1946.000000    0.208333   -10.000000     0.000000\n",
       "25%     1964.000000    0.687500    -7.000000     1.000000\n",
       "50%     1983.000000    1.354167     2.000000     2.000000\n",
       "75%     2002.000000    2.262500     8.000000     5.000000\n",
       "max     2020.000000    4.133333    10.000000    82.000000"
      ]
     },
     "execution_count": 85,
     "metadata": {},
     "output_type": "execute_result"
    }
   ],
   "source": [
    "# Answer 10:\n",
    "# I check interresting caracteristics about the variables that i picked :\n",
    "\n",
    "cl.describe()"
   ]
  },
  {
   "cell_type": "markdown",
   "id": "695e20d1",
   "metadata": {},
   "source": [
    "We can see that we have only 799 observations for oecd_eps variable. We will check for which years do we have observations for oecd_eps to select our sample :"
   ]
  },
  {
   "cell_type": "code",
   "execution_count": 86,
   "id": "3a1d87eb",
   "metadata": {},
   "outputs": [
    {
     "data": {
      "text/html": [
       "<div>\n",
       "<style scoped>\n",
       "    .dataframe tbody tr th:only-of-type {\n",
       "        vertical-align: middle;\n",
       "    }\n",
       "\n",
       "    .dataframe tbody tr th {\n",
       "        vertical-align: top;\n",
       "    }\n",
       "\n",
       "    .dataframe thead th {\n",
       "        text-align: right;\n",
       "    }\n",
       "</style>\n",
       "<table border=\"1\" class=\"dataframe\">\n",
       "  <thead>\n",
       "    <tr style=\"text-align: right;\">\n",
       "      <th></th>\n",
       "      <th>year</th>\n",
       "      <th>counts</th>\n",
       "    </tr>\n",
       "  </thead>\n",
       "  <tbody>\n",
       "    <tr>\n",
       "      <th>0</th>\n",
       "      <td>1990</td>\n",
       "      <td>28</td>\n",
       "    </tr>\n",
       "    <tr>\n",
       "      <th>1</th>\n",
       "      <td>1991</td>\n",
       "      <td>28</td>\n",
       "    </tr>\n",
       "    <tr>\n",
       "      <th>2</th>\n",
       "      <td>1992</td>\n",
       "      <td>29</td>\n",
       "    </tr>\n",
       "    <tr>\n",
       "      <th>3</th>\n",
       "      <td>1993</td>\n",
       "      <td>32</td>\n",
       "    </tr>\n",
       "    <tr>\n",
       "      <th>4</th>\n",
       "      <td>1994</td>\n",
       "      <td>32</td>\n",
       "    </tr>\n",
       "    <tr>\n",
       "      <th>5</th>\n",
       "      <td>1995</td>\n",
       "      <td>33</td>\n",
       "    </tr>\n",
       "    <tr>\n",
       "      <th>6</th>\n",
       "      <td>1996</td>\n",
       "      <td>33</td>\n",
       "    </tr>\n",
       "    <tr>\n",
       "      <th>7</th>\n",
       "      <td>1997</td>\n",
       "      <td>33</td>\n",
       "    </tr>\n",
       "    <tr>\n",
       "      <th>8</th>\n",
       "      <td>1998</td>\n",
       "      <td>33</td>\n",
       "    </tr>\n",
       "    <tr>\n",
       "      <th>9</th>\n",
       "      <td>1999</td>\n",
       "      <td>33</td>\n",
       "    </tr>\n",
       "    <tr>\n",
       "      <th>10</th>\n",
       "      <td>2000</td>\n",
       "      <td>33</td>\n",
       "    </tr>\n",
       "    <tr>\n",
       "      <th>11</th>\n",
       "      <td>2001</td>\n",
       "      <td>33</td>\n",
       "    </tr>\n",
       "    <tr>\n",
       "      <th>12</th>\n",
       "      <td>2002</td>\n",
       "      <td>33</td>\n",
       "    </tr>\n",
       "    <tr>\n",
       "      <th>13</th>\n",
       "      <td>2003</td>\n",
       "      <td>33</td>\n",
       "    </tr>\n",
       "    <tr>\n",
       "      <th>14</th>\n",
       "      <td>2004</td>\n",
       "      <td>33</td>\n",
       "    </tr>\n",
       "    <tr>\n",
       "      <th>15</th>\n",
       "      <td>2005</td>\n",
       "      <td>33</td>\n",
       "    </tr>\n",
       "    <tr>\n",
       "      <th>16</th>\n",
       "      <td>2006</td>\n",
       "      <td>33</td>\n",
       "    </tr>\n",
       "    <tr>\n",
       "      <th>17</th>\n",
       "      <td>2007</td>\n",
       "      <td>33</td>\n",
       "    </tr>\n",
       "    <tr>\n",
       "      <th>18</th>\n",
       "      <td>2008</td>\n",
       "      <td>34</td>\n",
       "    </tr>\n",
       "    <tr>\n",
       "      <th>19</th>\n",
       "      <td>2009</td>\n",
       "      <td>34</td>\n",
       "    </tr>\n",
       "    <tr>\n",
       "      <th>20</th>\n",
       "      <td>2010</td>\n",
       "      <td>34</td>\n",
       "    </tr>\n",
       "    <tr>\n",
       "      <th>21</th>\n",
       "      <td>2011</td>\n",
       "      <td>34</td>\n",
       "    </tr>\n",
       "    <tr>\n",
       "      <th>22</th>\n",
       "      <td>2012</td>\n",
       "      <td>34</td>\n",
       "    </tr>\n",
       "    <tr>\n",
       "      <th>23</th>\n",
       "      <td>2013</td>\n",
       "      <td>17</td>\n",
       "    </tr>\n",
       "    <tr>\n",
       "      <th>24</th>\n",
       "      <td>2014</td>\n",
       "      <td>17</td>\n",
       "    </tr>\n",
       "    <tr>\n",
       "      <th>25</th>\n",
       "      <td>2015</td>\n",
       "      <td>17</td>\n",
       "    </tr>\n",
       "  </tbody>\n",
       "</table>\n",
       "</div>"
      ],
      "text/plain": [
       "    year  counts\n",
       "0   1990      28\n",
       "1   1991      28\n",
       "2   1992      29\n",
       "3   1993      32\n",
       "4   1994      32\n",
       "5   1995      33\n",
       "6   1996      33\n",
       "7   1997      33\n",
       "8   1998      33\n",
       "9   1999      33\n",
       "10  2000      33\n",
       "11  2001      33\n",
       "12  2002      33\n",
       "13  2003      33\n",
       "14  2004      33\n",
       "15  2005      33\n",
       "16  2006      33\n",
       "17  2007      33\n",
       "18  2008      34\n",
       "19  2009      34\n",
       "20  2010      34\n",
       "21  2011      34\n",
       "22  2012      34\n",
       "23  2013      17\n",
       "24  2014      17\n",
       "25  2015      17"
      ]
     },
     "execution_count": 86,
     "metadata": {},
     "output_type": "execute_result"
    }
   ],
   "source": [
    "cl[pd.notnull(cl['oecd_eps'])].groupby(['year']).size().reset_index(name='counts')"
   ]
  },
  {
   "cell_type": "markdown",
   "id": "cb35f96a",
   "metadata": {},
   "source": [
    "Data is only available for years from 1990 to 2015, but we will restrict the sample from 1993 to 2012 to have approximatelly the same number of observations for each year."
   ]
  },
  {
   "cell_type": "code",
   "execution_count": 87,
   "id": "595bd7be",
   "metadata": {},
   "outputs": [
    {
     "data": {
      "text/html": [
       "<div>\n",
       "<style scoped>\n",
       "    .dataframe tbody tr th:only-of-type {\n",
       "        vertical-align: middle;\n",
       "    }\n",
       "\n",
       "    .dataframe tbody tr th {\n",
       "        vertical-align: top;\n",
       "    }\n",
       "\n",
       "    .dataframe thead th {\n",
       "        text-align: right;\n",
       "    }\n",
       "</style>\n",
       "<table border=\"1\" class=\"dataframe\">\n",
       "  <thead>\n",
       "    <tr style=\"text-align: right;\">\n",
       "      <th></th>\n",
       "      <th>year</th>\n",
       "      <th>oecd_eps</th>\n",
       "      <th>polity2</th>\n",
       "      <th>engo_nengo</th>\n",
       "    </tr>\n",
       "  </thead>\n",
       "  <tbody>\n",
       "    <tr>\n",
       "      <th>count</th>\n",
       "      <td>663.000000</td>\n",
       "      <td>663.000000</td>\n",
       "      <td>663.000000</td>\n",
       "      <td>494.000000</td>\n",
       "    </tr>\n",
       "    <tr>\n",
       "      <th>mean</th>\n",
       "      <td>2002.583710</td>\n",
       "      <td>1.606863</td>\n",
       "      <td>8.651584</td>\n",
       "      <td>10.842105</td>\n",
       "    </tr>\n",
       "    <tr>\n",
       "      <th>std</th>\n",
       "      <td>5.773822</td>\n",
       "      <td>0.940719</td>\n",
       "      <td>3.444097</td>\n",
       "      <td>10.979945</td>\n",
       "    </tr>\n",
       "    <tr>\n",
       "      <th>min</th>\n",
       "      <td>1993.000000</td>\n",
       "      <td>0.333333</td>\n",
       "      <td>-7.000000</td>\n",
       "      <td>0.000000</td>\n",
       "    </tr>\n",
       "    <tr>\n",
       "      <th>25%</th>\n",
       "      <td>1998.000000</td>\n",
       "      <td>0.750000</td>\n",
       "      <td>9.000000</td>\n",
       "      <td>3.000000</td>\n",
       "    </tr>\n",
       "    <tr>\n",
       "      <th>50%</th>\n",
       "      <td>2003.000000</td>\n",
       "      <td>1.479167</td>\n",
       "      <td>10.000000</td>\n",
       "      <td>6.500000</td>\n",
       "    </tr>\n",
       "    <tr>\n",
       "      <th>75%</th>\n",
       "      <td>2008.000000</td>\n",
       "      <td>2.333333</td>\n",
       "      <td>10.000000</td>\n",
       "      <td>15.000000</td>\n",
       "    </tr>\n",
       "    <tr>\n",
       "      <th>max</th>\n",
       "      <td>2012.000000</td>\n",
       "      <td>4.133333</td>\n",
       "      <td>10.000000</td>\n",
       "      <td>60.000000</td>\n",
       "    </tr>\n",
       "  </tbody>\n",
       "</table>\n",
       "</div>"
      ],
      "text/plain": [
       "              year    oecd_eps     polity2  engo_nengo\n",
       "count   663.000000  663.000000  663.000000  494.000000\n",
       "mean   2002.583710    1.606863    8.651584   10.842105\n",
       "std       5.773822    0.940719    3.444097   10.979945\n",
       "min    1993.000000    0.333333   -7.000000    0.000000\n",
       "25%    1998.000000    0.750000    9.000000    3.000000\n",
       "50%    2003.000000    1.479167   10.000000    6.500000\n",
       "75%    2008.000000    2.333333   10.000000   15.000000\n",
       "max    2012.000000    4.133333   10.000000   60.000000"
      ]
     },
     "execution_count": 87,
     "metadata": {},
     "output_type": "execute_result"
    }
   ],
   "source": [
    "cl1 = cl[pd.notnull(cl['oecd_eps']) & (cl['year'] >= 1993) & (cl['year'] <= 2012)]\n",
    "cl1.describe()"
   ]
  },
  {
   "cell_type": "markdown",
   "id": "ba9abb33",
   "metadata": {},
   "source": [
    "We have missing values for the variables engo_nengo. Lets drop the missing values and see for which countries do we have values and how much."
   ]
  },
  {
   "cell_type": "code",
   "execution_count": 88,
   "id": "60272b5c",
   "metadata": {},
   "outputs": [
    {
     "data": {
      "text/html": [
       "<div>\n",
       "<style scoped>\n",
       "    .dataframe tbody tr th:only-of-type {\n",
       "        vertical-align: middle;\n",
       "    }\n",
       "\n",
       "    .dataframe tbody tr th {\n",
       "        vertical-align: top;\n",
       "    }\n",
       "\n",
       "    .dataframe thead th {\n",
       "        text-align: right;\n",
       "    }\n",
       "</style>\n",
       "<table border=\"1\" class=\"dataframe\">\n",
       "  <thead>\n",
       "    <tr style=\"text-align: right;\">\n",
       "      <th></th>\n",
       "      <th>country</th>\n",
       "      <th>counts</th>\n",
       "    </tr>\n",
       "  </thead>\n",
       "  <tbody>\n",
       "    <tr>\n",
       "      <th>0</th>\n",
       "      <td>Australia</td>\n",
       "      <td>15</td>\n",
       "    </tr>\n",
       "    <tr>\n",
       "      <th>1</th>\n",
       "      <td>Austria</td>\n",
       "      <td>15</td>\n",
       "    </tr>\n",
       "    <tr>\n",
       "      <th>2</th>\n",
       "      <td>Belgium</td>\n",
       "      <td>15</td>\n",
       "    </tr>\n",
       "    <tr>\n",
       "      <th>3</th>\n",
       "      <td>Brazil</td>\n",
       "      <td>13</td>\n",
       "    </tr>\n",
       "    <tr>\n",
       "      <th>4</th>\n",
       "      <td>Canada</td>\n",
       "      <td>15</td>\n",
       "    </tr>\n",
       "    <tr>\n",
       "      <th>5</th>\n",
       "      <td>China</td>\n",
       "      <td>15</td>\n",
       "    </tr>\n",
       "    <tr>\n",
       "      <th>6</th>\n",
       "      <td>Czech Republic</td>\n",
       "      <td>15</td>\n",
       "    </tr>\n",
       "    <tr>\n",
       "      <th>7</th>\n",
       "      <td>Denmark</td>\n",
       "      <td>15</td>\n",
       "    </tr>\n",
       "    <tr>\n",
       "      <th>8</th>\n",
       "      <td>Finland</td>\n",
       "      <td>15</td>\n",
       "    </tr>\n",
       "    <tr>\n",
       "      <th>9</th>\n",
       "      <td>France</td>\n",
       "      <td>15</td>\n",
       "    </tr>\n",
       "    <tr>\n",
       "      <th>10</th>\n",
       "      <td>Germany</td>\n",
       "      <td>15</td>\n",
       "    </tr>\n",
       "    <tr>\n",
       "      <th>11</th>\n",
       "      <td>Greece</td>\n",
       "      <td>15</td>\n",
       "    </tr>\n",
       "    <tr>\n",
       "      <th>12</th>\n",
       "      <td>Hungary</td>\n",
       "      <td>15</td>\n",
       "    </tr>\n",
       "    <tr>\n",
       "      <th>13</th>\n",
       "      <td>India</td>\n",
       "      <td>15</td>\n",
       "    </tr>\n",
       "    <tr>\n",
       "      <th>14</th>\n",
       "      <td>Indonesia</td>\n",
       "      <td>15</td>\n",
       "    </tr>\n",
       "    <tr>\n",
       "      <th>15</th>\n",
       "      <td>Ireland</td>\n",
       "      <td>15</td>\n",
       "    </tr>\n",
       "    <tr>\n",
       "      <th>16</th>\n",
       "      <td>Italy</td>\n",
       "      <td>15</td>\n",
       "    </tr>\n",
       "    <tr>\n",
       "      <th>17</th>\n",
       "      <td>Japan</td>\n",
       "      <td>15</td>\n",
       "    </tr>\n",
       "    <tr>\n",
       "      <th>18</th>\n",
       "      <td>Mexico</td>\n",
       "      <td>15</td>\n",
       "    </tr>\n",
       "    <tr>\n",
       "      <th>19</th>\n",
       "      <td>Netherlands</td>\n",
       "      <td>15</td>\n",
       "    </tr>\n",
       "    <tr>\n",
       "      <th>20</th>\n",
       "      <td>Norway</td>\n",
       "      <td>15</td>\n",
       "    </tr>\n",
       "    <tr>\n",
       "      <th>21</th>\n",
       "      <td>Poland</td>\n",
       "      <td>15</td>\n",
       "    </tr>\n",
       "    <tr>\n",
       "      <th>22</th>\n",
       "      <td>Portugal</td>\n",
       "      <td>15</td>\n",
       "    </tr>\n",
       "    <tr>\n",
       "      <th>23</th>\n",
       "      <td>Republic of Korea</td>\n",
       "      <td>15</td>\n",
       "    </tr>\n",
       "    <tr>\n",
       "      <th>24</th>\n",
       "      <td>Russia</td>\n",
       "      <td>15</td>\n",
       "    </tr>\n",
       "    <tr>\n",
       "      <th>25</th>\n",
       "      <td>Slovakia</td>\n",
       "      <td>15</td>\n",
       "    </tr>\n",
       "    <tr>\n",
       "      <th>26</th>\n",
       "      <td>Slovenia</td>\n",
       "      <td>1</td>\n",
       "    </tr>\n",
       "    <tr>\n",
       "      <th>27</th>\n",
       "      <td>South Africa</td>\n",
       "      <td>15</td>\n",
       "    </tr>\n",
       "    <tr>\n",
       "      <th>28</th>\n",
       "      <td>Spain</td>\n",
       "      <td>15</td>\n",
       "    </tr>\n",
       "    <tr>\n",
       "      <th>29</th>\n",
       "      <td>Sweden</td>\n",
       "      <td>15</td>\n",
       "    </tr>\n",
       "    <tr>\n",
       "      <th>30</th>\n",
       "      <td>Switzerland</td>\n",
       "      <td>15</td>\n",
       "    </tr>\n",
       "    <tr>\n",
       "      <th>31</th>\n",
       "      <td>Turkey</td>\n",
       "      <td>15</td>\n",
       "    </tr>\n",
       "    <tr>\n",
       "      <th>32</th>\n",
       "      <td>United Kingdom of Great Britain and Northern I...</td>\n",
       "      <td>15</td>\n",
       "    </tr>\n",
       "    <tr>\n",
       "      <th>33</th>\n",
       "      <td>United States of America</td>\n",
       "      <td>15</td>\n",
       "    </tr>\n",
       "  </tbody>\n",
       "</table>\n",
       "</div>"
      ],
      "text/plain": [
       "                                              country  counts\n",
       "0                                           Australia      15\n",
       "1                                             Austria      15\n",
       "2                                             Belgium      15\n",
       "3                                              Brazil      13\n",
       "4                                              Canada      15\n",
       "5                                               China      15\n",
       "6                                      Czech Republic      15\n",
       "7                                             Denmark      15\n",
       "8                                             Finland      15\n",
       "9                                              France      15\n",
       "10                                            Germany      15\n",
       "11                                             Greece      15\n",
       "12                                            Hungary      15\n",
       "13                                              India      15\n",
       "14                                          Indonesia      15\n",
       "15                                            Ireland      15\n",
       "16                                              Italy      15\n",
       "17                                              Japan      15\n",
       "18                                             Mexico      15\n",
       "19                                        Netherlands      15\n",
       "20                                             Norway      15\n",
       "21                                             Poland      15\n",
       "22                                           Portugal      15\n",
       "23                                  Republic of Korea      15\n",
       "24                                             Russia      15\n",
       "25                                           Slovakia      15\n",
       "26                                           Slovenia       1\n",
       "27                                       South Africa      15\n",
       "28                                              Spain      15\n",
       "29                                             Sweden      15\n",
       "30                                        Switzerland      15\n",
       "31                                             Turkey      15\n",
       "32  United Kingdom of Great Britain and Northern I...      15\n",
       "33                           United States of America      15"
      ]
     },
     "execution_count": 88,
     "metadata": {},
     "output_type": "execute_result"
    }
   ],
   "source": [
    "cl_wm = cl1.dropna(subset='engo_nengo')\n",
    "\n",
    "cl_wm[pd.notnull(cl_wm['engo_nengo'])].groupby(['country']).size().reset_index(name='counts')"
   ]
  },
  {
   "cell_type": "markdown",
   "id": "5e5e97ae",
   "metadata": {},
   "source": [
    "We have almost the same number of observations for each year, we will just drop the only observation for Slovenia.\n"
   ]
  },
  {
   "cell_type": "code",
   "execution_count": 89,
   "id": "9933ead5",
   "metadata": {},
   "outputs": [
    {
     "data": {
      "text/html": [
       "<div>\n",
       "<style scoped>\n",
       "    .dataframe tbody tr th:only-of-type {\n",
       "        vertical-align: middle;\n",
       "    }\n",
       "\n",
       "    .dataframe tbody tr th {\n",
       "        vertical-align: top;\n",
       "    }\n",
       "\n",
       "    .dataframe thead th {\n",
       "        text-align: right;\n",
       "    }\n",
       "</style>\n",
       "<table border=\"1\" class=\"dataframe\">\n",
       "  <thead>\n",
       "    <tr style=\"text-align: right;\">\n",
       "      <th></th>\n",
       "      <th>year</th>\n",
       "      <th>oecd_eps</th>\n",
       "      <th>polity2</th>\n",
       "      <th>engo_nengo</th>\n",
       "    </tr>\n",
       "  </thead>\n",
       "  <tbody>\n",
       "    <tr>\n",
       "      <th>count</th>\n",
       "      <td>493.000000</td>\n",
       "      <td>493.000000</td>\n",
       "      <td>493.000000</td>\n",
       "      <td>493.000000</td>\n",
       "    </tr>\n",
       "    <tr>\n",
       "      <th>mean</th>\n",
       "      <td>2000.093306</td>\n",
       "      <td>1.333350</td>\n",
       "      <td>8.574037</td>\n",
       "      <td>10.864097</td>\n",
       "    </tr>\n",
       "    <tr>\n",
       "      <th>std</th>\n",
       "      <td>4.427764</td>\n",
       "      <td>0.760607</td>\n",
       "      <td>3.574568</td>\n",
       "      <td>10.980202</td>\n",
       "    </tr>\n",
       "    <tr>\n",
       "      <th>min</th>\n",
       "      <td>1993.000000</td>\n",
       "      <td>0.333333</td>\n",
       "      <td>-7.000000</td>\n",
       "      <td>0.000000</td>\n",
       "    </tr>\n",
       "    <tr>\n",
       "      <th>25%</th>\n",
       "      <td>1996.000000</td>\n",
       "      <td>0.666667</td>\n",
       "      <td>9.000000</td>\n",
       "      <td>3.000000</td>\n",
       "    </tr>\n",
       "    <tr>\n",
       "      <th>50%</th>\n",
       "      <td>2000.000000</td>\n",
       "      <td>1.170833</td>\n",
       "      <td>10.000000</td>\n",
       "      <td>7.000000</td>\n",
       "    </tr>\n",
       "    <tr>\n",
       "      <th>75%</th>\n",
       "      <td>2004.000000</td>\n",
       "      <td>1.937500</td>\n",
       "      <td>10.000000</td>\n",
       "      <td>15.000000</td>\n",
       "    </tr>\n",
       "    <tr>\n",
       "      <th>max</th>\n",
       "      <td>2008.000000</td>\n",
       "      <td>3.375000</td>\n",
       "      <td>10.000000</td>\n",
       "      <td>60.000000</td>\n",
       "    </tr>\n",
       "  </tbody>\n",
       "</table>\n",
       "</div>"
      ],
      "text/plain": [
       "              year    oecd_eps     polity2  engo_nengo\n",
       "count   493.000000  493.000000  493.000000  493.000000\n",
       "mean   2000.093306    1.333350    8.574037   10.864097\n",
       "std       4.427764    0.760607    3.574568   10.980202\n",
       "min    1993.000000    0.333333   -7.000000    0.000000\n",
       "25%    1996.000000    0.666667    9.000000    3.000000\n",
       "50%    2000.000000    1.170833   10.000000    7.000000\n",
       "75%    2004.000000    1.937500   10.000000   15.000000\n",
       "max    2008.000000    3.375000   10.000000   60.000000"
      ]
     },
     "execution_count": 89,
     "metadata": {},
     "output_type": "execute_result"
    }
   ],
   "source": [
    "\n",
    "cl_wm1 = cl_wm[(cl_wm.country != 'Slovenia')]\n",
    "\n",
    "cl_wm1.describe()"
   ]
  },
  {
   "cell_type": "code",
   "execution_count": 90,
   "id": "e5f87d56",
   "metadata": {},
   "outputs": [
    {
     "data": {
      "application/vnd.plotly.v1+json": {
       "config": {
        "plotlyServerURL": "https://plot.ly"
       },
       "data": [
        {
         "coloraxis": "coloraxis",
         "geo": "geo",
         "hovertemplate": "country=%{location}<br>counts=%{z}<extra></extra>",
         "locationmode": "country names",
         "locations": [
          "Australia",
          "Austria",
          "Belgium",
          "Brazil",
          "Canada",
          "China",
          "Czech Republic",
          "Denmark",
          "Finland",
          "France",
          "Germany",
          "Greece",
          "Hungary",
          "India",
          "Indonesia",
          "Ireland",
          "Italy",
          "Japan",
          "Mexico",
          "Netherlands",
          "Norway",
          "Poland",
          "Portugal",
          "Republic of Korea",
          "Russia",
          "Slovakia",
          "South Africa",
          "Spain",
          "Sweden",
          "Switzerland",
          "Turkey",
          "United Kingdom of Great Britain and Northern Ireland",
          "United States of America"
         ],
         "name": "",
         "type": "choropleth",
         "z": [
          15,
          15,
          15,
          13,
          15,
          15,
          15,
          15,
          15,
          15,
          15,
          15,
          15,
          15,
          15,
          15,
          15,
          15,
          15,
          15,
          15,
          15,
          15,
          15,
          15,
          15,
          15,
          15,
          15,
          15,
          15,
          15,
          15
         ]
        }
       ],
       "layout": {
        "coloraxis": {
         "colorbar": {
          "title": {
           "text": "counts"
          }
         },
         "colorscale": [
          [
           0,
           "#0d0887"
          ],
          [
           0.1111111111111111,
           "#46039f"
          ],
          [
           0.2222222222222222,
           "#7201a8"
          ],
          [
           0.3333333333333333,
           "#9c179e"
          ],
          [
           0.4444444444444444,
           "#bd3786"
          ],
          [
           0.5555555555555556,
           "#d8576b"
          ],
          [
           0.6666666666666666,
           "#ed7953"
          ],
          [
           0.7777777777777778,
           "#fb9f3a"
          ],
          [
           0.8888888888888888,
           "#fdca26"
          ],
          [
           1,
           "#f0f921"
          ]
         ]
        },
        "geo": {
         "center": {},
         "domain": {
          "x": [
           0,
           1
          ],
          "y": [
           0,
           1
          ]
         }
        },
        "legend": {
         "tracegroupgap": 0
        },
        "margin": {
         "t": 60
        },
        "template": {
         "data": {
          "bar": [
           {
            "error_x": {
             "color": "#2a3f5f"
            },
            "error_y": {
             "color": "#2a3f5f"
            },
            "marker": {
             "line": {
              "color": "#E5ECF6",
              "width": 0.5
             },
             "pattern": {
              "fillmode": "overlay",
              "size": 10,
              "solidity": 0.2
             }
            },
            "type": "bar"
           }
          ],
          "barpolar": [
           {
            "marker": {
             "line": {
              "color": "#E5ECF6",
              "width": 0.5
             },
             "pattern": {
              "fillmode": "overlay",
              "size": 10,
              "solidity": 0.2
             }
            },
            "type": "barpolar"
           }
          ],
          "carpet": [
           {
            "aaxis": {
             "endlinecolor": "#2a3f5f",
             "gridcolor": "white",
             "linecolor": "white",
             "minorgridcolor": "white",
             "startlinecolor": "#2a3f5f"
            },
            "baxis": {
             "endlinecolor": "#2a3f5f",
             "gridcolor": "white",
             "linecolor": "white",
             "minorgridcolor": "white",
             "startlinecolor": "#2a3f5f"
            },
            "type": "carpet"
           }
          ],
          "choropleth": [
           {
            "colorbar": {
             "outlinewidth": 0,
             "ticks": ""
            },
            "type": "choropleth"
           }
          ],
          "contour": [
           {
            "colorbar": {
             "outlinewidth": 0,
             "ticks": ""
            },
            "colorscale": [
             [
              0,
              "#0d0887"
             ],
             [
              0.1111111111111111,
              "#46039f"
             ],
             [
              0.2222222222222222,
              "#7201a8"
             ],
             [
              0.3333333333333333,
              "#9c179e"
             ],
             [
              0.4444444444444444,
              "#bd3786"
             ],
             [
              0.5555555555555556,
              "#d8576b"
             ],
             [
              0.6666666666666666,
              "#ed7953"
             ],
             [
              0.7777777777777778,
              "#fb9f3a"
             ],
             [
              0.8888888888888888,
              "#fdca26"
             ],
             [
              1,
              "#f0f921"
             ]
            ],
            "type": "contour"
           }
          ],
          "contourcarpet": [
           {
            "colorbar": {
             "outlinewidth": 0,
             "ticks": ""
            },
            "type": "contourcarpet"
           }
          ],
          "heatmap": [
           {
            "colorbar": {
             "outlinewidth": 0,
             "ticks": ""
            },
            "colorscale": [
             [
              0,
              "#0d0887"
             ],
             [
              0.1111111111111111,
              "#46039f"
             ],
             [
              0.2222222222222222,
              "#7201a8"
             ],
             [
              0.3333333333333333,
              "#9c179e"
             ],
             [
              0.4444444444444444,
              "#bd3786"
             ],
             [
              0.5555555555555556,
              "#d8576b"
             ],
             [
              0.6666666666666666,
              "#ed7953"
             ],
             [
              0.7777777777777778,
              "#fb9f3a"
             ],
             [
              0.8888888888888888,
              "#fdca26"
             ],
             [
              1,
              "#f0f921"
             ]
            ],
            "type": "heatmap"
           }
          ],
          "heatmapgl": [
           {
            "colorbar": {
             "outlinewidth": 0,
             "ticks": ""
            },
            "colorscale": [
             [
              0,
              "#0d0887"
             ],
             [
              0.1111111111111111,
              "#46039f"
             ],
             [
              0.2222222222222222,
              "#7201a8"
             ],
             [
              0.3333333333333333,
              "#9c179e"
             ],
             [
              0.4444444444444444,
              "#bd3786"
             ],
             [
              0.5555555555555556,
              "#d8576b"
             ],
             [
              0.6666666666666666,
              "#ed7953"
             ],
             [
              0.7777777777777778,
              "#fb9f3a"
             ],
             [
              0.8888888888888888,
              "#fdca26"
             ],
             [
              1,
              "#f0f921"
             ]
            ],
            "type": "heatmapgl"
           }
          ],
          "histogram": [
           {
            "marker": {
             "pattern": {
              "fillmode": "overlay",
              "size": 10,
              "solidity": 0.2
             }
            },
            "type": "histogram"
           }
          ],
          "histogram2d": [
           {
            "colorbar": {
             "outlinewidth": 0,
             "ticks": ""
            },
            "colorscale": [
             [
              0,
              "#0d0887"
             ],
             [
              0.1111111111111111,
              "#46039f"
             ],
             [
              0.2222222222222222,
              "#7201a8"
             ],
             [
              0.3333333333333333,
              "#9c179e"
             ],
             [
              0.4444444444444444,
              "#bd3786"
             ],
             [
              0.5555555555555556,
              "#d8576b"
             ],
             [
              0.6666666666666666,
              "#ed7953"
             ],
             [
              0.7777777777777778,
              "#fb9f3a"
             ],
             [
              0.8888888888888888,
              "#fdca26"
             ],
             [
              1,
              "#f0f921"
             ]
            ],
            "type": "histogram2d"
           }
          ],
          "histogram2dcontour": [
           {
            "colorbar": {
             "outlinewidth": 0,
             "ticks": ""
            },
            "colorscale": [
             [
              0,
              "#0d0887"
             ],
             [
              0.1111111111111111,
              "#46039f"
             ],
             [
              0.2222222222222222,
              "#7201a8"
             ],
             [
              0.3333333333333333,
              "#9c179e"
             ],
             [
              0.4444444444444444,
              "#bd3786"
             ],
             [
              0.5555555555555556,
              "#d8576b"
             ],
             [
              0.6666666666666666,
              "#ed7953"
             ],
             [
              0.7777777777777778,
              "#fb9f3a"
             ],
             [
              0.8888888888888888,
              "#fdca26"
             ],
             [
              1,
              "#f0f921"
             ]
            ],
            "type": "histogram2dcontour"
           }
          ],
          "mesh3d": [
           {
            "colorbar": {
             "outlinewidth": 0,
             "ticks": ""
            },
            "type": "mesh3d"
           }
          ],
          "parcoords": [
           {
            "line": {
             "colorbar": {
              "outlinewidth": 0,
              "ticks": ""
             }
            },
            "type": "parcoords"
           }
          ],
          "pie": [
           {
            "automargin": true,
            "type": "pie"
           }
          ],
          "scatter": [
           {
            "marker": {
             "colorbar": {
              "outlinewidth": 0,
              "ticks": ""
             }
            },
            "type": "scatter"
           }
          ],
          "scatter3d": [
           {
            "line": {
             "colorbar": {
              "outlinewidth": 0,
              "ticks": ""
             }
            },
            "marker": {
             "colorbar": {
              "outlinewidth": 0,
              "ticks": ""
             }
            },
            "type": "scatter3d"
           }
          ],
          "scattercarpet": [
           {
            "marker": {
             "colorbar": {
              "outlinewidth": 0,
              "ticks": ""
             }
            },
            "type": "scattercarpet"
           }
          ],
          "scattergeo": [
           {
            "marker": {
             "colorbar": {
              "outlinewidth": 0,
              "ticks": ""
             }
            },
            "type": "scattergeo"
           }
          ],
          "scattergl": [
           {
            "marker": {
             "colorbar": {
              "outlinewidth": 0,
              "ticks": ""
             }
            },
            "type": "scattergl"
           }
          ],
          "scattermapbox": [
           {
            "marker": {
             "colorbar": {
              "outlinewidth": 0,
              "ticks": ""
             }
            },
            "type": "scattermapbox"
           }
          ],
          "scatterpolar": [
           {
            "marker": {
             "colorbar": {
              "outlinewidth": 0,
              "ticks": ""
             }
            },
            "type": "scatterpolar"
           }
          ],
          "scatterpolargl": [
           {
            "marker": {
             "colorbar": {
              "outlinewidth": 0,
              "ticks": ""
             }
            },
            "type": "scatterpolargl"
           }
          ],
          "scatterternary": [
           {
            "marker": {
             "colorbar": {
              "outlinewidth": 0,
              "ticks": ""
             }
            },
            "type": "scatterternary"
           }
          ],
          "surface": [
           {
            "colorbar": {
             "outlinewidth": 0,
             "ticks": ""
            },
            "colorscale": [
             [
              0,
              "#0d0887"
             ],
             [
              0.1111111111111111,
              "#46039f"
             ],
             [
              0.2222222222222222,
              "#7201a8"
             ],
             [
              0.3333333333333333,
              "#9c179e"
             ],
             [
              0.4444444444444444,
              "#bd3786"
             ],
             [
              0.5555555555555556,
              "#d8576b"
             ],
             [
              0.6666666666666666,
              "#ed7953"
             ],
             [
              0.7777777777777778,
              "#fb9f3a"
             ],
             [
              0.8888888888888888,
              "#fdca26"
             ],
             [
              1,
              "#f0f921"
             ]
            ],
            "type": "surface"
           }
          ],
          "table": [
           {
            "cells": {
             "fill": {
              "color": "#EBF0F8"
             },
             "line": {
              "color": "white"
             }
            },
            "header": {
             "fill": {
              "color": "#C8D4E3"
             },
             "line": {
              "color": "white"
             }
            },
            "type": "table"
           }
          ]
         },
         "layout": {
          "annotationdefaults": {
           "arrowcolor": "#2a3f5f",
           "arrowhead": 0,
           "arrowwidth": 1
          },
          "autotypenumbers": "strict",
          "coloraxis": {
           "colorbar": {
            "outlinewidth": 0,
            "ticks": ""
           }
          },
          "colorscale": {
           "diverging": [
            [
             0,
             "#8e0152"
            ],
            [
             0.1,
             "#c51b7d"
            ],
            [
             0.2,
             "#de77ae"
            ],
            [
             0.3,
             "#f1b6da"
            ],
            [
             0.4,
             "#fde0ef"
            ],
            [
             0.5,
             "#f7f7f7"
            ],
            [
             0.6,
             "#e6f5d0"
            ],
            [
             0.7,
             "#b8e186"
            ],
            [
             0.8,
             "#7fbc41"
            ],
            [
             0.9,
             "#4d9221"
            ],
            [
             1,
             "#276419"
            ]
           ],
           "sequential": [
            [
             0,
             "#0d0887"
            ],
            [
             0.1111111111111111,
             "#46039f"
            ],
            [
             0.2222222222222222,
             "#7201a8"
            ],
            [
             0.3333333333333333,
             "#9c179e"
            ],
            [
             0.4444444444444444,
             "#bd3786"
            ],
            [
             0.5555555555555556,
             "#d8576b"
            ],
            [
             0.6666666666666666,
             "#ed7953"
            ],
            [
             0.7777777777777778,
             "#fb9f3a"
            ],
            [
             0.8888888888888888,
             "#fdca26"
            ],
            [
             1,
             "#f0f921"
            ]
           ],
           "sequentialminus": [
            [
             0,
             "#0d0887"
            ],
            [
             0.1111111111111111,
             "#46039f"
            ],
            [
             0.2222222222222222,
             "#7201a8"
            ],
            [
             0.3333333333333333,
             "#9c179e"
            ],
            [
             0.4444444444444444,
             "#bd3786"
            ],
            [
             0.5555555555555556,
             "#d8576b"
            ],
            [
             0.6666666666666666,
             "#ed7953"
            ],
            [
             0.7777777777777778,
             "#fb9f3a"
            ],
            [
             0.8888888888888888,
             "#fdca26"
            ],
            [
             1,
             "#f0f921"
            ]
           ]
          },
          "colorway": [
           "#636efa",
           "#EF553B",
           "#00cc96",
           "#ab63fa",
           "#FFA15A",
           "#19d3f3",
           "#FF6692",
           "#B6E880",
           "#FF97FF",
           "#FECB52"
          ],
          "font": {
           "color": "#2a3f5f"
          },
          "geo": {
           "bgcolor": "white",
           "lakecolor": "white",
           "landcolor": "#E5ECF6",
           "showlakes": true,
           "showland": true,
           "subunitcolor": "white"
          },
          "hoverlabel": {
           "align": "left"
          },
          "hovermode": "closest",
          "mapbox": {
           "style": "light"
          },
          "paper_bgcolor": "white",
          "plot_bgcolor": "#E5ECF6",
          "polar": {
           "angularaxis": {
            "gridcolor": "white",
            "linecolor": "white",
            "ticks": ""
           },
           "bgcolor": "#E5ECF6",
           "radialaxis": {
            "gridcolor": "white",
            "linecolor": "white",
            "ticks": ""
           }
          },
          "scene": {
           "xaxis": {
            "backgroundcolor": "#E5ECF6",
            "gridcolor": "white",
            "gridwidth": 2,
            "linecolor": "white",
            "showbackground": true,
            "ticks": "",
            "zerolinecolor": "white"
           },
           "yaxis": {
            "backgroundcolor": "#E5ECF6",
            "gridcolor": "white",
            "gridwidth": 2,
            "linecolor": "white",
            "showbackground": true,
            "ticks": "",
            "zerolinecolor": "white"
           },
           "zaxis": {
            "backgroundcolor": "#E5ECF6",
            "gridcolor": "white",
            "gridwidth": 2,
            "linecolor": "white",
            "showbackground": true,
            "ticks": "",
            "zerolinecolor": "white"
           }
          },
          "shapedefaults": {
           "line": {
            "color": "#2a3f5f"
           }
          },
          "ternary": {
           "aaxis": {
            "gridcolor": "white",
            "linecolor": "white",
            "ticks": ""
           },
           "baxis": {
            "gridcolor": "white",
            "linecolor": "white",
            "ticks": ""
           },
           "bgcolor": "#E5ECF6",
           "caxis": {
            "gridcolor": "white",
            "linecolor": "white",
            "ticks": ""
           }
          },
          "title": {
           "x": 0.05
          },
          "xaxis": {
           "automargin": true,
           "gridcolor": "white",
           "linecolor": "white",
           "ticks": "",
           "title": {
            "standoff": 15
           },
           "zerolinecolor": "white",
           "zerolinewidth": 2
          },
          "yaxis": {
           "automargin": true,
           "gridcolor": "white",
           "linecolor": "white",
           "ticks": "",
           "title": {
            "standoff": 15
           },
           "zerolinecolor": "white",
           "zerolinewidth": 2
          }
         }
        }
       }
      },
      "text/html": [
       "<div>                            <div id=\"11528f0d-1422-4113-8803-6dd2dddc52e3\" class=\"plotly-graph-div\" style=\"height:525px; width:100%;\"></div>            <script type=\"text/javascript\">                require([\"plotly\"], function(Plotly) {                    window.PLOTLYENV=window.PLOTLYENV || {};                                    if (document.getElementById(\"11528f0d-1422-4113-8803-6dd2dddc52e3\")) {                    Plotly.newPlot(                        \"11528f0d-1422-4113-8803-6dd2dddc52e3\",                        [{\"coloraxis\":\"coloraxis\",\"geo\":\"geo\",\"hovertemplate\":\"country=%{location}<br>counts=%{z}<extra></extra>\",\"locationmode\":\"country names\",\"locations\":[\"Australia\",\"Austria\",\"Belgium\",\"Brazil\",\"Canada\",\"China\",\"Czech Republic\",\"Denmark\",\"Finland\",\"France\",\"Germany\",\"Greece\",\"Hungary\",\"India\",\"Indonesia\",\"Ireland\",\"Italy\",\"Japan\",\"Mexico\",\"Netherlands\",\"Norway\",\"Poland\",\"Portugal\",\"Republic of Korea\",\"Russia\",\"Slovakia\",\"South Africa\",\"Spain\",\"Sweden\",\"Switzerland\",\"Turkey\",\"United Kingdom of Great Britain and Northern Ireland\",\"United States of America\"],\"name\":\"\",\"z\":[15,15,15,13,15,15,15,15,15,15,15,15,15,15,15,15,15,15,15,15,15,15,15,15,15,15,15,15,15,15,15,15,15],\"type\":\"choropleth\"}],                        {\"template\":{\"data\":{\"bar\":[{\"error_x\":{\"color\":\"#2a3f5f\"},\"error_y\":{\"color\":\"#2a3f5f\"},\"marker\":{\"line\":{\"color\":\"#E5ECF6\",\"width\":0.5},\"pattern\":{\"fillmode\":\"overlay\",\"size\":10,\"solidity\":0.2}},\"type\":\"bar\"}],\"barpolar\":[{\"marker\":{\"line\":{\"color\":\"#E5ECF6\",\"width\":0.5},\"pattern\":{\"fillmode\":\"overlay\",\"size\":10,\"solidity\":0.2}},\"type\":\"barpolar\"}],\"carpet\":[{\"aaxis\":{\"endlinecolor\":\"#2a3f5f\",\"gridcolor\":\"white\",\"linecolor\":\"white\",\"minorgridcolor\":\"white\",\"startlinecolor\":\"#2a3f5f\"},\"baxis\":{\"endlinecolor\":\"#2a3f5f\",\"gridcolor\":\"white\",\"linecolor\":\"white\",\"minorgridcolor\":\"white\",\"startlinecolor\":\"#2a3f5f\"},\"type\":\"carpet\"}],\"choropleth\":[{\"colorbar\":{\"outlinewidth\":0,\"ticks\":\"\"},\"type\":\"choropleth\"}],\"contour\":[{\"colorbar\":{\"outlinewidth\":0,\"ticks\":\"\"},\"colorscale\":[[0.0,\"#0d0887\"],[0.1111111111111111,\"#46039f\"],[0.2222222222222222,\"#7201a8\"],[0.3333333333333333,\"#9c179e\"],[0.4444444444444444,\"#bd3786\"],[0.5555555555555556,\"#d8576b\"],[0.6666666666666666,\"#ed7953\"],[0.7777777777777778,\"#fb9f3a\"],[0.8888888888888888,\"#fdca26\"],[1.0,\"#f0f921\"]],\"type\":\"contour\"}],\"contourcarpet\":[{\"colorbar\":{\"outlinewidth\":0,\"ticks\":\"\"},\"type\":\"contourcarpet\"}],\"heatmap\":[{\"colorbar\":{\"outlinewidth\":0,\"ticks\":\"\"},\"colorscale\":[[0.0,\"#0d0887\"],[0.1111111111111111,\"#46039f\"],[0.2222222222222222,\"#7201a8\"],[0.3333333333333333,\"#9c179e\"],[0.4444444444444444,\"#bd3786\"],[0.5555555555555556,\"#d8576b\"],[0.6666666666666666,\"#ed7953\"],[0.7777777777777778,\"#fb9f3a\"],[0.8888888888888888,\"#fdca26\"],[1.0,\"#f0f921\"]],\"type\":\"heatmap\"}],\"heatmapgl\":[{\"colorbar\":{\"outlinewidth\":0,\"ticks\":\"\"},\"colorscale\":[[0.0,\"#0d0887\"],[0.1111111111111111,\"#46039f\"],[0.2222222222222222,\"#7201a8\"],[0.3333333333333333,\"#9c179e\"],[0.4444444444444444,\"#bd3786\"],[0.5555555555555556,\"#d8576b\"],[0.6666666666666666,\"#ed7953\"],[0.7777777777777778,\"#fb9f3a\"],[0.8888888888888888,\"#fdca26\"],[1.0,\"#f0f921\"]],\"type\":\"heatmapgl\"}],\"histogram\":[{\"marker\":{\"pattern\":{\"fillmode\":\"overlay\",\"size\":10,\"solidity\":0.2}},\"type\":\"histogram\"}],\"histogram2d\":[{\"colorbar\":{\"outlinewidth\":0,\"ticks\":\"\"},\"colorscale\":[[0.0,\"#0d0887\"],[0.1111111111111111,\"#46039f\"],[0.2222222222222222,\"#7201a8\"],[0.3333333333333333,\"#9c179e\"],[0.4444444444444444,\"#bd3786\"],[0.5555555555555556,\"#d8576b\"],[0.6666666666666666,\"#ed7953\"],[0.7777777777777778,\"#fb9f3a\"],[0.8888888888888888,\"#fdca26\"],[1.0,\"#f0f921\"]],\"type\":\"histogram2d\"}],\"histogram2dcontour\":[{\"colorbar\":{\"outlinewidth\":0,\"ticks\":\"\"},\"colorscale\":[[0.0,\"#0d0887\"],[0.1111111111111111,\"#46039f\"],[0.2222222222222222,\"#7201a8\"],[0.3333333333333333,\"#9c179e\"],[0.4444444444444444,\"#bd3786\"],[0.5555555555555556,\"#d8576b\"],[0.6666666666666666,\"#ed7953\"],[0.7777777777777778,\"#fb9f3a\"],[0.8888888888888888,\"#fdca26\"],[1.0,\"#f0f921\"]],\"type\":\"histogram2dcontour\"}],\"mesh3d\":[{\"colorbar\":{\"outlinewidth\":0,\"ticks\":\"\"},\"type\":\"mesh3d\"}],\"parcoords\":[{\"line\":{\"colorbar\":{\"outlinewidth\":0,\"ticks\":\"\"}},\"type\":\"parcoords\"}],\"pie\":[{\"automargin\":true,\"type\":\"pie\"}],\"scatter\":[{\"marker\":{\"colorbar\":{\"outlinewidth\":0,\"ticks\":\"\"}},\"type\":\"scatter\"}],\"scatter3d\":[{\"line\":{\"colorbar\":{\"outlinewidth\":0,\"ticks\":\"\"}},\"marker\":{\"colorbar\":{\"outlinewidth\":0,\"ticks\":\"\"}},\"type\":\"scatter3d\"}],\"scattercarpet\":[{\"marker\":{\"colorbar\":{\"outlinewidth\":0,\"ticks\":\"\"}},\"type\":\"scattercarpet\"}],\"scattergeo\":[{\"marker\":{\"colorbar\":{\"outlinewidth\":0,\"ticks\":\"\"}},\"type\":\"scattergeo\"}],\"scattergl\":[{\"marker\":{\"colorbar\":{\"outlinewidth\":0,\"ticks\":\"\"}},\"type\":\"scattergl\"}],\"scattermapbox\":[{\"marker\":{\"colorbar\":{\"outlinewidth\":0,\"ticks\":\"\"}},\"type\":\"scattermapbox\"}],\"scatterpolar\":[{\"marker\":{\"colorbar\":{\"outlinewidth\":0,\"ticks\":\"\"}},\"type\":\"scatterpolar\"}],\"scatterpolargl\":[{\"marker\":{\"colorbar\":{\"outlinewidth\":0,\"ticks\":\"\"}},\"type\":\"scatterpolargl\"}],\"scatterternary\":[{\"marker\":{\"colorbar\":{\"outlinewidth\":0,\"ticks\":\"\"}},\"type\":\"scatterternary\"}],\"surface\":[{\"colorbar\":{\"outlinewidth\":0,\"ticks\":\"\"},\"colorscale\":[[0.0,\"#0d0887\"],[0.1111111111111111,\"#46039f\"],[0.2222222222222222,\"#7201a8\"],[0.3333333333333333,\"#9c179e\"],[0.4444444444444444,\"#bd3786\"],[0.5555555555555556,\"#d8576b\"],[0.6666666666666666,\"#ed7953\"],[0.7777777777777778,\"#fb9f3a\"],[0.8888888888888888,\"#fdca26\"],[1.0,\"#f0f921\"]],\"type\":\"surface\"}],\"table\":[{\"cells\":{\"fill\":{\"color\":\"#EBF0F8\"},\"line\":{\"color\":\"white\"}},\"header\":{\"fill\":{\"color\":\"#C8D4E3\"},\"line\":{\"color\":\"white\"}},\"type\":\"table\"}]},\"layout\":{\"annotationdefaults\":{\"arrowcolor\":\"#2a3f5f\",\"arrowhead\":0,\"arrowwidth\":1},\"autotypenumbers\":\"strict\",\"coloraxis\":{\"colorbar\":{\"outlinewidth\":0,\"ticks\":\"\"}},\"colorscale\":{\"diverging\":[[0,\"#8e0152\"],[0.1,\"#c51b7d\"],[0.2,\"#de77ae\"],[0.3,\"#f1b6da\"],[0.4,\"#fde0ef\"],[0.5,\"#f7f7f7\"],[0.6,\"#e6f5d0\"],[0.7,\"#b8e186\"],[0.8,\"#7fbc41\"],[0.9,\"#4d9221\"],[1,\"#276419\"]],\"sequential\":[[0.0,\"#0d0887\"],[0.1111111111111111,\"#46039f\"],[0.2222222222222222,\"#7201a8\"],[0.3333333333333333,\"#9c179e\"],[0.4444444444444444,\"#bd3786\"],[0.5555555555555556,\"#d8576b\"],[0.6666666666666666,\"#ed7953\"],[0.7777777777777778,\"#fb9f3a\"],[0.8888888888888888,\"#fdca26\"],[1.0,\"#f0f921\"]],\"sequentialminus\":[[0.0,\"#0d0887\"],[0.1111111111111111,\"#46039f\"],[0.2222222222222222,\"#7201a8\"],[0.3333333333333333,\"#9c179e\"],[0.4444444444444444,\"#bd3786\"],[0.5555555555555556,\"#d8576b\"],[0.6666666666666666,\"#ed7953\"],[0.7777777777777778,\"#fb9f3a\"],[0.8888888888888888,\"#fdca26\"],[1.0,\"#f0f921\"]]},\"colorway\":[\"#636efa\",\"#EF553B\",\"#00cc96\",\"#ab63fa\",\"#FFA15A\",\"#19d3f3\",\"#FF6692\",\"#B6E880\",\"#FF97FF\",\"#FECB52\"],\"font\":{\"color\":\"#2a3f5f\"},\"geo\":{\"bgcolor\":\"white\",\"lakecolor\":\"white\",\"landcolor\":\"#E5ECF6\",\"showlakes\":true,\"showland\":true,\"subunitcolor\":\"white\"},\"hoverlabel\":{\"align\":\"left\"},\"hovermode\":\"closest\",\"mapbox\":{\"style\":\"light\"},\"paper_bgcolor\":\"white\",\"plot_bgcolor\":\"#E5ECF6\",\"polar\":{\"angularaxis\":{\"gridcolor\":\"white\",\"linecolor\":\"white\",\"ticks\":\"\"},\"bgcolor\":\"#E5ECF6\",\"radialaxis\":{\"gridcolor\":\"white\",\"linecolor\":\"white\",\"ticks\":\"\"}},\"scene\":{\"xaxis\":{\"backgroundcolor\":\"#E5ECF6\",\"gridcolor\":\"white\",\"gridwidth\":2,\"linecolor\":\"white\",\"showbackground\":true,\"ticks\":\"\",\"zerolinecolor\":\"white\"},\"yaxis\":{\"backgroundcolor\":\"#E5ECF6\",\"gridcolor\":\"white\",\"gridwidth\":2,\"linecolor\":\"white\",\"showbackground\":true,\"ticks\":\"\",\"zerolinecolor\":\"white\"},\"zaxis\":{\"backgroundcolor\":\"#E5ECF6\",\"gridcolor\":\"white\",\"gridwidth\":2,\"linecolor\":\"white\",\"showbackground\":true,\"ticks\":\"\",\"zerolinecolor\":\"white\"}},\"shapedefaults\":{\"line\":{\"color\":\"#2a3f5f\"}},\"ternary\":{\"aaxis\":{\"gridcolor\":\"white\",\"linecolor\":\"white\",\"ticks\":\"\"},\"baxis\":{\"gridcolor\":\"white\",\"linecolor\":\"white\",\"ticks\":\"\"},\"bgcolor\":\"#E5ECF6\",\"caxis\":{\"gridcolor\":\"white\",\"linecolor\":\"white\",\"ticks\":\"\"}},\"title\":{\"x\":0.05},\"xaxis\":{\"automargin\":true,\"gridcolor\":\"white\",\"linecolor\":\"white\",\"ticks\":\"\",\"title\":{\"standoff\":15},\"zerolinecolor\":\"white\",\"zerolinewidth\":2},\"yaxis\":{\"automargin\":true,\"gridcolor\":\"white\",\"linecolor\":\"white\",\"ticks\":\"\",\"title\":{\"standoff\":15},\"zerolinecolor\":\"white\",\"zerolinewidth\":2}}},\"geo\":{\"domain\":{\"x\":[0.0,1.0],\"y\":[0.0,1.0]},\"center\":{}},\"coloraxis\":{\"colorbar\":{\"title\":{\"text\":\"counts\"}},\"colorscale\":[[0.0,\"#0d0887\"],[0.1111111111111111,\"#46039f\"],[0.2222222222222222,\"#7201a8\"],[0.3333333333333333,\"#9c179e\"],[0.4444444444444444,\"#bd3786\"],[0.5555555555555556,\"#d8576b\"],[0.6666666666666666,\"#ed7953\"],[0.7777777777777778,\"#fb9f3a\"],[0.8888888888888888,\"#fdca26\"],[1.0,\"#f0f921\"]]},\"legend\":{\"tracegroupgap\":0},\"margin\":{\"t\":60}},                        {\"responsive\": true}                    ).then(function(){\n",
       "                            \n",
       "var gd = document.getElementById('11528f0d-1422-4113-8803-6dd2dddc52e3');\n",
       "var x = new MutationObserver(function (mutations, observer) {{\n",
       "        var display = window.getComputedStyle(gd).display;\n",
       "        if (!display || display === 'none') {{\n",
       "            console.log([gd, 'removed!']);\n",
       "            Plotly.purge(gd);\n",
       "            observer.disconnect();\n",
       "        }}\n",
       "}});\n",
       "\n",
       "// Listen for the removal of the full notebook cells\n",
       "var notebookContainer = gd.closest('#notebook-container');\n",
       "if (notebookContainer) {{\n",
       "    x.observe(notebookContainer, {childList: true});\n",
       "}}\n",
       "\n",
       "// Listen for the clearing of the current output cell\n",
       "var outputEl = gd.closest('.output');\n",
       "if (outputEl) {{\n",
       "    x.observe(outputEl, {childList: true});\n",
       "}}\n",
       "\n",
       "                        })                };                });            </script>        </div>"
      ]
     },
     "metadata": {},
     "output_type": "display_data"
    }
   ],
   "source": [
    "# Geographical coverage of the observations\n",
    "cl_map = cl_wm1.groupby(['country']).size().reset_index(name='counts')\n",
    "\n",
    "fig = px.choropleth(\n",
    "    cl_map,                                 \n",
    "    locations=\"country\",                       \n",
    "    locationmode=\"country names\",                   \n",
    "    color=\"counts\",                       \n",
    "    color_continuous_scale=px.colors.sequential.Plasma)\n",
    "fig.show()\n",
    "\n"
   ]
  },
  {
   "cell_type": "markdown",
   "id": "ab4434c1-4ca5-44af-a24c-67a1b8d20cc6",
   "metadata": {},
   "source": [
    "### Question 11: Tasting and preparing the ingredients (univariate analysis) <a class=\"anchor\" id=\"question11\"></a>\n",
    "Do an univariate analysis for each variable you have chosen (outcome variable, main explanatory variable and explanatory variable for heterogeneity):\n",
    "- Prepare the variable, for example see if you need to transform the data further, i.e. log-transform, define a categorical variable, deal with outliers, etc.\n",
    "- Understand the nature of the variable, i.e. continuous, categorical, binary, etc., which then allows to pick the right statistical tool in the bivariate analysis.\n",
    "- Get an idea of the variable's behaviour across time and space.\n",
    "\n",
    "Describe these steps and the conclusions you can draw with the help of histograms, tables, maps and line graphs. **(3 points)**"
   ]
  },
  {
   "cell_type": "markdown",
   "id": "ef687c9b-69c5-49b0-adb3-2aac7406112c",
   "metadata": {},
   "source": [
    "Answer 11:"
   ]
  },
  {
   "cell_type": "markdown",
   "id": "49658b06",
   "metadata": {},
   "source": [
    "### Outcome variable : Environmental Policy Stringency Index"
   ]
  },
  {
   "cell_type": "code",
   "execution_count": 91,
   "id": "b3fffac2-d33c-410f-9f10-c190a4c59641",
   "metadata": {},
   "outputs": [
    {
     "data": {
      "text/plain": [
       "count    494.000000\n",
       "mean       1.333966\n",
       "std        0.759958\n",
       "min        0.333333\n",
       "25%        0.666667\n",
       "50%        1.179167\n",
       "75%        1.937500\n",
       "max        3.375000\n",
       "Name: oecd_eps, dtype: float64"
      ]
     },
     "execution_count": 91,
     "metadata": {},
     "output_type": "execute_result"
    }
   ],
   "source": [
    "# Answer 11:\n",
    "cl_wm['oecd_eps'].describe()"
   ]
  },
  {
   "cell_type": "code",
   "execution_count": 92,
   "id": "b6c9abba",
   "metadata": {},
   "outputs": [
    {
     "name": "stdout",
     "output_type": "stream",
     "text": [
      "Skewness oecd_eps: \n",
      "0.6304993261985409\n"
     ]
    },
    {
     "data": {
      "image/png": "[encoded data removed]",
      "text/plain": [
       "<Figure size 432x288 with 1 Axes>"
      ]
     },
     "metadata": {
      "needs_background": "light"
     },
     "output_type": "display_data"
    }
   ],
   "source": [
    "# Histrogram and skewness \n",
    "cl_wm.hist(column='oecd_eps')\n",
    "print(\"Skewness oecd_eps: \")\n",
    "print(cl_wm['oecd_eps'].skew())"
   ]
  },
  {
   "cell_type": "markdown",
   "id": "89c0626d",
   "metadata": {},
   "source": [
    "Data are almost symetric, we have a postive skewness of 0,63 which is acceptable. We do not need to do a log transoformation for this variable"
   ]
  },
  {
   "cell_type": "code",
   "execution_count": 93,
   "id": "1bdc4f68",
   "metadata": {},
   "outputs": [
    {
     "data": {
      "application/vnd.plotly.v1+json": {
       "config": {
        "plotlyServerURL": "https://plot.ly"
       },
       "data": [
        {
         "coloraxis": "coloraxis",
         "geo": "geo",
         "hovertemplate": "<b>%{hovertext}</b><br><br>country=%{location}<br>oecd_eps=%{z}<extra></extra>",
         "hovertext": [
          "Australia",
          "Austria",
          "Belgium",
          "Brazil",
          "Canada",
          "China",
          "Czech Republic",
          "Denmark",
          "Finland",
          "France",
          "Germany",
          "Greece",
          "Hungary",
          "India",
          "Indonesia",
          "Ireland",
          "Italy",
          "Japan",
          "Mexico",
          "Netherlands",
          "Norway",
          "Poland",
          "Portugal",
          "Republic of Korea",
          "Russia",
          "Slovakia",
          "Slovenia",
          "South Africa",
          "Spain",
          "Sweden",
          "Switzerland",
          "Turkey",
          "United Kingdom of Great Britain and Northern Ireland",
          "United States of America"
         ],
         "locationmode": "country names",
         "locations": [
          "Australia",
          "Austria",
          "Belgium",
          "Brazil",
          "Canada",
          "China",
          "Czech Republic",
          "Denmark",
          "Finland",
          "France",
          "Germany",
          "Greece",
          "Hungary",
          "India",
          "Indonesia",
          "Ireland",
          "Italy",
          "Japan",
          "Mexico",
          "Netherlands",
          "Norway",
          "Poland",
          "Portugal",
          "Republic of Korea",
          "Russia",
          "Slovakia",
          "Slovenia",
          "South Africa",
          "Spain",
          "Sweden",
          "Switzerland",
          "Turkey",
          "United Kingdom of Great Britain and Northern Ireland",
          "United States of America"
         ],
         "name": "",
         "type": "choropleth",
         "z": [
          1.062222202618916,
          2.1577777544657333,
          1.2605555454889878,
          0.4551281974865846,
          1.1180555542310093,
          0.631944421927136,
          1.2472222169240388,
          2.44972224235534,
          1.91722223758698,
          1.6272222399711613,
          2.2638888994852597,
          1.65305556456248,
          1.3624999960263533,
          0.5319444557030987,
          0.4375,
          1.0872222304344146,
          1.6827777862548734,
          1.4986111164093134,
          0.668055560191472,
          1.8275000015894534,
          1.3633333325386052,
          1.2408333222071346,
          1.5736111323038802,
          1.4486111481984532,
          0.5097222129503893,
          1.0041666507720854,
          1.6375000476837,
          0.465277783075968,
          2.060000030199687,
          1.9174999872843332,
          2.06944443384806,
          0.7194444378217066,
          1.28416666984558,
          1.2872221946716331
         ]
        }
       ],
       "layout": {
        "coloraxis": {
         "colorbar": {
          "title": {
           "text": "oecd_eps"
          }
         },
         "colorscale": [
          [
           0,
           "#0d0887"
          ],
          [
           0.1111111111111111,
           "#46039f"
          ],
          [
           0.2222222222222222,
           "#7201a8"
          ],
          [
           0.3333333333333333,
           "#9c179e"
          ],
          [
           0.4444444444444444,
           "#bd3786"
          ],
          [
           0.5555555555555556,
           "#d8576b"
          ],
          [
           0.6666666666666666,
           "#ed7953"
          ],
          [
           0.7777777777777778,
           "#fb9f3a"
          ],
          [
           0.8888888888888888,
           "#fdca26"
          ],
          [
           1,
           "#f0f921"
          ]
         ]
        },
        "geo": {
         "center": {},
         "domain": {
          "x": [
           0,
           1
          ],
          "y": [
           0,
           1
          ]
         }
        },
        "legend": {
         "tracegroupgap": 0
        },
        "margin": {
         "t": 60
        },
        "template": {
         "data": {
          "bar": [
           {
            "error_x": {
             "color": "#2a3f5f"
            },
            "error_y": {
             "color": "#2a3f5f"
            },
            "marker": {
             "line": {
              "color": "#E5ECF6",
              "width": 0.5
             },
             "pattern": {
              "fillmode": "overlay",
              "size": 10,
              "solidity": 0.2
             }
            },
            "type": "bar"
           }
          ],
          "barpolar": [
           {
            "marker": {
             "line": {
              "color": "#E5ECF6",
              "width": 0.5
             },
             "pattern": {
              "fillmode": "overlay",
              "size": 10,
              "solidity": 0.2
             }
            },
            "type": "barpolar"
           }
          ],
          "carpet": [
           {
            "aaxis": {
             "endlinecolor": "#2a3f5f",
             "gridcolor": "white",
             "linecolor": "white",
             "minorgridcolor": "white",
             "startlinecolor": "#2a3f5f"
            },
            "baxis": {
             "endlinecolor": "#2a3f5f",
             "gridcolor": "white",
             "linecolor": "white",
             "minorgridcolor": "white",
             "startlinecolor": "#2a3f5f"
            },
            "type": "carpet"
           }
          ],
          "choropleth": [
           {
            "colorbar": {
             "outlinewidth": 0,
             "ticks": ""
            },
            "type": "choropleth"
           }
          ],
          "contour": [
           {
            "colorbar": {
             "outlinewidth": 0,
             "ticks": ""
            },
            "colorscale": [
             [
              0,
              "#0d0887"
             ],
             [
              0.1111111111111111,
              "#46039f"
             ],
             [
              0.2222222222222222,
              "#7201a8"
             ],
             [
              0.3333333333333333,
              "#9c179e"
             ],
             [
              0.4444444444444444,
              "#bd3786"
             ],
             [
              0.5555555555555556,
              "#d8576b"
             ],
             [
              0.6666666666666666,
              "#ed7953"
             ],
             [
              0.7777777777777778,
              "#fb9f3a"
             ],
             [
              0.8888888888888888,
              "#fdca26"
             ],
             [
              1,
              "#f0f921"
             ]
            ],
            "type": "contour"
           }
          ],
          "contourcarpet": [
           {
            "colorbar": {
             "outlinewidth": 0,
             "ticks": ""
            },
            "type": "contourcarpet"
           }
          ],
          "heatmap": [
           {
            "colorbar": {
             "outlinewidth": 0,
             "ticks": ""
            },
            "colorscale": [
             [
              0,
              "#0d0887"
             ],
             [
              0.1111111111111111,
              "#46039f"
             ],
             [
              0.2222222222222222,
              "#7201a8"
             ],
             [
              0.3333333333333333,
              "#9c179e"
             ],
             [
              0.4444444444444444,
              "#bd3786"
             ],
             [
              0.5555555555555556,
              "#d8576b"
             ],
             [
              0.6666666666666666,
              "#ed7953"
             ],
             [
              0.7777777777777778,
              "#fb9f3a"
             ],
             [
              0.8888888888888888,
              "#fdca26"
             ],
             [
              1,
              "#f0f921"
             ]
            ],
            "type": "heatmap"
           }
          ],
          "heatmapgl": [
           {
            "colorbar": {
             "outlinewidth": 0,
             "ticks": ""
            },
            "colorscale": [
             [
              0,
              "#0d0887"
             ],
             [
              0.1111111111111111,
              "#46039f"
             ],
             [
              0.2222222222222222,
              "#7201a8"
             ],
             [
              0.3333333333333333,
              "#9c179e"
             ],
             [
              0.4444444444444444,
              "#bd3786"
             ],
             [
              0.5555555555555556,
              "#d8576b"
             ],
             [
              0.6666666666666666,
              "#ed7953"
             ],
             [
              0.7777777777777778,
              "#fb9f3a"
             ],
             [
              0.8888888888888888,
              "#fdca26"
             ],
             [
              1,
              "#f0f921"
             ]
            ],
            "type": "heatmapgl"
           }
          ],
          "histogram": [
           {
            "marker": {
             "pattern": {
              "fillmode": "overlay",
              "size": 10,
              "solidity": 0.2
             }
            },
            "type": "histogram"
           }
          ],
          "histogram2d": [
           {
            "colorbar": {
             "outlinewidth": 0,
             "ticks": ""
            },
            "colorscale": [
             [
              0,
              "#0d0887"
             ],
             [
              0.1111111111111111,
              "#46039f"
             ],
             [
              0.2222222222222222,
              "#7201a8"
             ],
             [
              0.3333333333333333,
              "#9c179e"
             ],
             [
              0.4444444444444444,
              "#bd3786"
             ],
             [
              0.5555555555555556,
              "#d8576b"
             ],
             [
              0.6666666666666666,
              "#ed7953"
             ],
             [
              0.7777777777777778,
              "#fb9f3a"
             ],
             [
              0.8888888888888888,
              "#fdca26"
             ],
             [
              1,
              "#f0f921"
             ]
            ],
            "type": "histogram2d"
           }
          ],
          "histogram2dcontour": [
           {
            "colorbar": {
             "outlinewidth": 0,
             "ticks": ""
            },
            "colorscale": [
             [
              0,
              "#0d0887"
             ],
             [
              0.1111111111111111,
              "#46039f"
             ],
             [
              0.2222222222222222,
              "#7201a8"
             ],
             [
              0.3333333333333333,
              "#9c179e"
             ],
             [
              0.4444444444444444,
              "#bd3786"
             ],
             [
              0.5555555555555556,
              "#d8576b"
             ],
             [
              0.6666666666666666,
              "#ed7953"
             ],
             [
              0.7777777777777778,
              "#fb9f3a"
             ],
             [
              0.8888888888888888,
              "#fdca26"
             ],
             [
              1,
              "#f0f921"
             ]
            ],
            "type": "histogram2dcontour"
           }
          ],
          "mesh3d": [
           {
            "colorbar": {
             "outlinewidth": 0,
             "ticks": ""
            },
            "type": "mesh3d"
           }
          ],
          "parcoords": [
           {
            "line": {
             "colorbar": {
              "outlinewidth": 0,
              "ticks": ""
             }
            },
            "type": "parcoords"
           }
          ],
          "pie": [
           {
            "automargin": true,
            "type": "pie"
           }
          ],
          "scatter": [
           {
            "marker": {
             "colorbar": {
              "outlinewidth": 0,
              "ticks": ""
             }
            },
            "type": "scatter"
           }
          ],
          "scatter3d": [
           {
            "line": {
             "colorbar": {
              "outlinewidth": 0,
              "ticks": ""
             }
            },
            "marker": {
             "colorbar": {
              "outlinewidth": 0,
              "ticks": ""
             }
            },
            "type": "scatter3d"
           }
          ],
          "scattercarpet": [
           {
            "marker": {
             "colorbar": {
              "outlinewidth": 0,
              "ticks": ""
             }
            },
            "type": "scattercarpet"
           }
          ],
          "scattergeo": [
           {
            "marker": {
             "colorbar": {
              "outlinewidth": 0,
              "ticks": ""
             }
            },
            "type": "scattergeo"
           }
          ],
          "scattergl": [
           {
            "marker": {
             "colorbar": {
              "outlinewidth": 0,
              "ticks": ""
             }
            },
            "type": "scattergl"
           }
          ],
          "scattermapbox": [
           {
            "marker": {
             "colorbar": {
              "outlinewidth": 0,
              "ticks": ""
             }
            },
            "type": "scattermapbox"
           }
          ],
          "scatterpolar": [
           {
            "marker": {
             "colorbar": {
              "outlinewidth": 0,
              "ticks": ""
             }
            },
            "type": "scatterpolar"
           }
          ],
          "scatterpolargl": [
           {
            "marker": {
             "colorbar": {
              "outlinewidth": 0,
              "ticks": ""
             }
            },
            "type": "scatterpolargl"
           }
          ],
          "scatterternary": [
           {
            "marker": {
             "colorbar": {
              "outlinewidth": 0,
              "ticks": ""
             }
            },
            "type": "scatterternary"
           }
          ],
          "surface": [
           {
            "colorbar": {
             "outlinewidth": 0,
             "ticks": ""
            },
            "colorscale": [
             [
              0,
              "#0d0887"
             ],
             [
              0.1111111111111111,
              "#46039f"
             ],
             [
              0.2222222222222222,
              "#7201a8"
             ],
             [
              0.3333333333333333,
              "#9c179e"
             ],
             [
              0.4444444444444444,
              "#bd3786"
             ],
             [
              0.5555555555555556,
              "#d8576b"
             ],
             [
              0.6666666666666666,
              "#ed7953"
             ],
             [
              0.7777777777777778,
              "#fb9f3a"
             ],
             [
              0.8888888888888888,
              "#fdca26"
             ],
             [
              1,
              "#f0f921"
             ]
            ],
            "type": "surface"
           }
          ],
          "table": [
           {
            "cells": {
             "fill": {
              "color": "#EBF0F8"
             },
             "line": {
              "color": "white"
             }
            },
            "header": {
             "fill": {
              "color": "#C8D4E3"
             },
             "line": {
              "color": "white"
             }
            },
            "type": "table"
           }
          ]
         },
         "layout": {
          "annotationdefaults": {
           "arrowcolor": "#2a3f5f",
           "arrowhead": 0,
           "arrowwidth": 1
          },
          "autotypenumbers": "strict",
          "coloraxis": {
           "colorbar": {
            "outlinewidth": 0,
            "ticks": ""
           }
          },
          "colorscale": {
           "diverging": [
            [
             0,
             "#8e0152"
            ],
            [
             0.1,
             "#c51b7d"
            ],
            [
             0.2,
             "#de77ae"
            ],
            [
             0.3,
             "#f1b6da"
            ],
            [
             0.4,
             "#fde0ef"
            ],
            [
             0.5,
             "#f7f7f7"
            ],
            [
             0.6,
             "#e6f5d0"
            ],
            [
             0.7,
             "#b8e186"
            ],
            [
             0.8,
             "#7fbc41"
            ],
            [
             0.9,
             "#4d9221"
            ],
            [
             1,
             "#276419"
            ]
           ],
           "sequential": [
            [
             0,
             "#0d0887"
            ],
            [
             0.1111111111111111,
             "#46039f"
            ],
            [
             0.2222222222222222,
             "#7201a8"
            ],
            [
             0.3333333333333333,
             "#9c179e"
            ],
            [
             0.4444444444444444,
             "#bd3786"
            ],
            [
             0.5555555555555556,
             "#d8576b"
            ],
            [
             0.6666666666666666,
             "#ed7953"
            ],
            [
             0.7777777777777778,
             "#fb9f3a"
            ],
            [
             0.8888888888888888,
             "#fdca26"
            ],
            [
             1,
             "#f0f921"
            ]
           ],
           "sequentialminus": [
            [
             0,
             "#0d0887"
            ],
            [
             0.1111111111111111,
             "#46039f"
            ],
            [
             0.2222222222222222,
             "#7201a8"
            ],
            [
             0.3333333333333333,
             "#9c179e"
            ],
            [
             0.4444444444444444,
             "#bd3786"
            ],
            [
             0.5555555555555556,
             "#d8576b"
            ],
            [
             0.6666666666666666,
             "#ed7953"
            ],
            [
             0.7777777777777778,
             "#fb9f3a"
            ],
            [
             0.8888888888888888,
             "#fdca26"
            ],
            [
             1,
             "#f0f921"
            ]
           ]
          },
          "colorway": [
           "#636efa",
           "#EF553B",
           "#00cc96",
           "#ab63fa",
           "#FFA15A",
           "#19d3f3",
           "#FF6692",
           "#B6E880",
           "#FF97FF",
           "#FECB52"
          ],
          "font": {
           "color": "#2a3f5f"
          },
          "geo": {
           "bgcolor": "white",
           "lakecolor": "white",
           "landcolor": "#E5ECF6",
           "showlakes": true,
           "showland": true,
           "subunitcolor": "white"
          },
          "hoverlabel": {
           "align": "left"
          },
          "hovermode": "closest",
          "mapbox": {
           "style": "light"
          },
          "paper_bgcolor": "white",
          "plot_bgcolor": "#E5ECF6",
          "polar": {
           "angularaxis": {
            "gridcolor": "white",
            "linecolor": "white",
            "ticks": ""
           },
           "bgcolor": "#E5ECF6",
           "radialaxis": {
            "gridcolor": "white",
            "linecolor": "white",
            "ticks": ""
           }
          },
          "scene": {
           "xaxis": {
            "backgroundcolor": "#E5ECF6",
            "gridcolor": "white",
            "gridwidth": 2,
            "linecolor": "white",
            "showbackground": true,
            "ticks": "",
            "zerolinecolor": "white"
           },
           "yaxis": {
            "backgroundcolor": "#E5ECF6",
            "gridcolor": "white",
            "gridwidth": 2,
            "linecolor": "white",
            "showbackground": true,
            "ticks": "",
            "zerolinecolor": "white"
           },
           "zaxis": {
            "backgroundcolor": "#E5ECF6",
            "gridcolor": "white",
            "gridwidth": 2,
            "linecolor": "white",
            "showbackground": true,
            "ticks": "",
            "zerolinecolor": "white"
           }
          },
          "shapedefaults": {
           "line": {
            "color": "#2a3f5f"
           }
          },
          "ternary": {
           "aaxis": {
            "gridcolor": "white",
            "linecolor": "white",
            "ticks": ""
           },
           "baxis": {
            "gridcolor": "white",
            "linecolor": "white",
            "ticks": ""
           },
           "bgcolor": "#E5ECF6",
           "caxis": {
            "gridcolor": "white",
            "linecolor": "white",
            "ticks": ""
           }
          },
          "title": {
           "x": 0.05
          },
          "xaxis": {
           "automargin": true,
           "gridcolor": "white",
           "linecolor": "white",
           "ticks": "",
           "title": {
            "standoff": 15
           },
           "zerolinecolor": "white",
           "zerolinewidth": 2
          },
          "yaxis": {
           "automargin": true,
           "gridcolor": "white",
           "linecolor": "white",
           "ticks": "",
           "title": {
            "standoff": 15
           },
           "zerolinecolor": "white",
           "zerolinewidth": 2
          }
         }
        }
       }
      },
      "text/html": [
       "<div>                            <div id=\"5b5a17e8-6290-4336-a878-c92b98c745b8\" class=\"plotly-graph-div\" style=\"height:525px; width:100%;\"></div>            <script type=\"text/javascript\">                require([\"plotly\"], function(Plotly) {                    window.PLOTLYENV=window.PLOTLYENV || {};                                    if (document.getElementById(\"5b5a17e8-6290-4336-a878-c92b98c745b8\")) {                    Plotly.newPlot(                        \"5b5a17e8-6290-4336-a878-c92b98c745b8\",                        [{\"coloraxis\":\"coloraxis\",\"geo\":\"geo\",\"hovertemplate\":\"<b>%{hovertext}</b><br><br>country=%{location}<br>oecd_eps=%{z}<extra></extra>\",\"hovertext\":[\"Australia\",\"Austria\",\"Belgium\",\"Brazil\",\"Canada\",\"China\",\"Czech Republic\",\"Denmark\",\"Finland\",\"France\",\"Germany\",\"Greece\",\"Hungary\",\"India\",\"Indonesia\",\"Ireland\",\"Italy\",\"Japan\",\"Mexico\",\"Netherlands\",\"Norway\",\"Poland\",\"Portugal\",\"Republic of Korea\",\"Russia\",\"Slovakia\",\"Slovenia\",\"South Africa\",\"Spain\",\"Sweden\",\"Switzerland\",\"Turkey\",\"United Kingdom of Great Britain and Northern Ireland\",\"United States of America\"],\"locationmode\":\"country names\",\"locations\":[\"Australia\",\"Austria\",\"Belgium\",\"Brazil\",\"Canada\",\"China\",\"Czech Republic\",\"Denmark\",\"Finland\",\"France\",\"Germany\",\"Greece\",\"Hungary\",\"India\",\"Indonesia\",\"Ireland\",\"Italy\",\"Japan\",\"Mexico\",\"Netherlands\",\"Norway\",\"Poland\",\"Portugal\",\"Republic of Korea\",\"Russia\",\"Slovakia\",\"Slovenia\",\"South Africa\",\"Spain\",\"Sweden\",\"Switzerland\",\"Turkey\",\"United Kingdom of Great Britain and Northern Ireland\",\"United States of America\"],\"name\":\"\",\"z\":[1.062222202618916,2.1577777544657333,1.2605555454889878,0.4551281974865846,1.1180555542310093,0.631944421927136,1.2472222169240388,2.44972224235534,1.91722223758698,1.6272222399711613,2.2638888994852597,1.65305556456248,1.3624999960263533,0.5319444557030987,0.4375,1.0872222304344146,1.6827777862548734,1.4986111164093134,0.668055560191472,1.8275000015894534,1.3633333325386052,1.2408333222071346,1.5736111323038802,1.4486111481984532,0.5097222129503893,1.0041666507720854,1.6375000476837,0.465277783075968,2.060000030199687,1.9174999872843332,2.06944443384806,0.7194444378217066,1.28416666984558,1.2872221946716331],\"type\":\"choropleth\"}],                        {\"template\":{\"data\":{\"bar\":[{\"error_x\":{\"color\":\"#2a3f5f\"},\"error_y\":{\"color\":\"#2a3f5f\"},\"marker\":{\"line\":{\"color\":\"#E5ECF6\",\"width\":0.5},\"pattern\":{\"fillmode\":\"overlay\",\"size\":10,\"solidity\":0.2}},\"type\":\"bar\"}],\"barpolar\":[{\"marker\":{\"line\":{\"color\":\"#E5ECF6\",\"width\":0.5},\"pattern\":{\"fillmode\":\"overlay\",\"size\":10,\"solidity\":0.2}},\"type\":\"barpolar\"}],\"carpet\":[{\"aaxis\":{\"endlinecolor\":\"#2a3f5f\",\"gridcolor\":\"white\",\"linecolor\":\"white\",\"minorgridcolor\":\"white\",\"startlinecolor\":\"#2a3f5f\"},\"baxis\":{\"endlinecolor\":\"#2a3f5f\",\"gridcolor\":\"white\",\"linecolor\":\"white\",\"minorgridcolor\":\"white\",\"startlinecolor\":\"#2a3f5f\"},\"type\":\"carpet\"}],\"choropleth\":[{\"colorbar\":{\"outlinewidth\":0,\"ticks\":\"\"},\"type\":\"choropleth\"}],\"contour\":[{\"colorbar\":{\"outlinewidth\":0,\"ticks\":\"\"},\"colorscale\":[[0.0,\"#0d0887\"],[0.1111111111111111,\"#46039f\"],[0.2222222222222222,\"#7201a8\"],[0.3333333333333333,\"#9c179e\"],[0.4444444444444444,\"#bd3786\"],[0.5555555555555556,\"#d8576b\"],[0.6666666666666666,\"#ed7953\"],[0.7777777777777778,\"#fb9f3a\"],[0.8888888888888888,\"#fdca26\"],[1.0,\"#f0f921\"]],\"type\":\"contour\"}],\"contourcarpet\":[{\"colorbar\":{\"outlinewidth\":0,\"ticks\":\"\"},\"type\":\"contourcarpet\"}],\"heatmap\":[{\"colorbar\":{\"outlinewidth\":0,\"ticks\":\"\"},\"colorscale\":[[0.0,\"#0d0887\"],[0.1111111111111111,\"#46039f\"],[0.2222222222222222,\"#7201a8\"],[0.3333333333333333,\"#9c179e\"],[0.4444444444444444,\"#bd3786\"],[0.5555555555555556,\"#d8576b\"],[0.6666666666666666,\"#ed7953\"],[0.7777777777777778,\"#fb9f3a\"],[0.8888888888888888,\"#fdca26\"],[1.0,\"#f0f921\"]],\"type\":\"heatmap\"}],\"heatmapgl\":[{\"colorbar\":{\"outlinewidth\":0,\"ticks\":\"\"},\"colorscale\":[[0.0,\"#0d0887\"],[0.1111111111111111,\"#46039f\"],[0.2222222222222222,\"#7201a8\"],[0.3333333333333333,\"#9c179e\"],[0.4444444444444444,\"#bd3786\"],[0.5555555555555556,\"#d8576b\"],[0.6666666666666666,\"#ed7953\"],[0.7777777777777778,\"#fb9f3a\"],[0.8888888888888888,\"#fdca26\"],[1.0,\"#f0f921\"]],\"type\":\"heatmapgl\"}],\"histogram\":[{\"marker\":{\"pattern\":{\"fillmode\":\"overlay\",\"size\":10,\"solidity\":0.2}},\"type\":\"histogram\"}],\"histogram2d\":[{\"colorbar\":{\"outlinewidth\":0,\"ticks\":\"\"},\"colorscale\":[[0.0,\"#0d0887\"],[0.1111111111111111,\"#46039f\"],[0.2222222222222222,\"#7201a8\"],[0.3333333333333333,\"#9c179e\"],[0.4444444444444444,\"#bd3786\"],[0.5555555555555556,\"#d8576b\"],[0.6666666666666666,\"#ed7953\"],[0.7777777777777778,\"#fb9f3a\"],[0.8888888888888888,\"#fdca26\"],[1.0,\"#f0f921\"]],\"type\":\"histogram2d\"}],\"histogram2dcontour\":[{\"colorbar\":{\"outlinewidth\":0,\"ticks\":\"\"},\"colorscale\":[[0.0,\"#0d0887\"],[0.1111111111111111,\"#46039f\"],[0.2222222222222222,\"#7201a8\"],[0.3333333333333333,\"#9c179e\"],[0.4444444444444444,\"#bd3786\"],[0.5555555555555556,\"#d8576b\"],[0.6666666666666666,\"#ed7953\"],[0.7777777777777778,\"#fb9f3a\"],[0.8888888888888888,\"#fdca26\"],[1.0,\"#f0f921\"]],\"type\":\"histogram2dcontour\"}],\"mesh3d\":[{\"colorbar\":{\"outlinewidth\":0,\"ticks\":\"\"},\"type\":\"mesh3d\"}],\"parcoords\":[{\"line\":{\"colorbar\":{\"outlinewidth\":0,\"ticks\":\"\"}},\"type\":\"parcoords\"}],\"pie\":[{\"automargin\":true,\"type\":\"pie\"}],\"scatter\":[{\"marker\":{\"colorbar\":{\"outlinewidth\":0,\"ticks\":\"\"}},\"type\":\"scatter\"}],\"scatter3d\":[{\"line\":{\"colorbar\":{\"outlinewidth\":0,\"ticks\":\"\"}},\"marker\":{\"colorbar\":{\"outlinewidth\":0,\"ticks\":\"\"}},\"type\":\"scatter3d\"}],\"scattercarpet\":[{\"marker\":{\"colorbar\":{\"outlinewidth\":0,\"ticks\":\"\"}},\"type\":\"scattercarpet\"}],\"scattergeo\":[{\"marker\":{\"colorbar\":{\"outlinewidth\":0,\"ticks\":\"\"}},\"type\":\"scattergeo\"}],\"scattergl\":[{\"marker\":{\"colorbar\":{\"outlinewidth\":0,\"ticks\":\"\"}},\"type\":\"scattergl\"}],\"scattermapbox\":[{\"marker\":{\"colorbar\":{\"outlinewidth\":0,\"ticks\":\"\"}},\"type\":\"scattermapbox\"}],\"scatterpolar\":[{\"marker\":{\"colorbar\":{\"outlinewidth\":0,\"ticks\":\"\"}},\"type\":\"scatterpolar\"}],\"scatterpolargl\":[{\"marker\":{\"colorbar\":{\"outlinewidth\":0,\"ticks\":\"\"}},\"type\":\"scatterpolargl\"}],\"scatterternary\":[{\"marker\":{\"colorbar\":{\"outlinewidth\":0,\"ticks\":\"\"}},\"type\":\"scatterternary\"}],\"surface\":[{\"colorbar\":{\"outlinewidth\":0,\"ticks\":\"\"},\"colorscale\":[[0.0,\"#0d0887\"],[0.1111111111111111,\"#46039f\"],[0.2222222222222222,\"#7201a8\"],[0.3333333333333333,\"#9c179e\"],[0.4444444444444444,\"#bd3786\"],[0.5555555555555556,\"#d8576b\"],[0.6666666666666666,\"#ed7953\"],[0.7777777777777778,\"#fb9f3a\"],[0.8888888888888888,\"#fdca26\"],[1.0,\"#f0f921\"]],\"type\":\"surface\"}],\"table\":[{\"cells\":{\"fill\":{\"color\":\"#EBF0F8\"},\"line\":{\"color\":\"white\"}},\"header\":{\"fill\":{\"color\":\"#C8D4E3\"},\"line\":{\"color\":\"white\"}},\"type\":\"table\"}]},\"layout\":{\"annotationdefaults\":{\"arrowcolor\":\"#2a3f5f\",\"arrowhead\":0,\"arrowwidth\":1},\"autotypenumbers\":\"strict\",\"coloraxis\":{\"colorbar\":{\"outlinewidth\":0,\"ticks\":\"\"}},\"colorscale\":{\"diverging\":[[0,\"#8e0152\"],[0.1,\"#c51b7d\"],[0.2,\"#de77ae\"],[0.3,\"#f1b6da\"],[0.4,\"#fde0ef\"],[0.5,\"#f7f7f7\"],[0.6,\"#e6f5d0\"],[0.7,\"#b8e186\"],[0.8,\"#7fbc41\"],[0.9,\"#4d9221\"],[1,\"#276419\"]],\"sequential\":[[0.0,\"#0d0887\"],[0.1111111111111111,\"#46039f\"],[0.2222222222222222,\"#7201a8\"],[0.3333333333333333,\"#9c179e\"],[0.4444444444444444,\"#bd3786\"],[0.5555555555555556,\"#d8576b\"],[0.6666666666666666,\"#ed7953\"],[0.7777777777777778,\"#fb9f3a\"],[0.8888888888888888,\"#fdca26\"],[1.0,\"#f0f921\"]],\"sequentialminus\":[[0.0,\"#0d0887\"],[0.1111111111111111,\"#46039f\"],[0.2222222222222222,\"#7201a8\"],[0.3333333333333333,\"#9c179e\"],[0.4444444444444444,\"#bd3786\"],[0.5555555555555556,\"#d8576b\"],[0.6666666666666666,\"#ed7953\"],[0.7777777777777778,\"#fb9f3a\"],[0.8888888888888888,\"#fdca26\"],[1.0,\"#f0f921\"]]},\"colorway\":[\"#636efa\",\"#EF553B\",\"#00cc96\",\"#ab63fa\",\"#FFA15A\",\"#19d3f3\",\"#FF6692\",\"#B6E880\",\"#FF97FF\",\"#FECB52\"],\"font\":{\"color\":\"#2a3f5f\"},\"geo\":{\"bgcolor\":\"white\",\"lakecolor\":\"white\",\"landcolor\":\"#E5ECF6\",\"showlakes\":true,\"showland\":true,\"subunitcolor\":\"white\"},\"hoverlabel\":{\"align\":\"left\"},\"hovermode\":\"closest\",\"mapbox\":{\"style\":\"light\"},\"paper_bgcolor\":\"white\",\"plot_bgcolor\":\"#E5ECF6\",\"polar\":{\"angularaxis\":{\"gridcolor\":\"white\",\"linecolor\":\"white\",\"ticks\":\"\"},\"bgcolor\":\"#E5ECF6\",\"radialaxis\":{\"gridcolor\":\"white\",\"linecolor\":\"white\",\"ticks\":\"\"}},\"scene\":{\"xaxis\":{\"backgroundcolor\":\"#E5ECF6\",\"gridcolor\":\"white\",\"gridwidth\":2,\"linecolor\":\"white\",\"showbackground\":true,\"ticks\":\"\",\"zerolinecolor\":\"white\"},\"yaxis\":{\"backgroundcolor\":\"#E5ECF6\",\"gridcolor\":\"white\",\"gridwidth\":2,\"linecolor\":\"white\",\"showbackground\":true,\"ticks\":\"\",\"zerolinecolor\":\"white\"},\"zaxis\":{\"backgroundcolor\":\"#E5ECF6\",\"gridcolor\":\"white\",\"gridwidth\":2,\"linecolor\":\"white\",\"showbackground\":true,\"ticks\":\"\",\"zerolinecolor\":\"white\"}},\"shapedefaults\":{\"line\":{\"color\":\"#2a3f5f\"}},\"ternary\":{\"aaxis\":{\"gridcolor\":\"white\",\"linecolor\":\"white\",\"ticks\":\"\"},\"baxis\":{\"gridcolor\":\"white\",\"linecolor\":\"white\",\"ticks\":\"\"},\"bgcolor\":\"#E5ECF6\",\"caxis\":{\"gridcolor\":\"white\",\"linecolor\":\"white\",\"ticks\":\"\"}},\"title\":{\"x\":0.05},\"xaxis\":{\"automargin\":true,\"gridcolor\":\"white\",\"linecolor\":\"white\",\"ticks\":\"\",\"title\":{\"standoff\":15},\"zerolinecolor\":\"white\",\"zerolinewidth\":2},\"yaxis\":{\"automargin\":true,\"gridcolor\":\"white\",\"linecolor\":\"white\",\"ticks\":\"\",\"title\":{\"standoff\":15},\"zerolinecolor\":\"white\",\"zerolinewidth\":2}}},\"geo\":{\"domain\":{\"x\":[0.0,1.0],\"y\":[0.0,1.0]},\"center\":{}},\"coloraxis\":{\"colorbar\":{\"title\":{\"text\":\"oecd_eps\"}},\"colorscale\":[[0.0,\"#0d0887\"],[0.1111111111111111,\"#46039f\"],[0.2222222222222222,\"#7201a8\"],[0.3333333333333333,\"#9c179e\"],[0.4444444444444444,\"#bd3786\"],[0.5555555555555556,\"#d8576b\"],[0.6666666666666666,\"#ed7953\"],[0.7777777777777778,\"#fb9f3a\"],[0.8888888888888888,\"#fdca26\"],[1.0,\"#f0f921\"]]},\"legend\":{\"tracegroupgap\":0},\"margin\":{\"t\":60}},                        {\"responsive\": true}                    ).then(function(){\n",
       "                            \n",
       "var gd = document.getElementById('5b5a17e8-6290-4336-a878-c92b98c745b8');\n",
       "var x = new MutationObserver(function (mutations, observer) {{\n",
       "        var display = window.getComputedStyle(gd).display;\n",
       "        if (!display || display === 'none') {{\n",
       "            console.log([gd, 'removed!']);\n",
       "            Plotly.purge(gd);\n",
       "            observer.disconnect();\n",
       "        }}\n",
       "}});\n",
       "\n",
       "// Listen for the removal of the full notebook cells\n",
       "var notebookContainer = gd.closest('#notebook-container');\n",
       "if (notebookContainer) {{\n",
       "    x.observe(notebookContainer, {childList: true});\n",
       "}}\n",
       "\n",
       "// Listen for the clearing of the current output cell\n",
       "var outputEl = gd.closest('.output');\n",
       "if (outputEl) {{\n",
       "    x.observe(outputEl, {childList: true});\n",
       "}}\n",
       "\n",
       "                        })                };                });            </script>        </div>"
      ]
     },
     "metadata": {},
     "output_type": "display_data"
    }
   ],
   "source": [
    "# Spatial Distribution \n",
    "\n",
    "cl_map = cl_wm.groupby(['country']).mean()\n",
    "cl_map.reset_index(inplace=True)\n",
    "cl_map = cl_map.rename(columns = {'index':'country'})\n",
    "fig = px.choropleth(cl_map, locations='country',\n",
    "                    locationmode='country names',\n",
    "                    color='oecd_eps', \n",
    "                    hover_name='country',\n",
    "                    color_continuous_scale=px.colors.sequential.Plasma)\n",
    "fig.show()"
   ]
  },
  {
   "cell_type": "markdown",
   "id": "83e3188d",
   "metadata": {},
   "source": [
    "It seems that the index is higher for european countries and north american ones. This may confirm our doubt since democraties have higher GDP than autocraties which implies that the strigency index, in mean, will be higher for democraties."
   ]
  },
  {
   "cell_type": "code",
   "execution_count": 94,
   "id": "954b3384",
   "metadata": {},
   "outputs": [
    {
     "data": {
      "image/png": "[encoded data removed]",
      "text/plain": [
       "<Figure size 432x288 with 1 Axes>"
      ]
     },
     "metadata": {
      "needs_background": "light"
     },
     "output_type": "display_data"
    }
   ],
   "source": [
    "#Distribution over time\n",
    "\n",
    "df_line = cl_wm.groupby(['year']).mean()\n",
    "df_line.reset_index(inplace=True)\n",
    "df_line = df_line.rename(columns = {'index':'country'})\n",
    "plt.plot(df_line['year'], df_line['oecd_eps'], label = \"Environmental Policy Stringency Index\")\n",
    "plt.xlabel('Year', fontsize=14)\n",
    "plt.xticks(np.arange(1992, 2010, 2))\n",
    "plt.legend()\n",
    "plt.show()"
   ]
  },
  {
   "cell_type": "markdown",
   "id": "cfcd9493",
   "metadata": {},
   "source": [
    "The trend is clearly positive, governments are taking more regulations since climate change is a global issue that is more and more taken into account."
   ]
  },
  {
   "cell_type": "markdown",
   "id": "ac7b623b",
   "metadata": {},
   "source": [
    "### Explanatory variable : Democracy\n"
   ]
  },
  {
   "cell_type": "markdown",
   "id": "b3238268",
   "metadata": {},
   "source": [
    "Polity 2 is a categorical variable that measures the type of policies of countries. It goes from -10 (autocracy) to 10 (democracy). "
   ]
  },
  {
   "cell_type": "code",
   "execution_count": 95,
   "id": "8eefe89a",
   "metadata": {},
   "outputs": [
    {
     "data": {
      "text/plain": [
       "count    494.000000\n",
       "mean       8.576923\n",
       "std        3.571517\n",
       "min       -7.000000\n",
       "25%        9.000000\n",
       "50%       10.000000\n",
       "75%       10.000000\n",
       "max       10.000000\n",
       "Name: polity2, dtype: float64"
      ]
     },
     "execution_count": 95,
     "metadata": {},
     "output_type": "execute_result"
    }
   ],
   "source": [
    "cl_wm['polity2'].describe()"
   ]
  },
  {
   "cell_type": "markdown",
   "id": "963af804",
   "metadata": {},
   "source": [
    "We can see that the median is equal to 10 which is also the maximum value. As a reminder, polty2=10 means that the country is a perfect democraty. Our distribution is not proportionaly distributed. This may be linked to the dataframe that we selected wich was dependant of the Environmental Policy Stringency Index variable that is available only for OECD country and most of which are european and thus democraties. "
   ]
  },
  {
   "cell_type": "code",
   "execution_count": 96,
   "id": "2566797a",
   "metadata": {},
   "outputs": [
    {
     "name": "stdout",
     "output_type": "stream",
     "text": [
      "Skewness polity2: \n",
      "-3.565941375914879\n"
     ]
    },
    {
     "data": {
      "image/png": "[encoded data removed]",
      "text/plain": [
       "<Figure size 432x288 with 1 Axes>"
      ]
     },
     "metadata": {
      "needs_background": "light"
     },
     "output_type": "display_data"
    }
   ],
   "source": [
    "# Histrogram and skewness \n",
    "cl_wm.hist(column='polity2',bins=10)\n",
    "print(\"Skewness polity2: \")\n",
    "print(cl_wm['polity2'].skew())"
   ]
  },
  {
   "cell_type": "markdown",
   "id": "e0e2e737",
   "metadata": {},
   "source": [
    "The skewness is equal to -3,56. We can see that there is a big asymetry on the left with a density of very high values. This histogram permits us to visualise what we said before."
   ]
  },
  {
   "cell_type": "code",
   "execution_count": 97,
   "id": "11d56ceb",
   "metadata": {},
   "outputs": [
    {
     "data": {
      "text/plain": [
       "array([10.,  8., -7.,  9., -5.,  6.,  0.,  4.,  3.,  7.])"
      ]
     },
     "execution_count": 97,
     "metadata": {},
     "output_type": "execute_result"
    }
   ],
   "source": [
    "cl_wm1.polity2.unique()"
   ]
  },
  {
   "cell_type": "code",
   "execution_count": 98,
   "id": "d1aea6c7",
   "metadata": {},
   "outputs": [
    {
     "data": {
      "application/vnd.plotly.v1+json": {
       "config": {
        "plotlyServerURL": "https://plot.ly"
       },
       "data": [
        {
         "coloraxis": "coloraxis",
         "geo": "geo",
         "hovertemplate": "<b>%{hovertext}</b><br><br>country=%{location}<br>polity2=%{z}<extra></extra>",
         "hovertext": [
          "Australia",
          "Austria",
          "Belgium",
          "Brazil",
          "Canada",
          "China",
          "Czech Republic",
          "Denmark",
          "Finland",
          "France",
          "Germany",
          "Greece",
          "Hungary",
          "India",
          "Indonesia",
          "Ireland",
          "Italy",
          "Japan",
          "Mexico",
          "Netherlands",
          "Norway",
          "Poland",
          "Portugal",
          "Republic of Korea",
          "Russia",
          "Slovakia",
          "Slovenia",
          "South Africa",
          "Spain",
          "Sweden",
          "Switzerland",
          "Turkey",
          "United Kingdom of Great Britain and Northern Ireland",
          "United States of America"
         ],
         "locationmode": "country names",
         "locations": [
          "Australia",
          "Austria",
          "Belgium",
          "Brazil",
          "Canada",
          "China",
          "Czech Republic",
          "Denmark",
          "Finland",
          "France",
          "Germany",
          "Greece",
          "Hungary",
          "India",
          "Indonesia",
          "Ireland",
          "Italy",
          "Japan",
          "Mexico",
          "Netherlands",
          "Norway",
          "Poland",
          "Portugal",
          "Republic of Korea",
          "Russia",
          "Slovakia",
          "Slovenia",
          "South Africa",
          "Spain",
          "Sweden",
          "Switzerland",
          "Turkey",
          "United Kingdom of Great Britain and Northern Ireland",
          "United States of America"
         ],
         "name": "",
         "type": "choropleth",
         "z": [
          10,
          10,
          9.866666666666667,
          8,
          10,
          -7,
          9.866666666666667,
          10,
          10,
          10,
          10,
          10,
          10,
          8.666666666666666,
          1.4666666666666666,
          10,
          10,
          10,
          6.266666666666667,
          10,
          10,
          9.266666666666667,
          10,
          7.333333333333333,
          4.466666666666667,
          8.466666666666667,
          10,
          8.933333333333334,
          10,
          10,
          10,
          7.266666666666667,
          10,
          10
         ]
        }
       ],
       "layout": {
        "coloraxis": {
         "colorbar": {
          "title": {
           "text": "polity2"
          }
         },
         "colorscale": [
          [
           0,
           "#0d0887"
          ],
          [
           0.1111111111111111,
           "#46039f"
          ],
          [
           0.2222222222222222,
           "#7201a8"
          ],
          [
           0.3333333333333333,
           "#9c179e"
          ],
          [
           0.4444444444444444,
           "#bd3786"
          ],
          [
           0.5555555555555556,
           "#d8576b"
          ],
          [
           0.6666666666666666,
           "#ed7953"
          ],
          [
           0.7777777777777778,
           "#fb9f3a"
          ],
          [
           0.8888888888888888,
           "#fdca26"
          ],
          [
           1,
           "#f0f921"
          ]
         ]
        },
        "geo": {
         "center": {},
         "domain": {
          "x": [
           0,
           1
          ],
          "y": [
           0,
           1
          ]
         }
        },
        "legend": {
         "tracegroupgap": 0
        },
        "margin": {
         "t": 60
        },
        "template": {
         "data": {
          "bar": [
           {
            "error_x": {
             "color": "#2a3f5f"
            },
            "error_y": {
             "color": "#2a3f5f"
            },
            "marker": {
             "line": {
              "color": "#E5ECF6",
              "width": 0.5
             },
             "pattern": {
              "fillmode": "overlay",
              "size": 10,
              "solidity": 0.2
             }
            },
            "type": "bar"
           }
          ],
          "barpolar": [
           {
            "marker": {
             "line": {
              "color": "#E5ECF6",
              "width": 0.5
             },
             "pattern": {
              "fillmode": "overlay",
              "size": 10,
              "solidity": 0.2
             }
            },
            "type": "barpolar"
           }
          ],
          "carpet": [
           {
            "aaxis": {
             "endlinecolor": "#2a3f5f",
             "gridcolor": "white",
             "linecolor": "white",
             "minorgridcolor": "white",
             "startlinecolor": "#2a3f5f"
            },
            "baxis": {
             "endlinecolor": "#2a3f5f",
             "gridcolor": "white",
             "linecolor": "white",
             "minorgridcolor": "white",
             "startlinecolor": "#2a3f5f"
            },
            "type": "carpet"
           }
          ],
          "choropleth": [
           {
            "colorbar": {
             "outlinewidth": 0,
             "ticks": ""
            },
            "type": "choropleth"
           }
          ],
          "contour": [
           {
            "colorbar": {
             "outlinewidth": 0,
             "ticks": ""
            },
            "colorscale": [
             [
              0,
              "#0d0887"
             ],
             [
              0.1111111111111111,
              "#46039f"
             ],
             [
              0.2222222222222222,
              "#7201a8"
             ],
             [
              0.3333333333333333,
              "#9c179e"
             ],
             [
              0.4444444444444444,
              "#bd3786"
             ],
             [
              0.5555555555555556,
              "#d8576b"
             ],
             [
              0.6666666666666666,
              "#ed7953"
             ],
             [
              0.7777777777777778,
              "#fb9f3a"
             ],
             [
              0.8888888888888888,
              "#fdca26"
             ],
             [
              1,
              "#f0f921"
             ]
            ],
            "type": "contour"
           }
          ],
          "contourcarpet": [
           {
            "colorbar": {
             "outlinewidth": 0,
             "ticks": ""
            },
            "type": "contourcarpet"
           }
          ],
          "heatmap": [
           {
            "colorbar": {
             "outlinewidth": 0,
             "ticks": ""
            },
            "colorscale": [
             [
              0,
              "#0d0887"
             ],
             [
              0.1111111111111111,
              "#46039f"
             ],
             [
              0.2222222222222222,
              "#7201a8"
             ],
             [
              0.3333333333333333,
              "#9c179e"
             ],
             [
              0.4444444444444444,
              "#bd3786"
             ],
             [
              0.5555555555555556,
              "#d8576b"
             ],
             [
              0.6666666666666666,
              "#ed7953"
             ],
             [
              0.7777777777777778,
              "#fb9f3a"
             ],
             [
              0.8888888888888888,
              "#fdca26"
             ],
             [
              1,
              "#f0f921"
             ]
            ],
            "type": "heatmap"
           }
          ],
          "heatmapgl": [
           {
            "colorbar": {
             "outlinewidth": 0,
             "ticks": ""
            },
            "colorscale": [
             [
              0,
              "#0d0887"
             ],
             [
              0.1111111111111111,
              "#46039f"
             ],
             [
              0.2222222222222222,
              "#7201a8"
             ],
             [
              0.3333333333333333,
              "#9c179e"
             ],
             [
              0.4444444444444444,
              "#bd3786"
             ],
             [
              0.5555555555555556,
              "#d8576b"
             ],
             [
              0.6666666666666666,
              "#ed7953"
             ],
             [
              0.7777777777777778,
              "#fb9f3a"
             ],
             [
              0.8888888888888888,
              "#fdca26"
             ],
             [
              1,
              "#f0f921"
             ]
            ],
            "type": "heatmapgl"
           }
          ],
          "histogram": [
           {
            "marker": {
             "pattern": {
              "fillmode": "overlay",
              "size": 10,
              "solidity": 0.2
             }
            },
            "type": "histogram"
           }
          ],
          "histogram2d": [
           {
            "colorbar": {
             "outlinewidth": 0,
             "ticks": ""
            },
            "colorscale": [
             [
              0,
              "#0d0887"
             ],
             [
              0.1111111111111111,
              "#46039f"
             ],
             [
              0.2222222222222222,
              "#7201a8"
             ],
             [
              0.3333333333333333,
              "#9c179e"
             ],
             [
              0.4444444444444444,
              "#bd3786"
             ],
             [
              0.5555555555555556,
              "#d8576b"
             ],
             [
              0.6666666666666666,
              "#ed7953"
             ],
             [
              0.7777777777777778,
              "#fb9f3a"
             ],
             [
              0.8888888888888888,
              "#fdca26"
             ],
             [
              1,
              "#f0f921"
             ]
            ],
            "type": "histogram2d"
           }
          ],
          "histogram2dcontour": [
           {
            "colorbar": {
             "outlinewidth": 0,
             "ticks": ""
            },
            "colorscale": [
             [
              0,
              "#0d0887"
             ],
             [
              0.1111111111111111,
              "#46039f"
             ],
             [
              0.2222222222222222,
              "#7201a8"
             ],
             [
              0.3333333333333333,
              "#9c179e"
             ],
             [
              0.4444444444444444,
              "#bd3786"
             ],
             [
              0.5555555555555556,
              "#d8576b"
             ],
             [
              0.6666666666666666,
              "#ed7953"
             ],
             [
              0.7777777777777778,
              "#fb9f3a"
             ],
             [
              0.8888888888888888,
              "#fdca26"
             ],
             [
              1,
              "#f0f921"
             ]
            ],
            "type": "histogram2dcontour"
           }
          ],
          "mesh3d": [
           {
            "colorbar": {
             "outlinewidth": 0,
             "ticks": ""
            },
            "type": "mesh3d"
           }
          ],
          "parcoords": [
           {
            "line": {
             "colorbar": {
              "outlinewidth": 0,
              "ticks": ""
             }
            },
            "type": "parcoords"
           }
          ],
          "pie": [
           {
            "automargin": true,
            "type": "pie"
           }
          ],
          "scatter": [
           {
            "marker": {
             "colorbar": {
              "outlinewidth": 0,
              "ticks": ""
             }
            },
            "type": "scatter"
           }
          ],
          "scatter3d": [
           {
            "line": {
             "colorbar": {
              "outlinewidth": 0,
              "ticks": ""
             }
            },
            "marker": {
             "colorbar": {
              "outlinewidth": 0,
              "ticks": ""
             }
            },
            "type": "scatter3d"
           }
          ],
          "scattercarpet": [
           {
            "marker": {
             "colorbar": {
              "outlinewidth": 0,
              "ticks": ""
             }
            },
            "type": "scattercarpet"
           }
          ],
          "scattergeo": [
           {
            "marker": {
             "colorbar": {
              "outlinewidth": 0,
              "ticks": ""
             }
            },
            "type": "scattergeo"
           }
          ],
          "scattergl": [
           {
            "marker": {
             "colorbar": {
              "outlinewidth": 0,
              "ticks": ""
             }
            },
            "type": "scattergl"
           }
          ],
          "scattermapbox": [
           {
            "marker": {
             "colorbar": {
              "outlinewidth": 0,
              "ticks": ""
             }
            },
            "type": "scattermapbox"
           }
          ],
          "scatterpolar": [
           {
            "marker": {
             "colorbar": {
              "outlinewidth": 0,
              "ticks": ""
             }
            },
            "type": "scatterpolar"
           }
          ],
          "scatterpolargl": [
           {
            "marker": {
             "colorbar": {
              "outlinewidth": 0,
              "ticks": ""
             }
            },
            "type": "scatterpolargl"
           }
          ],
          "scatterternary": [
           {
            "marker": {
             "colorbar": {
              "outlinewidth": 0,
              "ticks": ""
             }
            },
            "type": "scatterternary"
           }
          ],
          "surface": [
           {
            "colorbar": {
             "outlinewidth": 0,
             "ticks": ""
            },
            "colorscale": [
             [
              0,
              "#0d0887"
             ],
             [
              0.1111111111111111,
              "#46039f"
             ],
             [
              0.2222222222222222,
              "#7201a8"
             ],
             [
              0.3333333333333333,
              "#9c179e"
             ],
             [
              0.4444444444444444,
              "#bd3786"
             ],
             [
              0.5555555555555556,
              "#d8576b"
             ],
             [
              0.6666666666666666,
              "#ed7953"
             ],
             [
              0.7777777777777778,
              "#fb9f3a"
             ],
             [
              0.8888888888888888,
              "#fdca26"
             ],
             [
              1,
              "#f0f921"
             ]
            ],
            "type": "surface"
           }
          ],
          "table": [
           {
            "cells": {
             "fill": {
              "color": "#EBF0F8"
             },
             "line": {
              "color": "white"
             }
            },
            "header": {
             "fill": {
              "color": "#C8D4E3"
             },
             "line": {
              "color": "white"
             }
            },
            "type": "table"
           }
          ]
         },
         "layout": {
          "annotationdefaults": {
           "arrowcolor": "#2a3f5f",
           "arrowhead": 0,
           "arrowwidth": 1
          },
          "autotypenumbers": "strict",
          "coloraxis": {
           "colorbar": {
            "outlinewidth": 0,
            "ticks": ""
           }
          },
          "colorscale": {
           "diverging": [
            [
             0,
             "#8e0152"
            ],
            [
             0.1,
             "#c51b7d"
            ],
            [
             0.2,
             "#de77ae"
            ],
            [
             0.3,
             "#f1b6da"
            ],
            [
             0.4,
             "#fde0ef"
            ],
            [
             0.5,
             "#f7f7f7"
            ],
            [
             0.6,
             "#e6f5d0"
            ],
            [
             0.7,
             "#b8e186"
            ],
            [
             0.8,
             "#7fbc41"
            ],
            [
             0.9,
             "#4d9221"
            ],
            [
             1,
             "#276419"
            ]
           ],
           "sequential": [
            [
             0,
             "#0d0887"
            ],
            [
             0.1111111111111111,
             "#46039f"
            ],
            [
             0.2222222222222222,
             "#7201a8"
            ],
            [
             0.3333333333333333,
             "#9c179e"
            ],
            [
             0.4444444444444444,
             "#bd3786"
            ],
            [
             0.5555555555555556,
             "#d8576b"
            ],
            [
             0.6666666666666666,
             "#ed7953"
            ],
            [
             0.7777777777777778,
             "#fb9f3a"
            ],
            [
             0.8888888888888888,
             "#fdca26"
            ],
            [
             1,
             "#f0f921"
            ]
           ],
           "sequentialminus": [
            [
             0,
             "#0d0887"
            ],
            [
             0.1111111111111111,
             "#46039f"
            ],
            [
             0.2222222222222222,
             "#7201a8"
            ],
            [
             0.3333333333333333,
             "#9c179e"
            ],
            [
             0.4444444444444444,
             "#bd3786"
            ],
            [
             0.5555555555555556,
             "#d8576b"
            ],
            [
             0.6666666666666666,
             "#ed7953"
            ],
            [
             0.7777777777777778,
             "#fb9f3a"
            ],
            [
             0.8888888888888888,
             "#fdca26"
            ],
            [
             1,
             "#f0f921"
            ]
           ]
          },
          "colorway": [
           "#636efa",
           "#EF553B",
           "#00cc96",
           "#ab63fa",
           "#FFA15A",
           "#19d3f3",
           "#FF6692",
           "#B6E880",
           "#FF97FF",
           "#FECB52"
          ],
          "font": {
           "color": "#2a3f5f"
          },
          "geo": {
           "bgcolor": "white",
           "lakecolor": "white",
           "landcolor": "#E5ECF6",
           "showlakes": true,
           "showland": true,
           "subunitcolor": "white"
          },
          "hoverlabel": {
           "align": "left"
          },
          "hovermode": "closest",
          "mapbox": {
           "style": "light"
          },
          "paper_bgcolor": "white",
          "plot_bgcolor": "#E5ECF6",
          "polar": {
           "angularaxis": {
            "gridcolor": "white",
            "linecolor": "white",
            "ticks": ""
           },
           "bgcolor": "#E5ECF6",
           "radialaxis": {
            "gridcolor": "white",
            "linecolor": "white",
            "ticks": ""
           }
          },
          "scene": {
           "xaxis": {
            "backgroundcolor": "#E5ECF6",
            "gridcolor": "white",
            "gridwidth": 2,
            "linecolor": "white",
            "showbackground": true,
            "ticks": "",
            "zerolinecolor": "white"
           },
           "yaxis": {
            "backgroundcolor": "#E5ECF6",
            "gridcolor": "white",
            "gridwidth": 2,
            "linecolor": "white",
            "showbackground": true,
            "ticks": "",
            "zerolinecolor": "white"
           },
           "zaxis": {
            "backgroundcolor": "#E5ECF6",
            "gridcolor": "white",
            "gridwidth": 2,
            "linecolor": "white",
            "showbackground": true,
            "ticks": "",
            "zerolinecolor": "white"
           }
          },
          "shapedefaults": {
           "line": {
            "color": "#2a3f5f"
           }
          },
          "ternary": {
           "aaxis": {
            "gridcolor": "white",
            "linecolor": "white",
            "ticks": ""
           },
           "baxis": {
            "gridcolor": "white",
            "linecolor": "white",
            "ticks": ""
           },
           "bgcolor": "#E5ECF6",
           "caxis": {
            "gridcolor": "white",
            "linecolor": "white",
            "ticks": ""
           }
          },
          "title": {
           "x": 0.05
          },
          "xaxis": {
           "automargin": true,
           "gridcolor": "white",
           "linecolor": "white",
           "ticks": "",
           "title": {
            "standoff": 15
           },
           "zerolinecolor": "white",
           "zerolinewidth": 2
          },
          "yaxis": {
           "automargin": true,
           "gridcolor": "white",
           "linecolor": "white",
           "ticks": "",
           "title": {
            "standoff": 15
           },
           "zerolinecolor": "white",
           "zerolinewidth": 2
          }
         }
        }
       }
      },
      "text/html": [
       "<div>                            <div id=\"415b3066-a076-430b-8db3-f46f281bfa79\" class=\"plotly-graph-div\" style=\"height:525px; width:100%;\"></div>            <script type=\"text/javascript\">                require([\"plotly\"], function(Plotly) {                    window.PLOTLYENV=window.PLOTLYENV || {};                                    if (document.getElementById(\"415b3066-a076-430b-8db3-f46f281bfa79\")) {                    Plotly.newPlot(                        \"415b3066-a076-430b-8db3-f46f281bfa79\",                        [{\"coloraxis\":\"coloraxis\",\"geo\":\"geo\",\"hovertemplate\":\"<b>%{hovertext}</b><br><br>country=%{location}<br>polity2=%{z}<extra></extra>\",\"hovertext\":[\"Australia\",\"Austria\",\"Belgium\",\"Brazil\",\"Canada\",\"China\",\"Czech Republic\",\"Denmark\",\"Finland\",\"France\",\"Germany\",\"Greece\",\"Hungary\",\"India\",\"Indonesia\",\"Ireland\",\"Italy\",\"Japan\",\"Mexico\",\"Netherlands\",\"Norway\",\"Poland\",\"Portugal\",\"Republic of Korea\",\"Russia\",\"Slovakia\",\"Slovenia\",\"South Africa\",\"Spain\",\"Sweden\",\"Switzerland\",\"Turkey\",\"United Kingdom of Great Britain and Northern Ireland\",\"United States of America\"],\"locationmode\":\"country names\",\"locations\":[\"Australia\",\"Austria\",\"Belgium\",\"Brazil\",\"Canada\",\"China\",\"Czech Republic\",\"Denmark\",\"Finland\",\"France\",\"Germany\",\"Greece\",\"Hungary\",\"India\",\"Indonesia\",\"Ireland\",\"Italy\",\"Japan\",\"Mexico\",\"Netherlands\",\"Norway\",\"Poland\",\"Portugal\",\"Republic of Korea\",\"Russia\",\"Slovakia\",\"Slovenia\",\"South Africa\",\"Spain\",\"Sweden\",\"Switzerland\",\"Turkey\",\"United Kingdom of Great Britain and Northern Ireland\",\"United States of America\"],\"name\":\"\",\"z\":[10.0,10.0,9.866666666666667,8.0,10.0,-7.0,9.866666666666667,10.0,10.0,10.0,10.0,10.0,10.0,8.666666666666666,1.4666666666666666,10.0,10.0,10.0,6.266666666666667,10.0,10.0,9.266666666666667,10.0,7.333333333333333,4.466666666666667,8.466666666666667,10.0,8.933333333333334,10.0,10.0,10.0,7.266666666666667,10.0,10.0],\"type\":\"choropleth\"}],                        {\"template\":{\"data\":{\"bar\":[{\"error_x\":{\"color\":\"#2a3f5f\"},\"error_y\":{\"color\":\"#2a3f5f\"},\"marker\":{\"line\":{\"color\":\"#E5ECF6\",\"width\":0.5},\"pattern\":{\"fillmode\":\"overlay\",\"size\":10,\"solidity\":0.2}},\"type\":\"bar\"}],\"barpolar\":[{\"marker\":{\"line\":{\"color\":\"#E5ECF6\",\"width\":0.5},\"pattern\":{\"fillmode\":\"overlay\",\"size\":10,\"solidity\":0.2}},\"type\":\"barpolar\"}],\"carpet\":[{\"aaxis\":{\"endlinecolor\":\"#2a3f5f\",\"gridcolor\":\"white\",\"linecolor\":\"white\",\"minorgridcolor\":\"white\",\"startlinecolor\":\"#2a3f5f\"},\"baxis\":{\"endlinecolor\":\"#2a3f5f\",\"gridcolor\":\"white\",\"linecolor\":\"white\",\"minorgridcolor\":\"white\",\"startlinecolor\":\"#2a3f5f\"},\"type\":\"carpet\"}],\"choropleth\":[{\"colorbar\":{\"outlinewidth\":0,\"ticks\":\"\"},\"type\":\"choropleth\"}],\"contour\":[{\"colorbar\":{\"outlinewidth\":0,\"ticks\":\"\"},\"colorscale\":[[0.0,\"#0d0887\"],[0.1111111111111111,\"#46039f\"],[0.2222222222222222,\"#7201a8\"],[0.3333333333333333,\"#9c179e\"],[0.4444444444444444,\"#bd3786\"],[0.5555555555555556,\"#d8576b\"],[0.6666666666666666,\"#ed7953\"],[0.7777777777777778,\"#fb9f3a\"],[0.8888888888888888,\"#fdca26\"],[1.0,\"#f0f921\"]],\"type\":\"contour\"}],\"contourcarpet\":[{\"colorbar\":{\"outlinewidth\":0,\"ticks\":\"\"},\"type\":\"contourcarpet\"}],\"heatmap\":[{\"colorbar\":{\"outlinewidth\":0,\"ticks\":\"\"},\"colorscale\":[[0.0,\"#0d0887\"],[0.1111111111111111,\"#46039f\"],[0.2222222222222222,\"#7201a8\"],[0.3333333333333333,\"#9c179e\"],[0.4444444444444444,\"#bd3786\"],[0.5555555555555556,\"#d8576b\"],[0.6666666666666666,\"#ed7953\"],[0.7777777777777778,\"#fb9f3a\"],[0.8888888888888888,\"#fdca26\"],[1.0,\"#f0f921\"]],\"type\":\"heatmap\"}],\"heatmapgl\":[{\"colorbar\":{\"outlinewidth\":0,\"ticks\":\"\"},\"colorscale\":[[0.0,\"#0d0887\"],[0.1111111111111111,\"#46039f\"],[0.2222222222222222,\"#7201a8\"],[0.3333333333333333,\"#9c179e\"],[0.4444444444444444,\"#bd3786\"],[0.5555555555555556,\"#d8576b\"],[0.6666666666666666,\"#ed7953\"],[0.7777777777777778,\"#fb9f3a\"],[0.8888888888888888,\"#fdca26\"],[1.0,\"#f0f921\"]],\"type\":\"heatmapgl\"}],\"histogram\":[{\"marker\":{\"pattern\":{\"fillmode\":\"overlay\",\"size\":10,\"solidity\":0.2}},\"type\":\"histogram\"}],\"histogram2d\":[{\"colorbar\":{\"outlinewidth\":0,\"ticks\":\"\"},\"colorscale\":[[0.0,\"#0d0887\"],[0.1111111111111111,\"#46039f\"],[0.2222222222222222,\"#7201a8\"],[0.3333333333333333,\"#9c179e\"],[0.4444444444444444,\"#bd3786\"],[0.5555555555555556,\"#d8576b\"],[0.6666666666666666,\"#ed7953\"],[0.7777777777777778,\"#fb9f3a\"],[0.8888888888888888,\"#fdca26\"],[1.0,\"#f0f921\"]],\"type\":\"histogram2d\"}],\"histogram2dcontour\":[{\"colorbar\":{\"outlinewidth\":0,\"ticks\":\"\"},\"colorscale\":[[0.0,\"#0d0887\"],[0.1111111111111111,\"#46039f\"],[0.2222222222222222,\"#7201a8\"],[0.3333333333333333,\"#9c179e\"],[0.4444444444444444,\"#bd3786\"],[0.5555555555555556,\"#d8576b\"],[0.6666666666666666,\"#ed7953\"],[0.7777777777777778,\"#fb9f3a\"],[0.8888888888888888,\"#fdca26\"],[1.0,\"#f0f921\"]],\"type\":\"histogram2dcontour\"}],\"mesh3d\":[{\"colorbar\":{\"outlinewidth\":0,\"ticks\":\"\"},\"type\":\"mesh3d\"}],\"parcoords\":[{\"line\":{\"colorbar\":{\"outlinewidth\":0,\"ticks\":\"\"}},\"type\":\"parcoords\"}],\"pie\":[{\"automargin\":true,\"type\":\"pie\"}],\"scatter\":[{\"marker\":{\"colorbar\":{\"outlinewidth\":0,\"ticks\":\"\"}},\"type\":\"scatter\"}],\"scatter3d\":[{\"line\":{\"colorbar\":{\"outlinewidth\":0,\"ticks\":\"\"}},\"marker\":{\"colorbar\":{\"outlinewidth\":0,\"ticks\":\"\"}},\"type\":\"scatter3d\"}],\"scattercarpet\":[{\"marker\":{\"colorbar\":{\"outlinewidth\":0,\"ticks\":\"\"}},\"type\":\"scattercarpet\"}],\"scattergeo\":[{\"marker\":{\"colorbar\":{\"outlinewidth\":0,\"ticks\":\"\"}},\"type\":\"scattergeo\"}],\"scattergl\":[{\"marker\":{\"colorbar\":{\"outlinewidth\":0,\"ticks\":\"\"}},\"type\":\"scattergl\"}],\"scattermapbox\":[{\"marker\":{\"colorbar\":{\"outlinewidth\":0,\"ticks\":\"\"}},\"type\":\"scattermapbox\"}],\"scatterpolar\":[{\"marker\":{\"colorbar\":{\"outlinewidth\":0,\"ticks\":\"\"}},\"type\":\"scatterpolar\"}],\"scatterpolargl\":[{\"marker\":{\"colorbar\":{\"outlinewidth\":0,\"ticks\":\"\"}},\"type\":\"scatterpolargl\"}],\"scatterternary\":[{\"marker\":{\"colorbar\":{\"outlinewidth\":0,\"ticks\":\"\"}},\"type\":\"scatterternary\"}],\"surface\":[{\"colorbar\":{\"outlinewidth\":0,\"ticks\":\"\"},\"colorscale\":[[0.0,\"#0d0887\"],[0.1111111111111111,\"#46039f\"],[0.2222222222222222,\"#7201a8\"],[0.3333333333333333,\"#9c179e\"],[0.4444444444444444,\"#bd3786\"],[0.5555555555555556,\"#d8576b\"],[0.6666666666666666,\"#ed7953\"],[0.7777777777777778,\"#fb9f3a\"],[0.8888888888888888,\"#fdca26\"],[1.0,\"#f0f921\"]],\"type\":\"surface\"}],\"table\":[{\"cells\":{\"fill\":{\"color\":\"#EBF0F8\"},\"line\":{\"color\":\"white\"}},\"header\":{\"fill\":{\"color\":\"#C8D4E3\"},\"line\":{\"color\":\"white\"}},\"type\":\"table\"}]},\"layout\":{\"annotationdefaults\":{\"arrowcolor\":\"#2a3f5f\",\"arrowhead\":0,\"arrowwidth\":1},\"autotypenumbers\":\"strict\",\"coloraxis\":{\"colorbar\":{\"outlinewidth\":0,\"ticks\":\"\"}},\"colorscale\":{\"diverging\":[[0,\"#8e0152\"],[0.1,\"#c51b7d\"],[0.2,\"#de77ae\"],[0.3,\"#f1b6da\"],[0.4,\"#fde0ef\"],[0.5,\"#f7f7f7\"],[0.6,\"#e6f5d0\"],[0.7,\"#b8e186\"],[0.8,\"#7fbc41\"],[0.9,\"#4d9221\"],[1,\"#276419\"]],\"sequential\":[[0.0,\"#0d0887\"],[0.1111111111111111,\"#46039f\"],[0.2222222222222222,\"#7201a8\"],[0.3333333333333333,\"#9c179e\"],[0.4444444444444444,\"#bd3786\"],[0.5555555555555556,\"#d8576b\"],[0.6666666666666666,\"#ed7953\"],[0.7777777777777778,\"#fb9f3a\"],[0.8888888888888888,\"#fdca26\"],[1.0,\"#f0f921\"]],\"sequentialminus\":[[0.0,\"#0d0887\"],[0.1111111111111111,\"#46039f\"],[0.2222222222222222,\"#7201a8\"],[0.3333333333333333,\"#9c179e\"],[0.4444444444444444,\"#bd3786\"],[0.5555555555555556,\"#d8576b\"],[0.6666666666666666,\"#ed7953\"],[0.7777777777777778,\"#fb9f3a\"],[0.8888888888888888,\"#fdca26\"],[1.0,\"#f0f921\"]]},\"colorway\":[\"#636efa\",\"#EF553B\",\"#00cc96\",\"#ab63fa\",\"#FFA15A\",\"#19d3f3\",\"#FF6692\",\"#B6E880\",\"#FF97FF\",\"#FECB52\"],\"font\":{\"color\":\"#2a3f5f\"},\"geo\":{\"bgcolor\":\"white\",\"lakecolor\":\"white\",\"landcolor\":\"#E5ECF6\",\"showlakes\":true,\"showland\":true,\"subunitcolor\":\"white\"},\"hoverlabel\":{\"align\":\"left\"},\"hovermode\":\"closest\",\"mapbox\":{\"style\":\"light\"},\"paper_bgcolor\":\"white\",\"plot_bgcolor\":\"#E5ECF6\",\"polar\":{\"angularaxis\":{\"gridcolor\":\"white\",\"linecolor\":\"white\",\"ticks\":\"\"},\"bgcolor\":\"#E5ECF6\",\"radialaxis\":{\"gridcolor\":\"white\",\"linecolor\":\"white\",\"ticks\":\"\"}},\"scene\":{\"xaxis\":{\"backgroundcolor\":\"#E5ECF6\",\"gridcolor\":\"white\",\"gridwidth\":2,\"linecolor\":\"white\",\"showbackground\":true,\"ticks\":\"\",\"zerolinecolor\":\"white\"},\"yaxis\":{\"backgroundcolor\":\"#E5ECF6\",\"gridcolor\":\"white\",\"gridwidth\":2,\"linecolor\":\"white\",\"showbackground\":true,\"ticks\":\"\",\"zerolinecolor\":\"white\"},\"zaxis\":{\"backgroundcolor\":\"#E5ECF6\",\"gridcolor\":\"white\",\"gridwidth\":2,\"linecolor\":\"white\",\"showbackground\":true,\"ticks\":\"\",\"zerolinecolor\":\"white\"}},\"shapedefaults\":{\"line\":{\"color\":\"#2a3f5f\"}},\"ternary\":{\"aaxis\":{\"gridcolor\":\"white\",\"linecolor\":\"white\",\"ticks\":\"\"},\"baxis\":{\"gridcolor\":\"white\",\"linecolor\":\"white\",\"ticks\":\"\"},\"bgcolor\":\"#E5ECF6\",\"caxis\":{\"gridcolor\":\"white\",\"linecolor\":\"white\",\"ticks\":\"\"}},\"title\":{\"x\":0.05},\"xaxis\":{\"automargin\":true,\"gridcolor\":\"white\",\"linecolor\":\"white\",\"ticks\":\"\",\"title\":{\"standoff\":15},\"zerolinecolor\":\"white\",\"zerolinewidth\":2},\"yaxis\":{\"automargin\":true,\"gridcolor\":\"white\",\"linecolor\":\"white\",\"ticks\":\"\",\"title\":{\"standoff\":15},\"zerolinecolor\":\"white\",\"zerolinewidth\":2}}},\"geo\":{\"domain\":{\"x\":[0.0,1.0],\"y\":[0.0,1.0]},\"center\":{}},\"coloraxis\":{\"colorbar\":{\"title\":{\"text\":\"polity2\"}},\"colorscale\":[[0.0,\"#0d0887\"],[0.1111111111111111,\"#46039f\"],[0.2222222222222222,\"#7201a8\"],[0.3333333333333333,\"#9c179e\"],[0.4444444444444444,\"#bd3786\"],[0.5555555555555556,\"#d8576b\"],[0.6666666666666666,\"#ed7953\"],[0.7777777777777778,\"#fb9f3a\"],[0.8888888888888888,\"#fdca26\"],[1.0,\"#f0f921\"]]},\"legend\":{\"tracegroupgap\":0},\"margin\":{\"t\":60}},                        {\"responsive\": true}                    ).then(function(){\n",
       "                            \n",
       "var gd = document.getElementById('415b3066-a076-430b-8db3-f46f281bfa79');\n",
       "var x = new MutationObserver(function (mutations, observer) {{\n",
       "        var display = window.getComputedStyle(gd).display;\n",
       "        if (!display || display === 'none') {{\n",
       "            console.log([gd, 'removed!']);\n",
       "            Plotly.purge(gd);\n",
       "            observer.disconnect();\n",
       "        }}\n",
       "}});\n",
       "\n",
       "// Listen for the removal of the full notebook cells\n",
       "var notebookContainer = gd.closest('#notebook-container');\n",
       "if (notebookContainer) {{\n",
       "    x.observe(notebookContainer, {childList: true});\n",
       "}}\n",
       "\n",
       "// Listen for the clearing of the current output cell\n",
       "var outputEl = gd.closest('.output');\n",
       "if (outputEl) {{\n",
       "    x.observe(outputEl, {childList: true});\n",
       "}}\n",
       "\n",
       "                        })                };                });            </script>        </div>"
      ]
     },
     "metadata": {},
     "output_type": "display_data"
    }
   ],
   "source": [
    "#Spatial distribution\n",
    "cl_map = cl_wm.groupby(['country']).mean()\n",
    "cl_map.reset_index(inplace=True)\n",
    "cl_map = cl_map.rename(columns = {'index':'country'})\n",
    "fig = px.choropleth(cl_map, locations='country',\n",
    "                    locationmode='country names',\n",
    "                    color='polity2', \n",
    "                    hover_name='country',\n",
    "                    color_continuous_scale=px.colors.sequential.Plasma)\n",
    "fig.show()"
   ]
  },
  {
   "cell_type": "markdown",
   "id": "09bdf955",
   "metadata": {},
   "source": [
    "The map confirms what we just said. European countries, Australia and North american ones are democraties. We have only a few autocraties, which will complicate our study since the samples are not normally distributed. "
   ]
  },
  {
   "cell_type": "markdown",
   "id": "06d8a40d",
   "metadata": {},
   "source": [
    "### Additional explanatory variable : Number of NGOs\n"
   ]
  },
  {
   "cell_type": "markdown",
   "id": "1255dc0d",
   "metadata": {},
   "source": [
    "engo_nengo is a continuous variable that takes values between 0 and 60 with a mean equal to 10,84"
   ]
  },
  {
   "cell_type": "code",
   "execution_count": 99,
   "id": "27a96761",
   "metadata": {},
   "outputs": [
    {
     "data": {
      "text/plain": [
       "count    494.000000\n",
       "mean      10.842105\n",
       "std       10.979945\n",
       "min        0.000000\n",
       "25%        3.000000\n",
       "50%        6.500000\n",
       "75%       15.000000\n",
       "max       60.000000\n",
       "Name: engo_nengo, dtype: float64"
      ]
     },
     "execution_count": 99,
     "metadata": {},
     "output_type": "execute_result"
    }
   ],
   "source": [
    "cl_wm['engo_nengo'].describe()"
   ]
  },
  {
   "cell_type": "code",
   "execution_count": 100,
   "id": "6985816d",
   "metadata": {},
   "outputs": [
    {
     "name": "stdout",
     "output_type": "stream",
     "text": [
      "Skewness oecd_eps: \n",
      "1.7922279346055234\n"
     ]
    },
    {
     "data": {
      "image/png": "[encoded data removed]",
      "text/plain": [
       "<Figure size 432x288 with 1 Axes>"
      ]
     },
     "metadata": {
      "needs_background": "light"
     },
     "output_type": "display_data"
    }
   ],
   "source": [
    "# Histrogram and skewness \n",
    "cl_wm.hist(column ='engo_nengo')\n",
    "print(\"Skewness oecd_eps: \")\n",
    "print(cl_wm['engo_nengo'].skew())"
   ]
  },
  {
   "cell_type": "markdown",
   "id": "ed34a65a",
   "metadata": {},
   "source": [
    "The data are positively skewed with a skewness of 1,79. We will not log-transform the data because the asymmetry is ‘acceptable’ (inferior to 3)"
   ]
  },
  {
   "cell_type": "code",
   "execution_count": 101,
   "id": "a2099e02",
   "metadata": {},
   "outputs": [
    {
     "data": {
      "application/vnd.plotly.v1+json": {
       "config": {
        "plotlyServerURL": "https://plot.ly"
       },
       "data": [
        {
         "coloraxis": "coloraxis",
         "geo": "geo",
         "hovertemplate": "<b>%{hovertext}</b><br><br>country=%{location}<br>engo_nengo=%{z}<extra></extra>",
         "hovertext": [
          "Australia",
          "Austria",
          "Belgium",
          "Brazil",
          "Canada",
          "China",
          "Czech Republic",
          "Denmark",
          "Finland",
          "France",
          "Germany",
          "Greece",
          "Hungary",
          "India",
          "Indonesia",
          "Ireland",
          "Italy",
          "Japan",
          "Mexico",
          "Netherlands",
          "Norway",
          "Poland",
          "Portugal",
          "Republic of Korea",
          "Russia",
          "Slovakia",
          "Slovenia",
          "South Africa",
          "Spain",
          "Sweden",
          "Switzerland",
          "Turkey",
          "United Kingdom of Great Britain and Northern Ireland",
          "United States of America"
         ],
         "locationmode": "country names",
         "locations": [
          "Australia",
          "Austria",
          "Belgium",
          "Brazil",
          "Canada",
          "China",
          "Czech Republic",
          "Denmark",
          "Finland",
          "France",
          "Germany",
          "Greece",
          "Hungary",
          "India",
          "Indonesia",
          "Ireland",
          "Italy",
          "Japan",
          "Mexico",
          "Netherlands",
          "Norway",
          "Poland",
          "Portugal",
          "Republic of Korea",
          "Russia",
          "Slovakia",
          "Slovenia",
          "South Africa",
          "Spain",
          "Sweden",
          "Switzerland",
          "Turkey",
          "United Kingdom of Great Britain and Northern Ireland",
          "United States of America"
         ],
         "name": "",
         "type": "choropleth",
         "z": [
          25.466666666666665,
          5,
          5.666666666666667,
          14.076923076923077,
          18.133333333333333,
          3.7333333333333334,
          1.8666666666666667,
          6.333333333333333,
          3,
          23.2,
          13.8,
          4.666666666666667,
          3.066666666666667,
          12.266666666666667,
          0.13333333333333333,
          1,
          9.8,
          16.4,
          9.666666666666666,
          21.6,
          2.7333333333333334,
          7,
          2.7333333333333334,
          3.6,
          5.2,
          3.1333333333333333,
          0,
          13.333333333333334,
          19.666666666666668,
          6.466666666666667,
          7.333333333333333,
          2.2,
          38.2,
          48.46666666666667
         ]
        }
       ],
       "layout": {
        "coloraxis": {
         "colorbar": {
          "title": {
           "text": "engo_nengo"
          }
         },
         "colorscale": [
          [
           0,
           "#0d0887"
          ],
          [
           0.1111111111111111,
           "#46039f"
          ],
          [
           0.2222222222222222,
           "#7201a8"
          ],
          [
           0.3333333333333333,
           "#9c179e"
          ],
          [
           0.4444444444444444,
           "#bd3786"
          ],
          [
           0.5555555555555556,
           "#d8576b"
          ],
          [
           0.6666666666666666,
           "#ed7953"
          ],
          [
           0.7777777777777778,
           "#fb9f3a"
          ],
          [
           0.8888888888888888,
           "#fdca26"
          ],
          [
           1,
           "#f0f921"
          ]
         ]
        },
        "geo": {
         "center": {},
         "domain": {
          "x": [
           0,
           1
          ],
          "y": [
           0,
           1
          ]
         }
        },
        "legend": {
         "tracegroupgap": 0
        },
        "margin": {
         "t": 60
        },
        "template": {
         "data": {
          "bar": [
           {
            "error_x": {
             "color": "#2a3f5f"
            },
            "error_y": {
             "color": "#2a3f5f"
            },
            "marker": {
             "line": {
              "color": "#E5ECF6",
              "width": 0.5
             },
             "pattern": {
              "fillmode": "overlay",
              "size": 10,
              "solidity": 0.2
             }
            },
            "type": "bar"
           }
          ],
          "barpolar": [
           {
            "marker": {
             "line": {
              "color": "#E5ECF6",
              "width": 0.5
             },
             "pattern": {
              "fillmode": "overlay",
              "size": 10,
              "solidity": 0.2
             }
            },
            "type": "barpolar"
           }
          ],
          "carpet": [
           {
            "aaxis": {
             "endlinecolor": "#2a3f5f",
             "gridcolor": "white",
             "linecolor": "white",
             "minorgridcolor": "white",
             "startlinecolor": "#2a3f5f"
            },
            "baxis": {
             "endlinecolor": "#2a3f5f",
             "gridcolor": "white",
             "linecolor": "white",
             "minorgridcolor": "white",
             "startlinecolor": "#2a3f5f"
            },
            "type": "carpet"
           }
          ],
          "choropleth": [
           {
            "colorbar": {
             "outlinewidth": 0,
             "ticks": ""
            },
            "type": "choropleth"
           }
          ],
          "contour": [
           {
            "colorbar": {
             "outlinewidth": 0,
             "ticks": ""
            },
            "colorscale": [
             [
              0,
              "#0d0887"
             ],
             [
              0.1111111111111111,
              "#46039f"
             ],
             [
              0.2222222222222222,
              "#7201a8"
             ],
             [
              0.3333333333333333,
              "#9c179e"
             ],
             [
              0.4444444444444444,
              "#bd3786"
             ],
             [
              0.5555555555555556,
              "#d8576b"
             ],
             [
              0.6666666666666666,
              "#ed7953"
             ],
             [
              0.7777777777777778,
              "#fb9f3a"
             ],
             [
              0.8888888888888888,
              "#fdca26"
             ],
             [
              1,
              "#f0f921"
             ]
            ],
            "type": "contour"
           }
          ],
          "contourcarpet": [
           {
            "colorbar": {
             "outlinewidth": 0,
             "ticks": ""
            },
            "type": "contourcarpet"
           }
          ],
          "heatmap": [
           {
            "colorbar": {
             "outlinewidth": 0,
             "ticks": ""
            },
            "colorscale": [
             [
              0,
              "#0d0887"
             ],
             [
              0.1111111111111111,
              "#46039f"
             ],
             [
              0.2222222222222222,
              "#7201a8"
             ],
             [
              0.3333333333333333,
              "#9c179e"
             ],
             [
              0.4444444444444444,
              "#bd3786"
             ],
             [
              0.5555555555555556,
              "#d8576b"
             ],
             [
              0.6666666666666666,
              "#ed7953"
             ],
             [
              0.7777777777777778,
              "#fb9f3a"
             ],
             [
              0.8888888888888888,
              "#fdca26"
             ],
             [
              1,
              "#f0f921"
             ]
            ],
            "type": "heatmap"
           }
          ],
          "heatmapgl": [
           {
            "colorbar": {
             "outlinewidth": 0,
             "ticks": ""
            },
            "colorscale": [
             [
              0,
              "#0d0887"
             ],
             [
              0.1111111111111111,
              "#46039f"
             ],
             [
              0.2222222222222222,
              "#7201a8"
             ],
             [
              0.3333333333333333,
              "#9c179e"
             ],
             [
              0.4444444444444444,
              "#bd3786"
             ],
             [
              0.5555555555555556,
              "#d8576b"
             ],
             [
              0.6666666666666666,
              "#ed7953"
             ],
             [
              0.7777777777777778,
              "#fb9f3a"
             ],
             [
              0.8888888888888888,
              "#fdca26"
             ],
             [
              1,
              "#f0f921"
             ]
            ],
            "type": "heatmapgl"
           }
          ],
          "histogram": [
           {
            "marker": {
             "pattern": {
              "fillmode": "overlay",
              "size": 10,
              "solidity": 0.2
             }
            },
            "type": "histogram"
           }
          ],
          "histogram2d": [
           {
            "colorbar": {
             "outlinewidth": 0,
             "ticks": ""
            },
            "colorscale": [
             [
              0,
              "#0d0887"
             ],
             [
              0.1111111111111111,
              "#46039f"
             ],
             [
              0.2222222222222222,
              "#7201a8"
             ],
             [
              0.3333333333333333,
              "#9c179e"
             ],
             [
              0.4444444444444444,
              "#bd3786"
             ],
             [
              0.5555555555555556,
              "#d8576b"
             ],
             [
              0.6666666666666666,
              "#ed7953"
             ],
             [
              0.7777777777777778,
              "#fb9f3a"
             ],
             [
              0.8888888888888888,
              "#fdca26"
             ],
             [
              1,
              "#f0f921"
             ]
            ],
            "type": "histogram2d"
           }
          ],
          "histogram2dcontour": [
           {
            "colorbar": {
             "outlinewidth": 0,
             "ticks": ""
            },
            "colorscale": [
             [
              0,
              "#0d0887"
             ],
             [
              0.1111111111111111,
              "#46039f"
             ],
             [
              0.2222222222222222,
              "#7201a8"
             ],
             [
              0.3333333333333333,
              "#9c179e"
             ],
             [
              0.4444444444444444,
              "#bd3786"
             ],
             [
              0.5555555555555556,
              "#d8576b"
             ],
             [
              0.6666666666666666,
              "#ed7953"
             ],
             [
              0.7777777777777778,
              "#fb9f3a"
             ],
             [
              0.8888888888888888,
              "#fdca26"
             ],
             [
              1,
              "#f0f921"
             ]
            ],
            "type": "histogram2dcontour"
           }
          ],
          "mesh3d": [
           {
            "colorbar": {
             "outlinewidth": 0,
             "ticks": ""
            },
            "type": "mesh3d"
           }
          ],
          "parcoords": [
           {
            "line": {
             "colorbar": {
              "outlinewidth": 0,
              "ticks": ""
             }
            },
            "type": "parcoords"
           }
          ],
          "pie": [
           {
            "automargin": true,
            "type": "pie"
           }
          ],
          "scatter": [
           {
            "marker": {
             "colorbar": {
              "outlinewidth": 0,
              "ticks": ""
             }
            },
            "type": "scatter"
           }
          ],
          "scatter3d": [
           {
            "line": {
             "colorbar": {
              "outlinewidth": 0,
              "ticks": ""
             }
            },
            "marker": {
             "colorbar": {
              "outlinewidth": 0,
              "ticks": ""
             }
            },
            "type": "scatter3d"
           }
          ],
          "scattercarpet": [
           {
            "marker": {
             "colorbar": {
              "outlinewidth": 0,
              "ticks": ""
             }
            },
            "type": "scattercarpet"
           }
          ],
          "scattergeo": [
           {
            "marker": {
             "colorbar": {
              "outlinewidth": 0,
              "ticks": ""
             }
            },
            "type": "scattergeo"
           }
          ],
          "scattergl": [
           {
            "marker": {
             "colorbar": {
              "outlinewidth": 0,
              "ticks": ""
             }
            },
            "type": "scattergl"
           }
          ],
          "scattermapbox": [
           {
            "marker": {
             "colorbar": {
              "outlinewidth": 0,
              "ticks": ""
             }
            },
            "type": "scattermapbox"
           }
          ],
          "scatterpolar": [
           {
            "marker": {
             "colorbar": {
              "outlinewidth": 0,
              "ticks": ""
             }
            },
            "type": "scatterpolar"
           }
          ],
          "scatterpolargl": [
           {
            "marker": {
             "colorbar": {
              "outlinewidth": 0,
              "ticks": ""
             }
            },
            "type": "scatterpolargl"
           }
          ],
          "scatterternary": [
           {
            "marker": {
             "colorbar": {
              "outlinewidth": 0,
              "ticks": ""
             }
            },
            "type": "scatterternary"
           }
          ],
          "surface": [
           {
            "colorbar": {
             "outlinewidth": 0,
             "ticks": ""
            },
            "colorscale": [
             [
              0,
              "#0d0887"
             ],
             [
              0.1111111111111111,
              "#46039f"
             ],
             [
              0.2222222222222222,
              "#7201a8"
             ],
             [
              0.3333333333333333,
              "#9c179e"
             ],
             [
              0.4444444444444444,
              "#bd3786"
             ],
             [
              0.5555555555555556,
              "#d8576b"
             ],
             [
              0.6666666666666666,
              "#ed7953"
             ],
             [
              0.7777777777777778,
              "#fb9f3a"
             ],
             [
              0.8888888888888888,
              "#fdca26"
             ],
             [
              1,
              "#f0f921"
             ]
            ],
            "type": "surface"
           }
          ],
          "table": [
           {
            "cells": {
             "fill": {
              "color": "#EBF0F8"
             },
             "line": {
              "color": "white"
             }
            },
            "header": {
             "fill": {
              "color": "#C8D4E3"
             },
             "line": {
              "color": "white"
             }
            },
            "type": "table"
           }
          ]
         },
         "layout": {
          "annotationdefaults": {
           "arrowcolor": "#2a3f5f",
           "arrowhead": 0,
           "arrowwidth": 1
          },
          "autotypenumbers": "strict",
          "coloraxis": {
           "colorbar": {
            "outlinewidth": 0,
            "ticks": ""
           }
          },
          "colorscale": {
           "diverging": [
            [
             0,
             "#8e0152"
            ],
            [
             0.1,
             "#c51b7d"
            ],
            [
             0.2,
             "#de77ae"
            ],
            [
             0.3,
             "#f1b6da"
            ],
            [
             0.4,
             "#fde0ef"
            ],
            [
             0.5,
             "#f7f7f7"
            ],
            [
             0.6,
             "#e6f5d0"
            ],
            [
             0.7,
             "#b8e186"
            ],
            [
             0.8,
             "#7fbc41"
            ],
            [
             0.9,
             "#4d9221"
            ],
            [
             1,
             "#276419"
            ]
           ],
           "sequential": [
            [
             0,
             "#0d0887"
            ],
            [
             0.1111111111111111,
             "#46039f"
            ],
            [
             0.2222222222222222,
             "#7201a8"
            ],
            [
             0.3333333333333333,
             "#9c179e"
            ],
            [
             0.4444444444444444,
             "#bd3786"
            ],
            [
             0.5555555555555556,
             "#d8576b"
            ],
            [
             0.6666666666666666,
             "#ed7953"
            ],
            [
             0.7777777777777778,
             "#fb9f3a"
            ],
            [
             0.8888888888888888,
             "#fdca26"
            ],
            [
             1,
             "#f0f921"
            ]
           ],
           "sequentialminus": [
            [
             0,
             "#0d0887"
            ],
            [
             0.1111111111111111,
             "#46039f"
            ],
            [
             0.2222222222222222,
             "#7201a8"
            ],
            [
             0.3333333333333333,
             "#9c179e"
            ],
            [
             0.4444444444444444,
             "#bd3786"
            ],
            [
             0.5555555555555556,
             "#d8576b"
            ],
            [
             0.6666666666666666,
             "#ed7953"
            ],
            [
             0.7777777777777778,
             "#fb9f3a"
            ],
            [
             0.8888888888888888,
             "#fdca26"
            ],
            [
             1,
             "#f0f921"
            ]
           ]
          },
          "colorway": [
           "#636efa",
           "#EF553B",
           "#00cc96",
           "#ab63fa",
           "#FFA15A",
           "#19d3f3",
           "#FF6692",
           "#B6E880",
           "#FF97FF",
           "#FECB52"
          ],
          "font": {
           "color": "#2a3f5f"
          },
          "geo": {
           "bgcolor": "white",
           "lakecolor": "white",
           "landcolor": "#E5ECF6",
           "showlakes": true,
           "showland": true,
           "subunitcolor": "white"
          },
          "hoverlabel": {
           "align": "left"
          },
          "hovermode": "closest",
          "mapbox": {
           "style": "light"
          },
          "paper_bgcolor": "white",
          "plot_bgcolor": "#E5ECF6",
          "polar": {
           "angularaxis": {
            "gridcolor": "white",
            "linecolor": "white",
            "ticks": ""
           },
           "bgcolor": "#E5ECF6",
           "radialaxis": {
            "gridcolor": "white",
            "linecolor": "white",
            "ticks": ""
           }
          },
          "scene": {
           "xaxis": {
            "backgroundcolor": "#E5ECF6",
            "gridcolor": "white",
            "gridwidth": 2,
            "linecolor": "white",
            "showbackground": true,
            "ticks": "",
            "zerolinecolor": "white"
           },
           "yaxis": {
            "backgroundcolor": "#E5ECF6",
            "gridcolor": "white",
            "gridwidth": 2,
            "linecolor": "white",
            "showbackground": true,
            "ticks": "",
            "zerolinecolor": "white"
           },
           "zaxis": {
            "backgroundcolor": "#E5ECF6",
            "gridcolor": "white",
            "gridwidth": 2,
            "linecolor": "white",
            "showbackground": true,
            "ticks": "",
            "zerolinecolor": "white"
           }
          },
          "shapedefaults": {
           "line": {
            "color": "#2a3f5f"
           }
          },
          "ternary": {
           "aaxis": {
            "gridcolor": "white",
            "linecolor": "white",
            "ticks": ""
           },
           "baxis": {
            "gridcolor": "white",
            "linecolor": "white",
            "ticks": ""
           },
           "bgcolor": "#E5ECF6",
           "caxis": {
            "gridcolor": "white",
            "linecolor": "white",
            "ticks": ""
           }
          },
          "title": {
           "x": 0.05
          },
          "xaxis": {
           "automargin": true,
           "gridcolor": "white",
           "linecolor": "white",
           "ticks": "",
           "title": {
            "standoff": 15
           },
           "zerolinecolor": "white",
           "zerolinewidth": 2
          },
          "yaxis": {
           "automargin": true,
           "gridcolor": "white",
           "linecolor": "white",
           "ticks": "",
           "title": {
            "standoff": 15
           },
           "zerolinecolor": "white",
           "zerolinewidth": 2
          }
         }
        }
       }
      },
      "text/html": [
       "<div>                            <div id=\"de3674a1-4c9a-4bf4-bf0f-01405f8c7bc4\" class=\"plotly-graph-div\" style=\"height:525px; width:100%;\"></div>            <script type=\"text/javascript\">                require([\"plotly\"], function(Plotly) {                    window.PLOTLYENV=window.PLOTLYENV || {};                                    if (document.getElementById(\"de3674a1-4c9a-4bf4-bf0f-01405f8c7bc4\")) {                    Plotly.newPlot(                        \"de3674a1-4c9a-4bf4-bf0f-01405f8c7bc4\",                        [{\"coloraxis\":\"coloraxis\",\"geo\":\"geo\",\"hovertemplate\":\"<b>%{hovertext}</b><br><br>country=%{location}<br>engo_nengo=%{z}<extra></extra>\",\"hovertext\":[\"Australia\",\"Austria\",\"Belgium\",\"Brazil\",\"Canada\",\"China\",\"Czech Republic\",\"Denmark\",\"Finland\",\"France\",\"Germany\",\"Greece\",\"Hungary\",\"India\",\"Indonesia\",\"Ireland\",\"Italy\",\"Japan\",\"Mexico\",\"Netherlands\",\"Norway\",\"Poland\",\"Portugal\",\"Republic of Korea\",\"Russia\",\"Slovakia\",\"Slovenia\",\"South Africa\",\"Spain\",\"Sweden\",\"Switzerland\",\"Turkey\",\"United Kingdom of Great Britain and Northern Ireland\",\"United States of America\"],\"locationmode\":\"country names\",\"locations\":[\"Australia\",\"Austria\",\"Belgium\",\"Brazil\",\"Canada\",\"China\",\"Czech Republic\",\"Denmark\",\"Finland\",\"France\",\"Germany\",\"Greece\",\"Hungary\",\"India\",\"Indonesia\",\"Ireland\",\"Italy\",\"Japan\",\"Mexico\",\"Netherlands\",\"Norway\",\"Poland\",\"Portugal\",\"Republic of Korea\",\"Russia\",\"Slovakia\",\"Slovenia\",\"South Africa\",\"Spain\",\"Sweden\",\"Switzerland\",\"Turkey\",\"United Kingdom of Great Britain and Northern Ireland\",\"United States of America\"],\"name\":\"\",\"z\":[25.466666666666665,5.0,5.666666666666667,14.076923076923077,18.133333333333333,3.7333333333333334,1.8666666666666667,6.333333333333333,3.0,23.2,13.8,4.666666666666667,3.066666666666667,12.266666666666667,0.13333333333333333,1.0,9.8,16.4,9.666666666666666,21.6,2.7333333333333334,7.0,2.7333333333333334,3.6,5.2,3.1333333333333333,0.0,13.333333333333334,19.666666666666668,6.466666666666667,7.333333333333333,2.2,38.2,48.46666666666667],\"type\":\"choropleth\"}],                        {\"template\":{\"data\":{\"bar\":[{\"error_x\":{\"color\":\"#2a3f5f\"},\"error_y\":{\"color\":\"#2a3f5f\"},\"marker\":{\"line\":{\"color\":\"#E5ECF6\",\"width\":0.5},\"pattern\":{\"fillmode\":\"overlay\",\"size\":10,\"solidity\":0.2}},\"type\":\"bar\"}],\"barpolar\":[{\"marker\":{\"line\":{\"color\":\"#E5ECF6\",\"width\":0.5},\"pattern\":{\"fillmode\":\"overlay\",\"size\":10,\"solidity\":0.2}},\"type\":\"barpolar\"}],\"carpet\":[{\"aaxis\":{\"endlinecolor\":\"#2a3f5f\",\"gridcolor\":\"white\",\"linecolor\":\"white\",\"minorgridcolor\":\"white\",\"startlinecolor\":\"#2a3f5f\"},\"baxis\":{\"endlinecolor\":\"#2a3f5f\",\"gridcolor\":\"white\",\"linecolor\":\"white\",\"minorgridcolor\":\"white\",\"startlinecolor\":\"#2a3f5f\"},\"type\":\"carpet\"}],\"choropleth\":[{\"colorbar\":{\"outlinewidth\":0,\"ticks\":\"\"},\"type\":\"choropleth\"}],\"contour\":[{\"colorbar\":{\"outlinewidth\":0,\"ticks\":\"\"},\"colorscale\":[[0.0,\"#0d0887\"],[0.1111111111111111,\"#46039f\"],[0.2222222222222222,\"#7201a8\"],[0.3333333333333333,\"#9c179e\"],[0.4444444444444444,\"#bd3786\"],[0.5555555555555556,\"#d8576b\"],[0.6666666666666666,\"#ed7953\"],[0.7777777777777778,\"#fb9f3a\"],[0.8888888888888888,\"#fdca26\"],[1.0,\"#f0f921\"]],\"type\":\"contour\"}],\"contourcarpet\":[{\"colorbar\":{\"outlinewidth\":0,\"ticks\":\"\"},\"type\":\"contourcarpet\"}],\"heatmap\":[{\"colorbar\":{\"outlinewidth\":0,\"ticks\":\"\"},\"colorscale\":[[0.0,\"#0d0887\"],[0.1111111111111111,\"#46039f\"],[0.2222222222222222,\"#7201a8\"],[0.3333333333333333,\"#9c179e\"],[0.4444444444444444,\"#bd3786\"],[0.5555555555555556,\"#d8576b\"],[0.6666666666666666,\"#ed7953\"],[0.7777777777777778,\"#fb9f3a\"],[0.8888888888888888,\"#fdca26\"],[1.0,\"#f0f921\"]],\"type\":\"heatmap\"}],\"heatmapgl\":[{\"colorbar\":{\"outlinewidth\":0,\"ticks\":\"\"},\"colorscale\":[[0.0,\"#0d0887\"],[0.1111111111111111,\"#46039f\"],[0.2222222222222222,\"#7201a8\"],[0.3333333333333333,\"#9c179e\"],[0.4444444444444444,\"#bd3786\"],[0.5555555555555556,\"#d8576b\"],[0.6666666666666666,\"#ed7953\"],[0.7777777777777778,\"#fb9f3a\"],[0.8888888888888888,\"#fdca26\"],[1.0,\"#f0f921\"]],\"type\":\"heatmapgl\"}],\"histogram\":[{\"marker\":{\"pattern\":{\"fillmode\":\"overlay\",\"size\":10,\"solidity\":0.2}},\"type\":\"histogram\"}],\"histogram2d\":[{\"colorbar\":{\"outlinewidth\":0,\"ticks\":\"\"},\"colorscale\":[[0.0,\"#0d0887\"],[0.1111111111111111,\"#46039f\"],[0.2222222222222222,\"#7201a8\"],[0.3333333333333333,\"#9c179e\"],[0.4444444444444444,\"#bd3786\"],[0.5555555555555556,\"#d8576b\"],[0.6666666666666666,\"#ed7953\"],[0.7777777777777778,\"#fb9f3a\"],[0.8888888888888888,\"#fdca26\"],[1.0,\"#f0f921\"]],\"type\":\"histogram2d\"}],\"histogram2dcontour\":[{\"colorbar\":{\"outlinewidth\":0,\"ticks\":\"\"},\"colorscale\":[[0.0,\"#0d0887\"],[0.1111111111111111,\"#46039f\"],[0.2222222222222222,\"#7201a8\"],[0.3333333333333333,\"#9c179e\"],[0.4444444444444444,\"#bd3786\"],[0.5555555555555556,\"#d8576b\"],[0.6666666666666666,\"#ed7953\"],[0.7777777777777778,\"#fb9f3a\"],[0.8888888888888888,\"#fdca26\"],[1.0,\"#f0f921\"]],\"type\":\"histogram2dcontour\"}],\"mesh3d\":[{\"colorbar\":{\"outlinewidth\":0,\"ticks\":\"\"},\"type\":\"mesh3d\"}],\"parcoords\":[{\"line\":{\"colorbar\":{\"outlinewidth\":0,\"ticks\":\"\"}},\"type\":\"parcoords\"}],\"pie\":[{\"automargin\":true,\"type\":\"pie\"}],\"scatter\":[{\"marker\":{\"colorbar\":{\"outlinewidth\":0,\"ticks\":\"\"}},\"type\":\"scatter\"}],\"scatter3d\":[{\"line\":{\"colorbar\":{\"outlinewidth\":0,\"ticks\":\"\"}},\"marker\":{\"colorbar\":{\"outlinewidth\":0,\"ticks\":\"\"}},\"type\":\"scatter3d\"}],\"scattercarpet\":[{\"marker\":{\"colorbar\":{\"outlinewidth\":0,\"ticks\":\"\"}},\"type\":\"scattercarpet\"}],\"scattergeo\":[{\"marker\":{\"colorbar\":{\"outlinewidth\":0,\"ticks\":\"\"}},\"type\":\"scattergeo\"}],\"scattergl\":[{\"marker\":{\"colorbar\":{\"outlinewidth\":0,\"ticks\":\"\"}},\"type\":\"scattergl\"}],\"scattermapbox\":[{\"marker\":{\"colorbar\":{\"outlinewidth\":0,\"ticks\":\"\"}},\"type\":\"scattermapbox\"}],\"scatterpolar\":[{\"marker\":{\"colorbar\":{\"outlinewidth\":0,\"ticks\":\"\"}},\"type\":\"scatterpolar\"}],\"scatterpolargl\":[{\"marker\":{\"colorbar\":{\"outlinewidth\":0,\"ticks\":\"\"}},\"type\":\"scatterpolargl\"}],\"scatterternary\":[{\"marker\":{\"colorbar\":{\"outlinewidth\":0,\"ticks\":\"\"}},\"type\":\"scatterternary\"}],\"surface\":[{\"colorbar\":{\"outlinewidth\":0,\"ticks\":\"\"},\"colorscale\":[[0.0,\"#0d0887\"],[0.1111111111111111,\"#46039f\"],[0.2222222222222222,\"#7201a8\"],[0.3333333333333333,\"#9c179e\"],[0.4444444444444444,\"#bd3786\"],[0.5555555555555556,\"#d8576b\"],[0.6666666666666666,\"#ed7953\"],[0.7777777777777778,\"#fb9f3a\"],[0.8888888888888888,\"#fdca26\"],[1.0,\"#f0f921\"]],\"type\":\"surface\"}],\"table\":[{\"cells\":{\"fill\":{\"color\":\"#EBF0F8\"},\"line\":{\"color\":\"white\"}},\"header\":{\"fill\":{\"color\":\"#C8D4E3\"},\"line\":{\"color\":\"white\"}},\"type\":\"table\"}]},\"layout\":{\"annotationdefaults\":{\"arrowcolor\":\"#2a3f5f\",\"arrowhead\":0,\"arrowwidth\":1},\"autotypenumbers\":\"strict\",\"coloraxis\":{\"colorbar\":{\"outlinewidth\":0,\"ticks\":\"\"}},\"colorscale\":{\"diverging\":[[0,\"#8e0152\"],[0.1,\"#c51b7d\"],[0.2,\"#de77ae\"],[0.3,\"#f1b6da\"],[0.4,\"#fde0ef\"],[0.5,\"#f7f7f7\"],[0.6,\"#e6f5d0\"],[0.7,\"#b8e186\"],[0.8,\"#7fbc41\"],[0.9,\"#4d9221\"],[1,\"#276419\"]],\"sequential\":[[0.0,\"#0d0887\"],[0.1111111111111111,\"#46039f\"],[0.2222222222222222,\"#7201a8\"],[0.3333333333333333,\"#9c179e\"],[0.4444444444444444,\"#bd3786\"],[0.5555555555555556,\"#d8576b\"],[0.6666666666666666,\"#ed7953\"],[0.7777777777777778,\"#fb9f3a\"],[0.8888888888888888,\"#fdca26\"],[1.0,\"#f0f921\"]],\"sequentialminus\":[[0.0,\"#0d0887\"],[0.1111111111111111,\"#46039f\"],[0.2222222222222222,\"#7201a8\"],[0.3333333333333333,\"#9c179e\"],[0.4444444444444444,\"#bd3786\"],[0.5555555555555556,\"#d8576b\"],[0.6666666666666666,\"#ed7953\"],[0.7777777777777778,\"#fb9f3a\"],[0.8888888888888888,\"#fdca26\"],[1.0,\"#f0f921\"]]},\"colorway\":[\"#636efa\",\"#EF553B\",\"#00cc96\",\"#ab63fa\",\"#FFA15A\",\"#19d3f3\",\"#FF6692\",\"#B6E880\",\"#FF97FF\",\"#FECB52\"],\"font\":{\"color\":\"#2a3f5f\"},\"geo\":{\"bgcolor\":\"white\",\"lakecolor\":\"white\",\"landcolor\":\"#E5ECF6\",\"showlakes\":true,\"showland\":true,\"subunitcolor\":\"white\"},\"hoverlabel\":{\"align\":\"left\"},\"hovermode\":\"closest\",\"mapbox\":{\"style\":\"light\"},\"paper_bgcolor\":\"white\",\"plot_bgcolor\":\"#E5ECF6\",\"polar\":{\"angularaxis\":{\"gridcolor\":\"white\",\"linecolor\":\"white\",\"ticks\":\"\"},\"bgcolor\":\"#E5ECF6\",\"radialaxis\":{\"gridcolor\":\"white\",\"linecolor\":\"white\",\"ticks\":\"\"}},\"scene\":{\"xaxis\":{\"backgroundcolor\":\"#E5ECF6\",\"gridcolor\":\"white\",\"gridwidth\":2,\"linecolor\":\"white\",\"showbackground\":true,\"ticks\":\"\",\"zerolinecolor\":\"white\"},\"yaxis\":{\"backgroundcolor\":\"#E5ECF6\",\"gridcolor\":\"white\",\"gridwidth\":2,\"linecolor\":\"white\",\"showbackground\":true,\"ticks\":\"\",\"zerolinecolor\":\"white\"},\"zaxis\":{\"backgroundcolor\":\"#E5ECF6\",\"gridcolor\":\"white\",\"gridwidth\":2,\"linecolor\":\"white\",\"showbackground\":true,\"ticks\":\"\",\"zerolinecolor\":\"white\"}},\"shapedefaults\":{\"line\":{\"color\":\"#2a3f5f\"}},\"ternary\":{\"aaxis\":{\"gridcolor\":\"white\",\"linecolor\":\"white\",\"ticks\":\"\"},\"baxis\":{\"gridcolor\":\"white\",\"linecolor\":\"white\",\"ticks\":\"\"},\"bgcolor\":\"#E5ECF6\",\"caxis\":{\"gridcolor\":\"white\",\"linecolor\":\"white\",\"ticks\":\"\"}},\"title\":{\"x\":0.05},\"xaxis\":{\"automargin\":true,\"gridcolor\":\"white\",\"linecolor\":\"white\",\"ticks\":\"\",\"title\":{\"standoff\":15},\"zerolinecolor\":\"white\",\"zerolinewidth\":2},\"yaxis\":{\"automargin\":true,\"gridcolor\":\"white\",\"linecolor\":\"white\",\"ticks\":\"\",\"title\":{\"standoff\":15},\"zerolinecolor\":\"white\",\"zerolinewidth\":2}}},\"geo\":{\"domain\":{\"x\":[0.0,1.0],\"y\":[0.0,1.0]},\"center\":{}},\"coloraxis\":{\"colorbar\":{\"title\":{\"text\":\"engo_nengo\"}},\"colorscale\":[[0.0,\"#0d0887\"],[0.1111111111111111,\"#46039f\"],[0.2222222222222222,\"#7201a8\"],[0.3333333333333333,\"#9c179e\"],[0.4444444444444444,\"#bd3786\"],[0.5555555555555556,\"#d8576b\"],[0.6666666666666666,\"#ed7953\"],[0.7777777777777778,\"#fb9f3a\"],[0.8888888888888888,\"#fdca26\"],[1.0,\"#f0f921\"]]},\"legend\":{\"tracegroupgap\":0},\"margin\":{\"t\":60}},                        {\"responsive\": true}                    ).then(function(){\n",
       "                            \n",
       "var gd = document.getElementById('de3674a1-4c9a-4bf4-bf0f-01405f8c7bc4');\n",
       "var x = new MutationObserver(function (mutations, observer) {{\n",
       "        var display = window.getComputedStyle(gd).display;\n",
       "        if (!display || display === 'none') {{\n",
       "            console.log([gd, 'removed!']);\n",
       "            Plotly.purge(gd);\n",
       "            observer.disconnect();\n",
       "        }}\n",
       "}});\n",
       "\n",
       "// Listen for the removal of the full notebook cells\n",
       "var notebookContainer = gd.closest('#notebook-container');\n",
       "if (notebookContainer) {{\n",
       "    x.observe(notebookContainer, {childList: true});\n",
       "}}\n",
       "\n",
       "// Listen for the clearing of the current output cell\n",
       "var outputEl = gd.closest('.output');\n",
       "if (outputEl) {{\n",
       "    x.observe(outputEl, {childList: true});\n",
       "}}\n",
       "\n",
       "                        })                };                });            </script>        </div>"
      ]
     },
     "metadata": {},
     "output_type": "display_data"
    }
   ],
   "source": [
    "#Spatial distribution\n",
    "cl_map = cl_wm.groupby(['country']).mean()\n",
    "cl_map.reset_index(inplace=True)\n",
    "cl_map = cl_map.rename(columns = {'index':'country'})\n",
    "fig = px.choropleth(cl_map, locations='country',\n",
    "                    locationmode='country names',\n",
    "                    color='engo_nengo', \n",
    "                    hover_name='country',\n",
    "                    color_continuous_scale=px.colors.sequential.Plasma)\n",
    "fig.show()"
   ]
  },
  {
   "cell_type": "markdown",
   "id": "e50bfab7",
   "metadata": {},
   "source": [
    "The map shows us that democraties (USA, Australia, France...) have more NGOs than countries with a low score for polity2 (Russia, China, Indonesia...). The number of NGOs may be collerated with the type of policy and thus have an impact on the regulations related to climate change taken by countries."
   ]
  },
  {
   "cell_type": "code",
   "execution_count": 102,
   "id": "fc752b40",
   "metadata": {},
   "outputs": [
    {
     "data": {
      "image/png": "[encoded data removed]",
      "text/plain": [
       "<Figure size 432x288 with 1 Axes>"
      ]
     },
     "metadata": {
      "needs_background": "light"
     },
     "output_type": "display_data"
    }
   ],
   "source": [
    "#Distribution over time\n",
    "\n",
    "df_line = cl_wm.groupby(['year']).mean()\n",
    "df_line.reset_index(inplace=True)\n",
    "df_line = df_line.rename(columns = {'index':'country'})\n",
    "plt.plot(df_line['year'], df_line['engo_nengo'], label = \"Number of NGOs by year\")\n",
    "plt.xlabel('Year', fontsize=14)\n",
    "plt.xticks(np.arange(1992, 2010, 2))\n",
    "plt.legend()\n",
    "plt.show()"
   ]
  },
  {
   "cell_type": "markdown",
   "id": "3ad488a9",
   "metadata": {},
   "source": [
    "We can see that the curve is not smooth but even so, the trend is postive : number of NGOs increases over time and it should be correlated with climate change issues that also increase over time."
   ]
  },
  {
   "cell_type": "markdown",
   "id": "21a1ad4a-70fc-4f39-bffb-cf10dd93205f",
   "metadata": {},
   "source": [
    "### Question 12: Cooking the ingredients together (bivariate analysis) <a class=\"anchor\" id=\"question12\"></a>"
   ]
  },
  {
   "cell_type": "markdown",
   "id": "d9a0c658-8c22-4bb0-b1ef-4b5860f6cc31",
   "metadata": {},
   "source": [
    "Considering the \"nature\" of your variables (continuous, categorical, binary, etc.), pick the right tool / tools for a preliminary bivariate analysis, i.e. correlation tables, bar/line graphs, scatter plots, etc. Use these tools to describe your preliminary bivariate analysis and your findings. **(3 points)**"
   ]
  },
  {
   "cell_type": "markdown",
   "id": "ec8bb04c-9223-4e3d-b815-2d7ee3657f00",
   "metadata": {},
   "source": [
    "Answer 12:"
   ]
  },
  {
   "cell_type": "code",
   "execution_count": 103,
   "id": "4a6c0962-c661-4649-b8f3-e721e7ef66fd",
   "metadata": {},
   "outputs": [
    {
     "data": {
      "text/plain": [
       "Text(0, 0.5, 'Environmental Policy Stringency Index')"
      ]
     },
     "execution_count": 103,
     "metadata": {},
     "output_type": "execute_result"
    },
    {
     "data": {
      "image/png": "[encoded data removed]",
      "text/plain": [
       "<Figure size 432x288 with 1 Axes>"
      ]
     },
     "metadata": {
      "needs_background": "light"
     },
     "output_type": "display_data"
    }
   ],
   "source": [
    "# Answer 12: \n",
    "\n",
    "sns.scatterplot(x='polity2', y='oecd_eps', data=cl_wm)\n",
    "plt.xlabel('Polity of the country')\n",
    "plt.ylabel('Environmental Policy Stringency Index')"
   ]
  },
  {
   "cell_type": "markdown",
   "id": "6e29ca45",
   "metadata": {},
   "source": [
    "We do a simple scatter plot. We can confirm that we have much more data available for countries with high score in polity2 (democracies). We also see that countries with high environmental policy stringency index are the democracies but it is not really viewable"
   ]
  },
  {
   "cell_type": "markdown",
   "id": "25794bab",
   "metadata": {},
   "source": [
    "To simplify the study i will divide the variable polity2 into three categories and give the values 1,2,3 for each by creating the variable cat_polity2: \n",
    "\n",
    "if polity2 <= 3 then cat_polity2 = 1\n",
    "\n",
    "if 3 < polity2 < 8 then cat_polity2 = 2\n",
    "\n",
    "else polity2 = 3 "
   ]
  },
  {
   "cell_type": "code",
   "execution_count": 104,
   "id": "463be374",
   "metadata": {},
   "outputs": [
    {
     "name": "stderr",
     "output_type": "stream",
     "text": [
      "/var/folders/cc/czpkhzl97cs9wqllnm6rjkrh0000gn/T/ipykernel_2661/2173165373.py:6: SettingWithCopyWarning:\n",
      "\n",
      "\n",
      "A value is trying to be set on a copy of a slice from a DataFrame.\n",
      "Try using .loc[row_indexer,col_indexer] = value instead\n",
      "\n",
      "See the caveats in the documentation: https://pandas.pydata.org/pandas-docs/stable/user_guide/indexing.html#returning-a-view-versus-a-copy\n",
      "\n"
     ]
    }
   ],
   "source": [
    "conditionlist = [\n",
    "    (cl_wm1['polity2'] <= 3) ,\n",
    "    (cl_wm1['polity2'] >= 4) & (cl_wm1['polity2'] <8),\n",
    "    (cl_wm1['polity2'] >= 8)]\n",
    "choicelist = [1, 2, 3]\n",
    "cl_wm1['cat_polity2'] = np.select(conditionlist, choicelist, default='Not Specified')"
   ]
  },
  {
   "cell_type": "code",
   "execution_count": 105,
   "id": "98cb6b3c",
   "metadata": {},
   "outputs": [
    {
     "name": "stderr",
     "output_type": "stream",
     "text": [
      "/var/folders/cc/czpkhzl97cs9wqllnm6rjkrh0000gn/T/ipykernel_2661/3655383885.py:1: SettingWithCopyWarning:\n",
      "\n",
      "\n",
      "A value is trying to be set on a copy of a slice from a DataFrame.\n",
      "Try using .loc[row_indexer,col_indexer] = value instead\n",
      "\n",
      "See the caveats in the documentation: https://pandas.pydata.org/pandas-docs/stable/user_guide/indexing.html#returning-a-view-versus-a-copy\n",
      "\n"
     ]
    },
    {
     "data": {
      "text/html": [
       "<div>\n",
       "<style scoped>\n",
       "    .dataframe tbody tr th:only-of-type {\n",
       "        vertical-align: middle;\n",
       "    }\n",
       "\n",
       "    .dataframe tbody tr th {\n",
       "        vertical-align: top;\n",
       "    }\n",
       "\n",
       "    .dataframe thead th {\n",
       "        text-align: right;\n",
       "    }\n",
       "</style>\n",
       "<table border=\"1\" class=\"dataframe\">\n",
       "  <thead>\n",
       "    <tr style=\"text-align: right;\">\n",
       "      <th></th>\n",
       "      <th>iso3</th>\n",
       "      <th>country</th>\n",
       "      <th>year</th>\n",
       "      <th>oecd_eps</th>\n",
       "      <th>polity2</th>\n",
       "      <th>engo_nengo</th>\n",
       "      <th>cat_polity2</th>\n",
       "    </tr>\n",
       "  </thead>\n",
       "  <tbody>\n",
       "    <tr>\n",
       "      <th>647</th>\n",
       "      <td>AUS</td>\n",
       "      <td>Australia</td>\n",
       "      <td>1993</td>\n",
       "      <td>0.750000</td>\n",
       "      <td>10.0</td>\n",
       "      <td>31.0</td>\n",
       "      <td>3</td>\n",
       "    </tr>\n",
       "    <tr>\n",
       "      <th>648</th>\n",
       "      <td>AUS</td>\n",
       "      <td>Australia</td>\n",
       "      <td>1994</td>\n",
       "      <td>0.500000</td>\n",
       "      <td>10.0</td>\n",
       "      <td>32.0</td>\n",
       "      <td>3</td>\n",
       "    </tr>\n",
       "    <tr>\n",
       "      <th>649</th>\n",
       "      <td>AUS</td>\n",
       "      <td>Australia</td>\n",
       "      <td>1995</td>\n",
       "      <td>0.500000</td>\n",
       "      <td>10.0</td>\n",
       "      <td>32.0</td>\n",
       "      <td>3</td>\n",
       "    </tr>\n",
       "    <tr>\n",
       "      <th>650</th>\n",
       "      <td>AUS</td>\n",
       "      <td>Australia</td>\n",
       "      <td>1996</td>\n",
       "      <td>0.458333</td>\n",
       "      <td>10.0</td>\n",
       "      <td>28.0</td>\n",
       "      <td>3</td>\n",
       "    </tr>\n",
       "    <tr>\n",
       "      <th>651</th>\n",
       "      <td>AUS</td>\n",
       "      <td>Australia</td>\n",
       "      <td>1997</td>\n",
       "      <td>0.458333</td>\n",
       "      <td>10.0</td>\n",
       "      <td>28.0</td>\n",
       "      <td>3</td>\n",
       "    </tr>\n",
       "    <tr>\n",
       "      <th>...</th>\n",
       "      <td>...</td>\n",
       "      <td>...</td>\n",
       "      <td>...</td>\n",
       "      <td>...</td>\n",
       "      <td>...</td>\n",
       "      <td>...</td>\n",
       "      <td>...</td>\n",
       "    </tr>\n",
       "    <tr>\n",
       "      <th>14216</th>\n",
       "      <td>USA</td>\n",
       "      <td>United States of America</td>\n",
       "      <td>2003</td>\n",
       "      <td>1.300000</td>\n",
       "      <td>10.0</td>\n",
       "      <td>45.0</td>\n",
       "      <td>3</td>\n",
       "    </tr>\n",
       "    <tr>\n",
       "      <th>14217</th>\n",
       "      <td>USA</td>\n",
       "      <td>United States of America</td>\n",
       "      <td>2004</td>\n",
       "      <td>1.050000</td>\n",
       "      <td>10.0</td>\n",
       "      <td>47.0</td>\n",
       "      <td>3</td>\n",
       "    </tr>\n",
       "    <tr>\n",
       "      <th>14218</th>\n",
       "      <td>USA</td>\n",
       "      <td>United States of America</td>\n",
       "      <td>2005</td>\n",
       "      <td>1.091667</td>\n",
       "      <td>10.0</td>\n",
       "      <td>48.0</td>\n",
       "      <td>3</td>\n",
       "    </tr>\n",
       "    <tr>\n",
       "      <th>14219</th>\n",
       "      <td>USA</td>\n",
       "      <td>United States of America</td>\n",
       "      <td>2006</td>\n",
       "      <td>2.133333</td>\n",
       "      <td>10.0</td>\n",
       "      <td>47.0</td>\n",
       "      <td>3</td>\n",
       "    </tr>\n",
       "    <tr>\n",
       "      <th>14221</th>\n",
       "      <td>USA</td>\n",
       "      <td>United States of America</td>\n",
       "      <td>2008</td>\n",
       "      <td>2.475000</td>\n",
       "      <td>10.0</td>\n",
       "      <td>50.0</td>\n",
       "      <td>3</td>\n",
       "    </tr>\n",
       "  </tbody>\n",
       "</table>\n",
       "<p>424 rows × 7 columns</p>\n",
       "</div>"
      ],
      "text/plain": [
       "      iso3                   country  year  oecd_eps  polity2  engo_nengo  \\\n",
       "647    AUS                 Australia  1993  0.750000     10.0        31.0   \n",
       "648    AUS                 Australia  1994  0.500000     10.0        32.0   \n",
       "649    AUS                 Australia  1995  0.500000     10.0        32.0   \n",
       "650    AUS                 Australia  1996  0.458333     10.0        28.0   \n",
       "651    AUS                 Australia  1997  0.458333     10.0        28.0   \n",
       "...    ...                       ...   ...       ...      ...         ...   \n",
       "14216  USA  United States of America  2003  1.300000     10.0        45.0   \n",
       "14217  USA  United States of America  2004  1.050000     10.0        47.0   \n",
       "14218  USA  United States of America  2005  1.091667     10.0        48.0   \n",
       "14219  USA  United States of America  2006  2.133333     10.0        47.0   \n",
       "14221  USA  United States of America  2008  2.475000     10.0        50.0   \n",
       "\n",
       "       cat_polity2  \n",
       "647              3  \n",
       "648              3  \n",
       "649              3  \n",
       "650              3  \n",
       "651              3  \n",
       "...            ...  \n",
       "14216            3  \n",
       "14217            3  \n",
       "14218            3  \n",
       "14219            3  \n",
       "14221            3  \n",
       "\n",
       "[424 rows x 7 columns]"
      ]
     },
     "execution_count": 105,
     "metadata": {},
     "output_type": "execute_result"
    }
   ],
   "source": [
    "cl_wm1['cat_polity2'] = cl_wm1['cat_polity2'].apply(int)\n",
    "\n",
    "# We check that we have a new dataframe with cat_polity2 variable in it.\n",
    "cl_wm1[cl_wm1['cat_polity2'] == 3]"
   ]
  },
  {
   "cell_type": "code",
   "execution_count": 106,
   "id": "317cccc8",
   "metadata": {},
   "outputs": [
    {
     "data": {
      "text/plain": [
       "Text(0, 0.5, 'Environmental Policy Stringency Index')"
      ]
     },
     "execution_count": 106,
     "metadata": {},
     "output_type": "execute_result"
    },
    {
     "data": {
      "image/png": "[encoded data removed]",
      "text/plain": [
       "<Figure size 432x288 with 1 Axes>"
      ]
     },
     "metadata": {
      "needs_background": "light"
     },
     "output_type": "display_data"
    }
   ],
   "source": [
    "#Simple scatter plot\n",
    "sns.scatterplot(x='cat_polity2', y='oecd_eps', data=cl_wm1)\n",
    "plt.xlabel('Polity of the country')\n",
    "plt.ylabel('Environmental Policy Stringency Index')"
   ]
  },
  {
   "cell_type": "code",
   "execution_count": 107,
   "id": "351b4ea3",
   "metadata": {},
   "outputs": [
    {
     "data": {
      "text/plain": [
       "<seaborn.axisgrid.FacetGrid at 0x7fbc3ef31be0>"
      ]
     },
     "execution_count": 107,
     "metadata": {},
     "output_type": "execute_result"
    },
    {
     "data": {
      "image/png": "[encoded data removed]",
      "text/plain": [
       "<Figure size 360x360 with 1 Axes>"
      ]
     },
     "metadata": {
      "needs_background": "light"
     },
     "output_type": "display_data"
    }
   ],
   "source": [
    "sns.catplot(x='cat_polity2', y='oecd_eps', hue='cat_polity2', palette=\"plasma\", kind='bar',  dodge=False, data=cl_wm1)"
   ]
  },
  {
   "cell_type": "markdown",
   "id": "3a4d0a15",
   "metadata": {},
   "source": [
    "For our data, we can see that a catplot is much more adapted than a scatter plot. Indeed, we can observe that the environmental strigency index increases in average with the type of policy (lower for autocraties and higher for democraties). However we cannot conclude causality due to the difference in sample sizes. Indeed, we have many more observations for democracies than for autocracies.But we can say that both variables are positively correlated."
   ]
  },
  {
   "cell_type": "code",
   "execution_count": 108,
   "id": "808bc192",
   "metadata": {},
   "outputs": [
    {
     "data": {
      "text/html": [
       "<div>\n",
       "<style scoped>\n",
       "    .dataframe tbody tr th:only-of-type {\n",
       "        vertical-align: middle;\n",
       "    }\n",
       "\n",
       "    .dataframe tbody tr th {\n",
       "        vertical-align: top;\n",
       "    }\n",
       "\n",
       "    .dataframe thead th {\n",
       "        text-align: right;\n",
       "    }\n",
       "</style>\n",
       "<table border=\"1\" class=\"dataframe\">\n",
       "  <thead>\n",
       "    <tr style=\"text-align: right;\">\n",
       "      <th></th>\n",
       "      <th>polity2</th>\n",
       "      <th>oecd_eps</th>\n",
       "    </tr>\n",
       "  </thead>\n",
       "  <tbody>\n",
       "    <tr>\n",
       "      <th>polity2</th>\n",
       "      <td>1.000000</td>\n",
       "      <td>0.372214</td>\n",
       "    </tr>\n",
       "    <tr>\n",
       "      <th>oecd_eps</th>\n",
       "      <td>0.372214</td>\n",
       "      <td>1.000000</td>\n",
       "    </tr>\n",
       "  </tbody>\n",
       "</table>\n",
       "</div>"
      ],
      "text/plain": [
       "           polity2  oecd_eps\n",
       "polity2   1.000000  0.372214\n",
       "oecd_eps  0.372214  1.000000"
      ]
     },
     "execution_count": 108,
     "metadata": {},
     "output_type": "execute_result"
    }
   ],
   "source": [
    "cl_wm1[['polity2', 'oecd_eps']].corr()"
   ]
  },
  {
   "cell_type": "markdown",
   "id": "34a5d0b1",
   "metadata": {},
   "source": [
    "Both variables are indeed positively correlated."
   ]
  },
  {
   "cell_type": "code",
   "execution_count": 110,
   "id": "f4881cd3",
   "metadata": {},
   "outputs": [
    {
     "data": {
      "text/plain": [
       "Text(0, 0.5, 'Environmental Policy Stringency Index')"
      ]
     },
     "execution_count": 110,
     "metadata": {},
     "output_type": "execute_result"
    },
    {
     "data": {
      "image/png": "[encoded data removed]",
      "text/plain": [
       "<Figure size 432x288 with 1 Axes>"
      ]
     },
     "metadata": {
      "needs_background": "light"
     },
     "output_type": "display_data"
    }
   ],
   "source": [
    "sns.scatterplot(x='engo_nengo', y='oecd_eps', data=cl_wm1)\n",
    "plt.xlabel('Number of NGOs')\n",
    "plt.ylabel('Environmental Policy Stringency Index')"
   ]
  },
  {
   "cell_type": "markdown",
   "id": "db847291",
   "metadata": {},
   "source": [
    "Visually, the relationship between the number of NGOs and the envrionmental policy strigency index is unclear."
   ]
  },
  {
   "cell_type": "markdown",
   "id": "931aa5c4",
   "metadata": {},
   "source": [
    "First, let's see if the type of polity and the number of NGOs are positively correlated."
   ]
  },
  {
   "cell_type": "code",
   "execution_count": 114,
   "id": "f052add9",
   "metadata": {},
   "outputs": [
    {
     "data": {
      "text/plain": [
       "<seaborn.axisgrid.FacetGrid at 0x7fbc407dbee0>"
      ]
     },
     "execution_count": 114,
     "metadata": {},
     "output_type": "execute_result"
    },
    {
     "data": {
      "image/png": "[encoded data removed]",
      "text/plain": [
       "<Figure size 360x360 with 1 Axes>"
      ]
     },
     "metadata": {
      "needs_background": "light"
     },
     "output_type": "display_data"
    }
   ],
   "source": [
    "sns.catplot(x='cat_polity2', y='engo_nengo', hue='cat_polity2', palette=\"plasma\", kind='bar',  dodge=False, data=cl_wm1)"
   ]
  },
  {
   "cell_type": "markdown",
   "id": "f94cad15",
   "metadata": {},
   "source": [
    "It seems to be the case, but another time, this information should be treated with caution because of the number of observation for the third category (democraties)"
   ]
  },
  {
   "cell_type": "markdown",
   "id": "fda9acec",
   "metadata": {},
   "source": [
    "The mean of the number of NGOs is 10,84, let's analyse the envrionmental policy strigency index for democraties that has less NGOs than the mean "
   ]
  },
  {
   "cell_type": "code",
   "execution_count": 117,
   "id": "5cd79cc2",
   "metadata": {},
   "outputs": [
    {
     "data": {
      "text/plain": [
       "count    232.000000\n",
       "mean       1.538578\n",
       "std        0.742879\n",
       "min        0.395833\n",
       "25%        0.875000\n",
       "50%        1.479167\n",
       "75%        2.062500\n",
       "max        3.375000\n",
       "Name: oecd_eps, dtype: float64"
      ]
     },
     "execution_count": 117,
     "metadata": {},
     "output_type": "execute_result"
    }
   ],
   "source": [
    "df_new = cl_wm1[(cl_wm1['engo_nengo'] < 10) & (cl_wm1['cat_polity2']==3)]\n",
    "df_new.oecd_eps.describe()"
   ]
  },
  {
   "cell_type": "code",
   "execution_count": 119,
   "id": "fb9c532b",
   "metadata": {},
   "outputs": [
    {
     "data": {
      "text/plain": [
       "count    183.000000\n",
       "mean       1.341234\n",
       "std        0.754523\n",
       "min        0.395833\n",
       "25%        0.645833\n",
       "50%        1.229167\n",
       "75%        1.795833\n",
       "max        3.312500\n",
       "Name: oecd_eps, dtype: float64"
      ]
     },
     "execution_count": 119,
     "metadata": {},
     "output_type": "execute_result"
    }
   ],
   "source": [
    "df_new2 = cl_wm1[(cl_wm1['engo_nengo'] > 10) & (cl_wm1['cat_polity2']==3)]\n",
    "df_new2.oecd_eps.describe()"
   ]
  },
  {
   "cell_type": "markdown",
   "id": "11061e18",
   "metadata": {},
   "source": [
    "We can see that the index for democraties with lower number of NGOs is in average higher than democraties with high number of NGOs which is counter intuitive and does not hold with my asumption."
   ]
  },
  {
   "cell_type": "markdown",
   "id": "efc0a05d-004a-42f3-b472-b7a808cd0dc1",
   "metadata": {},
   "source": [
    "### Question 13: Tasting the new recipe (conclusion) <a class=\"anchor\" id=\"question13\"></a>"
   ]
  },
  {
   "cell_type": "markdown",
   "id": "cf6b861d-d4d5-42b1-94ad-5aa33f9bf7a2",
   "metadata": {},
   "source": [
    "Explain what you learned, the problem faced, what would you do next (you can suggest other data you would like to have etc). **(2 points)**"
   ]
  },
  {
   "cell_type": "markdown",
   "id": "5536aef2-a8df-4e17-9089-01ba8d93c029",
   "metadata": {},
   "source": [
    "Answer 13: \n",
    "Throught this exercice, I principally learned that data is never available in the form we want it (number of observations, outliers, type of the variables, duplicates...) and i know understand what is usualy said that data scientist spend most of their time cleaning their data.\n",
    "\n",
    "The main problem that I faced is the lack of observations for the Environmental Policy Stringency Index variable. Having observations only for OECD countries does not give a sample that is really representative of the \"population\" i.e. countries with different types of polycies. Since most of OECD countries are democraties, this complicated my study and thus the answering to my research question : Do democracies have more environmental regulations than autocracies?\n",
    "\n",
    "So to really answer this question, I would suggest to find data about envrionmental regulations for countries that are \"less\" democratic than europe (from Africa, Asia, South-America...)\n",
    "\n",
    "With more observations for different types of countries, I would also more understand of NGOs on countries regulations because the effect is really unclear with the actual data we have "
   ]
  },
  {
   "cell_type": "code",
   "execution_count": null,
   "id": "89350d43",
   "metadata": {},
   "outputs": [],
   "source": []
  }
 ],
 "metadata": {
  "kernelspec": {
   "display_name": "Python 3 (ipykernel)",
   "language": "python",
   "name": "python3"
  },
  "language_info": {
   "codemirror_mode": {
    "name": "ipython",
    "version": 3
   },
   "file_extension": ".py",
   "mimetype": "text/x-python",
   "name": "python",
   "nbconvert_exporter": "python",
   "pygments_lexer": "ipython3",
   "version": "3.9.12"
  }
 },
 "nbformat": 4,
 "nbformat_minor": 5
}
